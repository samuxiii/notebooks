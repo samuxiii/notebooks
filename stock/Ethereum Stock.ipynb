{
 "cells": [
  {
   "cell_type": "markdown",
   "metadata": {},
   "source": [
    "## Ethereum Stock Prices"
   ]
  },
  {
   "cell_type": "markdown",
   "metadata": {},
   "source": [
    "* Import data\n",
    "    * Show prices, market capital and volume\n",
    "    * Analysis\n",
    "* Preprocessing data\n",
    "    * Complete the Index\n",
    "    * Find NaN and Fix it\n",
    "    * Closed Price Column\n",
    "* Split data into training and test datasets\n",
    "    * Normalized datasets\n",
    "* Building the LSTM model\n",
    "  * Regressor\n",
    "  * Sequence\n",
    "    * Normalization by window of days (steps).\n",
    "* Testing the model\n",
    "* Conclusions"
   ]
  },
  {
   "cell_type": "markdown",
   "metadata": {},
   "source": [
    "### Import Libraries"
   ]
  },
  {
   "cell_type": "code",
   "execution_count": 2,
   "metadata": {
    "collapsed": true
   },
   "outputs": [],
   "source": [
    "import os\n",
    "import io\n",
    "import math\n",
    "import random\n",
    "import requests\n",
    "from tqdm import tqdm\n",
    "import numpy as np\n",
    "import pandas as pd\n",
    "import sklearn\n",
    "from sklearn.preprocessing import MinMaxScaler\n",
    "from sklearn.model_selection import train_test_split\n",
    "\n",
    "import matplotlib.pyplot as plt\n",
    "%matplotlib inline"
   ]
  },
  {
   "cell_type": "markdown",
   "metadata": {},
   "source": [
    "### Import Data and Analysis"
   ]
  },
  {
   "cell_type": "code",
   "execution_count": 3,
   "metadata": {
    "collapsed": true
   },
   "outputs": [],
   "source": [
    "def download_file(url, filename):\n",
    "    r = requests.get(url, stream=True)\n",
    "\n",
    "    total_size = int(r.headers.get('content-length', 0)); \n",
    "    block_size = 1024\n",
    "    total_kb_size = math.ceil(total_size//block_size)\n",
    "    \n",
    "    wrote = 0 \n",
    "    with open(filename, 'wb') as f:\n",
    "        for data in tqdm(r.iter_content(block_size), total=total_kb_size , unit='KB', unit_scale=True):\n",
    "            wrote = wrote  + len(data)\n",
    "            f.write(data)"
   ]
  },
  {
   "cell_type": "code",
   "execution_count": 4,
   "metadata": {},
   "outputs": [],
   "source": [
    "datafile = \"eth-eur.csv\"\n",
    "\n",
    "#import from server\n",
    "if not os.path.exists(datafile):\n",
    "    download_file(\"https://www.coingecko.com/price_charts/export/279/eur.csv\", datafile)\n"
   ]
  },
  {
   "cell_type": "code",
   "execution_count": 5,
   "metadata": {},
   "outputs": [
    {
     "data": {
      "text/plain": [
       "snapped_at      2017-08-04 00:00:00 UTC\n",
       "price                           188.275\n",
       "market_cap                  1.76572e+10\n",
       "total_volume                1.72843e+08\n",
       "Name: 727, dtype: object"
      ]
     },
     "execution_count": 5,
     "metadata": {},
     "output_type": "execute_result"
    }
   ],
   "source": [
    "data = pd.read_csv(datafile)\n",
    "\n",
    "#print a random sample\n",
    "data.iloc[random.randint(0, data.shape[0])]"
   ]
  },
  {
   "cell_type": "code",
   "execution_count": 6,
   "metadata": {},
   "outputs": [
    {
     "name": "stdout",
     "output_type": "stream",
     "text": [
      "<class 'pandas.core.frame.DataFrame'>\n",
      "RangeIndex: 1069 entries, 0 to 1068\n",
      "Data columns (total 4 columns):\n",
      "snapped_at      1069 non-null object\n",
      "price           1069 non-null float64\n",
      "market_cap      1068 non-null float64\n",
      "total_volume    1069 non-null float64\n",
      "dtypes: float64(3), object(1)\n",
      "memory usage: 33.5+ KB\n"
     ]
    }
   ],
   "source": [
    "data.info()"
   ]
  },
  {
   "cell_type": "markdown",
   "metadata": {},
   "source": [
    "Here we can see that every sample is defined by the day in a date format, the current price, the capital market and the total volume of transactions that have been done that day.\n",
    "\n",
    "At first glance, they are good indicators so all of them will be used as features."
   ]
  },
  {
   "cell_type": "code",
   "execution_count": 7,
   "metadata": {
    "collapsed": true
   },
   "outputs": [],
   "source": [
    "#customize index\n",
    "data.snapped_at[0].split()[0]\n",
    "data.snapped_at = data.snapped_at.apply(lambda x: x.split()[0])"
   ]
  },
  {
   "cell_type": "code",
   "execution_count": 8,
   "metadata": {
    "collapsed": true
   },
   "outputs": [],
   "source": [
    "data.set_index('snapped_at', inplace=True)\n",
    "data.index = pd.to_datetime(data.index)"
   ]
  },
  {
   "cell_type": "code",
   "execution_count": 9,
   "metadata": {
    "collapsed": true
   },
   "outputs": [],
   "source": [
    "features = ['price', 'market_cap', 'total_volume']"
   ]
  },
  {
   "cell_type": "code",
   "execution_count": 10,
   "metadata": {},
   "outputs": [
    {
     "data": {
      "image/png": "[encoded data removed]",
      "text/plain": [
       "<matplotlib.figure.Figure at 0x10f03d208>"
      ]
     },
     "metadata": {},
     "output_type": "display_data"
    }
   ],
   "source": [
    "data[features].plot(subplots=True, layout=(1,3), figsize=(20,4));"
   ]
  },
  {
   "cell_type": "code",
   "execution_count": 11,
   "metadata": {},
   "outputs": [
    {
     "data": {
      "text/html": [
       "<div>\n",
       "<style scoped>\n",
       "    .dataframe tbody tr th:only-of-type {\n",
       "        vertical-align: middle;\n",
       "    }\n",
       "\n",
       "    .dataframe tbody tr th {\n",
       "        vertical-align: top;\n",
       "    }\n",
       "\n",
       "    .dataframe thead th {\n",
       "        text-align: right;\n",
       "    }\n",
       "</style>\n",
       "<table border=\"1\" class=\"dataframe\">\n",
       "  <thead>\n",
       "    <tr style=\"text-align: right;\">\n",
       "      <th></th>\n",
       "      <th>price</th>\n",
       "      <th>market_cap</th>\n",
       "      <th>total_volume</th>\n",
       "    </tr>\n",
       "    <tr>\n",
       "      <th>snapped_at</th>\n",
       "      <th></th>\n",
       "      <th></th>\n",
       "      <th></th>\n",
       "    </tr>\n",
       "  </thead>\n",
       "  <tbody>\n",
       "    <tr>\n",
       "      <th>2015-08-07</th>\n",
       "      <td>2.580213</td>\n",
       "      <td>0.000000e+00</td>\n",
       "      <td>8.257608e+04</td>\n",
       "    </tr>\n",
       "    <tr>\n",
       "      <th>2015-08-08</th>\n",
       "      <td>1.175306</td>\n",
       "      <td>7.095505e+07</td>\n",
       "      <td>3.250759e+05</td>\n",
       "    </tr>\n",
       "    <tr>\n",
       "      <th>2015-08-10</th>\n",
       "      <td>0.624116</td>\n",
       "      <td>3.772033e+07</td>\n",
       "      <td>3.634980e+05</td>\n",
       "    </tr>\n",
       "    <tr>\n",
       "      <th>2015-08-11</th>\n",
       "      <td>0.966607</td>\n",
       "      <td>5.844581e+07</td>\n",
       "      <td>1.375588e+06</td>\n",
       "    </tr>\n",
       "    <tr>\n",
       "      <th>2015-08-12</th>\n",
       "      <td>1.126292</td>\n",
       "      <td>6.813006e+07</td>\n",
       "      <td>1.858814e+06</td>\n",
       "    </tr>\n",
       "    <tr>\n",
       "      <th>2015-08-13</th>\n",
       "      <td>1.636673</td>\n",
       "      <td>9.904778e+07</td>\n",
       "      <td>3.927292e+06</td>\n",
       "    </tr>\n",
       "    <tr>\n",
       "      <th>2015-08-14</th>\n",
       "      <td>1.643557</td>\n",
       "      <td>9.951063e+07</td>\n",
       "      <td>3.920484e+06</td>\n",
       "    </tr>\n",
       "    <tr>\n",
       "      <th>2015-08-15</th>\n",
       "      <td>1.505036</td>\n",
       "      <td>9.116528e+07</td>\n",
       "      <td>2.269451e+06</td>\n",
       "    </tr>\n",
       "    <tr>\n",
       "      <th>2015-08-16</th>\n",
       "      <td>1.329391</td>\n",
       "      <td>8.055977e+07</td>\n",
       "      <td>2.730304e+06</td>\n",
       "    </tr>\n",
       "    <tr>\n",
       "      <th>2015-08-17</th>\n",
       "      <td>1.086774</td>\n",
       "      <td>7.882067e+07</td>\n",
       "      <td>1.697221e+06</td>\n",
       "    </tr>\n",
       "  </tbody>\n",
       "</table>\n",
       "</div>"
      ],
      "text/plain": [
       "               price    market_cap  total_volume\n",
       "snapped_at                                      \n",
       "2015-08-07  2.580213  0.000000e+00  8.257608e+04\n",
       "2015-08-08  1.175306  7.095505e+07  3.250759e+05\n",
       "2015-08-10  0.624116  3.772033e+07  3.634980e+05\n",
       "2015-08-11  0.966607  5.844581e+07  1.375588e+06\n",
       "2015-08-12  1.126292  6.813006e+07  1.858814e+06\n",
       "2015-08-13  1.636673  9.904778e+07  3.927292e+06\n",
       "2015-08-14  1.643557  9.951063e+07  3.920484e+06\n",
       "2015-08-15  1.505036  9.116528e+07  2.269451e+06\n",
       "2015-08-16  1.329391  8.055977e+07  2.730304e+06\n",
       "2015-08-17  1.086774  7.882067e+07  1.697221e+06"
      ]
     },
     "execution_count": 11,
     "metadata": {},
     "output_type": "execute_result"
    }
   ],
   "source": [
    "data.iloc[0:10]"
   ]
  },
  {
   "cell_type": "markdown",
   "metadata": {},
   "source": [
    "---\n",
    "### Preprocessing Data\n",
    "\n",
    "#### Complete the Index"
   ]
  },
  {
   "cell_type": "markdown",
   "metadata": {},
   "source": [
    "The list is not complete _(2015-08-09 is missing)_ so we have to fill the blanks."
   ]
  },
  {
   "cell_type": "code",
   "execution_count": 12,
   "metadata": {},
   "outputs": [
    {
     "data": {
      "text/plain": [
       "False"
      ]
     },
     "execution_count": 12,
     "metadata": {},
     "output_type": "execute_result"
    }
   ],
   "source": [
    "#check\n",
    "'2015-08-09 00:00:00' in data.index"
   ]
  },
  {
   "cell_type": "code",
   "execution_count": 13,
   "metadata": {
    "collapsed": true
   },
   "outputs": [],
   "source": [
    "#Generate all the possible days and use them to reindex\n",
    "start = data.index[data.index.argmin()]\n",
    "end = data.index[data.index.argmax()]\n",
    "\n",
    "index_complete = pd.date_range(start, end)\n",
    "data = data.reindex(index_complete)"
   ]
  },
  {
   "cell_type": "markdown",
   "metadata": {},
   "source": [
    "Now, the index is completed but the inexistent samples must be filled out.\n",
    "\n",
    "#### Find NaN and Fix it"
   ]
  },
  {
   "cell_type": "code",
   "execution_count": 14,
   "metadata": {},
   "outputs": [
    {
     "name": "stdout",
     "output_type": "stream",
     "text": [
      "Day <2015-08-09 00:00:00> updated\n",
      "Day <2017-04-02 00:00:00> updated\n"
     ]
    }
   ],
   "source": [
    "#Fill the blanks with the mean between the previous and the day after\n",
    "\n",
    "for idx in data.index:\n",
    "    dayloc = data.index.get_loc(idx)\n",
    "    day = data.loc[idx]\n",
    "    if day.hasnans:\n",
    "        #updating\n",
    "        rg = slice(dayloc-1, dayloc+2)\n",
    "        data.loc[idx] = data.iloc[rg].mean()\n",
    "        \n",
    "        print(\"Day <{}> updated\".format(idx))"
   ]
  },
  {
   "cell_type": "code",
   "execution_count": 15,
   "metadata": {},
   "outputs": [
    {
     "data": {
      "text/plain": [
       "price           8.997108e-01\n",
       "market_cap      5.433769e+07\n",
       "total_volume    3.442869e+05\n",
       "Name: 2015-08-09 00:00:00, dtype: float64"
      ]
     },
     "execution_count": 15,
     "metadata": {},
     "output_type": "execute_result"
    }
   ],
   "source": [
    "#check\n",
    "data.loc['2015-08-09 00:00:00']"
   ]
  },
  {
   "cell_type": "code",
   "execution_count": 16,
   "metadata": {},
   "outputs": [
    {
     "data": {
      "text/plain": [
       "price           0\n",
       "market_cap      0\n",
       "total_volume    0\n",
       "dtype: int64"
      ]
     },
     "execution_count": 16,
     "metadata": {},
     "output_type": "execute_result"
    }
   ],
   "source": [
    "#Checking if we have NaN in another place\n",
    "data[data.isnull().any(axis=1)].count()"
   ]
  },
  {
   "cell_type": "markdown",
   "metadata": {},
   "source": [
    "#### Closed Price Column\n",
    "\n",
    "Now we need to include a new feature which will define the closed price for every sample. Ethereum market is always open so we can forget about weekends and use directly the open price of the next sample.\n",
    "\n",
    "Afterwards the model will use this feature as the target since it's the value we try to predict.\n",
    "\n",
    "The following script will help us with that."
   ]
  },
  {
   "cell_type": "code",
   "execution_count": 17,
   "metadata": {},
   "outputs": [
    {
     "data": {
      "text/html": [
       "<div>\n",
       "<style scoped>\n",
       "    .dataframe tbody tr th:only-of-type {\n",
       "        vertical-align: middle;\n",
       "    }\n",
       "\n",
       "    .dataframe tbody tr th {\n",
       "        vertical-align: top;\n",
       "    }\n",
       "\n",
       "    .dataframe thead th {\n",
       "        text-align: right;\n",
       "    }\n",
       "</style>\n",
       "<table border=\"1\" class=\"dataframe\">\n",
       "  <thead>\n",
       "    <tr style=\"text-align: right;\">\n",
       "      <th></th>\n",
       "      <th>price</th>\n",
       "      <th>market_cap</th>\n",
       "      <th>total_volume</th>\n",
       "      <th>closed_price</th>\n",
       "    </tr>\n",
       "  </thead>\n",
       "  <tbody>\n",
       "    <tr>\n",
       "      <th>2018-07-07</th>\n",
       "      <td>397.830345</td>\n",
       "      <td>3.999387e+10</td>\n",
       "      <td>1.338706e+09</td>\n",
       "      <td>409.685284</td>\n",
       "    </tr>\n",
       "    <tr>\n",
       "      <th>2018-07-08</th>\n",
       "      <td>409.685284</td>\n",
       "      <td>4.119406e+10</td>\n",
       "      <td>1.274561e+09</td>\n",
       "      <td>411.679977</td>\n",
       "    </tr>\n",
       "    <tr>\n",
       "      <th>2018-07-09</th>\n",
       "      <td>411.679977</td>\n",
       "      <td>4.140303e+10</td>\n",
       "      <td>1.255668e+09</td>\n",
       "      <td>399.581323</td>\n",
       "    </tr>\n",
       "    <tr>\n",
       "      <th>2018-07-10</th>\n",
       "      <td>399.581323</td>\n",
       "      <td>4.019451e+10</td>\n",
       "      <td>1.393201e+09</td>\n",
       "      <td>368.189297</td>\n",
       "    </tr>\n",
       "    <tr>\n",
       "      <th>2018-07-11</th>\n",
       "      <td>368.189297</td>\n",
       "      <td>3.704423e+10</td>\n",
       "      <td>1.522987e+09</td>\n",
       "      <td>NaN</td>\n",
       "    </tr>\n",
       "  </tbody>\n",
       "</table>\n",
       "</div>"
      ],
      "text/plain": [
       "                 price    market_cap  total_volume  closed_price\n",
       "2018-07-07  397.830345  3.999387e+10  1.338706e+09    409.685284\n",
       "2018-07-08  409.685284  4.119406e+10  1.274561e+09    411.679977\n",
       "2018-07-09  411.679977  4.140303e+10  1.255668e+09    399.581323\n",
       "2018-07-10  399.581323  4.019451e+10  1.393201e+09    368.189297\n",
       "2018-07-11  368.189297  3.704423e+10  1.522987e+09           NaN"
      ]
     },
     "execution_count": 17,
     "metadata": {},
     "output_type": "execute_result"
    }
   ],
   "source": [
    "new_column = 'closed_price'\n",
    "datab = data.copy()\n",
    "\n",
    "nc = list()\n",
    "\n",
    "for idx in data.index:\n",
    "    dayloc = data.index.get_loc(idx)\n",
    "    \n",
    "    #we put the price in the day after as closed price\n",
    "    if dayloc == len(data.index)-1:\n",
    "        #last position will not have closed_price\n",
    "        closed_price = np.nan\n",
    "    else:\n",
    "        closed_price = data.iloc[dayloc+1].price\n",
    "    \n",
    "    nc.append(closed_price)\n",
    "\n",
    "data[new_column] = nc\n",
    "data.tail(5)"
   ]
  },
  {
   "cell_type": "code",
   "execution_count": 18,
   "metadata": {
    "collapsed": true
   },
   "outputs": [],
   "source": [
    "#Delete last because we don't know still the closed price \n",
    "data = data.drop(data.index[len(data)-1])"
   ]
  },
  {
   "cell_type": "markdown",
   "metadata": {},
   "source": [
    "----\n",
    "### Split Data into Training and Test Datasets"
   ]
  },
  {
   "cell_type": "code",
   "execution_count": 19,
   "metadata": {
    "collapsed": true
   },
   "outputs": [],
   "source": [
    "#X_train, X_test, y_train, y_test = train_test_split(data[features], \n",
    "#                                                    data.closed_price, \n",
    "#                                                    test_size=0.20,\n",
    "#                                                    shuffle=False,\n",
    "#                                                    random_state=42)\n",
    "\n",
    "#80% for training\n",
    "split = round(len(data)*0.8)\n",
    "data_train, data_test = data[:split].copy(), data[split:].copy()"
   ]
  },
  {
   "cell_type": "code",
   "execution_count": 20,
   "metadata": {},
   "outputs": [
    {
     "name": "stdout",
     "output_type": "stream",
     "text": [
      "Size data_train: 855\n",
      "Size data_test: 214\n"
     ]
    }
   ],
   "source": [
    "print(\"Size data_train: {}\".format(data_train.shape[0]))\n",
    "print(\"Size data_test: {}\".format(data_test.shape[0]))"
   ]
  },
  {
   "cell_type": "markdown",
   "metadata": {},
   "source": [
    "### Normalized Datasets\n",
    "\n",
    "Take care of this because we __don't know if the future values are in the range__. For this reason we'll __fit the scaler using only the training data__ and not the testing data."
   ]
  },
  {
   "cell_type": "code",
   "execution_count": 21,
   "metadata": {},
   "outputs": [
    {
     "data": {
      "text/html": [
       "<div>\n",
       "<style scoped>\n",
       "    .dataframe tbody tr th:only-of-type {\n",
       "        vertical-align: middle;\n",
       "    }\n",
       "\n",
       "    .dataframe tbody tr th {\n",
       "        vertical-align: top;\n",
       "    }\n",
       "\n",
       "    .dataframe thead th {\n",
       "        text-align: right;\n",
       "    }\n",
       "</style>\n",
       "<table border=\"1\" class=\"dataframe\">\n",
       "  <thead>\n",
       "    <tr style=\"text-align: right;\">\n",
       "      <th></th>\n",
       "      <th>price</th>\n",
       "      <th>market_cap</th>\n",
       "      <th>total_volume</th>\n",
       "      <th>closed_price</th>\n",
       "    </tr>\n",
       "  </thead>\n",
       "  <tbody>\n",
       "    <tr>\n",
       "      <th>count</th>\n",
       "      <td>214.000000</td>\n",
       "      <td>214.000000</td>\n",
       "      <td>214.000000</td>\n",
       "      <td>214.000000</td>\n",
       "    </tr>\n",
       "    <tr>\n",
       "      <th>mean</th>\n",
       "      <td>1.438812</td>\n",
       "      <td>1.470872</td>\n",
       "      <td>0.847764</td>\n",
       "      <td>1.429927</td>\n",
       "    </tr>\n",
       "    <tr>\n",
       "      <th>std</th>\n",
       "      <td>0.458803</td>\n",
       "      <td>0.455845</td>\n",
       "      <td>0.475010</td>\n",
       "      <td>0.456618</td>\n",
       "    </tr>\n",
       "    <tr>\n",
       "      <th>min</th>\n",
       "      <td>0.739401</td>\n",
       "      <td>0.760185</td>\n",
       "      <td>0.283919</td>\n",
       "      <td>0.735077</td>\n",
       "    </tr>\n",
       "    <tr>\n",
       "      <th>25%</th>\n",
       "      <td>1.073323</td>\n",
       "      <td>1.099410</td>\n",
       "      <td>0.544226</td>\n",
       "      <td>1.067046</td>\n",
       "    </tr>\n",
       "    <tr>\n",
       "      <th>50%</th>\n",
       "      <td>1.388993</td>\n",
       "      <td>1.428085</td>\n",
       "      <td>0.694102</td>\n",
       "      <td>1.380870</td>\n",
       "    </tr>\n",
       "    <tr>\n",
       "      <th>75%</th>\n",
       "      <td>1.684163</td>\n",
       "      <td>1.714588</td>\n",
       "      <td>0.961598</td>\n",
       "      <td>1.674314</td>\n",
       "    </tr>\n",
       "    <tr>\n",
       "      <th>max</th>\n",
       "      <td>2.918379</td>\n",
       "      <td>2.946001</td>\n",
       "      <td>3.135968</td>\n",
       "      <td>2.901312</td>\n",
       "    </tr>\n",
       "  </tbody>\n",
       "</table>\n",
       "</div>"
      ],
      "text/plain": [
       "            price  market_cap  total_volume  closed_price\n",
       "count  214.000000  214.000000    214.000000    214.000000\n",
       "mean     1.438812    1.470872      0.847764      1.429927\n",
       "std      0.458803    0.455845      0.475010      0.456618\n",
       "min      0.739401    0.760185      0.283919      0.735077\n",
       "25%      1.073323    1.099410      0.544226      1.067046\n",
       "50%      1.388993    1.428085      0.694102      1.380870\n",
       "75%      1.684163    1.714588      0.961598      1.674314\n",
       "max      2.918379    2.946001      3.135968      2.901312"
      ]
     },
     "execution_count": 21,
     "metadata": {},
     "output_type": "execute_result"
    }
   ],
   "source": [
    "#Scale the data\n",
    "scaler = MinMaxScaler()\n",
    "\n",
    "data_train_norm, data_test_norm = data_train.copy(), data_test.copy()\n",
    "\n",
    "data_train_norm[data.columns] = scaler.fit_transform(data_train[data.columns])\n",
    "data_test_norm[data.columns] = scaler.transform(data_test[data.columns])\n",
    "\n",
    "data_test_norm.describe()"
   ]
  },
  {
   "cell_type": "markdown",
   "metadata": {},
   "source": [
    "---\n",
    "## Building the Model"
   ]
  },
  {
   "cell_type": "markdown",
   "metadata": {},
   "source": [
    "### Check Tensorflow and GPU"
   ]
  },
  {
   "cell_type": "code",
   "execution_count": 22,
   "metadata": {},
   "outputs": [
    {
     "name": "stdout",
     "output_type": "stream",
     "text": [
      "TensorFlow Version: 1.0.0\n"
     ]
    },
    {
     "name": "stderr",
     "output_type": "stream",
     "text": [
      "/Users/samuel/anaconda/envs/py3/lib/python3.5/site-packages/ipykernel_launcher.py:11: UserWarning: No GPU found. Please use a GPU to train your neural network.\n",
      "  # This is added back by InteractiveShellApp.init_path()\n"
     ]
    }
   ],
   "source": [
    "from distutils.version import LooseVersion\n",
    "import warnings\n",
    "import tensorflow as tf\n",
    "\n",
    "# Check TensorFlow Version\n",
    "assert LooseVersion(tf.__version__) >= LooseVersion('1.0'), 'Please use TensorFlow version 1.0 or newer'\n",
    "print('TensorFlow Version: {}'.format(tf.__version__))\n",
    "\n",
    "# Check for a GPU\n",
    "if not tf.test.gpu_device_name():\n",
    "    warnings.warn('No GPU found. Please use a GPU to train your neural network.')\n",
    "else:\n",
    "    print('Default GPU Device: {}'.format(tf.test.gpu_device_name()))"
   ]
  },
  {
   "cell_type": "markdown",
   "metadata": {},
   "source": [
    "### Regressor model\n",
    "\n",
    "* 1 step and 3 features"
   ]
  },
  {
   "cell_type": "code",
   "execution_count": 23,
   "metadata": {},
   "outputs": [
    {
     "name": "stderr",
     "output_type": "stream",
     "text": [
      "Using TensorFlow backend.\n"
     ]
    }
   ],
   "source": [
    "from keras.models import Sequential\n",
    "from keras.layers import Dense\n",
    "from keras.layers import LSTM\n",
    "from keras.layers import Flatten\n",
    "\n",
    "X_train = data_train_norm[features].values.reshape((data_train_norm.shape[0], 1, 3))\n",
    "y_train = data_train_norm.closed_price.values\n",
    "\n",
    "X_test = data_test_norm[features].values.reshape((data_test_norm.shape[0], 1, 3))\n",
    "y_test = data_test_norm.closed_price.values\n"
   ]
  },
  {
   "cell_type": "code",
   "execution_count": 24,
   "metadata": {},
   "outputs": [
    {
     "name": "stdout",
     "output_type": "stream",
     "text": [
      "(855, 1, 3)\n",
      "(855,)\n",
      "(214, 1, 3)\n",
      "(214,)\n"
     ]
    }
   ],
   "source": [
    "print(X_train.shape)\n",
    "print(y_train.shape)\n",
    "print(X_test.shape)\n",
    "print(y_test.shape)"
   ]
  },
  {
   "cell_type": "code",
   "execution_count": 25,
   "metadata": {
    "scrolled": true
   },
   "outputs": [
    {
     "data": {
      "text/plain": [
       "<keras.callbacks.History at 0x10f3f0a20>"
      ]
     },
     "execution_count": 25,
     "metadata": {},
     "output_type": "execute_result"
    }
   ],
   "source": [
    "model = Sequential()\n",
    "model.add(LSTM(32, input_shape=(1, 3) ))\n",
    "model.add(Dense(1))\n",
    "model.compile(loss='mean_squared_error', optimizer='adam')\n",
    "model.fit(X_train, y_train, epochs=50, batch_size=32, verbose=0)"
   ]
  },
  {
   "cell_type": "code",
   "execution_count": 26,
   "metadata": {},
   "outputs": [
    {
     "data": {
      "text/plain": [
       "<matplotlib.legend.Legend at 0x11aa2ff60>"
      ]
     },
     "execution_count": 26,
     "metadata": {},
     "output_type": "execute_result"
    },
    {
     "data": {
      "image/png": "[encoded data removed]",
      "text/plain": [
       "<matplotlib.figure.Figure at 0x10f2fbb00>"
      ]
     },
     "metadata": {},
     "output_type": "display_data"
    }
   ],
   "source": [
    "pred = model.predict(X_test)\n",
    "plt.plot(y_test, label='Actual')\n",
    "plt.plot(pred, label='Prediction')\n",
    "plt.legend()"
   ]
  },
  {
   "cell_type": "markdown",
   "metadata": {},
   "source": [
    "### Sequence model\n",
    "\n",
    "* 7 steps and 3 features"
   ]
  },
  {
   "cell_type": "code",
   "execution_count": 27,
   "metadata": {},
   "outputs": [
    {
     "data": {
      "text/plain": [
       "(1058, 7, 3)"
      ]
     },
     "execution_count": 27,
     "metadata": {},
     "output_type": "execute_result"
    }
   ],
   "source": [
    "'''\n",
    "Helper function to transform the dataset to\n",
    "shapes defined by 7 steps and 3 features\n",
    "'''\n",
    "def prepare_sequence(data, sequence_size=7):\n",
    "    sequence = []\n",
    "    buckets = data.shape[0]//sequence_size\n",
    "    init_sample = data.shape[0] - buckets*sequence_size\n",
    "    samples = 0\n",
    "    for i in range(init_sample, data.shape[0] - sequence_size + 1):\n",
    "        sequence.append(data[i:i+7])\n",
    "        samples += 1\n",
    "    return np.concatenate(sequence).reshape((samples, sequence_size, data.shape[1]))\n",
    "\n",
    "prepare_sequence(data[features]).shape"
   ]
  },
  {
   "cell_type": "code",
   "execution_count": 28,
   "metadata": {
    "collapsed": true
   },
   "outputs": [],
   "source": [
    "#getting (samples, steps, features)\n",
    "X_train = prepare_sequence(data_train_norm[features])\n",
    "X_test = prepare_sequence(data_test_norm[features])\n",
    "\n",
    "y_train = data_train_norm.iloc[-len(X_train):].closed_price.values\n",
    "y_test = data_test_norm.iloc[-len(X_test):].closed_price.values"
   ]
  },
  {
   "cell_type": "code",
   "execution_count": 29,
   "metadata": {},
   "outputs": [
    {
     "name": "stdout",
     "output_type": "stream",
     "text": [
      "(848, 7, 3)\n",
      "(848,)\n",
      "(204, 7, 3)\n",
      "(204,)\n"
     ]
    }
   ],
   "source": [
    "print(X_train.shape)\n",
    "print(y_train.shape)\n",
    "print(X_test.shape)\n",
    "print(y_test.shape)"
   ]
  },
  {
   "cell_type": "code",
   "execution_count": 30,
   "metadata": {
    "scrolled": true
   },
   "outputs": [
    {
     "data": {
      "text/plain": [
       "<keras.callbacks.History at 0x11abfef28>"
      ]
     },
     "execution_count": 30,
     "metadata": {},
     "output_type": "execute_result"
    }
   ],
   "source": [
    "model = Sequential()\n",
    "model.add(LSTM(32, input_shape=(7, 3) ))\n",
    "model.add(Dense(1))\n",
    "model.compile(loss='mean_squared_error', optimizer='adam')\n",
    "model.fit(X_train, y_train, epochs=50, batch_size=32, verbose=0)"
   ]
  },
  {
   "cell_type": "code",
   "execution_count": 31,
   "metadata": {},
   "outputs": [
    {
     "data": {
      "text/plain": [
       "<matplotlib.legend.Legend at 0x11b30cb00>"
      ]
     },
     "execution_count": 31,
     "metadata": {},
     "output_type": "execute_result"
    },
    {
     "data": {
      "image/png": "[encoded data removed]",
      "text/plain": [
       "<matplotlib.figure.Figure at 0x11aa36710>"
      ]
     },
     "metadata": {},
     "output_type": "display_data"
    }
   ],
   "source": [
    "pred = model.predict(X_test)\n",
    "plt.plot(y_test, label='Actual')\n",
    "plt.plot(pred, label='Prediction')\n",
    "plt.legend()"
   ]
  },
  {
   "cell_type": "markdown",
   "metadata": {
    "collapsed": true
   },
   "source": [
    "### ⇩ __NORMALIZE A WINDOW OF STEPS BY THE RATE OF CHANGE__ ⇩\n",
    "The neural network is not able to get good predictions for that data that has not seen before. For that reason we can find day that are not well fitted. This problem is related to the __'out-of-scale'__ data inputs.\n",
    "\n",
    "Thinking that the batch size is a window of days that defines how the neural network learns, one idea is to normalize the window by the last sample. On this way we'll be able to keep almost all data in the same scale."
   ]
  },
  {
   "cell_type": "code",
   "execution_count": 32,
   "metadata": {
    "collapsed": true
   },
   "outputs": [],
   "source": [
    "def print_mean_std(data):\n",
    "    mean = np.mean(data)\n",
    "    std = np.std(data)\n",
    "    print(\"mean:{:.3f} std:{:.3f}\".format(mean, std))"
   ]
  },
  {
   "cell_type": "code",
   "execution_count": 33,
   "metadata": {
    "collapsed": true
   },
   "outputs": [],
   "source": [
    "def window_normalization(data, window_size):\n",
    "    y = np.empty_like(data, dtype='float64')\n",
    "    normalizer = list()\n",
    "    for i in range(0,len(data), window_size):\n",
    "        j = min(i+window_size, len(data))\n",
    "        y[i:j] = data[i:j]/np.abs(data[j-1])\n",
    "        normalizer.append(np.abs(data[j-1]))\n",
    "        print_mean_std(y[i:j])\n",
    "        \n",
    "    return y, normalizer\n",
    "\n",
    "def window_denormalization(norm_data, normalizer, window_size):\n",
    "    y = np.empty_like(norm_data, dtype='float64')\n",
    "    idx = 0\n",
    "    for i in range(0,len(norm_data), window_size):\n",
    "        j = min(i+window_size, len(norm_data))\n",
    "        y[i:j] = norm_data[i:j]*normalizer[idx]\n",
    "        idx += 1\n",
    "        \n",
    "    return y"
   ]
  },
  {
   "cell_type": "code",
   "execution_count": 34,
   "metadata": {
    "collapsed": true
   },
   "outputs": [],
   "source": [
    "def window_normalization_2(data, window_size):\n",
    "    y = np.empty_like(data, dtype='float64')\n",
    "    normalizer = list()\n",
    "    for i in range(0,len(data), window_size):\n",
    "        j = min(i+window_size, len(data))\n",
    "        y[i:j] = data[i:j]/np.abs(data[j-1])\n",
    "        y[j-1] = data[j-1]\n",
    "        \n",
    "    return y\n",
    "\n",
    "def window_denormalization_2(norm_data, window_size):\n",
    "    y = np.empty_like(norm_data, dtype='float64')\n",
    "    idx = 0\n",
    "    for i in range(0,len(norm_data), window_size):\n",
    "        j = min(i+window_size, len(norm_data))\n",
    "        y[i:j] = norm_data[i:j]*normalizer[idx]\n",
    "        y[j-1] = norm_data[j-1]\n",
    "        idx += 1\n",
    "        \n",
    "    return y"
   ]
  },
  {
   "cell_type": "code",
   "execution_count": 35,
   "metadata": {},
   "outputs": [
    {
     "name": "stdout",
     "output_type": "stream",
     "text": [
      "mean:0.750 std:0.250\n",
      "mean:0.625 std:0.375\n"
     ]
    }
   ],
   "source": [
    "#testing the function\n",
    "a = np.array([[1, 1, 1], [2, 2, 2], [2, 2, 2], [8, 8, 8]])\n",
    "expected_result = np.array([[0.5, 0.5, 0.5], [1, 1, 1], [0.25, 0.25, 0.25], [1, 1, 1]])\n",
    "norm_a, normalizer = window_normalization(a, 2)\n",
    "\n",
    "assert ( np.array_equal(norm_a, expected_result) )\n",
    "assert ( np.array_equal(a, window_denormalization(norm_a, normalizer, 2)) )\n",
    "\n",
    "''' Normalization 2\n",
    "    Keeping for the normalizer sample with the actual value\n",
    "'''\n",
    "expected_result_2 = np.array([[0.5, 0.5, 0.5], [2, 2, 2], [0.25, 0.25, 0.25], [8, 8, 8]])\n",
    "norm_a = window_normalization_2(a, 2)\n",
    "\n",
    "assert ( np.array_equal(norm_a, expected_result_2) )\n",
    "assert ( np.array_equal(a, window_denormalization_2(norm_a, 2)) )"
   ]
  },
  {
   "cell_type": "code",
   "execution_count": 36,
   "metadata": {},
   "outputs": [
    {
     "data": {
      "text/plain": [
       "'10-07-2018'"
      ]
     },
     "execution_count": 36,
     "metadata": {},
     "output_type": "execute_result"
    }
   ],
   "source": [
    "data.index[-1].strftime(\"%d-%m-%Y\")"
   ]
  },
  {
   "cell_type": "code",
   "execution_count": 37,
   "metadata": {},
   "outputs": [
    {
     "name": "stdout",
     "output_type": "stream",
     "text": [
      "mean:1.566 std:1.539\n",
      "mean:1.352 std:0.592\n",
      "mean:0.884 std:0.577\n",
      "mean:0.769 std:0.267\n",
      "mean:0.725 std:0.328\n",
      "mean:0.563 std:0.432\n",
      "mean:0.720 std:0.328\n",
      "mean:1.070 std:0.325\n",
      "mean:0.604 std:0.230\n",
      "mean:0.885 std:0.414\n",
      "mean:0.670 std:0.324\n",
      "mean:2.814 std:4.415\n",
      "mean:1.275 std:1.012\n",
      "mean:0.936 std:0.262\n",
      "mean:1.284 std:0.602\n",
      "mean:1.078 std:0.742\n",
      "mean:1.042 std:0.526\n",
      "mean:0.758 std:0.536\n",
      "mean:0.958 std:0.596\n",
      "mean:0.734 std:0.451\n",
      "mean:0.961 std:0.800\n",
      "mean:1.371 std:0.473\n",
      "mean:0.865 std:0.405\n",
      "mean:1.102 std:0.312\n",
      "mean:0.946 std:0.481\n",
      "mean:0.903 std:0.251\n",
      "mean:0.781 std:0.259\n",
      "mean:1.049 std:0.173\n",
      "mean:1.293 std:0.255\n",
      "mean:0.941 std:0.281\n",
      "mean:0.956 std:0.064\n",
      "mean:0.823 std:0.075\n",
      "mean:0.521 std:0.250\n",
      "mean:0.805 std:0.298\n",
      "mean:1.184 std:0.156\n",
      "mean:0.689 std:0.140\n",
      "mean:1.109 std:0.168\n",
      "mean:0.934 std:0.100\n",
      "mean:1.015 std:0.093\n",
      "mean:0.949 std:0.065\n",
      "mean:1.060 std:0.045\n",
      "mean:1.215 std:0.073\n",
      "mean:0.977 std:0.054\n",
      "mean:0.960 std:0.057\n",
      "mean:0.695 std:0.138\n",
      "mean:0.891 std:0.270\n",
      "mean:0.698 std:0.192\n",
      "mean:0.598 std:0.229\n",
      "mean:1.597 std:0.279\n",
      "mean:0.746 std:0.122\n",
      "mean:1.155 std:0.103\n",
      "mean:0.860 std:0.081\n",
      "mean:0.936 std:0.038\n",
      "mean:0.897 std:0.099\n"
     ]
    }
   ],
   "source": [
    "window_size=32\n",
    "\n",
    "X_train = data_train[features].values\n",
    "y_train = data_train.closed_price.values\n",
    "\n",
    "X_train_norm, X_normalizer = window_normalization(X_train, window_size)\n",
    "y_train_norm, y_normalizer = window_normalization(y_train, window_size)\n",
    "\n",
    "#getting (samples, steps, features)\n",
    "X_train_norm = prepare_sequence(X_train_norm)\n",
    "y_train_norm = y_train_norm[-len(X_train_norm):]"
   ]
  },
  {
   "cell_type": "code",
   "execution_count": 38,
   "metadata": {
    "scrolled": true
   },
   "outputs": [
    {
     "data": {
      "text/plain": [
       "<keras.callbacks.History at 0x11b5c2320>"
      ]
     },
     "execution_count": 38,
     "metadata": {},
     "output_type": "execute_result"
    }
   ],
   "source": [
    "model = Sequential()\n",
    "model.add(LSTM(32, input_shape=(7,3) ))\n",
    "model.add(Dense(1))\n",
    "model.compile(loss='mean_squared_error', optimizer='adam')\n",
    "model.fit(X_train_norm, y_train_norm, epochs=50, batch_size=window_size, verbose=0)"
   ]
  },
  {
   "cell_type": "markdown",
   "metadata": {},
   "source": [
    "#### With normalized data"
   ]
  },
  {
   "cell_type": "code",
   "execution_count": 39,
   "metadata": {},
   "outputs": [
    {
     "data": {
      "text/plain": [
       "<matplotlib.legend.Legend at 0x11bceabe0>"
      ]
     },
     "execution_count": 39,
     "metadata": {},
     "output_type": "execute_result"
    },
    {
     "data": {
      "image/png": "[encoded data removed]",
      "text/plain": [
       "<matplotlib.figure.Figure at 0x11b32f390>"
      ]
     },
     "metadata": {},
     "output_type": "display_data"
    }
   ],
   "source": [
    "pred = model.predict(X_train_norm)\n",
    "plt.plot(y_train_norm, label='Actual')\n",
    "plt.plot(pred, label='Prediction')\n",
    "plt.legend()"
   ]
  },
  {
   "cell_type": "markdown",
   "metadata": {},
   "source": [
    "#### With data in actual scale"
   ]
  },
  {
   "cell_type": "code",
   "execution_count": 40,
   "metadata": {},
   "outputs": [
    {
     "data": {
      "text/plain": [
       "<matplotlib.legend.Legend at 0x11be2cdd8>"
      ]
     },
     "execution_count": 40,
     "metadata": {},
     "output_type": "execute_result"
    },
    {
     "data": {
      "image/png": "[encoded data removed]",
      "text/plain": [
       "<matplotlib.figure.Figure at 0x11bd43a90>"
      ]
     },
     "metadata": {},
     "output_type": "display_data"
    }
   ],
   "source": [
    "plt.plot(y_train, label='Actual')\n",
    "plt.plot(window_denormalization(pred, y_normalizer, window_size), label='Prediction')\n",
    "plt.legend()"
   ]
  },
  {
   "cell_type": "markdown",
   "metadata": {},
   "source": [
    "---\n",
    "## Testing the Model\n",
    "\n",
    "Seeing the last results our best chance of accurate predictions (__at a glance__) is to use:\n",
    "\n",
    "* LSTM sequence by 7 steps and 3 features\n",
    "* Window normalization"
   ]
  },
  {
   "cell_type": "code",
   "execution_count": 41,
   "metadata": {},
   "outputs": [
    {
     "name": "stdout",
     "output_type": "stream",
     "text": [
      "mean:0.547 std:0.184\n",
      "mean:1.392 std:0.526\n",
      "mean:1.270 std:0.192\n",
      "mean:1.014 std:0.301\n",
      "mean:0.991 std:0.242\n",
      "mean:1.301 std:0.303\n",
      "mean:0.996 std:0.250\n",
      "mean:0.616 std:0.150\n",
      "mean:1.220 std:0.214\n",
      "mean:1.356 std:0.140\n",
      "mean:0.892 std:0.142\n",
      "mean:0.988 std:0.126\n",
      "mean:1.112 std:0.114\n",
      "mean:1.084 std:0.070\n"
     ]
    },
    {
     "data": {
      "text/plain": [
       "<matplotlib.legend.Legend at 0x11bf0cf28>"
      ]
     },
     "execution_count": 41,
     "metadata": {},
     "output_type": "execute_result"
    },
    {
     "data": {
      "image/png": "[encoded data removed]",
      "text/plain": [
       "<matplotlib.figure.Figure at 0x11ab2ff60>"
      ]
     },
     "metadata": {},
     "output_type": "display_data"
    }
   ],
   "source": [
    "X_test = data_test[features].values\n",
    "y_test = data_test.closed_price.values\n",
    "\n",
    "X_test_norm, _ = window_normalization(X_test, window_size)\n",
    "y_test_norm, _ = window_normalization(y_test, window_size)\n",
    "\n",
    "#getting (samples, steps, features)\n",
    "X_test_norm = prepare_sequence(X_test_norm)\n",
    "y_test_norm = y_test_norm[-len(X_test_norm):]\n",
    "\n",
    "pred = model.predict(X_test_norm)\n",
    "plt.plot(y_test_norm, label='Actual')\n",
    "plt.plot(pred, label='Prediction')\n",
    "plt.legend()"
   ]
  },
  {
   "cell_type": "code",
   "execution_count": 42,
   "metadata": {},
   "outputs": [
    {
     "data": {
      "text/plain": [
       "0.83175310428779303"
      ]
     },
     "execution_count": 42,
     "metadata": {},
     "output_type": "execute_result"
    }
   ],
   "source": [
    "from sklearn.metrics import r2_score\n",
    "\n",
    "r2_score(y_test_norm, pred)"
   ]
  },
  {
   "cell_type": "markdown",
   "metadata": {},
   "source": [
    "## Conclusions\n",
    "\n",
    "It seems the most accurate is the sequence model using a normalization by window size. Also it's truth the prediction value goes a few days ahead of the actual value.\n",
    "\n",
    "\n",
    "-----\n",
    "\n",
    "__Log:__\n",
    "\n",
    "1. ~~Added new method 'print_mean_std' to detect the stability of the data within the window size.~~\n",
    "    \n",
    "2. It has been need to add a denormalization function to recover the real values after predictions. Probably it's not well defined and the algorithm should be re-checked (multiply by normalized number??)\n",
    "    \n",
    "3. ~~Testing doesn't have to be normalized.~~\n",
    "\n",
    "4. Next step, try to __recover original values__ in predictions.\n",
    "5. Normalization 2.\n",
    "6. Define a good metric."
   ]
  }
 ],
 "metadata": {
  "kernelspec": {
   "display_name": "Python 3",
   "language": "python",
   "name": "python3"
  },
  "language_info": {
   "codemirror_mode": {
    "name": "ipython",
    "version": 3
   },
   "file_extension": ".py",
   "mimetype": "text/x-python",
   "name": "python",
   "nbconvert_exporter": "python",
   "pygments_lexer": "ipython3",
   "version": "3.5.3"
  }
 },
 "nbformat": 4,
 "nbformat_minor": 2
}
