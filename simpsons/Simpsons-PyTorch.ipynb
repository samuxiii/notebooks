{
  "nbformat": 4,
  "nbformat_minor": 0,
  "metadata": {
    "colab": {
      "name": "Simpsons-PyTorch.ipynb",
      "version": "0.3.2",
      "provenance": [],
      "collapsed_sections": []
    },
    "kernelspec": {
      "display_name": "Python 3",
      "language": "python",
      "name": "python3"
    },
    "accelerator": "GPU"
  },
  "cells": [
    {
      "metadata": {
        "id": "Px_dw13ak33X",
        "colab_type": "code",
        "colab": {
          "base_uri": "https://localhost:8080/",
          "height": 51
        },
        "outputId": "7a586daa-0e76-4ea9-97d0-fbc5c915cbf8"
      },
      "cell_type": "code",
      "source": [
        "!pip install -q kaggle\n",
        "!mkdir -p ~/.kaggle\n",
        "!echo '{\"username\":\"XXXX\",\"key\":\"XXXX\"}' > ~/.kaggle/kaggle.json\n",
        "!kaggle datasets download -d alexattia/the-simpsons-characters-dataset"
      ],
      "execution_count": 1,
      "outputs": [
        {
          "output_type": "stream",
          "text": [
            "Warning: Your Kaggle API key is readable by otherusers on this system! To fix this, you can run'chmod 600 /root/.kaggle/kaggle.json'\n",
            "the-simpsons-characters-dataset.zip: Skipping, found more recently modified local copy (use --force to force download)\n"
          ],
          "name": "stdout"
        }
      ]
    },
    {
      "metadata": {
        "id": "djv2j8vq0l0N",
        "colab_type": "code",
        "colab": {
          "base_uri": "https://localhost:8080/",
          "height": 51
        },
        "outputId": "0a144ddc-f4a6-4ebe-d4dd-369adc95be29"
      },
      "cell_type": "code",
      "source": [
        "# If running in Google Colab\n",
        "from os import path\n",
        "from wheel.pep425tags import get_abbr_impl, get_impl_ver, get_abi_tag\n",
        "platform = '{}{}-{}'.format(get_abbr_impl(), get_impl_ver(), get_abi_tag())\n",
        "\n",
        "accelerator = 'cu80' if path.exists('/opt/bin/nvidia-smi') else 'cpu'\n",
        "\n",
        "!pip install -q http://download.pytorch.org/whl/{accelerator}/torch-0.4.0-{platform}-linux_x86_64.whl torchvision\n",
        "import torch\n",
        "print(torch.__version__)\n",
        "print(torch.cuda.is_available())"
      ],
      "execution_count": 2,
      "outputs": [
        {
          "output_type": "stream",
          "text": [
            "0.4.0\n",
            "True\n"
          ],
          "name": "stdout"
        }
      ]
    },
    {
      "metadata": {
        "id": "HsIgQFUlbn8B",
        "colab_type": "code",
        "colab": {}
      },
      "cell_type": "code",
      "source": [
        "!unzip -qo the-simpsons-characters-dataset.zip -d the-simpsons-characters-dataset\n",
        "!cd the-simpsons-characters-dataset\n",
        "!unzip -qo simpsons_dataset.zip -d the-simpsons-characters-dataset/\n",
        "!unzip -qo kaggle_simpson_testset.zip -d the-simpsons-characters-dataset/\n",
        "\n",
        "!rm ./the-simpsons-characters-dataset/kaggle_simpson_testset/.DS_Store\n",
        "!rm ./the-simpsons-characters-dataset/simpsons_dataset/nelson_muntz/.DS_Store"
      ],
      "execution_count": 0,
      "outputs": []
    },
    {
      "metadata": {
        "id": "5SZS7l6bbfCm",
        "colab_type": "code",
        "colab": {
          "base_uri": "https://localhost:8080/",
          "height": 51
        },
        "outputId": "204a28d0-1a66-4af9-cf70-96ad27cf91f7"
      },
      "cell_type": "code",
      "source": [
        "from os import listdir\n",
        "\n",
        "#configure train dataset\n",
        "train_root_path = \"./the-simpsons-characters-dataset/simpsons_dataset\"\n",
        "character_directories = listdir(train_root_path)\n",
        "#character_directories.remove('.DS_Store')\n",
        "print(\"Train: {}\".format(character_directories[:5]))\n",
        "\n",
        "#configure test dataset\n",
        "test_root_path = \"./the-simpsons-characters-dataset/kaggle_simpson_testset\"\n",
        "test_image_names = listdir(test_root_path)\n",
        "#test_image_names.remove('.DS_Store')\n",
        "print(\"Test: {}\".format(test_image_names[:5]))\n"
      ],
      "execution_count": 4,
      "outputs": [
        {
          "output_type": "stream",
          "text": [
            "Train: ['helen_lovejoy', 'cletus_spuckler', 'patty_bouvier', 'rainier_wolfcastle', 'hans_moleman']\n",
            "Test: ['krusty_the_clown_4.jpg', 'moe_szyslak_42.jpg', 'nelson_muntz_40.jpg', 'homer_simpson_35.jpg', 'milhouse_van_houten_37.jpg']\n"
          ],
          "name": "stdout"
        }
      ]
    },
    {
      "metadata": {
        "id": "G16VAONabfC5",
        "colab_type": "text"
      },
      "cell_type": "markdown",
      "source": [
        "### Calculate mean width and lenght from test images"
      ]
    },
    {
      "metadata": {
        "id": "dWoTzSqwbfC8",
        "colab_type": "code",
        "colab": {
          "base_uri": "https://localhost:8080/",
          "height": 68
        },
        "outputId": "f3b6cf4d-52c6-4734-e9d0-d405d439366d"
      },
      "cell_type": "code",
      "source": [
        "import os, random\n",
        "from scipy.misc import imread, imresize\n",
        "\n",
        "width = 0\n",
        "lenght = 0\n",
        "num_test_images = len(test_image_names)\n",
        "\n",
        "for i in range(num_test_images):\n",
        "    path_file = os.path.join(test_root_path, test_image_names[i])\n",
        "    image = imread(path_file)\n",
        "    width += image.shape[0]\n",
        "    lenght += image.shape[1]\n",
        "\n",
        "width_mean = width//num_test_images\n",
        "lenght_mean = lenght//num_test_images\n",
        "dim_size = (width_mean + lenght_mean) // 2\n",
        "\n",
        "print(\"Width mean: {}\".format(width_mean))\n",
        "print(\"Lenght mean: {}\".format(lenght_mean))\n",
        "print(\"Size mean dimension: {}\".format(dim_size))"
      ],
      "execution_count": 5,
      "outputs": [
        {
          "output_type": "stream",
          "text": [
            "Width mean: 152\n",
            "Lenght mean: 147\n",
            "Size mean dimension: 149\n"
          ],
          "name": "stdout"
        }
      ]
    },
    {
      "metadata": {
        "id": "YJJQ-LpXbfDG",
        "colab_type": "text"
      },
      "cell_type": "markdown",
      "source": [
        "Size mean dimension will be used for the resizing process. __All the images will be scaled__ to __(37,37)__ since it's the average of the test images."
      ]
    },
    {
      "metadata": {
        "id": "IfyAbSatbfDH",
        "colab_type": "text"
      },
      "cell_type": "markdown",
      "source": [
        "### Show some test examples"
      ]
    },
    {
      "metadata": {
        "id": "nhHY2PsFbfDJ",
        "colab_type": "code",
        "colab": {
          "base_uri": "https://localhost:8080/",
          "height": 231
        },
        "outputId": "d3848bc2-0bbe-4b6b-bcce-ecc8d88815fe"
      },
      "cell_type": "code",
      "source": [
        "import matplotlib.pyplot as plt\n",
        "\n",
        "idx = random.randint(0, num_test_images)\n",
        "sample_file, sample_name = test_image_names[idx], test_image_names[idx].split('_')[:-1]\n",
        "path_file = os.path.join(test_root_path, sample_file)\n",
        "sample_image = imread(path_file)\n",
        "\n",
        "print(\"Label:{}, Image:{}, Shape:{}\".format('_'.join(sample_name), idx, sample_image.shape))\n",
        "plt.figure(figsize=(3,3))\n",
        "plt.imshow(sample_image)\n",
        "plt.axis('off')\n",
        "plt.show()"
      ],
      "execution_count": 6,
      "outputs": [
        {
          "output_type": "stream",
          "text": [
            "Label:kent_brockman, Image:552, Shape:(154, 103, 3)\n"
          ],
          "name": "stdout"
        },
        {
          "output_type": "display_data",
          "data": {
            "image/png": "[encoded data removed]",
            "text/plain": [
              "<matplotlib.figure.Figure at 0x7f7d2e336ac8>"
            ]
          },
          "metadata": {
            "tags": []
          }
        }
      ]
    },
    {
      "metadata": {
        "id": "ZHrhrWUqbfDR",
        "colab_type": "text"
      },
      "cell_type": "markdown",
      "source": [
        "### Making batches (resized)"
      ]
    },
    {
      "metadata": {
        "id": "LJMtTmEFbfDT",
        "colab_type": "code",
        "colab": {}
      },
      "cell_type": "code",
      "source": [
        "def get_num_of_samples():\n",
        "    count = 0\n",
        "    for _,character in enumerate(character_directories):\n",
        "        path = os.path.join(train_root_path, character)\n",
        "        count += len(listdir(path))\n",
        "        \n",
        "    return count\n",
        "\n",
        "def get_batch(batch_init, batch_size):\n",
        "    data = {'image':[], 'label':[]}\n",
        "    character_batch_size = batch_size//len(character_directories)\n",
        "    character_batch_init = batch_init//len(character_directories)\n",
        "    character_batch_end = character_batch_init + character_batch_size\n",
        "    \n",
        "    for _,character in enumerate(character_directories):\n",
        "        path = os.path.join(train_root_path, character)\n",
        "        images_list = listdir(path)\n",
        "        for i in range(character_batch_init, character_batch_end):\n",
        "            if len(images_list) == 0:\n",
        "                continue\n",
        "            #if this character has small number of features\n",
        "            #we repeat them\n",
        "            if i >= len(images_list):\n",
        "                p = i % len(images_list)\n",
        "            else:\n",
        "                p = i\n",
        "                \n",
        "            path_file = os.path.join(path, images_list[p])\n",
        "            image = imread(path_file)\n",
        "            #all with the same shape\n",
        "            image = imresize(image, (dim_size, dim_size))\n",
        "            data['image'].append(image)\n",
        "            data['label'].append(character)\n",
        "    \n",
        "    return data\n",
        "\n",
        "def get_batches(num_batches, batch_size, verbose=False):\n",
        "    #num max of samples\n",
        "    num_samples = get_num_of_samples()\n",
        "    #check number of batches with the maximum\n",
        "    max_num_batches = num_samples//batch_size - 1\n",
        "    \n",
        "    if verbose:\n",
        "        print(\"Number of samples:{}\".format(num_samples))\n",
        "        print(\"Batches:{} Size:{}\".format(num_batches, batch_size))\n",
        "    assert num_batches <= max_num_batches, \"Surpassed the maximum number of batches\"\n",
        "        \n",
        "    for i in range(0, num_batches):\n",
        "        init = i * batch_size\n",
        "        if verbose:\n",
        "            print(\"Batch-{} yielding images from {} to {}...\".format(i, init, init+batch_size))\n",
        "        \n",
        "        yield get_batch(init, batch_size)"
      ],
      "execution_count": 0,
      "outputs": []
    },
    {
      "metadata": {
        "id": "53H0GuvAbfDX",
        "colab_type": "code",
        "colab": {
          "base_uri": "https://localhost:8080/",
          "height": 484
        },
        "outputId": "dad9151a-e3b3-4009-e92a-c4b60b7bf716"
      },
      "cell_type": "code",
      "source": [
        "#testing generator\n",
        "batch_size = 500\n",
        "\n",
        "for b in get_batches(10, batch_size, verbose=True):\n",
        "    print(\"\\t|- retrieved {} images\".format(len(b['image'])))"
      ],
      "execution_count": 8,
      "outputs": [
        {
          "output_type": "stream",
          "text": [
            "Number of samples:20933\n",
            "Batches:10 Size:500\n",
            "Batch-0 yielding images from 0 to 500...\n"
          ],
          "name": "stdout"
        },
        {
          "output_type": "stream",
          "text": [
            "/usr/local/lib/python3.6/dist-packages/scipy/misc/pilutil.py:482: FutureWarning: Conversion of the second argument of issubdtype from `int` to `np.signedinteger` is deprecated. In future, it will be treated as `np.int64 == np.dtype(int).type`.\n",
            "  if issubdtype(ts, int):\n",
            "/usr/local/lib/python3.6/dist-packages/scipy/misc/pilutil.py:485: FutureWarning: Conversion of the second argument of issubdtype from `float` to `np.floating` is deprecated. In future, it will be treated as `np.float64 == np.dtype(float).type`.\n",
            "  elif issubdtype(type(size), float):\n"
          ],
          "name": "stderr"
        },
        {
          "output_type": "stream",
          "text": [
            "\t|- retrieved 420 images\n",
            "Batch-1 yielding images from 500 to 1000...\n",
            "\t|- retrieved 420 images\n",
            "Batch-2 yielding images from 1000 to 1500...\n",
            "\t|- retrieved 420 images\n",
            "Batch-3 yielding images from 1500 to 2000...\n",
            "\t|- retrieved 420 images\n",
            "Batch-4 yielding images from 2000 to 2500...\n",
            "\t|- retrieved 420 images\n",
            "Batch-5 yielding images from 2500 to 3000...\n",
            "\t|- retrieved 420 images\n",
            "Batch-6 yielding images from 3000 to 3500...\n",
            "\t|- retrieved 420 images\n",
            "Batch-7 yielding images from 3500 to 4000...\n",
            "\t|- retrieved 420 images\n",
            "Batch-8 yielding images from 4000 to 4500...\n",
            "\t|- retrieved 420 images\n",
            "Batch-9 yielding images from 4500 to 5000...\n",
            "\t|- retrieved 420 images\n"
          ],
          "name": "stdout"
        }
      ]
    },
    {
      "metadata": {
        "id": "FD319qQebfDc",
        "colab_type": "text"
      },
      "cell_type": "markdown",
      "source": [
        "### Preprocessing data"
      ]
    },
    {
      "metadata": {
        "id": "cHGJqgDYbfDd",
        "colab_type": "code",
        "colab": {}
      },
      "cell_type": "code",
      "source": [
        "from sklearn import preprocessing\n",
        "\n",
        "#num characters\n",
        "num_characters = len(character_directories)\n",
        "\n",
        "#normalize\n",
        "def normalize(x):\n",
        "    #we use the feature scaling to have all the batches\n",
        "    #in the same space, that is (0,1)\n",
        "    return (x - np.amin(x))/(np.amax(x) - np.amin(x))\n",
        "\n",
        "#one-hot encode\n",
        "lb = preprocessing.LabelBinarizer()\n",
        "lb = lb.fit(character_directories)\n",
        "\n",
        "def one_hot(label):\n",
        "    return lb.transform([label])\n"
      ],
      "execution_count": 0,
      "outputs": []
    },
    {
      "metadata": {
        "id": "Jey_T8srbfDh",
        "colab_type": "text"
      },
      "cell_type": "markdown",
      "source": [
        "### Storing preprocessed batches on disk"
      ]
    },
    {
      "metadata": {
        "id": "rD4X5CpybfDj",
        "colab_type": "code",
        "colab": {}
      },
      "cell_type": "code",
      "source": [
        "num_batches = 40\n",
        "batch_size = 500"
      ],
      "execution_count": 0,
      "outputs": []
    },
    {
      "metadata": {
        "id": "yLKUDO21bfDn",
        "colab_type": "code",
        "colab": {
          "base_uri": "https://localhost:8080/",
          "height": 127
        },
        "outputId": "1069e837-6392-41a3-a3bc-3306439e0eb2"
      },
      "cell_type": "code",
      "source": [
        "import pickle\n",
        "import numpy as np\n",
        "\n",
        "cnt_images = 0\n",
        "for cnt, b in enumerate(get_batches(num_batches, batch_size)):\n",
        "    data = {'image':[], 'label':[]}\n",
        "    \n",
        "    for i in range( min(len(b['image']), batch_size) ):\n",
        "        image = np.array( b['image'][i] )\n",
        "        label = np.array( b['label'][i] )\n",
        "        #label = label.reshape([-1,:])\n",
        "        if len(image.shape) == 3:\n",
        "          data['image'].append(normalize(image))\n",
        "          data['label'].append(one_hot(label)[-1,:])\n",
        "          cnt_images += 1\n",
        "        else:\n",
        "          print(\"Dim image < 3\")\n",
        "    \n",
        "    with open(\"simpson_train_{}.pkl\".format(cnt), 'wb') as file:\n",
        "        pickle.dump(data, file, pickle.HIGHEST_PROTOCOL)\n",
        "    \n",
        "print(\"Loaded {} train images and stored on disk\".format(cnt_images))"
      ],
      "execution_count": 11,
      "outputs": [
        {
          "output_type": "stream",
          "text": [
            "/usr/local/lib/python3.6/dist-packages/scipy/misc/pilutil.py:482: FutureWarning: Conversion of the second argument of issubdtype from `int` to `np.signedinteger` is deprecated. In future, it will be treated as `np.int64 == np.dtype(int).type`.\n",
            "  if issubdtype(ts, int):\n",
            "/usr/local/lib/python3.6/dist-packages/scipy/misc/pilutil.py:485: FutureWarning: Conversion of the second argument of issubdtype from `float` to `np.floating` is deprecated. In future, it will be treated as `np.float64 == np.dtype(float).type`.\n",
            "  elif issubdtype(type(size), float):\n"
          ],
          "name": "stderr"
        },
        {
          "output_type": "stream",
          "text": [
            "Loaded 16800 train images and stored on disk\n"
          ],
          "name": "stdout"
        }
      ]
    },
    {
      "metadata": {
        "id": "TQRJW7CAbfDs",
        "colab_type": "code",
        "colab": {
          "base_uri": "https://localhost:8080/",
          "height": 85
        },
        "outputId": "1219a465-7c81-4084-d5a2-488406605dd9"
      },
      "cell_type": "code",
      "source": [
        "#testing load from file\n",
        "import pickle\n",
        "\n",
        "with open('simpson_train_0.pkl', 'rb') as file:\n",
        "    data = pickle.load(file)\n",
        "    print(\"Example of onehot encoded:\\n{}\".format(data['label'][0]))\n",
        "    print(\"Data shape: {}\".format(data['image'][0].shape))"
      ],
      "execution_count": 12,
      "outputs": [
        {
          "output_type": "stream",
          "text": [
            "Example of onehot encoded:\n",
            "[0 0 0 0 0 0 0 0 0 1 0 0 0 0 0 0 0 0 0 0 0 0 0 0 0 0 0 0 0 0 0 0 0 0 0 0 0\n",
            " 0 0 0 0 0 0 0 0 0 0]\n",
            "Data shape: (149, 149, 3)\n"
          ],
          "name": "stdout"
        }
      ]
    },
    {
      "metadata": {
        "id": "FtDsSpX2p0MX",
        "colab_type": "text"
      },
      "cell_type": "markdown",
      "source": [
        "###NOTE\n",
        "Since here the data is already processed and saved as pickle files."
      ]
    },
    {
      "metadata": {
        "id": "uKHY-7v8bfDw",
        "colab_type": "text"
      },
      "cell_type": "markdown",
      "source": [
        "### Building the Network"
      ]
    },
    {
      "metadata": {
        "id": "IdGmHLj4bfDx",
        "colab_type": "code",
        "colab": {
          "base_uri": "https://localhost:8080/",
          "height": 34
        },
        "outputId": "7ba57a40-b3b1-4570-ba1f-9d66ea64ecc3"
      },
      "cell_type": "code",
      "source": [
        "import torch\n",
        "import torchvision\n",
        "\n",
        "device = torch.device(\"cuda:0\" if torch.cuda.is_available() else \"cpu\")\n",
        "\n",
        "# Assume that we are on a CUDA machine, then this should print a CUDA device:\n",
        "print(device)"
      ],
      "execution_count": 13,
      "outputs": [
        {
          "output_type": "stream",
          "text": [
            "cuda:0\n"
          ],
          "name": "stdout"
        }
      ]
    },
    {
      "metadata": {
        "id": "nUczTZx41MeP",
        "colab_type": "code",
        "colab": {}
      },
      "cell_type": "code",
      "source": [
        "import torch.nn as nn\n",
        "import torch.nn.functional as F\n",
        "\n",
        "num_characters = 47\n",
        "\n",
        "class Net(nn.Module):\n",
        "    def __init__(self):\n",
        "        super(Net, self).__init__()\n",
        "        self.conv1 = nn.Conv2d(3, 32, 5)\n",
        "        self.pool = nn.MaxPool2d(2, 2)\n",
        "        self.conv2 = nn.Conv2d(32, 64, 5)\n",
        "        self.fc1 = nn.Linear(64 * 34 * 34, num_characters)\n",
        "\n",
        "    def forward(self, x):\n",
        "        x = self.pool(F.relu(self.conv1(x)))\n",
        "        x = self.pool(F.relu(self.conv2(x)))\n",
        "        #print(\"shape: {}\".format(x.size()))\n",
        "        x = x.view(x.size(0), -1)\n",
        "        x = self.fc1(x)\n",
        "        return x\n",
        "\n",
        "net = Net()"
      ],
      "execution_count": 0,
      "outputs": []
    },
    {
      "metadata": {
        "id": "lRT1si9t1OmT",
        "colab_type": "code",
        "colab": {
          "base_uri": "https://localhost:8080/",
          "height": 119
        },
        "outputId": "e323b77f-bc4f-44cf-f573-27c1b605837d"
      },
      "cell_type": "code",
      "source": [
        "#move the neural network to the GPU\n",
        "if torch.cuda.device_count() > 1:\n",
        "  print(\"Let's use\", torch.cuda.device_count(), \"GPUs!\")\n",
        "  # dim = 0 [30, xxx] -> [10, ...], [10, ...], [10, ...] on 3 GPUs\n",
        "  net = nn.DataParallel(net)\n",
        "\n",
        "net.to(device)"
      ],
      "execution_count": 15,
      "outputs": [
        {
          "output_type": "execute_result",
          "data": {
            "text/plain": [
              "Net(\n",
              "  (conv1): Conv2d(3, 32, kernel_size=(5, 5), stride=(1, 1))\n",
              "  (pool): MaxPool2d(kernel_size=2, stride=2, padding=0, dilation=1, ceil_mode=False)\n",
              "  (conv2): Conv2d(32, 64, kernel_size=(5, 5), stride=(1, 1))\n",
              "  (fc1): Linear(in_features=73984, out_features=47, bias=True)\n",
              ")"
            ]
          },
          "metadata": {
            "tags": []
          },
          "execution_count": 15
        }
      ]
    },
    {
      "metadata": {
        "id": "TddrNaBC1Q_n",
        "colab_type": "code",
        "colab": {}
      },
      "cell_type": "code",
      "source": [
        "import torch.optim as optim\n",
        "\n",
        "loss_fn = nn.CrossEntropyLoss() #buit-in softmax, we can use logits directly\n",
        "optimizer = optim.Adam(net.parameters())"
      ],
      "execution_count": 0,
      "outputs": []
    },
    {
      "metadata": {
        "id": "1vInNIXs1TlC",
        "colab_type": "code",
        "colab": {
          "base_uri": "https://localhost:8080/",
          "height": 136
        },
        "outputId": "b8265fc0-e702-46ce-e48a-79119396b286"
      },
      "cell_type": "code",
      "source": [
        "import os\n",
        "import pickle\n",
        "\n",
        "stats = {'train_loss':[]}\n",
        "\n",
        "for epoch in range(3):  # loop over the dataset multiple times\n",
        " \n",
        "    for i in range(100):\n",
        "        fname = \"simpson_train_{}.pkl\".format(i)\n",
        "        if os.path.exists(fname):   \n",
        "            with open(fname, 'rb') as file:\n",
        "                #print(\"Processing: {}\".format(fname))\n",
        "                data = pickle.load(file)\n",
        "                \n",
        "                np_inputs, np_labels = data['image'], data['label']\n",
        "\n",
        "                inputs, labels = torch.FloatTensor(np_inputs), torch.FloatTensor(np_labels)\n",
        "                \n",
        "                #permute image as (samples, x, y, channels) to (samples, channels, x, y)\n",
        "                inputs = inputs.permute(0, 3, 1, 2)\n",
        "        \n",
        "                #move the inputs and labels to the GPU\n",
        "                inputs, labels = inputs.to(device), labels.to(device)\n",
        "\n",
        "                # zero the parameter gradients\n",
        "                optimizer.zero_grad()\n",
        "\n",
        "                # forward + backward + optimize\n",
        "                outputs = net(inputs)\n",
        "\n",
        "                #cross entropy loss doesn't accept onehot encoded targets\n",
        "                #  |-> use the index class instead\n",
        "                lbls_no_onehot_encoded = torch.argmax(labels, dim=1)\n",
        "\n",
        "                loss = loss_fn(outputs, lbls_no_onehot_encoded)\n",
        "                loss.backward()\n",
        "                optimizer.step()\n",
        "\n",
        "                #statistics\n",
        "                stats['train_loss'].append(loss.item())\n",
        "                if i % 20 == 9:\n",
        "                  print(\"Epoch: {}  Batch: {}  Loss: {:.3f}\".format(epoch + 1, i + 1, loss.item()))\n",
        "        else:\n",
        "          break\n",
        "\n",
        "print('Finished Training')"
      ],
      "execution_count": 17,
      "outputs": [
        {
          "output_type": "stream",
          "text": [
            "Epoch: 1  Batch: 10  Loss: 2.997\n",
            "Epoch: 1  Batch: 30  Loss: 1.560\n",
            "Epoch: 2  Batch: 10  Loss: 0.981\n",
            "Epoch: 2  Batch: 30  Loss: 0.739\n",
            "Epoch: 3  Batch: 10  Loss: 0.519\n",
            "Epoch: 3  Batch: 30  Loss: 0.400\n",
            "Finished Training\n"
          ],
          "name": "stdout"
        }
      ]
    },
    {
      "metadata": {
        "id": "tB8nRYrG3qaB",
        "colab_type": "code",
        "colab": {
          "base_uri": "https://localhost:8080/",
          "height": 364
        },
        "outputId": "c98a4f7f-393b-44c3-ded2-5d01e0a3f57c"
      },
      "cell_type": "code",
      "source": [
        "plt.plot(stats['train_loss'], label='Train Loss')\n",
        "#plt.plot(stats['val_loss'], label='Validation Loss')\n",
        "#plt.plot(stats['acc'], label='Accuracy')\n",
        "plt.legend()"
      ],
      "execution_count": 18,
      "outputs": [
        {
          "output_type": "execute_result",
          "data": {
            "text/plain": [
              "<matplotlib.legend.Legend at 0x7f7ccea2df28>"
            ]
          },
          "metadata": {
            "tags": []
          },
          "execution_count": 18
        },
        {
          "output_type": "display_data",
          "data": {
            "image/png": "[encoded data removed]",
            "text/plain": [
              "<matplotlib.figure.Figure at 0x7f7cf1a7def0>"
            ]
          },
          "metadata": {
            "tags": []
          }
        }
      ]
    },
    {
      "metadata": {
        "id": "KQQDBi19bfD9",
        "colab_type": "text"
      },
      "cell_type": "markdown",
      "source": [
        "### Testing model"
      ]
    },
    {
      "metadata": {
        "id": "AQmJvgrr6MDO",
        "colab_type": "code",
        "colab": {
          "base_uri": "https://localhost:8080/",
          "height": 265
        },
        "outputId": "446b4f6e-f78d-48c5-837c-8fff5dea5160"
      },
      "cell_type": "code",
      "source": [
        "import warnings\n",
        "warnings.filterwarnings('ignore')\n",
        "\n",
        "#select random image\n",
        "idx = random.randint(0, num_test_images)\n",
        "sample_file, sample_name = test_image_names[idx], test_image_names[idx].split('_')[:-1]\n",
        "path_file = os.path.join(test_root_path, sample_file)\n",
        "    \n",
        "#read them\n",
        "test_image = normalize(imresize(imread(path_file), (dim_size, dim_size)))\n",
        "test_label_onehot = one_hot('_'.join(sample_name))[-1,:]\n",
        "\n",
        "#move to tensors\n",
        "test_image, test_label_onehot = torch.FloatTensor(test_image), torch.FloatTensor(test_label_onehot)\n",
        "\n",
        "#permute image as (samples, x, y, channels) to (samples, channels, x, y)\n",
        "test_image = test_image.permute(2, 0, 1)\n",
        "test_image.unsqueeze_(0)\n",
        "\n",
        "#move to GPU\n",
        "test_image, test_label_onehot = test_image.to(device), test_label_onehot.to(device)\n",
        "\n",
        "\n",
        "##\n",
        "with torch.no_grad():\n",
        "    output = net(test_image)\n",
        "    predicted_character = torch.argmax(output.data, 1)\n",
        "    actual_character = torch.argmax(test_label_onehot)\n",
        "    print(\"Right!!\") if (predicted_character == actual_character) else print(\"Wrong..\")\n",
        "\n",
        "    #showing\n",
        "    actual_name = ' '.join([s.capitalize() for s in sample_name])\n",
        "    print(\"Label: {}\".format(actual_name))\n",
        "    pred_name = lb.inverse_transform(output.cpu().numpy()).item() #copy from cuda to cpu, then to numpy\n",
        "    prediction = ' '.join([s.capitalize() for s in pred_name.split('_')])\n",
        "    print(\"Prediction: {}\".format(prediction))\n",
        "\n",
        "    plt.figure(figsize=(3,3))\n",
        "    plt.imshow(test_image.permute(0, 2, 3, 1).squeeze())\n",
        "    plt.axis('off')\n",
        "    plt.show()"
      ],
      "execution_count": 19,
      "outputs": [
        {
          "output_type": "stream",
          "text": [
            "Right!!\n",
            "Label: Edna Krabappel\n",
            "Prediction: Edna Krabappel\n"
          ],
          "name": "stdout"
        },
        {
          "output_type": "display_data",
          "data": {
            "image/png": "[encoded data removed]",
            "text/plain": [
              "<matplotlib.figure.Figure at 0x7f7cf1a7db70>"
            ]
          },
          "metadata": {
            "tags": []
          }
        }
      ]
    }
  ]
}