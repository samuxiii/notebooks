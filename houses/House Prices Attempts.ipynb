{
 "cells": [
  {
   "cell_type": "markdown",
   "metadata": {},
   "source": [
    "# House Prices Estimator\n",
    "\n",
    "__Note:__ It's a competition from __Kaggle.com__ and the input data was retrieved from there.\n"
   ]
  },
  {
   "cell_type": "markdown",
   "metadata": {},
   "source": [
    "## Data Analysis"
   ]
  },
  {
   "cell_type": "code",
   "execution_count": 107,
   "metadata": {
    "collapsed": true
   },
   "outputs": [],
   "source": [
    "import numpy as np\n",
    "import pandas as pd\n",
    "\n",
    "#load the files\n",
    "train = pd.read_csv('input/train.csv')\n",
    "test = pd.read_csv('input/test.csv')\n",
    "data = pd.concat([train, test])\n",
    "\n",
    "#size of training dataset\n",
    "train_samples = train.shape[0]\n",
    "test_samples = test.shape[0]"
   ]
  },
  {
   "cell_type": "code",
   "execution_count": 108,
   "metadata": {
    "collapsed": true
   },
   "outputs": [],
   "source": [
    "# remove the Id feature\n",
    "data.drop(['Id'],1, inplace=True);"
   ]
  },
  {
   "cell_type": "code",
   "execution_count": 109,
   "metadata": {
    "collapsed": true
   },
   "outputs": [],
   "source": [
    "#data.describe()"
   ]
  },
  {
   "cell_type": "code",
   "execution_count": 110,
   "metadata": {
    "collapsed": true
   },
   "outputs": [],
   "source": [
    "datanum = data.select_dtypes([np.number])\n",
    "datanum = datanum.fillna(datanum.dropna().mean())"
   ]
  },
  {
   "cell_type": "code",
   "execution_count": 111,
   "metadata": {},
   "outputs": [
    {
     "data": {
      "text/plain": [
       "<matplotlib.axes._subplots.AxesSubplot at 0x111fc9748>"
      ]
     },
     "execution_count": 111,
     "metadata": {},
     "output_type": "execute_result"
    },
    {
     "data": {
      "image/png": "[encoded data removed]",
      "text/plain": [
       "<matplotlib.figure.Figure at 0x111f4e0f0>"
      ]
     },
     "metadata": {},
     "output_type": "display_data"
    }
   ],
   "source": [
    "import matplotlib.pyplot as plt\n",
    "%matplotlib inline\n",
    "# Transforming to non-skewed SalePrice\n",
    "data.SalePrice = data.SalePrice.apply(np.log)\n",
    "data.SalePrice.hist(bins=50)"
   ]
  },
  {
   "cell_type": "code",
   "execution_count": 112,
   "metadata": {},
   "outputs": [
    {
     "data": {
      "text/plain": [
       "SalePrice      1.000000\n",
       "OverallQual    0.547865\n",
       "GrLivArea      0.518693\n",
       "GarageCars     0.444010\n",
       "GarageArea     0.437270\n",
       "Name: SalePrice, dtype: float64"
      ]
     },
     "execution_count": 112,
     "metadata": {},
     "output_type": "execute_result"
    }
   ],
   "source": [
    "# Correlation features\n",
    "datanum.corr()['SalePrice'].sort_values(ascending=False).head(5)"
   ]
  },
  {
   "cell_type": "code",
   "execution_count": 113,
   "metadata": {
    "collapsed": true
   },
   "outputs": [],
   "source": [
    "high_corr_feat_names = datanum.corr()['SalePrice'].sort_values(ascending=False).head(10).axes[0].tolist()\n",
    "high_corr_feat_names.remove('SalePrice')\n",
    "datanum_high_corr = datanum[high_corr_feat_names]"
   ]
  },
  {
   "cell_type": "markdown",
   "metadata": {},
   "source": [
    "#### KFold"
   ]
  },
  {
   "cell_type": "code",
   "execution_count": 114,
   "metadata": {},
   "outputs": [
    {
     "name": "stdout",
     "output_type": "stream",
     "text": [
      "Shape X train: (1460, 9)\n",
      "Shape y train: (1460,)\n",
      "Shape X test: (1459, 9)\n",
      "Shape y test: (1459,)\n",
      "KFold(n_splits=10, random_state=13, shuffle=False)\n"
     ]
    }
   ],
   "source": [
    "from sklearn.model_selection import KFold\n",
    "\n",
    "y = np.array(data['SalePrice'])\n",
    "X = np.array(datanum_high_corr)\n",
    "\n",
    "#split by idx\n",
    "idx = train_samples\n",
    "X_train, X_test = X[:idx], X[idx:]\n",
    "y_train, y_test = y[:idx], y[idx:]\n",
    "\n",
    "print(\"Shape X train: {}\".format(X_train.shape))\n",
    "print(\"Shape y train: {}\".format(y_train.shape))\n",
    "print(\"Shape X test: {}\".format(X_test.shape))\n",
    "print(\"Shape y test: {}\".format(y_test.shape))\n",
    "\n",
    "kf = KFold(n_splits=10, random_state=13)#, shuffle=True)\n",
    "print(kf)"
   ]
  },
  {
   "cell_type": "code",
   "execution_count": 115,
   "metadata": {
    "collapsed": true
   },
   "outputs": [],
   "source": [
    "#plotting PCA\n",
    "from sklearn.decomposition import PCA\n",
    "\n",
    "def getX_PCA(X):\n",
    "    pca = PCA(n_components=1)\n",
    "    return pca.fit(X).transform(X)\n",
    "    \n",
    "def plotPCA(X, y):\n",
    "    pca = PCA(n_components=1)\n",
    "    X_r = pca.fit(X).transform(X)\n",
    "    plt.plot(X_r, y, 'x')"
   ]
  },
  {
   "cell_type": "code",
   "execution_count": 116,
   "metadata": {},
   "outputs": [
    {
     "name": "stderr",
     "output_type": "stream",
     "text": [
      "/Users/samuel/anaconda/envs/py3/lib/python3.5/site-packages/sklearn/covariance/robust_covariance.py:161: RuntimeWarning: Warning! det > previous_det (39.999239109922257 > -inf)\n",
      "  % (det, previous_det), RuntimeWarning)\n"
     ]
    },
    {
     "name": "stdout",
     "output_type": "stream",
     "text": [
      "Number samples: 1445\n"
     ]
    },
    {
     "data": {
      "text/plain": [
       "<matplotlib.collections.PathCollection at 0x1148a9f28>"
      ]
     },
     "execution_count": 116,
     "metadata": {},
     "output_type": "execute_result"
    },
    {
     "data": {
      "image/png": "[encoded data removed]",
      "text/plain": [
       "<matplotlib.figure.Figure at 0x113544978>"
      ]
     },
     "metadata": {},
     "output_type": "display_data"
    }
   ],
   "source": [
    "from sklearn.covariance import EllipticEnvelope\n",
    "\n",
    "# fit the model\n",
    "ee = EllipticEnvelope(contamination=0.01,\n",
    "                      assume_centered=True,\n",
    "                      random_state=13)\n",
    "ee.fit(X_train)\n",
    "pred = ee.predict(X_train)\n",
    "\n",
    "X_train_orig = X_train\n",
    "y_train_orig = y_train\n",
    "\n",
    "X_bad = X_train[pred != 1]\n",
    "y_bad = y_train[pred != 1]\n",
    "X_train = X_train[pred == 1]\n",
    "y_train = y_train[pred == 1]\n",
    "print(\"Number samples: {}\".format(X_train.shape[0]))\n",
    "\n",
    "#after removing anomalies\n",
    "plt.scatter(getX_PCA(X_train), y_train)\n",
    "plt.scatter(getX_PCA(X_bad), y_bad)"
   ]
  },
  {
   "cell_type": "markdown",
   "metadata": {},
   "source": [
    "### Models"
   ]
  },
  {
   "cell_type": "code",
   "execution_count": 117,
   "metadata": {
    "collapsed": true
   },
   "outputs": [],
   "source": [
    "# Linear regression\n",
    "from sklearn.linear_model import LinearRegression\n",
    "from sklearn.metrics import mean_squared_error\n",
    "\n",
    "def train(X_train, y_train, verbose=True):\n",
    "    lr = LinearRegression()\n",
    "\n",
    "    #\n",
    "    batch = 0\n",
    "    for train_idx, val_idx in kf.split(X_train, y_train):\n",
    "        X_t, X_v = X_train[train_idx], X_train[val_idx]\n",
    "        y_t, y_v = y_train[train_idx], y_train[val_idx]\n",
    "\n",
    "        #training\n",
    "        lr.fit(X_t, y_t)\n",
    "\n",
    "        #calculate costs\n",
    "        t_error = mean_squared_error(y_t, lr.predict(X_t))**0.5\n",
    "        v_error = mean_squared_error(y_v, lr.predict(X_v))**0.5\n",
    "        if verbose:\n",
    "            print(\"{}) Training error: {:.2f}  Validation error: {:.2f} Score: {:.2f}\"\n",
    "                  .format(batch, t_error, v_error, lr.score(X_v, y_v)))\n",
    "        batch += 1\n",
    "        \n",
    "    return lr\n",
    "\n",
    "def metrics(model, X, y, verbose=True):\n",
    "    #Scores\n",
    "    if verbose:\n",
    "        print(\"Training score: {:.4f}\".format(model.score(X, y)))\n",
    "    #RMSLE\n",
    "    rmsle = mean_squared_error(y, model.predict(X))**0.5\n",
    "    if verbose:\n",
    "        print(\"RMSLE: {:.4f}\".format(rmsle))\n",
    "        # Plotting the results\n",
    "        plt.scatter(model.predict(X), y)\n",
    "        \n",
    "    return rmsle"
   ]
  },
  {
   "cell_type": "code",
   "execution_count": 118,
   "metadata": {},
   "outputs": [
    {
     "name": "stdout",
     "output_type": "stream",
     "text": [
      "0) Training error: 0.15  Validation error: 0.16 Score: 0.83\n",
      "1) Training error: 0.16  Validation error: 0.15 Score: 0.86\n",
      "2) Training error: 0.15  Validation error: 0.16 Score: 0.86\n",
      "3) Training error: 0.15  Validation error: 0.16 Score: 0.86\n",
      "4) Training error: 0.15  Validation error: 0.17 Score: 0.84\n",
      "5) Training error: 0.15  Validation error: 0.15 Score: 0.83\n",
      "6) Training error: 0.15  Validation error: 0.15 Score: 0.84\n",
      "7) Training error: 0.15  Validation error: 0.15 Score: 0.84\n",
      "8) Training error: 0.15  Validation error: 0.15 Score: 0.83\n",
      "9) Training error: 0.15  Validation error: 0.16 Score: 0.85\n",
      "Training score: 0.8011\n",
      "RMSLE: 0.1781\n"
     ]
    },
    {
     "data": {
      "text/plain": [
       "0.17808229207754026"
      ]
     },
     "execution_count": 118,
     "metadata": {},
     "output_type": "execute_result"
    },
    {
     "data": {
      "image/png": "[encoded data removed]",
      "text/plain": [
       "<matplotlib.figure.Figure at 0x10b5adf98>"
      ]
     },
     "metadata": {},
     "output_type": "display_data"
    }
   ],
   "source": [
    "model = train(X_train, y_train)\n",
    "metrics(model, X_train_orig, y_train_orig)"
   ]
  },
  {
   "cell_type": "code",
   "execution_count": 119,
   "metadata": {
    "collapsed": true
   },
   "outputs": [],
   "source": [
    "# Get polynomial features\n",
    "from sklearn.preprocessing import PolynomialFeatures\n",
    "\n",
    "poly = PolynomialFeatures(degree=2)\n",
    "\n",
    "X_train_orig_pol = poly.fit_transform(X_train_orig)\n",
    "X_train_pol = poly.fit_transform(X_train)\n",
    "X_test_pol = poly.fit_transform(X_test)"
   ]
  },
  {
   "cell_type": "code",
   "execution_count": 120,
   "metadata": {},
   "outputs": [
    {
     "name": "stdout",
     "output_type": "stream",
     "text": [
      "0) Training error: 0.15  Validation error: 0.15 Score: 0.83\n",
      "1) Training error: 0.15  Validation error: 0.14 Score: 0.87\n",
      "2) Training error: 0.15  Validation error: 0.16 Score: 0.86\n",
      "3) Training error: 0.15  Validation error: 0.16 Score: 0.85\n",
      "4) Training error: 0.15  Validation error: 0.17 Score: 0.85\n",
      "5) Training error: 0.15  Validation error: 0.16 Score: 0.81\n",
      "6) Training error: 0.15  Validation error: 0.15 Score: 0.84\n",
      "7) Training error: 0.15  Validation error: 0.15 Score: 0.83\n",
      "8) Training error: 0.15  Validation error: 0.15 Score: 0.84\n",
      "9) Training error: 0.15  Validation error: 0.15 Score: 0.85\n",
      "Training score: 0.8514\n",
      "RMSLE: 0.1539\n"
     ]
    },
    {
     "data": {
      "image/png": "[encoded data removed]",
      "text/plain": [
       "<matplotlib.figure.Figure at 0x1151342b0>"
      ]
     },
     "metadata": {},
     "output_type": "display_data"
    }
   ],
   "source": [
    "model = train(X_train_pol, y_train)\n",
    "metrics(model, X_train_orig_pol, y_train_orig)\n",
    "\n",
    "rmsles = []\n",
    "for f in range(1,55):\n",
    "    model = train(X_train_pol[:,:f], y_train, verbose=False)\n",
    "    rmsles.append(metrics(model, X_train_orig_pol[:,:f], y_train_orig, verbose=False))"
   ]
  },
  {
   "cell_type": "code",
   "execution_count": 121,
   "metadata": {},
   "outputs": [
    {
     "data": {
      "text/plain": [
       "<matplotlib.axes._subplots.AxesSubplot at 0x1155b8be0>"
      ]
     },
     "execution_count": 121,
     "metadata": {},
     "output_type": "execute_result"
    },
    {
     "data": {
      "image/png": "[encoded data removed]",
      "text/plain": [
       "<matplotlib.figure.Figure at 0x114ca1f60>"
      ]
     },
     "metadata": {},
     "output_type": "display_data"
    }
   ],
   "source": [
    "pd.Series(rmsles).plot()"
   ]
  },
  {
   "cell_type": "code",
   "execution_count": 122,
   "metadata": {},
   "outputs": [
    {
     "data": {
      "text/plain": [
       "0.16611742840563029"
      ]
     },
     "execution_count": 122,
     "metadata": {},
     "output_type": "execute_result"
    }
   ],
   "source": [
    "model = train(X_train_pol[:,:22], y_train, verbose=False)\n",
    "metrics(model, X_train_orig_pol[:,:22], y_train_orig, verbose=False)"
   ]
  },
  {
   "cell_type": "markdown",
   "metadata": {},
   "source": [
    "## Get Predictions"
   ]
  },
  {
   "cell_type": "code",
   "execution_count": 73,
   "metadata": {},
   "outputs": [],
   "source": [
    "import os\n",
    "\n",
    "predict = model.predict(poly.fit_transform(X_test)[:,:22])\n",
    "\n",
    "#predictions are logs, return to the value\n",
    "predict = np.exp(predict)\n",
    "\n",
    "file = \"Id,SalePrice\" + os.linesep\n",
    "\n",
    "startId = 1461\n",
    "for i in range(len(X_test)):\n",
    "    file += \"{},{}\".format(startId, (int)(predict[i])) + os.linesep\n",
    "    startId += 1\n",
    "\n",
    "#print(file)"
   ]
  },
  {
   "cell_type": "code",
   "execution_count": 74,
   "metadata": {
    "collapsed": true
   },
   "outputs": [],
   "source": [
    "# Save to file\n",
    "with open('attempt.txt', 'w') as f:\n",
    "    f.write(file)"
   ]
  },
  {
   "cell_type": "code",
   "execution_count": null,
   "metadata": {
    "collapsed": true
   },
   "outputs": [],
   "source": []
  }
 ],
 "metadata": {
  "kernelspec": {
   "display_name": "Python 3",
   "language": "python",
   "name": "python3"
  },
  "language_info": {
   "codemirror_mode": {
    "name": "ipython",
    "version": 3
   },
   "file_extension": ".py",
   "mimetype": "text/x-python",
   "name": "python",
   "nbconvert_exporter": "python",
   "pygments_lexer": "ipython3",
   "version": "3.5.3"
  }
 },
 "nbformat": 4,
 "nbformat_minor": 2
}
