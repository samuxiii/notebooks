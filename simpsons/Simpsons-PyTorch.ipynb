{
  "nbformat": 4,
  "nbformat_minor": 0,
  "metadata": {
    "colab": {
      "name": "Simpsons-PyTorch.ipynb",
      "version": "0.3.2",
      "provenance": [],
      "collapsed_sections": []
    },
    "kernelspec": {
      "display_name": "Python 3",
      "language": "python",
      "name": "python3"
    },
    "accelerator": "GPU"
  },
  "cells": [
    {
      "metadata": {
        "id": "Px_dw13ak33X",
        "colab_type": "code",
        "colab": {
          "base_uri": "https://localhost:8080/",
          "height": 51
        },
        "outputId": "3fdfcaa5-b091-40a6-f2c1-621326fc7e81"
      },
      "cell_type": "code",
      "source": [
        "!pip install -q kaggle\n",
        "!mkdir -p ~/.kaggle\n",
        "!echo '{\"username\":\"XXXXX\",\"key\":\"XXXXX\"}' > ~/.kaggle/kaggle.json\n",
        "!kaggle datasets download -d alexattia/the-simpsons-characters-dataset"
      ],
      "execution_count": 1,
      "outputs": [
        {
          "output_type": "stream",
          "text": [
            "Warning: Your Kaggle API key is readable by otherusers on this system! To fix this, you can run'chmod 600 /root/.kaggle/kaggle.json'\n",
            "the-simpsons-characters-dataset.zip: Skipping, found more recently modified local copy (use --force to force download)\n"
          ],
          "name": "stdout"
        }
      ]
    },
    {
      "metadata": {
        "id": "djv2j8vq0l0N",
        "colab_type": "code",
        "colab": {
          "base_uri": "https://localhost:8080/",
          "height": 51
        },
        "outputId": "c585265a-838a-4d21-f3b5-4388759dc98e"
      },
      "cell_type": "code",
      "source": [
        "# If running in Google Colab\n",
        "from os import path\n",
        "from wheel.pep425tags import get_abbr_impl, get_impl_ver, get_abi_tag\n",
        "platform = '{}{}-{}'.format(get_abbr_impl(), get_impl_ver(), get_abi_tag())\n",
        "\n",
        "accelerator = 'cu80' if path.exists('/opt/bin/nvidia-smi') else 'cpu'\n",
        "\n",
        "!pip install -q http://download.pytorch.org/whl/{accelerator}/torch-0.4.0-{platform}-linux_x86_64.whl torchvision\n",
        "import torch\n",
        "print(torch.__version__)\n",
        "print(torch.cuda.is_available())"
      ],
      "execution_count": 2,
      "outputs": [
        {
          "output_type": "stream",
          "text": [
            "0.4.0\n",
            "True\n"
          ],
          "name": "stdout"
        }
      ]
    },
    {
      "metadata": {
        "id": "HsIgQFUlbn8B",
        "colab_type": "code",
        "colab": {}
      },
      "cell_type": "code",
      "source": [
        "!unzip -qo the-simpsons-characters-dataset.zip -d the-simpsons-characters-dataset\n",
        "!cd the-simpsons-characters-dataset\n",
        "!unzip -qo simpsons_dataset.zip -d the-simpsons-characters-dataset/\n",
        "!unzip -qo kaggle_simpson_testset.zip -d the-simpsons-characters-dataset/\n",
        "\n",
        "!rm ./the-simpsons-characters-dataset/kaggle_simpson_testset/.DS_Store\n",
        "!rm ./the-simpsons-characters-dataset/simpsons_dataset/nelson_muntz/.DS_Store"
      ],
      "execution_count": 0,
      "outputs": []
    },
    {
      "metadata": {
        "id": "5SZS7l6bbfCm",
        "colab_type": "code",
        "colab": {
          "base_uri": "https://localhost:8080/",
          "height": 91
        },
        "outputId": "db337d0c-f16f-4770-9fcb-e57f93f796ad"
      },
      "cell_type": "code",
      "source": [
        "from os import listdir\n",
        "\n",
        "#configure train dataset\n",
        "train_root_path = \"./the-simpsons-characters-dataset/simpsons_dataset\"\n",
        "character_directories = listdir(train_root_path)\n",
        "#character_directories.remove('.DS_Store')\n",
        "print(\"Train: {}\".format(character_directories[:5]))\n",
        "\n",
        "#configure test dataset\n",
        "test_root_path = \"./the-simpsons-characters-dataset/kaggle_simpson_testset\"\n",
        "test_image_names = listdir(test_root_path)\n",
        "#test_image_names.remove('.DS_Store')\n",
        "print(\"Test: {}\".format(test_image_names[:5]))\n"
      ],
      "execution_count": 4,
      "outputs": [
        {
          "output_type": "stream",
          "text": [
            "Train: ['nelson_muntz', 'ned_flanders', 'rainier_wolfcastle', 'cletus_spuckler', 'waylon_smithers']\n",
            "Test: ['comic_book_guy_41.jpg', 'comic_book_guy_40.jpg', 'krusty_the_clown_7.jpg', 'abraham_grampa_simpson_10.jpg', 'lenny_leonard_47.jpg']\n"
          ],
          "name": "stdout"
        }
      ]
    },
    {
      "metadata": {
        "id": "G16VAONabfC5",
        "colab_type": "text"
      },
      "cell_type": "markdown",
      "source": [
        "### Calculate mean width and lenght from test images"
      ]
    },
    {
      "metadata": {
        "id": "dWoTzSqwbfC8",
        "colab_type": "code",
        "colab": {
          "base_uri": "https://localhost:8080/",
          "height": 68
        },
        "outputId": "8414e893-e8a5-4c61-89b6-809f7905a756"
      },
      "cell_type": "code",
      "source": [
        "import os, random\n",
        "from scipy.misc import imread, imresize\n",
        "\n",
        "width = 0\n",
        "lenght = 0\n",
        "num_test_images = len(test_image_names)\n",
        "\n",
        "for i in range(num_test_images):\n",
        "    path_file = os.path.join(test_root_path, test_image_names[i])\n",
        "    image = imread(path_file)\n",
        "    width += image.shape[0]\n",
        "    lenght += image.shape[1]\n",
        "\n",
        "width_mean = width//num_test_images\n",
        "lenght_mean = lenght//num_test_images\n",
        "dim_size = (width_mean + lenght_mean) // 2\n",
        "\n",
        "print(\"Width mean: {}\".format(width_mean))\n",
        "print(\"Lenght mean: {}\".format(lenght_mean))\n",
        "print(\"Size mean dimension: {}\".format(dim_size))"
      ],
      "execution_count": 5,
      "outputs": [
        {
          "output_type": "stream",
          "text": [
            "Width mean: 152\n",
            "Lenght mean: 147\n",
            "Size mean dimension: 149\n"
          ],
          "name": "stdout"
        }
      ]
    },
    {
      "metadata": {
        "id": "YJJQ-LpXbfDG",
        "colab_type": "text"
      },
      "cell_type": "markdown",
      "source": [
        "Size mean dimension will be used for the resizing process. __All the images will be scaled__ to __(37,37)__ since it's the average of the test images."
      ]
    },
    {
      "metadata": {
        "id": "IfyAbSatbfDH",
        "colab_type": "text"
      },
      "cell_type": "markdown",
      "source": [
        "### Show some test examples"
      ]
    },
    {
      "metadata": {
        "id": "nhHY2PsFbfDJ",
        "colab_type": "code",
        "colab": {
          "base_uri": "https://localhost:8080/",
          "height": 190
        },
        "outputId": "04c7c09c-f57e-4e4e-db30-7cb6870cc807"
      },
      "cell_type": "code",
      "source": [
        "import matplotlib.pyplot as plt\n",
        "\n",
        "idx = random.randint(0, num_test_images)\n",
        "sample_file, sample_name = test_image_names[idx], test_image_names[idx].split('_')[:-1]\n",
        "path_file = os.path.join(test_root_path, sample_file)\n",
        "sample_image = imread(path_file)\n",
        "\n",
        "print(\"Label:{}, Image:{}, Shape:{}\".format('_'.join(sample_name), idx, sample_image.shape))\n",
        "plt.figure(figsize=(3,3))\n",
        "plt.imshow(sample_image)\n",
        "plt.axis('off')\n",
        "plt.show()"
      ],
      "execution_count": 6,
      "outputs": [
        {
          "output_type": "stream",
          "text": [
            "Label:apu_nahasapeemapetilon, Image:467, Shape:(166, 229, 3)\n"
          ],
          "name": "stdout"
        },
        {
          "output_type": "display_data",
          "data": {
            "image/png": "[encoded data removed]",
            "text/plain": [
              "<matplotlib.figure.Figure at 0x7f9c51c68b38>"
            ]
          },
          "metadata": {
            "tags": []
          }
        }
      ]
    },
    {
      "metadata": {
        "id": "ZHrhrWUqbfDR",
        "colab_type": "text"
      },
      "cell_type": "markdown",
      "source": [
        "### Making batches (resized)"
      ]
    },
    {
      "metadata": {
        "id": "LJMtTmEFbfDT",
        "colab_type": "code",
        "colab": {}
      },
      "cell_type": "code",
      "source": [
        "def get_num_of_samples():\n",
        "    count = 0\n",
        "    for _,character in enumerate(character_directories):\n",
        "        path = os.path.join(train_root_path, character)\n",
        "        count += len(listdir(path))\n",
        "        \n",
        "    return count\n",
        "\n",
        "def get_batch(batch_init, batch_size):\n",
        "    data = {'image':[], 'label':[]}\n",
        "    character_batch_size = batch_size//len(character_directories)\n",
        "    character_batch_init = batch_init//len(character_directories)\n",
        "    character_batch_end = character_batch_init + character_batch_size\n",
        "    \n",
        "    for _,character in enumerate(character_directories):\n",
        "        path = os.path.join(train_root_path, character)\n",
        "        images_list = listdir(path)\n",
        "        for i in range(character_batch_init, character_batch_end):\n",
        "            if len(images_list) == 0:\n",
        "                continue\n",
        "            #if this character has small number of features\n",
        "            #we repeat them\n",
        "            if i >= len(images_list):\n",
        "                p = i % len(images_list)\n",
        "            else:\n",
        "                p = i\n",
        "                \n",
        "            path_file = os.path.join(path, images_list[p])\n",
        "            image = imread(path_file)\n",
        "            #all with the same shape\n",
        "            image = imresize(image, (dim_size, dim_size))\n",
        "            data['image'].append(image)\n",
        "            data['label'].append(character)\n",
        "    \n",
        "    return data\n",
        "\n",
        "def get_batches(num_batches, batch_size, verbose=False):\n",
        "    #num max of samples\n",
        "    num_samples = get_num_of_samples()\n",
        "    #check number of batches with the maximum\n",
        "    max_num_batches = num_samples//batch_size - 1\n",
        "    \n",
        "    if verbose:\n",
        "        print(\"Number of samples:{}\".format(num_samples))\n",
        "        print(\"Batches:{} Size:{}\".format(num_batches, batch_size))\n",
        "    assert num_batches <= max_num_batches, \"Surpassed the maximum number of batches\"\n",
        "        \n",
        "    for i in range(0, num_batches):\n",
        "        init = i * batch_size\n",
        "        if verbose:\n",
        "            print(\"Batch-{} yielding images from {} to {}...\".format(i, init, init+batch_size))\n",
        "        \n",
        "        yield get_batch(init, batch_size)"
      ],
      "execution_count": 0,
      "outputs": []
    },
    {
      "metadata": {
        "id": "53H0GuvAbfDX",
        "colab_type": "code",
        "colab": {
          "base_uri": "https://localhost:8080/",
          "height": 502
        },
        "outputId": "941c4f0c-3865-4911-eb3c-3201e04afbe8"
      },
      "cell_type": "code",
      "source": [
        "#testing generator\n",
        "batch_size = 500\n",
        "\n",
        "for b in get_batches(10, batch_size, verbose=True):\n",
        "    print(\"\\t|- retrieved {} images\".format(len(b['image'])))"
      ],
      "execution_count": 8,
      "outputs": [
        {
          "output_type": "stream",
          "text": [
            "Number of samples:20933\n",
            "Batches:10 Size:500\n",
            "Batch-0 yielding images from 0 to 500...\n"
          ],
          "name": "stdout"
        },
        {
          "output_type": "stream",
          "text": [
            "/usr/local/lib/python3.6/dist-packages/scipy/misc/pilutil.py:482: FutureWarning: Conversion of the second argument of issubdtype from `int` to `np.signedinteger` is deprecated. In future, it will be treated as `np.int64 == np.dtype(int).type`.\n",
            "  if issubdtype(ts, int):\n",
            "/usr/local/lib/python3.6/dist-packages/scipy/misc/pilutil.py:485: FutureWarning: Conversion of the second argument of issubdtype from `float` to `np.floating` is deprecated. In future, it will be treated as `np.float64 == np.dtype(float).type`.\n",
            "  elif issubdtype(type(size), float):\n"
          ],
          "name": "stderr"
        },
        {
          "output_type": "stream",
          "text": [
            "\t|- retrieved 420 images\n",
            "Batch-1 yielding images from 500 to 1000...\n",
            "\t|- retrieved 420 images\n",
            "Batch-2 yielding images from 1000 to 1500...\n",
            "\t|- retrieved 420 images\n",
            "Batch-3 yielding images from 1500 to 2000...\n",
            "\t|- retrieved 420 images\n",
            "Batch-4 yielding images from 2000 to 2500...\n",
            "\t|- retrieved 420 images\n",
            "Batch-5 yielding images from 2500 to 3000...\n",
            "\t|- retrieved 420 images\n",
            "Batch-6 yielding images from 3000 to 3500...\n",
            "\t|- retrieved 420 images\n",
            "Batch-7 yielding images from 3500 to 4000...\n",
            "\t|- retrieved 420 images\n",
            "Batch-8 yielding images from 4000 to 4500...\n",
            "\t|- retrieved 420 images\n",
            "Batch-9 yielding images from 4500 to 5000...\n",
            "\t|- retrieved 420 images\n"
          ],
          "name": "stdout"
        }
      ]
    },
    {
      "metadata": {
        "id": "FD319qQebfDc",
        "colab_type": "text"
      },
      "cell_type": "markdown",
      "source": [
        "### Preprocessing data"
      ]
    },
    {
      "metadata": {
        "id": "cHGJqgDYbfDd",
        "colab_type": "code",
        "colab": {}
      },
      "cell_type": "code",
      "source": [
        "from sklearn import preprocessing\n",
        "\n",
        "#num characters\n",
        "num_characters = len(character_directories)\n",
        "\n",
        "#normalize\n",
        "def normalize(x):\n",
        "    #we use the feature scaling to have all the batches\n",
        "    #in the same space, that is (0,1)\n",
        "    return (x - np.amin(x))/(np.amax(x) - np.amin(x))\n",
        "\n",
        "#one-hot encode\n",
        "lb = preprocessing.LabelBinarizer()\n",
        "lb = lb.fit(character_directories)\n",
        "\n",
        "def one_hot(label):\n",
        "    return lb.transform([label])\n"
      ],
      "execution_count": 0,
      "outputs": []
    },
    {
      "metadata": {
        "id": "Jey_T8srbfDh",
        "colab_type": "text"
      },
      "cell_type": "markdown",
      "source": [
        "### Storing preprocessed batches on disk"
      ]
    },
    {
      "metadata": {
        "id": "rD4X5CpybfDj",
        "colab_type": "code",
        "colab": {}
      },
      "cell_type": "code",
      "source": [
        "num_batches = 40\n",
        "batch_size = 500"
      ],
      "execution_count": 0,
      "outputs": []
    },
    {
      "metadata": {
        "id": "yLKUDO21bfDn",
        "colab_type": "code",
        "colab": {
          "base_uri": "https://localhost:8080/",
          "height": 165
        },
        "outputId": "e216c607-f148-4e1d-e740-781f20c91f62"
      },
      "cell_type": "code",
      "source": [
        "import pickle\n",
        "import numpy as np\n",
        "\n",
        "cnt_images = 0\n",
        "for cnt, b in enumerate(get_batches(num_batches, batch_size)):\n",
        "    data = {'image':[], 'label':[]}\n",
        "    \n",
        "    for i in range( min(len(b['image']), batch_size) ):\n",
        "        image = np.array( b['image'][i] )\n",
        "        label = np.array( b['label'][i] )\n",
        "        #label = label.reshape([-1,:])\n",
        "        if len(image.shape) == 3:\n",
        "          data['image'].append(normalize(image))\n",
        "          data['label'].append(one_hot(label)[-1,:])\n",
        "          cnt_images += 1\n",
        "        else:\n",
        "          print(\"Dim image < 3\")\n",
        "    \n",
        "    with open(\"simpson_train_{}.pkl\".format(cnt), 'wb') as file:\n",
        "        pickle.dump(data, file, pickle.HIGHEST_PROTOCOL)\n",
        "    \n",
        "print(\"Loaded {} train images and stored on disk\".format(cnt_images))"
      ],
      "execution_count": 11,
      "outputs": [
        {
          "output_type": "stream",
          "text": [
            "/usr/local/lib/python3.6/dist-packages/scipy/misc/pilutil.py:482: FutureWarning: Conversion of the second argument of issubdtype from `int` to `np.signedinteger` is deprecated. In future, it will be treated as `np.int64 == np.dtype(int).type`.\n",
            "  if issubdtype(ts, int):\n",
            "/usr/local/lib/python3.6/dist-packages/scipy/misc/pilutil.py:485: FutureWarning: Conversion of the second argument of issubdtype from `float` to `np.floating` is deprecated. In future, it will be treated as `np.float64 == np.dtype(float).type`.\n",
            "  elif issubdtype(type(size), float):\n"
          ],
          "name": "stderr"
        },
        {
          "output_type": "stream",
          "text": [
            "Loaded 16800 train images and stored on disk\n"
          ],
          "name": "stdout"
        }
      ]
    },
    {
      "metadata": {
        "id": "TQRJW7CAbfDs",
        "colab_type": "code",
        "colab": {
          "base_uri": "https://localhost:8080/",
          "height": 85
        },
        "outputId": "45e201cd-5098-41d0-d7b2-94b61dbc7ae6"
      },
      "cell_type": "code",
      "source": [
        "#testing load from file\n",
        "import pickle\n",
        "\n",
        "with open('simpson_train_0.pkl', 'rb') as file:\n",
        "    data = pickle.load(file)\n",
        "    print(\"Example of onehot encoded:\\n{}\".format(data['label'][0]))\n",
        "    print(\"Data shape: {}\".format(data['image'][0].shape))"
      ],
      "execution_count": 12,
      "outputs": [
        {
          "output_type": "stream",
          "text": [
            "Example of onehot encoded:\n",
            "[0 0 0 0 0 0 0 0 0 0 0 0 0 0 0 0 0 0 0 0 0 0 0 0 0 0 0 0 0 0 0 0 0 0 1 0 0\n",
            " 0 0 0 0 0 0 0 0 0 0]\n",
            "Data shape: (149, 149, 3)\n"
          ],
          "name": "stdout"
        }
      ]
    },
    {
      "metadata": {
        "id": "FtDsSpX2p0MX",
        "colab_type": "text"
      },
      "cell_type": "markdown",
      "source": [
        "###NOTE\n",
        "Since here the data is already processed and saved as pickle files."
      ]
    },
    {
      "metadata": {
        "id": "uKHY-7v8bfDw",
        "colab_type": "text"
      },
      "cell_type": "markdown",
      "source": [
        "### Building the Network"
      ]
    },
    {
      "metadata": {
        "id": "IdGmHLj4bfDx",
        "colab_type": "code",
        "colab": {
          "base_uri": "https://localhost:8080/",
          "height": 34
        },
        "outputId": "e467934c-3331-4cd4-8546-a795fb0642ac"
      },
      "cell_type": "code",
      "source": [
        "import torch\n",
        "import torchvision\n",
        "#import torchvision.transforms as transforms\n",
        "\n",
        "device = torch.device(\"cuda:0\" if torch.cuda.is_available() else \"cpu\")\n",
        "\n",
        "# Assume that we are on a CUDA machine, then this should print a CUDA device:\n",
        "print(device)"
      ],
      "execution_count": 1,
      "outputs": [
        {
          "output_type": "stream",
          "text": [
            "cuda:0\n"
          ],
          "name": "stdout"
        }
      ]
    },
    {
      "metadata": {
        "id": "nUczTZx41MeP",
        "colab_type": "code",
        "colab": {}
      },
      "cell_type": "code",
      "source": [
        "import torch.nn as nn\n",
        "import torch.nn.functional as F\n",
        "\n",
        "\n",
        "class Net(nn.Module):\n",
        "    def __init__(self):\n",
        "        super(Net, self).__init__()\n",
        "        self.conv1 = nn.Conv2d(3, 32, 5)\n",
        "        self.pool = nn.MaxPool2d(2, 2)\n",
        "        self.conv2 = nn.Conv2d(32, 64, 5)\n",
        "        self.fc1 = nn.Linear(64 * 34 * 34, 10)\n",
        "\n",
        "    def forward(self, x):\n",
        "        x = self.pool(F.relu(self.conv1(x)))\n",
        "        x = self.pool(F.relu(self.conv2(x)))\n",
        "        print(\"shape: {}\".format(x.size()))\n",
        "        x = x.view(x.size(0), -1)\n",
        "        print(\"shape: {}\".format(x.size()))\n",
        "        x = F.softmax(self.fc1(x))\n",
        "        return x\n",
        "\n",
        "net = Net()"
      ],
      "execution_count": 0,
      "outputs": []
    },
    {
      "metadata": {
        "id": "lRT1si9t1OmT",
        "colab_type": "code",
        "colab": {
          "base_uri": "https://localhost:8080/",
          "height": 119
        },
        "outputId": "c4813a56-a105-4dd3-fb16-f8549c7e7fe8"
      },
      "cell_type": "code",
      "source": [
        "#move the neural network to the GPU\n",
        "if torch.cuda.device_count() > 1:\n",
        "  print(\"Let's use\", torch.cuda.device_count(), \"GPUs!\")\n",
        "  # dim = 0 [30, xxx] -> [10, ...], [10, ...], [10, ...] on 3 GPUs\n",
        "  net = nn.DataParallel(net)\n",
        "\n",
        "net.to(device)"
      ],
      "execution_count": 3,
      "outputs": [
        {
          "output_type": "execute_result",
          "data": {
            "text/plain": [
              "Net(\n",
              "  (conv1): Conv2d(3, 32, kernel_size=(5, 5), stride=(1, 1))\n",
              "  (pool): MaxPool2d(kernel_size=2, stride=2, padding=0, dilation=1, ceil_mode=False)\n",
              "  (conv2): Conv2d(32, 64, kernel_size=(5, 5), stride=(1, 1))\n",
              "  (fc1): Linear(in_features=73984, out_features=10, bias=True)\n",
              ")"
            ]
          },
          "metadata": {
            "tags": []
          },
          "execution_count": 3
        }
      ]
    },
    {
      "metadata": {
        "id": "TddrNaBC1Q_n",
        "colab_type": "code",
        "colab": {}
      },
      "cell_type": "code",
      "source": [
        "import torch.optim as optim\n",
        "\n",
        "loss_fn = nn.CrossEntropyLoss()\n",
        "optimizer = optim.Adam(net.parameters())"
      ],
      "execution_count": 0,
      "outputs": []
    },
    {
      "metadata": {
        "id": "1vInNIXs1TlC",
        "colab_type": "code",
        "colab": {
          "base_uri": "https://localhost:8080/",
          "height": 232
        },
        "outputId": "6aecb2c9-b7c1-42cf-bbbe-7b0e210a928f"
      },
      "cell_type": "code",
      "source": [
        "import os\n",
        "import pickle\n",
        "\n",
        "for epoch in range(2):  # loop over the dataset multiple times\n",
        "\n",
        "    running_loss = 0.0\n",
        "    \n",
        "    for i in range(100):\n",
        "        fname = \"simpson_train_{}.pkl\".format(i)\n",
        "        if os.path.exists(fname):   \n",
        "            with open(fname, 'rb') as file:\n",
        "                #print(\"Processing: {}\".format(fname))\n",
        "                data = pickle.load(file)\n",
        "                \n",
        "                np_inputs, np_labels = data['image'], data['label']\n",
        "\n",
        "                inputs, labels = torch.FloatTensor(np_inputs), torch.FloatTensor(np_labels)\n",
        "                \n",
        "                #permute image as (samples, x, y, channels) to (samples, channels, x, y)\n",
        "                inputs = inputs.permute(0, 3, 1, 2)\n",
        "        \n",
        "                #move the inputs and labels to the GPU\n",
        "                inputs, labels = inputs.to(device), labels.to(device)\n",
        "\n",
        "                # zero the parameter gradients\n",
        "                optimizer.zero_grad()\n",
        "\n",
        "                # forward + backward + optimize\n",
        "                outputs = net(inputs)\n",
        "                loss = loss_fn(outputs, labels.long().squeeze_())\n",
        "                loss.backward()\n",
        "                optimizer.step()\n",
        "\n",
        "                # print statistics\n",
        "                running_loss += loss.item()\n",
        "                if i % 2000 == 1999:    # print every 2000 mini-batches\n",
        "                    print('[%d, %5d] loss: %.3f' %\n",
        "                          (epoch + 1, i + 1, running_loss / 2000))\n",
        "                    running_loss = 0.0\n",
        "        else:\n",
        "          break\n",
        "\n",
        "print('Finished Training')"
      ],
      "execution_count": 8,
      "outputs": [
        {
          "output_type": "error",
          "ename": "RuntimeError",
          "evalue": "ignored",
          "traceback": [
            "\u001b[0;31m---------------------------------------------------------------------------\u001b[0m",
            "\u001b[0;31mRuntimeError\u001b[0m                              Traceback (most recent call last)",
            "\u001b[0;32m<ipython-input-8-1e46503dab26>\u001b[0m in \u001b[0;36m<module>\u001b[0;34m()\u001b[0m\n\u001b[1;32m     21\u001b[0m \u001b[0;34m\u001b[0m\u001b[0m\n\u001b[1;32m     22\u001b[0m                 \u001b[0;31m#move the inputs and labels to the GPU\u001b[0m\u001b[0;34m\u001b[0m\u001b[0;34m\u001b[0m\u001b[0m\n\u001b[0;32m---> 23\u001b[0;31m                 \u001b[0minputs\u001b[0m\u001b[0;34m,\u001b[0m \u001b[0mlabels\u001b[0m \u001b[0;34m=\u001b[0m \u001b[0minputs\u001b[0m\u001b[0;34m.\u001b[0m\u001b[0mto\u001b[0m\u001b[0;34m(\u001b[0m\u001b[0mdevice\u001b[0m\u001b[0;34m)\u001b[0m\u001b[0;34m,\u001b[0m \u001b[0mlabels\u001b[0m\u001b[0;34m.\u001b[0m\u001b[0mto\u001b[0m\u001b[0;34m(\u001b[0m\u001b[0mdevice\u001b[0m\u001b[0;34m)\u001b[0m\u001b[0;34m\u001b[0m\u001b[0m\n\u001b[0m\u001b[1;32m     24\u001b[0m \u001b[0;34m\u001b[0m\u001b[0m\n\u001b[1;32m     25\u001b[0m                 \u001b[0;31m# zero the parameter gradients\u001b[0m\u001b[0;34m\u001b[0m\u001b[0;34m\u001b[0m\u001b[0m\n",
            "\u001b[0;31mRuntimeError\u001b[0m: cuda runtime error (59) : device-side assert triggered at /pytorch/aten/src/THC/generic/THCTensorCopy.c:20"
          ]
        }
      ]
    },
    {
      "metadata": {
        "id": "dMLC8ZRSbfD4",
        "colab_type": "code",
        "colab": {
          "base_uri": "https://localhost:8080/",
          "height": 136
        },
        "outputId": "e356b2d2-a2bb-46a4-8f70-1583a04bb5bd"
      },
      "cell_type": "code",
      "source": [
        "from sklearn.model_selection import train_test_split\n",
        "\n",
        "##Train the model\n",
        "x_train = []\n",
        "y_train = []\n",
        "x_val = []\n",
        "y_val = []\n",
        "\n",
        "##\n",
        "epochs = 30\n",
        "\n",
        "sess = tf.Session()\n",
        "sess.run(tf.global_variables_initializer())\n",
        "\n",
        "stats = {'train_loss':[], 'val_loss':[], 'acc':[]}\n",
        "\n",
        "for e in range(epochs):\n",
        "    \n",
        "    for i in range(num_batches):\n",
        "        fname = \"simpson_train_{}.pkl\".format(i)\n",
        "        if os.path.exists(fname):   \n",
        "            with open(fname, 'rb') as file:\n",
        "                #print(\"Processing: {}\".format(fname))\n",
        "                data = pickle.load(file)\n",
        "                x_train, x_val, y_train, y_val = train_test_split(data['image'], data['label'], test_size=0.2, random_state=42)\n",
        "\n",
        "                feed_dict = {X: x_train, y: y_train}\n",
        "                train_loss, _ = sess.run([cost, optimizer], feed_dict)\n",
        "\n",
        "                feed_dict = {X: x_val, y: y_val}\n",
        "                val_loss, acc = sess.run([cost, accuracy], feed_dict)\n",
        "\n",
        "                #storing stats\n",
        "                stats['train_loss'].append(train_loss)\n",
        "                stats['val_loss'].append(val_loss)\n",
        "                stats['acc'].append(acc)\n",
        "                \n",
        "                #enough accuracy\n",
        "                if acc > 0.8:\n",
        "                  break\n",
        "                \n",
        "    print(\"Epoch:{} Training Loss:{:.4f} Validation Loss:{:.4f} Accuracy:{:.4f}\".format(e, train_loss, val_loss, acc))\n",
        "    \n",
        "    #stop epochs\n",
        "    if acc > 0.8:\n",
        "      break\n"
      ],
      "execution_count": 0,
      "outputs": [
        {
          "output_type": "stream",
          "text": [
            "Epoch:0 Training Loss:2.6963 Validation Loss:2.6530 Accuracy:0.3333\n",
            "Epoch:1 Training Loss:1.5895 Validation Loss:1.8952 Accuracy:0.5476\n",
            "Epoch:2 Training Loss:1.1042 Validation Loss:1.5211 Accuracy:0.6429\n",
            "Epoch:3 Training Loss:0.9013 Validation Loss:1.3228 Accuracy:0.6786\n",
            "Epoch:4 Training Loss:0.5966 Validation Loss:1.3591 Accuracy:0.6905\n",
            "Epoch:5 Training Loss:0.5038 Validation Loss:1.1092 Accuracy:0.7262\n",
            "Epoch:6 Training Loss:0.3904 Validation Loss:1.0362 Accuracy:0.8214\n"
          ],
          "name": "stdout"
        }
      ]
    },
    {
      "metadata": {
        "id": "tB8nRYrG3qaB",
        "colab_type": "code",
        "colab": {
          "base_uri": "https://localhost:8080/",
          "height": 364
        },
        "outputId": "c5da79fa-e817-4d21-e8f4-90fa797a20fa"
      },
      "cell_type": "code",
      "source": [
        "#don't plot the first 7 stats, they're in a big scale\n",
        "plt.plot(stats['train_loss'][7:], label='Train Loss')\n",
        "plt.plot(stats['val_loss'][7:], label='Validation Loss')\n",
        "plt.plot(stats['acc'][7:], label='Accuracy')\n",
        "plt.legend()"
      ],
      "execution_count": 0,
      "outputs": [
        {
          "output_type": "execute_result",
          "data": {
            "text/plain": [
              "<matplotlib.legend.Legend at 0x7f35786ecd30>"
            ]
          },
          "metadata": {
            "tags": []
          },
          "execution_count": 181
        },
        {
          "output_type": "display_data",
          "data": {
            "image/png": "[encoded data removed]",
            "text/plain": [
              "<matplotlib.figure.Figure at 0x7f35790dbd30>"
            ]
          },
          "metadata": {
            "tags": []
          }
        }
      ]
    },
    {
      "metadata": {
        "id": "KQQDBi19bfD9",
        "colab_type": "text"
      },
      "cell_type": "markdown",
      "source": [
        "### Testing model"
      ]
    },
    {
      "metadata": {
        "id": "F_o5h_QBbfD-",
        "colab_type": "code",
        "colab": {
          "base_uri": "https://localhost:8080/",
          "height": 248
        },
        "outputId": "af52219b-c034-4158-8ce4-6d07ffd1b067"
      },
      "cell_type": "code",
      "source": [
        "import warnings\n",
        "warnings.filterwarnings('ignore')\n",
        "\n",
        "#prediction\n",
        "idx = random.randint(0, num_test_images)\n",
        "sample_file, sample_name = test_image_names[idx], test_image_names[idx].split('_')[:-1]\n",
        "path_file = os.path.join(test_root_path, sample_file)\n",
        "sample_image = imread(path_file)\n",
        "idx = int(random.uniform(0, len(y_val)))\n",
        "    \n",
        "test_image = sample_image\n",
        "test_label = ' '.join([s.capitalize() for s in sample_name])\n",
        "\n",
        "test_image_norm = normalize(imresize(sample_image, (dim_size, dim_size)))\n",
        "\n",
        "prediction = sess.run(logits, {X:[test_image_norm]})\n",
        "prediction = lb.inverse_transform(prediction)\n",
        "\n",
        "#showing\n",
        "print(\"Label: {}\".format(test_label))\n",
        "prediction = ' '.join([s.capitalize() for s in prediction[0].split('_')])\n",
        "print(\"Prediction: {}\".format(prediction))\n",
        "\n",
        "plt.figure(figsize=(3,3))\n",
        "plt.imshow(test_image)\n",
        "plt.axis('off')\n",
        "plt.show()"
      ],
      "execution_count": 0,
      "outputs": [
        {
          "output_type": "stream",
          "text": [
            "Label: Bart Simpson\n",
            "Prediction: Bart Simpson\n"
          ],
          "name": "stdout"
        },
        {
          "output_type": "display_data",
          "data": {
            "image/png": "[encoded data removed]",
            "text/plain": [
              "<matplotlib.figure.Figure at 0x7f34fe5a7b38>"
            ]
          },
          "metadata": {
            "tags": []
          }
        }
      ]
    }
  ]
}