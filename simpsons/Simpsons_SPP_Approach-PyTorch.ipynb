{
  "nbformat": 4,
  "nbformat_minor": 0,
  "metadata": {
    "colab": {
      "name": "Simpsons SPP Approach-PyTorch.ipynb",
      "version": "0.3.2",
      "provenance": [],
      "collapsed_sections": []
    },
    "kernelspec": {
      "display_name": "Python 3",
      "language": "python",
      "name": "python3"
    },
    "accelerator": "GPU"
  },
  "cells": [
    {
      "metadata": {
        "id": "9pgqMmWCbk59",
        "colab_type": "text"
      },
      "cell_type": "markdown",
      "source": [
        "# Simpsons Classifier\n",
        "\n",
        "\n",
        "## Images with different sizes: understanding _Spatial Pyramid Pooling_\n",
        "\n",
        "If the neural network has a fixed size as input images we'll have to deal with it. \n",
        "\n",
        "So the possible solutions will be:\n",
        "\n",
        "* Crop: problem, there is information that gets lost.\n",
        "* Warp/Resize: problem, the image patterns change and we lose accuracy.\n",
        "* Padding: problem, the model might be biased to images that contain such a padded border.\n",
        "* Combination of previous.\n",
        "\n",
        "Spatial Pyramid Pooling tries to resolve it. Indeed it should improve the efficiency.\n",
        "\n",
        "Paper: https://arxiv.org/abs/1406.4729"
      ]
    },
    {
      "metadata": {
        "id": "ONyoHry62qSz",
        "colab_type": "text"
      },
      "cell_type": "markdown",
      "source": [
        "### Obtaining the Dataset"
      ]
    },
    {
      "metadata": {
        "id": "EN7pM7HO12x5",
        "colab_type": "code",
        "colab": {}
      },
      "cell_type": "code",
      "source": [
        "!pip install -q kaggle\n",
        "!mkdir -p ~/.kaggle\n",
        "!echo '{\"username\":\"XXXX\",\"key\":\"XXXX\"}' > ~/.kaggle/kaggle.json\n",
        "!kaggle datasets download -d alexattia/the-simpsons-characters-dataset"
      ],
      "execution_count": 0,
      "outputs": []
    },
    {
      "metadata": {
        "id": "MaJsJQMw2lai",
        "colab_type": "code",
        "colab": {}
      },
      "cell_type": "code",
      "source": [
        "!unzip -qo the-simpsons-characters-dataset.zip -d the-simpsons-characters-dataset\n",
        "!unzip -qo ./the-simpsons-characters-dataset/simpsons_dataset.zip -d the-simpsons-characters-dataset/\n",
        "!unzip -qo ./the-simpsons-characters-dataset/kaggle_simpson_testset.zip -d the-simpsons-characters-dataset/\n",
        "\n",
        "!rm ./the-simpsons-characters-dataset/kaggle_simpson_testset/.DS_Store\n",
        "!rm ./the-simpsons-characters-dataset/simpsons_dataset/nelson_muntz/.DS_Store"
      ],
      "execution_count": 0,
      "outputs": []
    },
    {
      "metadata": {
        "id": "W0iH5H2tbk5_",
        "colab_type": "text"
      },
      "cell_type": "markdown",
      "source": [
        "## Defining Datasets"
      ]
    },
    {
      "metadata": {
        "id": "7wVp3W3w14NE",
        "colab_type": "code",
        "colab": {
          "base_uri": "https://localhost:8080/",
          "height": 51
        },
        "outputId": "903dda64-0e83-4434-c7b0-2159d37b59e3"
      },
      "cell_type": "code",
      "source": [
        "# If running in Google Colab\n",
        "from os import path\n",
        "from wheel.pep425tags import get_abbr_impl, get_impl_ver, get_abi_tag\n",
        "platform = '{}{}-{}'.format(get_abbr_impl(), get_impl_ver(), get_abi_tag())\n",
        "\n",
        "accelerator = 'cu80' if path.exists('/opt/bin/nvidia-smi') else 'cpu'\n",
        "\n",
        "!pip install -q http://download.pytorch.org/whl/{accelerator}/torch-0.4.0-{platform}-linux_x86_64.whl torchvision\n",
        "import torch\n",
        "print(torch.__version__)\n",
        "print(torch.cuda.is_available())"
      ],
      "execution_count": 3,
      "outputs": [
        {
          "output_type": "stream",
          "text": [
            "0.4.0\n",
            "True\n"
          ],
          "name": "stdout"
        }
      ]
    },
    {
      "metadata": {
        "id": "2gFK--Bzbk6B",
        "colab_type": "code",
        "colab": {}
      },
      "cell_type": "code",
      "source": [
        "#Import libraries\n",
        "import os\n",
        "import glob\n",
        "import random\n",
        "import pickle\n",
        "import numpy as np\n",
        "import pandas as pd\n",
        "import matplotlib.pyplot as plt\n",
        "from scipy.misc import imread, imresize\n",
        "from random import shuffle\n",
        "#from sklearn.model_selection import train_test_split\n",
        "from sklearn import preprocessing"
      ],
      "execution_count": 0,
      "outputs": []
    },
    {
      "metadata": {
        "id": "M5h2qPBobk6I",
        "colab_type": "code",
        "colab": {
          "base_uri": "https://localhost:8080/",
          "height": 833
        },
        "outputId": "2c4f3f07-a4e1-4376-8542-700c515535c8"
      },
      "cell_type": "code",
      "source": [
        "#Initial data inside simpsons.tar.gz\n",
        "info = pd.read_csv('./the-simpsons-characters-dataset/number_pic_char.csv')\n",
        "print(info)"
      ],
      "execution_count": 5,
      "outputs": [
        {
          "output_type": "stream",
          "text": [
            "    Unnamed: 0                      name  total  train  test  bounding_box\n",
            "0            0             Homer Simpson   2246   1909   337           612\n",
            "1            1              Ned Flanders   1454   1236   218           595\n",
            "2            2               Moe Szyslak   1452   1234   218           215\n",
            "3            3              Lisa Simpson   1354   1151   203           562\n",
            "4            4              Bart Simpson   1342   1141   201           554\n",
            "5            5             Marge Simpson   1291   1097   194           557\n",
            "6            6          Krusty The Clown   1206   1025   181           226\n",
            "7            7         Principal Skinner   1194   1015   179           506\n",
            "8            8  Charles Montgomery Burns   1193   1014   179           650\n",
            "9            9       Milhouse Van Houten   1079    917   162           210\n",
            "10          10              Chief Wiggum    986    838   148           209\n",
            "11          11    Abraham Grampa Simpson    913    776   137           595\n",
            "12          12              Sideshow Bob    877    745   132           203\n",
            "13          13    Apu Nahasapeemapetilon    623    530    93           206\n",
            "14          14             Kent Brockman    498    423    75           213\n",
            "15          15            Comic Book Guy    469    399    70           208\n",
            "16          16            Edna Krabappel    457    388    69           212\n",
            "17          17              Nelson Muntz    358    304    54           219\n",
            "18          18             Lenny Leonard    310    264    46             0\n",
            "19          19              Mayor Quimby    246    209    37             0\n",
            "20          20           Waylon Smithers    181    154    27             0\n",
            "21          21            Maggie Simpson    128    109    19             0\n",
            "22          22      Groundskeeper Willie    121    103    18             0\n",
            "23          23             Barney Gumble    106     90    16             0\n",
            "24          24             Selma Bouvier    103     88    15             0\n",
            "25          25              Carl Carlson     98     83    15             0\n",
            "26          26              Ralph Wiggum     89     76    13             0\n",
            "27          27             Patty Bouvier     72     61    11             0\n",
            "28          28             Martin Prince     71     60    11             0\n",
            "29          29      Professor John Frink     65     55    10             0\n",
            "30          30            Snake Jailbird     55     47     8             0\n",
            "31          31           Cletus Spuckler     47     40     7             0\n",
            "32          32        Rainier Wolfcastle     45     38     7             0\n",
            "33          33             Agnes Skinner     42     36     6             0\n",
            "34          34              Sideshow Mel     40     34     6             0\n",
            "35          35                 Otto Mann     32     27     5             0\n",
            "36          36                  Fat Tony     27     23     4             0\n",
            "37          37                       Gil     27     23     4             0\n",
            "38          38               Miss Hoover     17     14     3             0\n",
            "39          39                 Disco Stu      8      7     1             0\n",
            "40          40              Troy Mcclure      8      7     1             0\n",
            "41          41               Lionel Hutz      3      3     0             0\n",
            "42          42               Jimbo Jones      0      0     0             0\n",
            "43          43             Bumblebee Man      0      0     0             0\n",
            "44          44              Hans Moleman      0      0     0             0\n",
            "45          45             Helen Lovejoy      0      0     0             0\n",
            "46          46            Jasper Beardly      0      0     0             0\n"
          ],
          "name": "stdout"
        }
      ]
    },
    {
      "metadata": {
        "id": "K_ybW__Obk6Q",
        "colab_type": "code",
        "colab": {}
      },
      "cell_type": "code",
      "source": [
        "def get_character_directories(path):\n",
        "    character_directories = os.listdir(path)\n",
        "    if '.DS_Store' in character_directories: character_directories.remove('.DS_Store')\n",
        "    return character_directories\n",
        "\n",
        "def get_images_from_directory(path):\n",
        "    image_files = os.listdir(path)\n",
        "    if '.DS_Store' in image_files: image_files.remove('.DS_Store')\n",
        "    return image_files"
      ],
      "execution_count": 0,
      "outputs": []
    },
    {
      "metadata": {
        "id": "Bkxlz9G4bk6U",
        "colab_type": "code",
        "colab": {}
      },
      "cell_type": "code",
      "source": [
        "#root pats\n",
        "train_root_path = \"./the-simpsons-characters-dataset/simpsons_dataset\"\n",
        "test_root_path = \"./the-simpsons-characters-dataset/kaggle_simpson_testset\"\n",
        "\n",
        "#train directories\n",
        "character_directories = get_character_directories(train_root_path)"
      ],
      "execution_count": 0,
      "outputs": []
    },
    {
      "metadata": {
        "id": "XlJ1Z0WZbk6Z",
        "colab_type": "code",
        "colab": {
          "base_uri": "https://localhost:8080/",
          "height": 85
        },
        "outputId": "9babe3cd-bb48-4b88-a50b-1c077f80425a"
      },
      "cell_type": "code",
      "source": [
        "def test_paths():\n",
        "    #configure train dataset\n",
        "    print(\"Train: {}\".format(character_directories[:5]))\n",
        "\n",
        "    #images from one train directory\n",
        "    character_path = train_root_path + \"/\" + character_directories[1]\n",
        "    train_image_names = get_images_from_directory(character_path)\n",
        "    print(\"Images of {}: {}\".format(character_directories[1], train_image_names[:5]))\n",
        "\n",
        "\n",
        "    #configure test dataset\n",
        "    test_image_names = get_images_from_directory(test_root_path)\n",
        "    print(\"\\nTest: {}\".format(test_image_names[:5]))\n",
        "\n",
        "test_paths()"
      ],
      "execution_count": 8,
      "outputs": [
        {
          "output_type": "stream",
          "text": [
            "Train: ['barney_gumble', 'kent_brockman', 'milhouse_van_houten', 'abraham_grampa_simpson', 'moe_szyslak']\n",
            "Images of kent_brockman: ['pic_0082.jpg', 'pic_0371.jpg', 'pic_0247.jpg', 'pic_0038.jpg', 'pic_0262.jpg']\n",
            "\n",
            "Test: ['marge_simpson_49.jpg', 'marge_simpson_14.jpg', 'nelson_muntz_0.jpg', 'moe_szyslak_5.jpg', 'lisa_simpson_25.jpg']\n"
          ],
          "name": "stdout"
        }
      ]
    },
    {
      "metadata": {
        "id": "I5t_xx7Bbk6f",
        "colab_type": "text"
      },
      "cell_type": "markdown",
      "source": [
        "### Showing Training and Test Samples"
      ]
    },
    {
      "metadata": {
        "id": "vTbbyuobbk6g",
        "colab_type": "code",
        "colab": {}
      },
      "cell_type": "code",
      "source": [
        "def plot_image(image):\n",
        "    plt.figure(figsize=(3, 3))\n",
        "    plt.imshow(image)\n",
        "    plt.axis('off')\n",
        "    plt.show()"
      ],
      "execution_count": 0,
      "outputs": []
    },
    {
      "metadata": {
        "id": "Ygt-KlWabk6j",
        "colab_type": "code",
        "colab": {
          "base_uri": "https://localhost:8080/",
          "height": 194
        },
        "outputId": "7ed081a1-d16d-4cdb-ca57-fcf549a16846"
      },
      "cell_type": "code",
      "source": [
        "def show_train_image(character_directory, idx):\n",
        "    directory = os.path.join(train_root_path, character_directory)\n",
        "    sample_file = get_images_from_directory(directory)[idx]\n",
        "    path_file = os.path.join(directory, sample_file)\n",
        "    sample_image = imread(path_file)\n",
        "\n",
        "    print(\"Label:{}, Image:{}, Shape:{}\".format(character_directory, idx, sample_image.shape))\n",
        "    plot_image(sample_image)\n",
        "    \n",
        "idx = random.randint(0, 10)\n",
        "show_train_image(character_directories[idx], idx)"
      ],
      "execution_count": 10,
      "outputs": [
        {
          "output_type": "stream",
          "text": [
            "Label:milhouse_van_houten, Image:2, Shape:(432, 576, 3)\n"
          ],
          "name": "stdout"
        },
        {
          "output_type": "display_data",
          "data": {
            "image/png": "[encoded data removed]",
            "text/plain": [
              "<matplotlib.figure.Figure at 0x7fe47fb50f98>"
            ]
          },
          "metadata": {
            "tags": []
          }
        }
      ]
    },
    {
      "metadata": {
        "id": "OhrXE27Rbk6o",
        "colab_type": "code",
        "colab": {
          "base_uri": "https://localhost:8080/",
          "height": 232
        },
        "outputId": "ea56cd2d-408b-419a-a1e3-cf9fbd72736a"
      },
      "cell_type": "code",
      "source": [
        "def show_test_image(idx):\n",
        "    test_image_names = get_images_from_directory(test_root_path)\n",
        "    sample_file, sample_name = test_image_names[idx], test_image_names[idx].split('_')[:-1]\n",
        "    path_file = os.path.join(test_root_path, sample_file)\n",
        "    sample_image = imread(path_file)\n",
        "\n",
        "    print(\"Label:{}, Image:{}, Shape:{}\".format('_'.join(sample_name), idx, sample_image.shape))\n",
        "    plot_image(sample_image)\n",
        "\n",
        "idx = random.randint(0, 10)\n",
        "show_test_image(idx)"
      ],
      "execution_count": 11,
      "outputs": [
        {
          "output_type": "stream",
          "text": [
            "Label:moe_szyslak, Image:3, Shape:(171, 114, 3)\n"
          ],
          "name": "stdout"
        },
        {
          "output_type": "display_data",
          "data": {
            "image/png": "[encoded data removed]",
            "text/plain": [
              "<matplotlib.figure.Figure at 0x7fe47fb73a58>"
            ]
          },
          "metadata": {
            "tags": []
          }
        }
      ]
    },
    {
      "metadata": {
        "id": "KeZGH5Wzbk6t",
        "colab_type": "text"
      },
      "cell_type": "markdown",
      "source": [
        "### Training Images"
      ]
    },
    {
      "metadata": {
        "id": "SSxzBDVdbk6t",
        "colab_type": "code",
        "colab": {}
      },
      "cell_type": "code",
      "source": [
        "'''\n",
        "Input 'different_characters' will define the number of different Simpson\n",
        "characters the generator is going to return\n",
        "\n",
        "@Return: tuple (images list, names list)\n",
        "'''\n",
        "#Create the batch generator\n",
        "def batch_generator_training_images(batch_size, different_characters, verbose=False):\n",
        "    #Obtain the characters Serie with the most number of images\n",
        "    characters = info.sort_values(by='total', ascending=False).name\n",
        "\n",
        "    #transform to list with the following format:  Homer Simpson -> homer_simpson\n",
        "    characters = characters.map(lambda x: x.replace(\" \", \"_\").lower()).tolist()\n",
        "\n",
        "    path_name_list = list()\n",
        "    for i in range(0, different_characters):\n",
        "        directory = os.path.join(train_root_path, characters[i])\n",
        "        path_name_list += list(map( lambda x: (os.path.join(directory, x), characters[i]), \n",
        "                                    get_images_from_directory(directory)))\n",
        "\n",
        "    #shuffle all the images\n",
        "    shuffle(path_name_list)\n",
        "    \n",
        "    #getting a number of complete chunks according to the batch size\n",
        "    number_complete_chunks = len(path_name_list)//batch_size\n",
        "    num_images_in_all_chunks = number_complete_chunks * batch_size\n",
        "        \n",
        "    for b in range(0, num_images_in_all_chunks, batch_size):\n",
        "        if verbose:\n",
        "            print(\"init: {}, end:{}\".format(b, b+batch_size))\n",
        "        \n",
        "        yield (list(map( lambda x: imread(x[0]), path_name_list[b:b + batch_size])), #x == path\n",
        "               list(map( lambda x: x[1], path_name_list[b:b + batch_size])) ) #x == name\n"
      ],
      "execution_count": 0,
      "outputs": []
    },
    {
      "metadata": {
        "id": "a44BY3oAbk6w",
        "colab_type": "code",
        "colab": {
          "base_uri": "https://localhost:8080/",
          "height": 211
        },
        "outputId": "3e00f287-f847-423b-854c-9e537aca1f88"
      },
      "cell_type": "code",
      "source": [
        "#testing how to show an image from generator\n",
        "def testing_generator_1():\n",
        "    for batch in batch_generator_training_images(32, 10, True):\n",
        "        for img, name in zip(*batch):\n",
        "            print(name)\n",
        "            plot_image(img)\n",
        "            break\n",
        "        pass\n",
        "        break\n",
        "        \n",
        "testing_generator_1()"
      ],
      "execution_count": 13,
      "outputs": [
        {
          "output_type": "stream",
          "text": [
            "init: 0, end:32\n",
            "milhouse_van_houten\n"
          ],
          "name": "stdout"
        },
        {
          "output_type": "display_data",
          "data": {
            "image/png": "[encoded data removed]",
            "text/plain": [
              "<matplotlib.figure.Figure at 0x7fe47fb020b8>"
            ]
          },
          "metadata": {
            "tags": []
          }
        }
      ]
    },
    {
      "metadata": {
        "id": "a0aN6XThbk6z",
        "colab_type": "code",
        "colab": {
          "base_uri": "https://localhost:8080/",
          "height": 153
        },
        "outputId": "31e89eb9-774f-4d5d-ba08-61f5ec260009"
      },
      "cell_type": "code",
      "source": [
        "#testing the generator\n",
        "def testing_generator_2():\n",
        "    group = {}\n",
        "\n",
        "    for batch in batch_generator_training_images(8, 10, True):\n",
        "        for img, name in zip(*batch):\n",
        "            if not img.shape in group:\n",
        "                group[img.shape] = []\n",
        "            group[img.shape].append(img)\n",
        "        pass\n",
        "        break\n",
        "\n",
        "    for key, lists in group.items():\n",
        "        print(\"shape{} count:{}\".format(key, len(lists)))\n",
        "\n",
        "\n",
        "testing_generator_2()"
      ],
      "execution_count": 14,
      "outputs": [
        {
          "output_type": "stream",
          "text": [
            "init: 0, end:8\n",
            "shape(464, 640, 3) count:1\n",
            "shape(432, 576, 3) count:2\n",
            "shape(384, 256, 3) count:1\n",
            "shape(480, 640, 3) count:1\n",
            "shape(432, 288, 3) count:1\n",
            "shape(428, 576, 3) count:1\n",
            "shape(480, 320, 3) count:1\n"
          ],
          "name": "stdout"
        }
      ]
    },
    {
      "metadata": {
        "id": "yxsq6U_Wbk62",
        "colab_type": "code",
        "colab": {}
      },
      "cell_type": "code",
      "source": [
        "#global variable\n",
        "num_classes = 10 #different number of Simpons characters"
      ],
      "execution_count": 0,
      "outputs": []
    },
    {
      "metadata": {
        "id": "_7ibioT1bk63",
        "colab_type": "code",
        "colab": {}
      },
      "cell_type": "code",
      "source": [
        "#one hot encoder\n",
        "lb = preprocessing.LabelBinarizer()\n",
        "\n",
        "def customize_onehot_encoder(num_classes=10):\n",
        "    #Obtain the characters Serie with the most number of images\n",
        "    characters = info.sort_values(by='total', ascending=False).name\n",
        "\n",
        "    #transform to list with the following format:  Homer Simpson -> homer_simpson\n",
        "    names = characters[:num_classes].map(lambda x: x.replace(\" \", \"_\").lower()).tolist()\n",
        "\n",
        "    print(\"Character classes: {}\\n\".format(names))\n",
        "    lb.fit(names)\n"
      ],
      "execution_count": 0,
      "outputs": []
    },
    {
      "metadata": {
        "id": "Cly_WE9mbk65",
        "colab_type": "text"
      },
      "cell_type": "markdown",
      "source": [
        "### Storing Processed Files On Disk"
      ]
    },
    {
      "metadata": {
        "id": "KALs1L3rbk66",
        "colab_type": "code",
        "colab": {}
      },
      "cell_type": "code",
      "source": [
        "#global variable\n",
        "file_prefix = \"spp_simpson_train_\"\n",
        "batch_size = 256"
      ],
      "execution_count": 0,
      "outputs": []
    },
    {
      "metadata": {
        "id": "PFOW6VO0bk68",
        "colab_type": "code",
        "colab": {
          "base_uri": "https://localhost:8080/",
          "height": 1020
        },
        "outputId": "b76da042-c547-41cb-af4e-e6f3a5eeaa96"
      },
      "cell_type": "code",
      "source": [
        "def create_processed_files(batch_size=64):\n",
        "    customize_onehot_encoder(num_classes)\n",
        "    # Format of data => {shape: {'images':[], 'labels':[]} }\n",
        "    data = {}\n",
        "    \n",
        "    '''\n",
        "    The batch generator returns a tuple of two lists!!! (list_images, list_names)\n",
        "    '''\n",
        "    for cnt, batch in enumerate(batch_generator_training_images(batch_size, num_classes)):\n",
        "                \n",
        "        #group by shape\n",
        "        grouped = {}\n",
        "        for image, name in zip(*batch):\n",
        "            if not image.shape in grouped:\n",
        "                grouped[image.shape] = []\n",
        "            grouped[image.shape].append((image, name))        \n",
        "        \n",
        "        #training images which are grouped by shape at the same time\n",
        "        for shape, tuple_imagesList_namesList in grouped.items():\n",
        "            imagesList, namesList = zip(*tuple_imagesList_namesList)\n",
        "            \n",
        "            #casting\n",
        "            images = np.array(imagesList)\n",
        "            #onehot encoding names\n",
        "            names = np.array(lb.transform(namesList))\n",
        "            \n",
        "            if len(shape) == 3: #just in case dimension are less than 3\n",
        "                #print(\"Storing shape:{} with {}\".format(shape, len(images)))\n",
        "                data[shape] = {'images': images, 'labels': names}\n",
        "            else:\n",
        "                print(\"W: Dim image < 3\")\n",
        "        \n",
        "        #save into disk\n",
        "        with open(\"{}{}.pkl\".format(file_prefix, cnt), 'wb') as file:\n",
        "            pickle.dump(data, file, pickle.HIGHEST_PROTOCOL)\n",
        "            print(\"{} saved\".format(\"{}{}.pkl\".format(file_prefix, cnt)))\n",
        "        \n",
        "\n",
        "create_processed_files(batch_size)"
      ],
      "execution_count": 24,
      "outputs": [
        {
          "output_type": "stream",
          "text": [
            "Character classes: ['homer_simpson', 'ned_flanders', 'moe_szyslak', 'lisa_simpson', 'bart_simpson', 'marge_simpson', 'krusty_the_clown', 'principal_skinner', 'charles_montgomery_burns', 'milhouse_van_houten']\n",
            "\n",
            "spp_simpson_train_0.pkl saved\n",
            "spp_simpson_train_1.pkl saved\n",
            "spp_simpson_train_2.pkl saved\n",
            "spp_simpson_train_3.pkl saved\n",
            "spp_simpson_train_4.pkl saved\n",
            "spp_simpson_train_5.pkl saved\n",
            "spp_simpson_train_6.pkl saved\n",
            "spp_simpson_train_7.pkl saved\n",
            "spp_simpson_train_8.pkl saved\n",
            "spp_simpson_train_9.pkl saved\n",
            "spp_simpson_train_10.pkl saved\n",
            "spp_simpson_train_11.pkl saved\n",
            "spp_simpson_train_12.pkl saved\n",
            "spp_simpson_train_13.pkl saved\n",
            "spp_simpson_train_14.pkl saved\n",
            "spp_simpson_train_15.pkl saved\n",
            "spp_simpson_train_16.pkl saved\n",
            "spp_simpson_train_17.pkl saved\n",
            "spp_simpson_train_18.pkl saved\n",
            "spp_simpson_train_19.pkl saved\n",
            "spp_simpson_train_20.pkl saved\n",
            "spp_simpson_train_21.pkl saved\n",
            "spp_simpson_train_22.pkl saved\n",
            "spp_simpson_train_23.pkl saved\n",
            "spp_simpson_train_24.pkl saved\n",
            "spp_simpson_train_25.pkl saved\n",
            "spp_simpson_train_26.pkl saved\n",
            "spp_simpson_train_27.pkl saved\n",
            "spp_simpson_train_28.pkl saved\n",
            "spp_simpson_train_29.pkl saved\n",
            "spp_simpson_train_30.pkl saved\n",
            "spp_simpson_train_31.pkl saved\n",
            "spp_simpson_train_32.pkl saved\n",
            "spp_simpson_train_33.pkl saved\n",
            "spp_simpson_train_34.pkl saved\n",
            "spp_simpson_train_35.pkl saved\n",
            "spp_simpson_train_36.pkl saved\n",
            "spp_simpson_train_37.pkl saved\n",
            "spp_simpson_train_38.pkl saved\n",
            "spp_simpson_train_39.pkl saved\n",
            "spp_simpson_train_40.pkl saved\n",
            "spp_simpson_train_41.pkl saved\n",
            "spp_simpson_train_42.pkl saved\n",
            "spp_simpson_train_43.pkl saved\n",
            "spp_simpson_train_44.pkl saved\n",
            "spp_simpson_train_45.pkl saved\n",
            "spp_simpson_train_46.pkl saved\n",
            "spp_simpson_train_47.pkl saved\n",
            "spp_simpson_train_48.pkl saved\n",
            "spp_simpson_train_49.pkl saved\n",
            "spp_simpson_train_50.pkl saved\n",
            "spp_simpson_train_51.pkl saved\n",
            "spp_simpson_train_52.pkl saved\n"
          ],
          "name": "stdout"
        }
      ]
    },
    {
      "metadata": {
        "id": "vJa_IFzpbk6-",
        "colab_type": "text"
      },
      "cell_type": "markdown",
      "source": [
        "Since here, the images are processed and stored in different pickle files. \n",
        "\n",
        "The format of the __data is a dictionary__ which follows the format:  \n",
        "```\n",
        "{shape: {'images':[], 'labels':[]} }\n",
        "```"
      ]
    },
    {
      "metadata": {
        "id": "8B8u3lZQbk6_",
        "colab_type": "text"
      },
      "cell_type": "markdown",
      "source": [
        "## SPP in PyTorch"
      ]
    },
    {
      "metadata": {
        "id": "HUZ2K7BI69Xg",
        "colab_type": "code",
        "colab": {
          "base_uri": "https://localhost:8080/",
          "height": 34
        },
        "outputId": "7dacbb27-5f7a-4765-cb1d-c1611ca92f26"
      },
      "cell_type": "code",
      "source": [
        "import torch\n",
        "import torchvision\n",
        "import torch.nn as nn\n",
        "import torch.nn.functional as F\n",
        "import torch.optim as optim\n",
        "\n",
        "device = torch.device(\"cuda:0\" if torch.cuda.is_available() else \"cpu\")\n",
        "\n",
        "# Assume that we are on a CUDA machine, then this should print a CUDA device:\n",
        "print(device)"
      ],
      "execution_count": 37,
      "outputs": [
        {
          "output_type": "stream",
          "text": [
            "cuda:0\n"
          ],
          "name": "stdout"
        }
      ]
    },
    {
      "metadata": {
        "id": "bfQ5Um_D60Vz",
        "colab_type": "text"
      },
      "cell_type": "markdown",
      "source": [
        "### Spatial Pyramid Pooling"
      ]
    },
    {
      "metadata": {
        "id": "3wpiAQtb6pJw",
        "colab_type": "code",
        "colab": {}
      },
      "cell_type": "code",
      "source": [
        "def spatial_pyramid_pooling(input, levels):\n",
        "    #s: samples, c: channels, h: height, w: width\n",
        "    s, c, h, w = input.size()\n",
        "    #print(\"{},{},{},{}\".format(s,c,h,w))\n",
        "    pooling_layers = []\n",
        "    for i in levels:\n",
        "        kh = h // i\n",
        "        kw = w //i\n",
        "        tensor = F.max_pool2d(input, kernel_size=(kh, kw),\n",
        "                              stride=(kh,kw)).view(s, -1)\n",
        "        pooling_layers.append(tensor)\n",
        "        #print(\"level:{} ksize:({},{}) tensor_size:{}\".format(i, kh, kw, tensor.size()))\n",
        "    return torch.cat(pooling_layers, dim=-1)"
      ],
      "execution_count": 0,
      "outputs": []
    },
    {
      "metadata": {
        "id": "E8TIirLl7Cj5",
        "colab_type": "text"
      },
      "cell_type": "markdown",
      "source": [
        "### Model"
      ]
    },
    {
      "metadata": {
        "id": "TrHR5yoObk7C",
        "colab_type": "code",
        "colab": {}
      },
      "cell_type": "code",
      "source": [
        "'''\n",
        "Build a model with a typical network architecture\n",
        "'''\n",
        "num_characters = 47\n",
        "levels = [1,2,4]\n",
        "output_spp = sum([i**2 for i in levels])\n",
        "\n",
        "class Net(nn.Module):\n",
        "    def __init__(self):\n",
        "        super(Net, self).__init__()\n",
        "        self.conv1 = nn.Conv2d(3, 32, 5)\n",
        "        self.pool = nn.MaxPool2d(2, 2)\n",
        "        self.conv2 = nn.Conv2d(32, 64, 5)\n",
        "        self.fc1 = nn.Linear(output_spp*64, num_characters)\n",
        "\n",
        "    def forward(self, x):\n",
        "        x = self.pool(F.relu(self.conv1(x)))\n",
        "        x = self.pool(F.relu(self.conv2(x)))\n",
        "        x = spatial_pyramid_pooling(x, levels)\n",
        "        x = self.fc1(x)\n",
        "        return x"
      ],
      "execution_count": 0,
      "outputs": []
    },
    {
      "metadata": {
        "id": "j0C27-mq9Fyb",
        "colab_type": "code",
        "colab": {}
      },
      "cell_type": "code",
      "source": [
        "def build_model():\n",
        "  net = Net()\n",
        "  \n",
        "  #move the neural network to the GPU\n",
        "  if torch.cuda.device_count() > 1:\n",
        "    print(\"Let's use\", torch.cuda.device_count(), \"GPUs!\")\n",
        "    # dim = 0 [30, xxx] -> [10, ...], [10, ...], [10, ...] on 3 GPUs\n",
        "    net = nn.DataParallel(net)\n",
        "\n",
        "  return net.to(device)"
      ],
      "execution_count": 0,
      "outputs": []
    },
    {
      "metadata": {
        "id": "UYalaISkbk7I",
        "colab_type": "text"
      },
      "cell_type": "markdown",
      "source": [
        "### Training The Model Using The Processed Files"
      ]
    },
    {
      "metadata": {
        "id": "ZxfymOmP98_C",
        "colab_type": "code",
        "colab": {}
      },
      "cell_type": "code",
      "source": [
        "import os\n",
        "import pickle\n",
        "from sklearn.model_selection import train_test_split\n",
        "\n",
        "def getDatasetsFromPickle(file):\n",
        "  #print(\"Processing: {}\".format(fname))\n",
        "  data = pickle.load(file)\n",
        "  datasets = []\n",
        "  \n",
        "  #categorizing according to the shape\n",
        "  for shape, data in data.items():\n",
        "    if data['images'].shape[0] < 10:\n",
        "      #not enough samples to create a validation set\n",
        "      X_train, y_train = data['images'], data['labels']\n",
        "      X_val, y_val = X_train.copy(), y_train.copy()\n",
        "    else:\n",
        "      X_train, X_val, y_train, y_val = train_test_split(data['images'], data['labels'], test_size=0.2)\n",
        "\n",
        "    inputs_train, labels_train = torch.FloatTensor(X_train), torch.FloatTensor(y_train)\n",
        "    inputs_val, labels_val = torch.FloatTensor(X_val), torch.FloatTensor(y_val)\n",
        "\n",
        "    #permute image as (samples, x, y, channels) to (samples, channels, x, y)\n",
        "    inputs_train = inputs_train.permute(0, 3, 1, 2)\n",
        "    inputs_val = inputs_val.permute(0, 3, 1, 2)\n",
        "\n",
        "    #move the inputs and labels to the GPU and add in datasets\n",
        "    datasets.append( (inputs_train.to(device), labels_train.to(device), inputs_val.to(device), labels_val.to(device)) )\n",
        "    \n",
        "  return datasets"
      ],
      "execution_count": 0,
      "outputs": []
    },
    {
      "metadata": {
        "id": "jDkW1QOi9oVh",
        "colab_type": "code",
        "colab": {}
      },
      "cell_type": "code",
      "source": [
        "def train_pickle(file, model, stats):\n",
        "  loss_fn = nn.CrossEntropyLoss() #buit-in softmax, we can use logits directly\n",
        "  optimizer = optim.Adam(model.parameters())\n",
        "  \n",
        "  #retrieve the data\n",
        "  datasets = getDatasetsFromPickle(file)\n",
        "\n",
        "  for inputs_train, labels_train, inputs_val, labels_val in datasets:\n",
        "    # zero the parameter gradients\n",
        "    optimizer.zero_grad()\n",
        "\n",
        "    # forward + backward + optimize\n",
        "    outputs = model(inputs_train)\n",
        "\n",
        "    #cross entropy loss doesn't accept onehot encoded targets\n",
        "    #  |-> use the index class instead\n",
        "    lbls_no_onehot_encoded = torch.argmax(labels_train, dim=1)\n",
        "\n",
        "    loss = loss_fn(outputs, lbls_no_onehot_encoded)\n",
        "    loss.backward()\n",
        "    optimizer.step()\n",
        "\n",
        "    #statistics\n",
        "    stats['train_loss'].append(loss.item())\n",
        "    \n",
        "    with torch.no_grad():\n",
        "        outputs = model(inputs_val)\n",
        "        label_val_classes = torch.argmax(labels_val, dim=1)\n",
        "        output_classes = torch.argmax(outputs, dim=1)\n",
        "        stats['val_loss'].append( loss_fn(outputs, label_val_classes).item() )\n",
        "        stats['acc'].append( (output_classes == label_val_classes).sum().item() / label_val_classes.size(0) )\n"
      ],
      "execution_count": 0,
      "outputs": []
    },
    {
      "metadata": {
        "id": "xmbgE0n4bk7K",
        "colab_type": "code",
        "colab": {
          "base_uri": "https://localhost:8080/",
          "height": 91
        },
        "outputId": "bd8d657a-eae4-41c2-a24a-c00d1bc8fd29"
      },
      "cell_type": "code",
      "source": [
        "def train_model(epochs=1):\n",
        "    customize_onehot_encoder()\n",
        "    model = build_model()\n",
        "    stats = {'train_loss':[], 'val_loss':[], 'acc':[]}\n",
        "\n",
        "    num_files = len(glob.glob(\"{}*\".format(file_prefix)))\n",
        "    \n",
        "    for e in range(epochs):\n",
        "        for i in range(num_files):\n",
        "            fname = \"{}{}.pkl\".format(file_prefix, i)\n",
        "            if os.path.exists(fname):   \n",
        "                with open(fname, 'rb') as file:\n",
        "                    train_pickle(file, model, stats)\n",
        "                    \n",
        "            #printouts\n",
        "            if i % 10 == 9:\n",
        "                printout = \"Epoch: {}  Batch: {}  Training loss: {:.3f}  Validation loss: {:.3f}  Accuracy: {:.3f}\"\n",
        "                if len(stats['val_loss'])>0:\n",
        "                    print(printout.format(e + 1, i + 1, stats['train_loss'][-1], stats['val_loss'][-1], stats['acc'][-1]))\n",
        "\n",
        "    return model\n",
        "\n",
        "model1 = train_model()"
      ],
      "execution_count": 0,
      "outputs": [
        {
          "output_type": "stream",
          "text": [
            "Character classes: ['homer_simpson', 'ned_flanders', 'moe_szyslak', 'lisa_simpson', 'bart_simpson', 'marge_simpson', 'krusty_the_clown', 'principal_skinner', 'charles_montgomery_burns', 'milhouse_van_houten']\n",
            "\n"
          ],
          "name": "stdout"
        }
      ]
    },
    {
      "metadata": {
        "id": "TRIU84twbk7N",
        "colab_type": "text"
      },
      "cell_type": "markdown",
      "source": [
        "### Testing The Model"
      ]
    },
    {
      "metadata": {
        "id": "2QdAJjPYbk7N",
        "colab_type": "code",
        "colab": {
          "base_uri": "https://localhost:8080/",
          "height": 248
        },
        "outputId": "f04abfe7-226a-461e-d2ca-1f85e0097b64"
      },
      "cell_type": "code",
      "source": [
        "def eyeball_test_model(model):\n",
        "    idx = random.randint(0, 100)\n",
        "    test_image_names = get_images_from_directory(test_root_path)\n",
        "    sample_file, sample_name = test_image_names[idx], test_image_names[idx].split('_')[:-1]\n",
        "    path_file = os.path.join(test_root_path, sample_file)\n",
        "    sample_image = imread(path_file)\n",
        "\n",
        "    print(\"Label: {}\".format('_'.join(sample_name)))\n",
        "    \n",
        "    #prediction\n",
        "    pred = model.predict(sample_image[np.newaxis, :])\n",
        "    print(\"PREDICTION: {}\".format(lb.inverse_transform(pred)[0]))\n",
        " \n",
        "    #showing the image\n",
        "    plot_image(sample_image)\n",
        "\n",
        "eyeball_test_model(model1)"
      ],
      "execution_count": 281,
      "outputs": [
        {
          "output_type": "stream",
          "text": [
            "Label: lenny_leonard\n",
            "PREDICTION: homer_simpson\n"
          ],
          "name": "stdout"
        },
        {
          "output_type": "display_data",
          "data": {
            "image/png": "[encoded data removed]",
            "text/plain": [
              "<matplotlib.figure.Figure at 0x7f29a76f5e48>"
            ]
          },
          "metadata": {
            "tags": []
          }
        }
      ]
    },
    {
      "metadata": {
        "id": "IyUo2npcbk7Q",
        "colab_type": "code",
        "colab": {}
      },
      "cell_type": "code",
      "source": [
        ""
      ],
      "execution_count": 0,
      "outputs": []
    }
  ]
}