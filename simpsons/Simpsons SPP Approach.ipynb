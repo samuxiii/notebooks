{
 "cells": [
  {
   "cell_type": "markdown",
   "metadata": {},
   "source": [
    "# Simpsons Classifier\n",
    "\n",
    "\n",
    "## Images with different sizes: understanding _Spatial Pyramid Pooling_\n",
    "\n",
    "If the neural network has a fixed size as input images we'll have to deal with it. \n",
    "\n",
    "So the possible solutions will be:\n",
    "\n",
    "* Crop: problem, there is information that gets lost.\n",
    "* Warp/Resize: problem, the image patterns change and we lose accuracy.\n",
    "* Padding: problem, the model might be biased to images that contain such a padded border.\n",
    "* Combination of previous.\n",
    "\n",
    "Spatial Pyramid Pooling tries to resolve it. Indeed it should improve the efficiency.\n",
    "\n",
    "Paper: https://arxiv.org/abs/1406.4729"
   ]
  },
  {
   "cell_type": "markdown",
   "metadata": {},
   "source": [
    "## Defining Datasets"
   ]
  },
  {
   "cell_type": "code",
   "execution_count": 27,
   "metadata": {
    "collapsed": true
   },
   "outputs": [],
   "source": [
    "#Import libraries\n",
    "import os\n",
    "import glob\n",
    "import random\n",
    "import numpy as np\n",
    "import pandas as pd\n",
    "import matplotlib.pyplot as plt\n",
    "from scipy.misc import imread, imresize\n",
    "from random import shuffle\n",
    "from sklearn.model_selection import train_test_split\n",
    "from sklearn import preprocessing"
   ]
  },
  {
   "cell_type": "code",
   "execution_count": 2,
   "metadata": {},
   "outputs": [
    {
     "name": "stdout",
     "output_type": "stream",
     "text": [
      "    Unnamed: 0                      name  total  train  test  bounding_box\n",
      "0            0             Homer Simpson   2246   1909   337           612\n",
      "1            1              Ned Flanders   1454   1236   218           595\n",
      "2            2               Moe Szyslak   1452   1234   218           215\n",
      "3            3              Lisa Simpson   1354   1151   203           562\n",
      "4            4              Bart Simpson   1342   1141   201           554\n",
      "5            5             Marge Simpson   1291   1097   194           557\n",
      "6            6          Krusty The Clown   1206   1025   181           226\n",
      "7            7         Principal Skinner   1194   1015   179           506\n",
      "8            8  Charles Montgomery Burns   1193   1014   179           650\n",
      "9            9       Milhouse Van Houten   1079    917   162           210\n",
      "10          10              Chief Wiggum    986    838   148           209\n",
      "11          11    Abraham Grampa Simpson    913    776   137           595\n",
      "12          12              Sideshow Bob    877    745   132           203\n",
      "13          13    Apu Nahasapeemapetilon    623    530    93           206\n",
      "14          14             Kent Brockman    498    423    75           213\n",
      "15          15            Comic Book Guy    469    399    70           208\n",
      "16          16            Edna Krabappel    457    388    69           212\n",
      "17          17              Nelson Muntz    358    304    54           219\n",
      "18          18             Lenny Leonard    310    264    46             0\n",
      "19          19              Mayor Quimby    246    209    37             0\n",
      "20          20           Waylon Smithers    181    154    27             0\n",
      "21          21            Maggie Simpson    128    109    19             0\n",
      "22          22      Groundskeeper Willie    121    103    18             0\n",
      "23          23             Barney Gumble    106     90    16             0\n",
      "24          24             Selma Bouvier    103     88    15             0\n",
      "25          25              Carl Carlson     98     83    15             0\n",
      "26          26              Ralph Wiggum     89     76    13             0\n",
      "27          27             Patty Bouvier     72     61    11             0\n",
      "28          28             Martin Prince     71     60    11             0\n",
      "29          29      Professor John Frink     65     55    10             0\n",
      "30          30            Snake Jailbird     55     47     8             0\n",
      "31          31           Cletus Spuckler     47     40     7             0\n",
      "32          32        Rainier Wolfcastle     45     38     7             0\n",
      "33          33             Agnes Skinner     42     36     6             0\n",
      "34          34              Sideshow Mel     40     34     6             0\n",
      "35          35                 Otto Mann     32     27     5             0\n",
      "36          36                  Fat Tony     27     23     4             0\n",
      "37          37                       Gil     27     23     4             0\n",
      "38          38               Miss Hoover     17     14     3             0\n",
      "39          39                 Disco Stu      8      7     1             0\n",
      "40          40              Troy Mcclure      8      7     1             0\n",
      "41          41               Lionel Hutz      3      3     0             0\n",
      "42          42               Jimbo Jones      0      0     0             0\n",
      "43          43             Bumblebee Man      0      0     0             0\n",
      "44          44              Hans Moleman      0      0     0             0\n",
      "45          45             Helen Lovejoy      0      0     0             0\n",
      "46          46            Jasper Beardly      0      0     0             0\n"
     ]
    }
   ],
   "source": [
    "#Initial data inside simpsons.tar.gz\n",
    "info = pd.read_csv('./the-simpsons-characters-dataset-MEDIUM/number_pic_char.csv')\n",
    "print(info)"
   ]
  },
  {
   "cell_type": "code",
   "execution_count": 3,
   "metadata": {
    "collapsed": true
   },
   "outputs": [],
   "source": [
    "def get_character_directories(path):\n",
    "    character_directories = os.listdir(path)\n",
    "    if '.DS_Store' in character_directories: character_directories.remove('.DS_Store')\n",
    "    return character_directories\n",
    "\n",
    "def get_images_from_directory(path):\n",
    "    image_files = os.listdir(path)\n",
    "    if '.DS_Store' in image_files: image_files.remove('.DS_Store')\n",
    "    return image_files"
   ]
  },
  {
   "cell_type": "code",
   "execution_count": 4,
   "metadata": {
    "collapsed": true
   },
   "outputs": [],
   "source": [
    "#root pats\n",
    "train_root_path = \"./the-simpsons-characters-dataset-MEDIUM/simpsons_dataset\"\n",
    "test_root_path = \"./the-simpsons-characters-dataset-MEDIUM/kaggle_simpson_testset\"\n",
    "\n",
    "#train directories\n",
    "character_directories = get_character_directories(train_root_path)"
   ]
  },
  {
   "cell_type": "code",
   "execution_count": 5,
   "metadata": {},
   "outputs": [
    {
     "name": "stdout",
     "output_type": "stream",
     "text": [
      "Train: ['maggie_simpson', 'charles_montgomery_burns', 'patty_bouvier', 'ralph_wiggum', 'chief_wiggum']\n",
      "Images of charles_montgomery_burns: ['pic_0982.jpg', 'pic_0028.jpg', 'pic_0996.jpg', 'pic_0766.jpg', 'pic_0000.jpg']\n",
      "\n",
      "Test: ['principal_skinner_34.jpg', 'apu_nahasapeemapetilon_28.jpg', 'abraham_grampa_simpson_41.jpg', 'principal_skinner_20.jpg', 'apu_nahasapeemapetilon_14.jpg']\n"
     ]
    }
   ],
   "source": [
    "def test_paths():\n",
    "    #configure train dataset\n",
    "    print(\"Train: {}\".format(character_directories[:5]))\n",
    "\n",
    "    #images from one train directory\n",
    "    character_path = train_root_path + \"/\" + character_directories[1]\n",
    "    train_image_names = get_images_from_directory(character_path)\n",
    "    print(\"Images of {}: {}\".format(character_directories[1], train_image_names[:5]))\n",
    "\n",
    "\n",
    "    #configure test dataset\n",
    "    test_image_names = get_images_from_directory(test_root_path)\n",
    "    print(\"\\nTest: {}\".format(test_image_names[:5]))\n",
    "\n",
    "test_paths()"
   ]
  },
  {
   "cell_type": "markdown",
   "metadata": {},
   "source": [
    "### Showing Training and Test Samples"
   ]
  },
  {
   "cell_type": "code",
   "execution_count": 6,
   "metadata": {
    "collapsed": true
   },
   "outputs": [],
   "source": [
    "def plot_image(image):\n",
    "    plt.figure(figsize=(3, 3))\n",
    "    plt.imshow(image)\n",
    "    plt.axis('off')\n",
    "    plt.show()"
   ]
  },
  {
   "cell_type": "code",
   "execution_count": 7,
   "metadata": {},
   "outputs": [
    {
     "name": "stdout",
     "output_type": "stream",
     "text": [
      "Label:milhouse_van_houten, Image:6, Shape:(108, 72, 3)\n"
     ]
    },
    {
     "data": {
      "image/png": "[encoded data removed]",
      "text/plain": [
       "<matplotlib.figure.Figure at 0x11a0f2da0>"
      ]
     },
     "metadata": {},
     "output_type": "display_data"
    }
   ],
   "source": [
    "def show_train_image(character_directory, idx):\n",
    "    directory = os.path.join(train_root_path, character_directory)\n",
    "    sample_file = get_images_from_directory(directory)[idx]\n",
    "    path_file = os.path.join(directory, sample_file)\n",
    "    sample_image = imread(path_file)\n",
    "\n",
    "    print(\"Label:{}, Image:{}, Shape:{}\".format(character_directory, idx, sample_image.shape))\n",
    "    plot_image(sample_image)\n",
    "    \n",
    "idx = random.randint(0, 10)\n",
    "show_train_image(character_directories[idx], idx)"
   ]
  },
  {
   "cell_type": "code",
   "execution_count": 8,
   "metadata": {},
   "outputs": [
    {
     "name": "stdout",
     "output_type": "stream",
     "text": [
      "Label:apu_nahasapeemapetilon, Image:1, Shape:(86, 57, 3)\n"
     ]
    },
    {
     "data": {
      "image/png": "[encoded data removed]",
      "text/plain": [
       "<matplotlib.figure.Figure at 0x11a0a6a20>"
      ]
     },
     "metadata": {},
     "output_type": "display_data"
    }
   ],
   "source": [
    "def show_test_image(idx):\n",
    "    test_image_names = get_images_from_directory(test_root_path)\n",
    "    sample_file, sample_name = test_image_names[idx], test_image_names[idx].split('_')[:-1]\n",
    "    path_file = os.path.join(test_root_path, sample_file)\n",
    "    sample_image = imread(path_file)\n",
    "\n",
    "    print(\"Label:{}, Image:{}, Shape:{}\".format('_'.join(sample_name), idx, sample_image.shape))\n",
    "    plot_image(sample_image)\n",
    "\n",
    "idx = random.randint(0, 10)\n",
    "show_test_image(idx)"
   ]
  },
  {
   "cell_type": "markdown",
   "metadata": {},
   "source": [
    "### Training Images"
   ]
  },
  {
   "cell_type": "code",
   "execution_count": 9,
   "metadata": {
    "collapsed": true
   },
   "outputs": [],
   "source": [
    "'''\n",
    "Input 'different_characters' will define the number of different Simpson\n",
    "characters the generator is going to return\n",
    "\n",
    "@Return: tuple (images list, names list)\n",
    "'''\n",
    "#Create the batch generator\n",
    "def batch_generator_training_images(batch_size, different_characters, verbose=False):\n",
    "    #Obtain the characters Serie with the most number of images\n",
    "    characters = info.sort_values(by='total', ascending=False).name\n",
    "\n",
    "    #transform to list with the following format:  Homer Simpson -> homer_simpson\n",
    "    characters = characters.map(lambda x: x.replace(\" \", \"_\").lower()).tolist()\n",
    "\n",
    "    path_name_list = list()\n",
    "    for i in range(0, different_characters):\n",
    "        directory = os.path.join(train_root_path, characters[i])\n",
    "        path_name_list += list(map( lambda x: (os.path.join(directory, x), characters[i]), \n",
    "                                    get_images_from_directory(directory)))\n",
    "\n",
    "    #shuffle all the images\n",
    "    shuffle(path_name_list)\n",
    "    \n",
    "    #getting a number of complete chunks according to the batch size\n",
    "    number_complete_chunks = len(path_name_list)//batch_size\n",
    "    num_images_in_all_chunks = number_complete_chunks * batch_size\n",
    "        \n",
    "    for b in range(0, num_images_in_all_chunks, batch_size):\n",
    "        if verbose:\n",
    "            print(\"init: {}, end:{}\".format(b, b+batch_size))\n",
    "        \n",
    "        yield (list(map( lambda x: imread(x[0]), path_name_list[b:b + batch_size])), #x == path\n",
    "               list(map( lambda x: x[1], path_name_list[b:b + batch_size])) ) #x == name\n"
   ]
  },
  {
   "cell_type": "code",
   "execution_count": 10,
   "metadata": {},
   "outputs": [
    {
     "name": "stdout",
     "output_type": "stream",
     "text": [
      "init: 0, end:32\n",
      "marge_simpson\n"
     ]
    },
    {
     "data": {
      "image/png": "[encoded data removed]",
      "text/plain": [
       "<matplotlib.figure.Figure at 0x11d8fcf98>"
      ]
     },
     "metadata": {},
     "output_type": "display_data"
    }
   ],
   "source": [
    "#testing how to show an image from generator\n",
    "def testing_generator_1():\n",
    "    for batch in batch_generator_training_images(32, 10, True):\n",
    "        for img, name in zip(*batch):\n",
    "            print(name)\n",
    "            plot_image(img)\n",
    "            break\n",
    "        pass\n",
    "        break\n",
    "        \n",
    "testing_generator_1()"
   ]
  },
  {
   "cell_type": "code",
   "execution_count": 11,
   "metadata": {},
   "outputs": [
    {
     "name": "stdout",
     "output_type": "stream",
     "text": [
      "init: 0, end:8\n",
      "shape(108, 72, 3) count:3\n",
      "shape(88, 78, 3) count:1\n",
      "shape(104, 144, 3) count:1\n",
      "shape(120, 160, 3) count:1\n",
      "shape(100, 66, 3) count:1\n",
      "shape(104, 72, 3) count:1\n"
     ]
    }
   ],
   "source": [
    "#testing the generator\n",
    "def testing_generator_2():\n",
    "    group = {}\n",
    "\n",
    "    for batch in batch_generator_training_images(8, 10, True):\n",
    "        for img, name in zip(*batch):\n",
    "            if not img.shape in group:\n",
    "                group[img.shape] = []\n",
    "            group[img.shape].append(img)\n",
    "        pass\n",
    "        break\n",
    "\n",
    "    for key, lists in group.items():\n",
    "        print(\"shape{} count:{}\".format(key, len(lists)))\n",
    "\n",
    "\n",
    "testing_generator_2()"
   ]
  },
  {
   "cell_type": "code",
   "execution_count": 12,
   "metadata": {
    "collapsed": true
   },
   "outputs": [],
   "source": [
    "#global variable\n",
    "num_classes = 10 #different number of Simpons characters"
   ]
  },
  {
   "cell_type": "code",
   "execution_count": 13,
   "metadata": {
    "collapsed": true
   },
   "outputs": [],
   "source": [
    "#one hot encoder\n",
    "lb = preprocessing.LabelBinarizer()\n",
    "\n",
    "def customize_onehot_encoder(num_classes):\n",
    "    #Obtain the characters Serie with the most number of images\n",
    "    characters = info.sort_values(by='total', ascending=False).name\n",
    "\n",
    "    #transform to list with the following format:  Homer Simpson -> homer_simpson\n",
    "    names = characters[:num_classes].map(lambda x: x.replace(\" \", \"_\").lower()).tolist()\n",
    "\n",
    "    print(\"Character classes: {}\\n\".format(names))\n",
    "    lb.fit(names)\n"
   ]
  },
  {
   "cell_type": "markdown",
   "metadata": {},
   "source": [
    "### Storing Processed Files On Disk"
   ]
  },
  {
   "cell_type": "code",
   "execution_count": 14,
   "metadata": {
    "collapsed": true
   },
   "outputs": [],
   "source": [
    "#global variable\n",
    "file_prefix = \"spp_simpson_train_\"\n",
    "batch_size = 1024"
   ]
  },
  {
   "cell_type": "code",
   "execution_count": 20,
   "metadata": {},
   "outputs": [
    {
     "name": "stdout",
     "output_type": "stream",
     "text": [
      "Character classes: ['homer_simpson', 'ned_flanders', 'moe_szyslak', 'lisa_simpson', 'bart_simpson', 'marge_simpson', 'krusty_the_clown', 'principal_skinner', 'charles_montgomery_burns', 'milhouse_van_houten']\n",
      "\n",
      "spp_simpson_train_0.pkl saved\n",
      "spp_simpson_train_1.pkl saved\n",
      "spp_simpson_train_2.pkl saved\n",
      "spp_simpson_train_3.pkl saved\n",
      "spp_simpson_train_4.pkl saved\n",
      "spp_simpson_train_5.pkl saved\n",
      "W: Dim image < 3\n",
      "spp_simpson_train_6.pkl saved\n",
      "spp_simpson_train_7.pkl saved\n",
      "spp_simpson_train_8.pkl saved\n",
      "spp_simpson_train_9.pkl saved\n",
      "spp_simpson_train_10.pkl saved\n",
      "spp_simpson_train_11.pkl saved\n",
      "spp_simpson_train_12.pkl saved\n"
     ]
    }
   ],
   "source": [
    "import pickle\n",
    "\n",
    "def create_processed_files(batch_size=64):\n",
    "    customize_onehot_encoder(num_classes)\n",
    "    # Format of data => {shape: {'images':[], 'labels':[]} }\n",
    "    data = {}\n",
    "    \n",
    "    '''\n",
    "    The batch generator returns a tuple of two lists!!! (list_images, list_names)\n",
    "    '''\n",
    "    for cnt, batch in enumerate(batch_generator_training_images(batch_size, num_classes)):\n",
    "                \n",
    "        #group by shape\n",
    "        grouped = {}\n",
    "        for image, name in zip(*batch):\n",
    "            if not image.shape in grouped:\n",
    "                grouped[image.shape] = []\n",
    "            grouped[image.shape].append((image, name))        \n",
    "        \n",
    "        #training images which are grouped by shape at the same time\n",
    "        for shape, tuple_imagesList_namesList in grouped.items():\n",
    "            imagesList, namesList = zip(*tuple_imagesList_namesList)\n",
    "            \n",
    "            #casting\n",
    "            images = np.array(imagesList)\n",
    "            #onehot encoding names\n",
    "            names = np.array(lb.transform(namesList))\n",
    "            \n",
    "            if len(shape) == 3: #just in case dimension are less than 3\n",
    "                #print(\"Storing shape:{} with {}\".format(shape, len(images)))\n",
    "                data[shape] = {'images': images, 'labels': names}\n",
    "            else:\n",
    "                print(\"W: Dim image < 3\")\n",
    "        \n",
    "        #save into disk\n",
    "        with open(\"{}{}.pkl\".format(file_prefix, cnt), 'wb') as file:\n",
    "            pickle.dump(data, file, pickle.HIGHEST_PROTOCOL)\n",
    "            print(\"{} saved\".format(\"{}{}.pkl\".format(file_prefix, cnt)))\n",
    "        \n",
    "\n",
    "create_processed_files(batch_size)"
   ]
  },
  {
   "cell_type": "markdown",
   "metadata": {},
   "source": [
    "Since here, the images are processed and stored in different pickle files. \n",
    "\n",
    "The format of the __data is a dictionary__ which follows the format:  \n",
    "```\n",
    "{shape: {'images':[], 'labels':[]} }\n",
    "```"
   ]
  },
  {
   "cell_type": "markdown",
   "metadata": {
    "collapsed": true
   },
   "source": [
    "## Keras + SPP Module\n",
    "\n",
    "Keras doesn't support currently the SSP layer but thanks to [yhenon](https://github.com/yhenon) there's a module which is integrated into keras. [Code is here](https://github.com/yhenon/keras-spp)"
   ]
  },
  {
   "cell_type": "code",
   "execution_count": 21,
   "metadata": {},
   "outputs": [
    {
     "name": "stderr",
     "output_type": "stream",
     "text": [
      "Using TensorFlow backend.\n"
     ]
    }
   ],
   "source": [
    "from keras.models import Sequential\n",
    "from keras.layers import Conv2D, Convolution2D, Activation, MaxPooling2D, Dense, Dropout\n",
    "from spp.SpatialPyramidPooling import SpatialPyramidPooling"
   ]
  },
  {
   "cell_type": "code",
   "execution_count": 22,
   "metadata": {},
   "outputs": [
    {
     "name": "stdout",
     "output_type": "stream",
     "text": [
      "_________________________________________________________________\n",
      "Layer (type)                 Output Shape              Param #   \n",
      "=================================================================\n",
      "conv2d_1 (Conv2D)            (None, None, None, 32)    896       \n",
      "_________________________________________________________________\n",
      "activation_1 (Activation)    (None, None, None, 32)    0         \n",
      "_________________________________________________________________\n",
      "conv2d_2 (Conv2D)            (None, None, None, 32)    9248      \n",
      "_________________________________________________________________\n",
      "activation_2 (Activation)    (None, None, None, 32)    0         \n",
      "_________________________________________________________________\n",
      "max_pooling2d_1 (MaxPooling2 (None, None, None, 32)    0         \n",
      "_________________________________________________________________\n",
      "conv2d_3 (Conv2D)            (None, None, None, 64)    18496     \n",
      "_________________________________________________________________\n",
      "activation_3 (Activation)    (None, None, None, 64)    0         \n",
      "_________________________________________________________________\n",
      "conv2d_4 (Conv2D)            (None, None, None, 64)    36928     \n",
      "_________________________________________________________________\n",
      "activation_4 (Activation)    (None, None, None, 64)    0         \n",
      "_________________________________________________________________\n",
      "spatial_pyramid_pooling_1 (S (None, 1344)              0         \n",
      "_________________________________________________________________\n",
      "dense_1 (Dense)              (None, 10)                13450     \n",
      "_________________________________________________________________\n",
      "activation_5 (Activation)    (None, 10)                0         \n",
      "=================================================================\n",
      "Total params: 79,018\n",
      "Trainable params: 79,018\n",
      "Non-trainable params: 0\n",
      "_________________________________________________________________\n"
     ]
    }
   ],
   "source": [
    "'''\n",
    "Build a model with a typical network architecture\n",
    "'''\n",
    "def build_model(num_channels = 3, num_classes = 10, filters = 32):\n",
    "    model = Sequential()\n",
    "\n",
    "    #Note: leave the image size as None to allow multiple image sizes\n",
    "    model.add(Conv2D(filters, (3, 3), padding='same', input_shape=(None, None, num_channels)))\n",
    "    model.add(Activation('relu'))\n",
    "\n",
    "    model.add(Conv2D(filters, (3, 3)))\n",
    "    model.add(Activation('relu'))\n",
    "    model.add(MaxPooling2D(pool_size=(2, 2)))\n",
    "    \n",
    "    model.add(Conv2D(filters*2, (3, 3), padding='same'))\n",
    "    model.add(Activation('relu'))\n",
    "\n",
    "    model.add(Conv2D(filters*2, (3, 3)))\n",
    "    model.add(Activation('relu'))\n",
    "    model.add(SpatialPyramidPooling([1, 2, 4]))\n",
    "\n",
    "    model.add(Dense(num_classes))\n",
    "    model.add(Activation('softmax'))\n",
    "\n",
    "    model.compile(loss='categorical_crossentropy', optimizer='adam', metrics=['accuracy'])\n",
    "    \n",
    "    return model\n",
    "\n",
    "build_model().summary()"
   ]
  },
  {
   "cell_type": "code",
   "execution_count": 23,
   "metadata": {},
   "outputs": [
    {
     "name": "stdout",
     "output_type": "stream",
     "text": [
      "Epoch 1/1\n",
      "16/16 [==============================] - 1s 36ms/step - loss: 1.1133e-07 - acc: 0.4375\n",
      "Epoch 1/1\n",
      "16/16 [==============================] - 0s 3ms/step - loss: 1.1852e-07 - acc: 0.4375\n"
     ]
    }
   ],
   "source": [
    "#TESTING\n",
    "# train on images with different sizes\n",
    "def model_tried_out(num_channels, num_classes, batch_size):\n",
    "    model = build_model(num_channels, num_classes)\n",
    "    #size 1\n",
    "    model.fit(np.random.rand(batch_size, 8, 9, num_channels), \n",
    "              np.random.rand(batch_size, num_classes),\n",
    "              epochs=1)\n",
    "    #size 2\n",
    "    model.fit(np.random.rand(batch_size, 20, 13, num_channels), \n",
    "              np.random.rand(batch_size, num_classes),\n",
    "              epochs=1)\n",
    "    \n",
    "model_tried_out(2, 2, 16)"
   ]
  },
  {
   "cell_type": "markdown",
   "metadata": {},
   "source": [
    "### Training The Model Using The Processed Files"
   ]
  },
  {
   "cell_type": "code",
   "execution_count": 24,
   "metadata": {
    "collapsed": true
   },
   "outputs": [],
   "source": [
    "#global variables\n",
    "num_channels = 3"
   ]
  },
  {
   "cell_type": "code",
   "execution_count": 32,
   "metadata": {},
   "outputs": [
    {
     "name": "stdout",
     "output_type": "stream",
     "text": [
      "Character classes: ['homer_simpson', 'ned_flanders', 'moe_szyslak', 'lisa_simpson', 'bart_simpson', 'marge_simpson', 'krusty_the_clown', 'principal_skinner', 'charles_montgomery_burns', 'milhouse_van_houten']\n",
      "\n",
      "\n",
      "Processing file: spp_simpson_train_0.pkl\n",
      "Training shape: (116, 160, 3)\n",
      "Train on 16 samples, validate on 7 samples\n",
      "Epoch 1/1\n",
      "16/16 [==============================] - 5s 299ms/step - loss: 10.4038 - acc: 0.0625 - val_loss: 11.5129 - val_acc: 0.2857\n",
      "Training shape: (88, 78, 3)\n",
      "Train on 50 samples, validate on 22 samples\n",
      "Epoch 1/1\n",
      "50/50 [==============================] - 4s 81ms/step - loss: 13.5392 - acc: 0.1600 - val_loss: 14.6528 - val_acc: 0.0909\n",
      "Training shape: (100, 132, 3)\n",
      "Epoch 1/1\n",
      "3/3 [==============================] - 0s 161ms/step - loss: 16.1181 - acc: 0.0000e+00\n",
      "Training shape: (107, 72, 3)\n",
      "Train on 2 samples, validate on 2 samples\n",
      "Epoch 1/1\n",
      "2/2 [==============================] - 0s 106ms/step - loss: 16.1181 - acc: 0.0000e+00 - val_loss: 16.1181 - val_acc: 0.0000e+00\n",
      "Training shape: (107, 144, 3)\n",
      "Epoch 1/1\n",
      "1/1 [==============================] - 0s 165ms/step - loss: 16.1181 - acc: 0.0000e+00\n",
      "Training shape: (64, 106, 3)\n",
      "Epoch 1/1\n",
      "1/1 [==============================] - 0s 89ms/step - loss: 1.1921e-07 - acc: 1.0000\n",
      "Training shape: (70, 64, 3)\n",
      "Epoch 1/1\n",
      "1/1 [==============================] - 0s 56ms/step - loss: 16.1181 - acc: 0.0000e+00\n",
      "Training shape: (64, 92, 3)\n",
      "Epoch 1/1\n",
      "1/1 [==============================] - 0s 79ms/step - loss: 16.1181 - acc: 0.0000e+00\n",
      "Training shape: (64, 95, 3)\n",
      "Epoch 1/1\n",
      "1/1 [==============================] - 0s 81ms/step - loss: 1.1921e-07 - acc: 1.0000\n",
      "Training shape: (120, 80, 3)\n",
      "Train on 101 samples, validate on 44 samples\n",
      "Epoch 1/1\n",
      "101/101 [==============================] - 12s 119ms/step - loss: 14.0435 - acc: 0.1287 - val_loss: 14.6528 - val_acc: 0.0909\n",
      "Training shape: (64, 82, 3)\n",
      "Epoch 1/1\n",
      "2/2 [==============================] - 0s 60ms/step - loss: 16.1181 - acc: 0.0000e+00\n",
      "Training shape: (132, 90, 3)\n",
      "Epoch 1/1\n",
      "1/1 [==============================] - 0s 141ms/step - loss: 16.1181 - acc: 0.0000e+00\n",
      "Training shape: (108, 144, 3)\n",
      "Train on 60 samples, validate on 27 samples\n",
      "Epoch 1/1\n",
      "32/60 [===============>..............] - ETA: 5s - loss: 13.0960 - acc: 0.1875"
     ]
    },
    {
     "ename": "KeyboardInterrupt",
     "evalue": "",
     "output_type": "error",
     "traceback": [
      "\u001b[0;31m---------------------------------------------------------------------------\u001b[0m",
      "\u001b[0;31mKeyboardInterrupt\u001b[0m                         Traceback (most recent call last)",
      "\u001b[0;32m<ipython-input-32-b8788b47cc77>\u001b[0m in \u001b[0;36m<module>\u001b[0;34m()\u001b[0m\n\u001b[1;32m     25\u001b[0m     \u001b[0;32mreturn\u001b[0m \u001b[0mmodel\u001b[0m\u001b[0;34m\u001b[0m\u001b[0m\n\u001b[1;32m     26\u001b[0m \u001b[0;34m\u001b[0m\u001b[0m\n\u001b[0;32m---> 27\u001b[0;31m \u001b[0mmodel1\u001b[0m \u001b[0;34m=\u001b[0m \u001b[0mtrain_model\u001b[0m\u001b[0;34m(\u001b[0m\u001b[0;34m)\u001b[0m\u001b[0;34m\u001b[0m\u001b[0m\n\u001b[0m",
      "\u001b[0;32m<ipython-input-32-b8788b47cc77>\u001b[0m in \u001b[0;36mtrain_model\u001b[0;34m()\u001b[0m\n\u001b[1;32m     21\u001b[0m                     \u001b[0;31m#                                                    test_size=test_size)\u001b[0m\u001b[0;34m\u001b[0m\u001b[0;34m\u001b[0m\u001b[0m\n\u001b[1;32m     22\u001b[0m \u001b[0;34m\u001b[0m\u001b[0m\n\u001b[0;32m---> 23\u001b[0;31m                     \u001b[0mmodel\u001b[0m\u001b[0;34m.\u001b[0m\u001b[0mfit\u001b[0m\u001b[0;34m(\u001b[0m\u001b[0mdata\u001b[0m\u001b[0;34m[\u001b[0m\u001b[0;34m'images'\u001b[0m\u001b[0;34m]\u001b[0m\u001b[0;34m,\u001b[0m \u001b[0mdata\u001b[0m\u001b[0;34m[\u001b[0m\u001b[0;34m'labels'\u001b[0m\u001b[0;34m]\u001b[0m\u001b[0;34m,\u001b[0m \u001b[0mvalidation_split\u001b[0m\u001b[0;34m=\u001b[0m\u001b[0mval_size\u001b[0m\u001b[0;34m,\u001b[0m \u001b[0mepochs\u001b[0m\u001b[0;34m=\u001b[0m\u001b[0;36m1\u001b[0m\u001b[0;34m,\u001b[0m \u001b[0mverbose\u001b[0m\u001b[0;34m=\u001b[0m\u001b[0;36m1\u001b[0m\u001b[0;34m)\u001b[0m\u001b[0;34m\u001b[0m\u001b[0m\n\u001b[0m\u001b[1;32m     24\u001b[0m \u001b[0;34m\u001b[0m\u001b[0m\n\u001b[1;32m     25\u001b[0m     \u001b[0;32mreturn\u001b[0m \u001b[0mmodel\u001b[0m\u001b[0;34m\u001b[0m\u001b[0m\n",
      "\u001b[0;32m~/anaconda/envs/py3/lib/python3.5/site-packages/keras/models.py\u001b[0m in \u001b[0;36mfit\u001b[0;34m(self, x, y, batch_size, epochs, verbose, callbacks, validation_split, validation_data, shuffle, class_weight, sample_weight, initial_epoch, **kwargs)\u001b[0m\n\u001b[1;32m    891\u001b[0m                               \u001b[0mclass_weight\u001b[0m\u001b[0;34m=\u001b[0m\u001b[0mclass_weight\u001b[0m\u001b[0;34m,\u001b[0m\u001b[0;34m\u001b[0m\u001b[0m\n\u001b[1;32m    892\u001b[0m                               \u001b[0msample_weight\u001b[0m\u001b[0;34m=\u001b[0m\u001b[0msample_weight\u001b[0m\u001b[0;34m,\u001b[0m\u001b[0;34m\u001b[0m\u001b[0m\n\u001b[0;32m--> 893\u001b[0;31m                               initial_epoch=initial_epoch)\n\u001b[0m\u001b[1;32m    894\u001b[0m \u001b[0;34m\u001b[0m\u001b[0m\n\u001b[1;32m    895\u001b[0m     def evaluate(self, x, y, batch_size=32, verbose=1,\n",
      "\u001b[0;32m~/anaconda/envs/py3/lib/python3.5/site-packages/keras/engine/training.py\u001b[0m in \u001b[0;36mfit\u001b[0;34m(self, x, y, batch_size, epochs, verbose, callbacks, validation_split, validation_data, shuffle, class_weight, sample_weight, initial_epoch, steps_per_epoch, validation_steps, **kwargs)\u001b[0m\n\u001b[1;32m   1629\u001b[0m                               \u001b[0minitial_epoch\u001b[0m\u001b[0;34m=\u001b[0m\u001b[0minitial_epoch\u001b[0m\u001b[0;34m,\u001b[0m\u001b[0;34m\u001b[0m\u001b[0m\n\u001b[1;32m   1630\u001b[0m                               \u001b[0msteps_per_epoch\u001b[0m\u001b[0;34m=\u001b[0m\u001b[0msteps_per_epoch\u001b[0m\u001b[0;34m,\u001b[0m\u001b[0;34m\u001b[0m\u001b[0m\n\u001b[0;32m-> 1631\u001b[0;31m                               validation_steps=validation_steps)\n\u001b[0m\u001b[1;32m   1632\u001b[0m \u001b[0;34m\u001b[0m\u001b[0m\n\u001b[1;32m   1633\u001b[0m     def evaluate(self, x=None, y=None,\n",
      "\u001b[0;32m~/anaconda/envs/py3/lib/python3.5/site-packages/keras/engine/training.py\u001b[0m in \u001b[0;36m_fit_loop\u001b[0;34m(self, f, ins, out_labels, batch_size, epochs, verbose, callbacks, val_f, val_ins, shuffle, callback_metrics, initial_epoch, steps_per_epoch, validation_steps)\u001b[0m\n\u001b[1;32m   1225\u001b[0m                             val_outs = self._test_loop(val_f, val_ins,\n\u001b[1;32m   1226\u001b[0m                                                        \u001b[0mbatch_size\u001b[0m\u001b[0;34m=\u001b[0m\u001b[0mbatch_size\u001b[0m\u001b[0;34m,\u001b[0m\u001b[0;34m\u001b[0m\u001b[0m\n\u001b[0;32m-> 1227\u001b[0;31m                                                        verbose=0)\n\u001b[0m\u001b[1;32m   1228\u001b[0m                             \u001b[0;32mif\u001b[0m \u001b[0;32mnot\u001b[0m \u001b[0misinstance\u001b[0m\u001b[0;34m(\u001b[0m\u001b[0mval_outs\u001b[0m\u001b[0;34m,\u001b[0m \u001b[0mlist\u001b[0m\u001b[0;34m)\u001b[0m\u001b[0;34m:\u001b[0m\u001b[0;34m\u001b[0m\u001b[0m\n\u001b[1;32m   1229\u001b[0m                                 \u001b[0mval_outs\u001b[0m \u001b[0;34m=\u001b[0m \u001b[0;34m[\u001b[0m\u001b[0mval_outs\u001b[0m\u001b[0;34m]\u001b[0m\u001b[0;34m\u001b[0m\u001b[0m\n",
      "\u001b[0;32m~/anaconda/envs/py3/lib/python3.5/site-packages/keras/engine/training.py\u001b[0m in \u001b[0;36m_test_loop\u001b[0;34m(self, f, ins, batch_size, verbose, steps)\u001b[0m\n\u001b[1;32m   1368\u001b[0m                     \u001b[0mins_batch\u001b[0m \u001b[0;34m=\u001b[0m \u001b[0m_slice_arrays\u001b[0m\u001b[0;34m(\u001b[0m\u001b[0mins\u001b[0m\u001b[0;34m,\u001b[0m \u001b[0mbatch_ids\u001b[0m\u001b[0;34m)\u001b[0m\u001b[0;34m\u001b[0m\u001b[0m\n\u001b[1;32m   1369\u001b[0m \u001b[0;34m\u001b[0m\u001b[0m\n\u001b[0;32m-> 1370\u001b[0;31m                 \u001b[0mbatch_outs\u001b[0m \u001b[0;34m=\u001b[0m \u001b[0mf\u001b[0m\u001b[0;34m(\u001b[0m\u001b[0mins_batch\u001b[0m\u001b[0;34m)\u001b[0m\u001b[0;34m\u001b[0m\u001b[0m\n\u001b[0m\u001b[1;32m   1371\u001b[0m                 \u001b[0;32mif\u001b[0m \u001b[0misinstance\u001b[0m\u001b[0;34m(\u001b[0m\u001b[0mbatch_outs\u001b[0m\u001b[0;34m,\u001b[0m \u001b[0mlist\u001b[0m\u001b[0;34m)\u001b[0m\u001b[0;34m:\u001b[0m\u001b[0;34m\u001b[0m\u001b[0m\n\u001b[1;32m   1372\u001b[0m                     \u001b[0;32mif\u001b[0m \u001b[0mbatch_index\u001b[0m \u001b[0;34m==\u001b[0m \u001b[0;36m0\u001b[0m\u001b[0;34m:\u001b[0m\u001b[0;34m\u001b[0m\u001b[0m\n",
      "\u001b[0;32m~/anaconda/envs/py3/lib/python3.5/site-packages/keras/backend/tensorflow_backend.py\u001b[0m in \u001b[0;36m__call__\u001b[0;34m(self, inputs)\u001b[0m\n\u001b[1;32m   2330\u001b[0m         updated = session.run(self.outputs + [self.updates_op],\n\u001b[1;32m   2331\u001b[0m                               \u001b[0mfeed_dict\u001b[0m\u001b[0;34m=\u001b[0m\u001b[0mfeed_dict\u001b[0m\u001b[0;34m,\u001b[0m\u001b[0;34m\u001b[0m\u001b[0m\n\u001b[0;32m-> 2332\u001b[0;31m                               **self.session_kwargs)\n\u001b[0m\u001b[1;32m   2333\u001b[0m         \u001b[0;32mreturn\u001b[0m \u001b[0mupdated\u001b[0m\u001b[0;34m[\u001b[0m\u001b[0;34m:\u001b[0m\u001b[0mlen\u001b[0m\u001b[0;34m(\u001b[0m\u001b[0mself\u001b[0m\u001b[0;34m.\u001b[0m\u001b[0moutputs\u001b[0m\u001b[0;34m)\u001b[0m\u001b[0;34m]\u001b[0m\u001b[0;34m\u001b[0m\u001b[0m\n\u001b[1;32m   2334\u001b[0m \u001b[0;34m\u001b[0m\u001b[0m\n",
      "\u001b[0;32m~/anaconda/envs/py3/lib/python3.5/site-packages/tensorflow/python/client/session.py\u001b[0m in \u001b[0;36mrun\u001b[0;34m(self, fetches, feed_dict, options, run_metadata)\u001b[0m\n\u001b[1;32m    765\u001b[0m     \u001b[0;32mtry\u001b[0m\u001b[0;34m:\u001b[0m\u001b[0;34m\u001b[0m\u001b[0m\n\u001b[1;32m    766\u001b[0m       result = self._run(None, fetches, feed_dict, options_ptr,\n\u001b[0;32m--> 767\u001b[0;31m                          run_metadata_ptr)\n\u001b[0m\u001b[1;32m    768\u001b[0m       \u001b[0;32mif\u001b[0m \u001b[0mrun_metadata\u001b[0m\u001b[0;34m:\u001b[0m\u001b[0;34m\u001b[0m\u001b[0m\n\u001b[1;32m    769\u001b[0m         \u001b[0mproto_data\u001b[0m \u001b[0;34m=\u001b[0m \u001b[0mtf_session\u001b[0m\u001b[0;34m.\u001b[0m\u001b[0mTF_GetBuffer\u001b[0m\u001b[0;34m(\u001b[0m\u001b[0mrun_metadata_ptr\u001b[0m\u001b[0;34m)\u001b[0m\u001b[0;34m\u001b[0m\u001b[0m\n",
      "\u001b[0;32m~/anaconda/envs/py3/lib/python3.5/site-packages/tensorflow/python/client/session.py\u001b[0m in \u001b[0;36m_run\u001b[0;34m(self, handle, fetches, feed_dict, options, run_metadata)\u001b[0m\n\u001b[1;32m    963\u001b[0m     \u001b[0;32mif\u001b[0m \u001b[0mfinal_fetches\u001b[0m \u001b[0;32mor\u001b[0m \u001b[0mfinal_targets\u001b[0m\u001b[0;34m:\u001b[0m\u001b[0;34m\u001b[0m\u001b[0m\n\u001b[1;32m    964\u001b[0m       results = self._do_run(handle, final_targets, final_fetches,\n\u001b[0;32m--> 965\u001b[0;31m                              feed_dict_string, options, run_metadata)\n\u001b[0m\u001b[1;32m    966\u001b[0m     \u001b[0;32melse\u001b[0m\u001b[0;34m:\u001b[0m\u001b[0;34m\u001b[0m\u001b[0m\n\u001b[1;32m    967\u001b[0m       \u001b[0mresults\u001b[0m \u001b[0;34m=\u001b[0m \u001b[0;34m[\u001b[0m\u001b[0;34m]\u001b[0m\u001b[0;34m\u001b[0m\u001b[0m\n",
      "\u001b[0;32m~/anaconda/envs/py3/lib/python3.5/site-packages/tensorflow/python/client/session.py\u001b[0m in \u001b[0;36m_do_run\u001b[0;34m(self, handle, target_list, fetch_list, feed_dict, options, run_metadata)\u001b[0m\n\u001b[1;32m   1013\u001b[0m     \u001b[0;32mif\u001b[0m \u001b[0mhandle\u001b[0m \u001b[0;32mis\u001b[0m \u001b[0;32mNone\u001b[0m\u001b[0;34m:\u001b[0m\u001b[0;34m\u001b[0m\u001b[0m\n\u001b[1;32m   1014\u001b[0m       return self._do_call(_run_fn, self._session, feed_dict, fetch_list,\n\u001b[0;32m-> 1015\u001b[0;31m                            target_list, options, run_metadata)\n\u001b[0m\u001b[1;32m   1016\u001b[0m     \u001b[0;32melse\u001b[0m\u001b[0;34m:\u001b[0m\u001b[0;34m\u001b[0m\u001b[0m\n\u001b[1;32m   1017\u001b[0m       return self._do_call(_prun_fn, self._session, handle, feed_dict,\n",
      "\u001b[0;32m~/anaconda/envs/py3/lib/python3.5/site-packages/tensorflow/python/client/session.py\u001b[0m in \u001b[0;36m_do_call\u001b[0;34m(self, fn, *args)\u001b[0m\n\u001b[1;32m   1020\u001b[0m   \u001b[0;32mdef\u001b[0m \u001b[0m_do_call\u001b[0m\u001b[0;34m(\u001b[0m\u001b[0mself\u001b[0m\u001b[0;34m,\u001b[0m \u001b[0mfn\u001b[0m\u001b[0;34m,\u001b[0m \u001b[0;34m*\u001b[0m\u001b[0margs\u001b[0m\u001b[0;34m)\u001b[0m\u001b[0;34m:\u001b[0m\u001b[0;34m\u001b[0m\u001b[0m\n\u001b[1;32m   1021\u001b[0m     \u001b[0;32mtry\u001b[0m\u001b[0;34m:\u001b[0m\u001b[0;34m\u001b[0m\u001b[0m\n\u001b[0;32m-> 1022\u001b[0;31m       \u001b[0;32mreturn\u001b[0m \u001b[0mfn\u001b[0m\u001b[0;34m(\u001b[0m\u001b[0;34m*\u001b[0m\u001b[0margs\u001b[0m\u001b[0;34m)\u001b[0m\u001b[0;34m\u001b[0m\u001b[0m\n\u001b[0m\u001b[1;32m   1023\u001b[0m     \u001b[0;32mexcept\u001b[0m \u001b[0merrors\u001b[0m\u001b[0;34m.\u001b[0m\u001b[0mOpError\u001b[0m \u001b[0;32mas\u001b[0m \u001b[0me\u001b[0m\u001b[0;34m:\u001b[0m\u001b[0;34m\u001b[0m\u001b[0m\n\u001b[1;32m   1024\u001b[0m       \u001b[0mmessage\u001b[0m \u001b[0;34m=\u001b[0m \u001b[0mcompat\u001b[0m\u001b[0;34m.\u001b[0m\u001b[0mas_text\u001b[0m\u001b[0;34m(\u001b[0m\u001b[0me\u001b[0m\u001b[0;34m.\u001b[0m\u001b[0mmessage\u001b[0m\u001b[0;34m)\u001b[0m\u001b[0;34m\u001b[0m\u001b[0m\n",
      "\u001b[0;32m~/anaconda/envs/py3/lib/python3.5/site-packages/tensorflow/python/client/session.py\u001b[0m in \u001b[0;36m_run_fn\u001b[0;34m(session, feed_dict, fetch_list, target_list, options, run_metadata)\u001b[0m\n\u001b[1;32m   1002\u001b[0m         return tf_session.TF_Run(session, options,\n\u001b[1;32m   1003\u001b[0m                                  \u001b[0mfeed_dict\u001b[0m\u001b[0;34m,\u001b[0m \u001b[0mfetch_list\u001b[0m\u001b[0;34m,\u001b[0m \u001b[0mtarget_list\u001b[0m\u001b[0;34m,\u001b[0m\u001b[0;34m\u001b[0m\u001b[0m\n\u001b[0;32m-> 1004\u001b[0;31m                                  status, run_metadata)\n\u001b[0m\u001b[1;32m   1005\u001b[0m \u001b[0;34m\u001b[0m\u001b[0m\n\u001b[1;32m   1006\u001b[0m     \u001b[0;32mdef\u001b[0m \u001b[0m_prun_fn\u001b[0m\u001b[0;34m(\u001b[0m\u001b[0msession\u001b[0m\u001b[0;34m,\u001b[0m \u001b[0mhandle\u001b[0m\u001b[0;34m,\u001b[0m \u001b[0mfeed_dict\u001b[0m\u001b[0;34m,\u001b[0m \u001b[0mfetch_list\u001b[0m\u001b[0;34m)\u001b[0m\u001b[0;34m:\u001b[0m\u001b[0;34m\u001b[0m\u001b[0m\n",
      "\u001b[0;31mKeyboardInterrupt\u001b[0m: "
     ]
    }
   ],
   "source": [
    "def train_model():\n",
    "    customize_onehot_encoder(num_classes)\n",
    "    \n",
    "    model = build_model(num_channels, num_classes)\n",
    "\n",
    "    num_files = len(glob.glob(\"{}*\".format(file_prefix)))\n",
    "    \n",
    "    for i in range(num_files):\n",
    "        fname = \"{}{}.pkl\".format(file_prefix, i)\n",
    "        if os.path.exists(fname):   \n",
    "            with open(fname, 'rb') as file:\n",
    "                data = pickle.load(file)\n",
    "                print(\"\\nProcessing file: {}\".format(fname))\n",
    "                \n",
    "                for shape, data in data.items():\n",
    "                    print(\"Training shape: {}\".format(shape))\n",
    "                    \n",
    "                    val_size = 0.3 if len(data['images']) > 3 else 0\n",
    "                        \n",
    "                    #X_train, X_vale, y_train, y_vale = train_test_split(data['images'], data['labels'],\n",
    "                    #                                                    test_size=test_size)\n",
    "                    \n",
    "                    model.fit(data['images'], data['labels'], validation_split=val_size, epochs=1, verbose=1)\n",
    "            \n",
    "    return model\n",
    "\n",
    "model1 = train_model()"
   ]
  },
  {
   "cell_type": "markdown",
   "metadata": {},
   "source": [
    "### Testing The Model"
   ]
  },
  {
   "cell_type": "code",
   "execution_count": 26,
   "metadata": {},
   "outputs": [
    {
     "ename": "NameError",
     "evalue": "name 'model1' is not defined",
     "output_type": "error",
     "traceback": [
      "\u001b[0;31m---------------------------------------------------------------------------\u001b[0m",
      "\u001b[0;31mNameError\u001b[0m                                 Traceback (most recent call last)",
      "\u001b[0;32m<ipython-input-26-62b8e8b64089>\u001b[0m in \u001b[0;36m<module>\u001b[0;34m()\u001b[0m\n\u001b[1;32m     15\u001b[0m     \u001b[0mplot_image\u001b[0m\u001b[0;34m(\u001b[0m\u001b[0msample_image\u001b[0m\u001b[0;34m)\u001b[0m\u001b[0;34m\u001b[0m\u001b[0m\n\u001b[1;32m     16\u001b[0m \u001b[0;34m\u001b[0m\u001b[0m\n\u001b[0;32m---> 17\u001b[0;31m \u001b[0meyeball_test_model\u001b[0m\u001b[0;34m(\u001b[0m\u001b[0mmodel1\u001b[0m\u001b[0;34m)\u001b[0m\u001b[0;34m\u001b[0m\u001b[0m\n\u001b[0m",
      "\u001b[0;31mNameError\u001b[0m: name 'model1' is not defined"
     ]
    }
   ],
   "source": [
    "def eyeball_test_model(model):\n",
    "    idx = random.randint(0, 100)\n",
    "    test_image_names = get_images_from_directory(test_root_path)\n",
    "    sample_file, sample_name = test_image_names[idx], test_image_names[idx].split('_')[:-1]\n",
    "    path_file = os.path.join(test_root_path, sample_file)\n",
    "    sample_image = imread(path_file)\n",
    "\n",
    "    print(\"Label: {}\".format('_'.join(sample_name)))\n",
    "    \n",
    "    #prediction\n",
    "    pred = model.predict(sample_image[np.newaxis, :])\n",
    "    print(\"PREDICTION: {}\".format(lb.inverse_transform(pred)[0]))\n",
    " \n",
    "    #showing the image\n",
    "    plot_image(sample_image)\n",
    "\n",
    "eyeball_test_model(model1)"
   ]
  },
  {
   "cell_type": "code",
   "execution_count": null,
   "metadata": {
    "collapsed": true
   },
   "outputs": [],
   "source": []
  }
 ],
 "metadata": {
  "kernelspec": {
   "display_name": "Python 3",
   "language": "python",
   "name": "python3"
  },
  "language_info": {
   "codemirror_mode": {
    "name": "ipython",
    "version": 3
   },
   "file_extension": ".py",
   "mimetype": "text/x-python",
   "name": "python",
   "nbconvert_exporter": "python",
   "pygments_lexer": "ipython3",
   "version": "3.5.3"
  }
 },
 "nbformat": 4,
 "nbformat_minor": 2
}
