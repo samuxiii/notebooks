{
  "nbformat": 4,
  "nbformat_minor": 0,
  "metadata": {
    "kernelspec": {
      "display_name": "Python 3",
      "language": "python",
      "name": "python3"
    },
    "language_info": {
      "codemirror_mode": {
        "name": "ipython",
        "version": 3
      },
      "file_extension": ".py",
      "mimetype": "text/x-python",
      "name": "python",
      "nbconvert_exporter": "python",
      "pygments_lexer": "ipython3",
      "version": "3.5.3"
    },
    "colab": {
      "name": "Ethereum Stock.ipynb",
      "provenance": [],
      "collapsed_sections": []
    }
  },
  "cells": [
    {
      "cell_type": "markdown",
      "metadata": {
        "id": "bAf0tVYBeCdh",
        "colab_type": "text"
      },
      "source": [
        "## Ethereum Stock Prices"
      ]
    },
    {
      "cell_type": "markdown",
      "metadata": {
        "id": "lg251WVdeCdj",
        "colab_type": "text"
      },
      "source": [
        "* Import data\n",
        "    * Show prices, market capital and volume\n",
        "    * Analysis\n",
        "* Preprocessing data\n",
        "    * Complete the Index\n",
        "    * Find NaN and Fix it\n",
        "    * Closed Price Column\n",
        "* Split data into training and test datasets\n",
        "    * Normalizing datasets\n",
        "* Building the LSTM model\n",
        "  * Regressor\n",
        "  * Sequence\n",
        "    * Special Normalizations for Sequences\n",
        "      * Custom: window steps by change rate\n",
        "* Testing the model\n"
      ]
    },
    {
      "cell_type": "markdown",
      "metadata": {
        "id": "F2_5SOMweCdj",
        "colab_type": "text"
      },
      "source": [
        "### Import Libraries"
      ]
    },
    {
      "cell_type": "code",
      "metadata": {
        "id": "k2Fr7ZF5eCdk",
        "colab_type": "code",
        "colab": {}
      },
      "source": [
        "import os\n",
        "import io\n",
        "import math\n",
        "import random\n",
        "import requests\n",
        "from tqdm import tqdm\n",
        "import numpy as np\n",
        "import pandas as pd\n",
        "import sklearn\n",
        "import matplotlib.dates as mdates\n",
        "import datetime as dt\n",
        "from sklearn.preprocessing import StandardScaler\n",
        "from sklearn.model_selection import train_test_split\n",
        "from sklearn.metrics import r2_score\n",
        "\n",
        "import matplotlib.pyplot as plt\n",
        "%matplotlib inline\n",
        "\n",
        "plt.style.use('seaborn-colorblind')"
      ],
      "execution_count": 1,
      "outputs": []
    },
    {
      "cell_type": "markdown",
      "metadata": {
        "id": "kaMo2ToyeCdo",
        "colab_type": "text"
      },
      "source": [
        "### Import Data and Analysis"
      ]
    },
    {
      "cell_type": "code",
      "metadata": {
        "id": "Y5cZIv3GeCdo",
        "colab_type": "code",
        "colab": {}
      },
      "source": [
        "def download_file(url, filename):\n",
        "    r = requests.get(url, stream=True)\n",
        "\n",
        "    total_size = int(r.headers.get('content-length', 0)); \n",
        "    block_size = 1024\n",
        "    total_kb_size = math.ceil(total_size//block_size)\n",
        "    \n",
        "    wrote = 0 \n",
        "    with open(filename, 'wb') as f:\n",
        "        for data in tqdm(r.iter_content(block_size), total=total_kb_size , unit='KB', unit_scale=True):\n",
        "            wrote = wrote  + len(data)\n",
        "            f.write(data)"
      ],
      "execution_count": 2,
      "outputs": []
    },
    {
      "cell_type": "code",
      "metadata": {
        "id": "KFtgY5YgeCds",
        "colab_type": "code",
        "colab": {}
      },
      "source": [
        "datafile = \"eth-eur.csv\"\n",
        "\n",
        "#import from server\n",
        "if not os.path.exists(datafile):\n",
        "    download_file(\"https://www.coingecko.com/price_charts/export/279/eur.csv\", datafile)\n"
      ],
      "execution_count": 3,
      "outputs": []
    },
    {
      "cell_type": "code",
      "metadata": {
        "id": "fn9Vevo2eCdv",
        "colab_type": "code",
        "colab": {
          "base_uri": "https://localhost:8080/",
          "height": 105
        },
        "outputId": "799fbb65-fe5f-465b-f57b-21652b38e787"
      },
      "source": [
        "data = pd.read_csv(datafile)\n",
        "\n",
        "#print a random sample\n",
        "data.iloc[random.randint(0, data.shape[0])]"
      ],
      "execution_count": 4,
      "outputs": [
        {
          "output_type": "execute_result",
          "data": {
            "text/plain": [
              "snapped_at      2015-10-04 00:00:00 UTC\n",
              "price                          0.595354\n",
              "market_cap                  4.38678e+07\n",
              "total_volume                    93083.1\n",
              "Name: 57, dtype: object"
            ]
          },
          "metadata": {
            "tags": []
          },
          "execution_count": 4
        }
      ]
    },
    {
      "cell_type": "code",
      "metadata": {
        "id": "Z39JecV4eCdy",
        "colab_type": "code",
        "colab": {
          "base_uri": "https://localhost:8080/",
          "height": 212
        },
        "outputId": "2e1973fb-0346-4f68-912c-f8e07b745e4a"
      },
      "source": [
        "data.info()"
      ],
      "execution_count": 5,
      "outputs": [
        {
          "output_type": "stream",
          "text": [
            "<class 'pandas.core.frame.DataFrame'>\n",
            "RangeIndex: 1840 entries, 0 to 1839\n",
            "Data columns (total 4 columns):\n",
            " #   Column        Non-Null Count  Dtype  \n",
            "---  ------        --------------  -----  \n",
            " 0   snapped_at    1840 non-null   object \n",
            " 1   price         1840 non-null   float64\n",
            " 2   market_cap    1839 non-null   float64\n",
            " 3   total_volume  1840 non-null   float64\n",
            "dtypes: float64(3), object(1)\n",
            "memory usage: 57.6+ KB\n"
          ],
          "name": "stdout"
        }
      ]
    },
    {
      "cell_type": "code",
      "metadata": {
        "id": "ocxDI6WEKB7_",
        "colab_type": "code",
        "colab": {
          "base_uri": "https://localhost:8080/",
          "height": 482
        },
        "outputId": "462b76d3-08aa-44e4-f975-541a120ad3b6"
      },
      "source": [
        "import seaborn as sns\n",
        "\n",
        "# Generate a mask for the upper triangle\n",
        "mask = np.triu(np.ones_like(data.corr(), dtype=np.bool))\n",
        "\n",
        "# Set up the matplotlib figure\n",
        "f, ax = plt.subplots(figsize=(9, 7))\n",
        "\n",
        "# Generate a custom diverging colormap\n",
        "cmap = sns.diverging_palette(220, 10, as_cmap=True)\n",
        "\n",
        "sns.heatmap(data.corr(), mask=mask, cmap=cmap, vmax=1, center=0,\n",
        "            square=True, linewidths=.5, cbar_kws={\"shrink\": .5})"
      ],
      "execution_count": 6,
      "outputs": [
        {
          "output_type": "stream",
          "text": [
            "/usr/local/lib/python3.6/dist-packages/statsmodels/tools/_testing.py:19: FutureWarning: pandas.util.testing is deprecated. Use the functions in the public API at pandas.testing instead.\n",
            "  import pandas.util.testing as tm\n"
          ],
          "name": "stderr"
        },
        {
          "output_type": "execute_result",
          "data": {
            "text/plain": [
              "<matplotlib.axes._subplots.AxesSubplot at 0x7fa3b38dd048>"
            ]
          },
          "metadata": {
            "tags": []
          },
          "execution_count": 6
        },
        {
          "output_type": "display_data",
          "data": {
            "image/png": "[encoded data removed]",
            "text/plain": [
              "<Figure size 648x504 with 2 Axes>"
            ]
          },
          "metadata": {
            "tags": [],
            "needs_background": "light"
          }
        }
      ]
    },
    {
      "cell_type": "markdown",
      "metadata": {
        "id": "v_zsVH9heCd1",
        "colab_type": "text"
      },
      "source": [
        "Here we can see that every sample corresponds to a day which is defined by the __day in a date format, the current price, the capital market and the total volume of transactions__ performed that day.\n",
        "\n",
        "At first glance, the __market_cap__ by itself is a good indicator of the price since it has the highest correlation."
      ]
    },
    {
      "cell_type": "code",
      "metadata": {
        "id": "ow2tzdMyeCd2",
        "colab_type": "code",
        "colab": {}
      },
      "source": [
        "#customize index\n",
        "data.snapped_at[0].split()[0]\n",
        "data.snapped_at = data.snapped_at.apply(lambda x: x.split()[0])"
      ],
      "execution_count": 7,
      "outputs": []
    },
    {
      "cell_type": "code",
      "metadata": {
        "id": "7YTBJbqyeCd5",
        "colab_type": "code",
        "colab": {}
      },
      "source": [
        "data.set_index('snapped_at', inplace=True)\n",
        "data.index = pd.to_datetime(data.index)"
      ],
      "execution_count": 8,
      "outputs": []
    },
    {
      "cell_type": "code",
      "metadata": {
        "id": "CUfZXSmweCd8",
        "colab_type": "code",
        "colab": {}
      },
      "source": [
        "features = ['price', 'market_cap', 'total_volume']"
      ],
      "execution_count": 9,
      "outputs": []
    },
    {
      "cell_type": "code",
      "metadata": {
        "id": "-x7GGoZQeCd_",
        "colab_type": "code",
        "colab": {
          "base_uri": "https://localhost:8080/",
          "height": 281
        },
        "outputId": "375ab9fc-cd97-4f44-ffdf-1ddcda2e72f1"
      },
      "source": [
        "data[features].plot(subplots=True, layout=(1,3), figsize=(20,4));"
      ],
      "execution_count": 10,
      "outputs": [
        {
          "output_type": "display_data",
          "data": {
            "image/png": "[encoded data removed]",
            "text/plain": [
              "<Figure size 1440x288 with 3 Axes>"
            ]
          },
          "metadata": {
            "tags": [],
            "needs_background": "light"
          }
        }
      ]
    },
    {
      "cell_type": "markdown",
      "metadata": {
        "id": "yvDGtymueCeF",
        "colab_type": "text"
      },
      "source": [
        "---\n",
        "### Preprocessing Data\n",
        "\n",
        "#### Complete the Index"
      ]
    },
    {
      "cell_type": "markdown",
      "metadata": {
        "id": "bM3UmwSoeCeG",
        "colab_type": "text"
      },
      "source": [
        "The list is not complete _(2015-08-09 is missing)_ so we have to fill the blanks."
      ]
    },
    {
      "cell_type": "code",
      "metadata": {
        "id": "3zK2l7bweCeG",
        "colab_type": "code",
        "colab": {
          "base_uri": "https://localhost:8080/",
          "height": 34
        },
        "outputId": "f276c111-8e15-4322-da69-b5bc22bbf84d"
      },
      "source": [
        "#check\n",
        "'2015-08-09 00:00:00' in data.index"
      ],
      "execution_count": 11,
      "outputs": [
        {
          "output_type": "execute_result",
          "data": {
            "text/plain": [
              "False"
            ]
          },
          "metadata": {
            "tags": []
          },
          "execution_count": 11
        }
      ]
    },
    {
      "cell_type": "code",
      "metadata": {
        "id": "OHkSLcoueCeJ",
        "colab_type": "code",
        "colab": {}
      },
      "source": [
        "#Generate all the possible days and use them to reindex\n",
        "start = data.index[data.index.argmin()]\n",
        "end = data.index[data.index.argmax()]\n",
        "\n",
        "index_complete = pd.date_range(start, end)\n",
        "data = data.reindex(index_complete)"
      ],
      "execution_count": 12,
      "outputs": []
    },
    {
      "cell_type": "markdown",
      "metadata": {
        "id": "TDBpMD1meCeM",
        "colab_type": "text"
      },
      "source": [
        "Now, the index is completed but the inexistent samples must be filled out.\n",
        "\n",
        "#### Find NaN and Fix it"
      ]
    },
    {
      "cell_type": "code",
      "metadata": {
        "id": "FJnoL7OjeCeN",
        "colab_type": "code",
        "colab": {
          "base_uri": "https://localhost:8080/",
          "height": 52
        },
        "outputId": "86b793f1-caf7-4568-f773-c827af7eb10b"
      },
      "source": [
        "#Fill the blanks with the mean between the previous and the day after\n",
        "\n",
        "for idx in data.index:\n",
        "    dayloc = data.index.get_loc(idx)\n",
        "    day = data.loc[idx]\n",
        "    if day.hasnans:\n",
        "        #updating\n",
        "        rg = slice(dayloc-1, dayloc+2)\n",
        "        data.loc[idx] = data.iloc[rg].mean()\n",
        "        \n",
        "        print(\"Day <{}> updated\".format(idx))"
      ],
      "execution_count": 13,
      "outputs": [
        {
          "output_type": "stream",
          "text": [
            "Day <2015-08-09 00:00:00> updated\n",
            "Day <2017-04-02 00:00:00> updated\n"
          ],
          "name": "stdout"
        }
      ]
    },
    {
      "cell_type": "code",
      "metadata": {
        "id": "6YB9JItYeCeQ",
        "colab_type": "code",
        "colab": {
          "base_uri": "https://localhost:8080/",
          "height": 87
        },
        "outputId": "eee3a4bf-6421-4d22-ef55-5e2a0fad355b"
      },
      "source": [
        "#Check\n",
        "data.loc['2015-08-09 00:00:00']"
      ],
      "execution_count": 14,
      "outputs": [
        {
          "output_type": "execute_result",
          "data": {
            "text/plain": [
              "price           8.997108e-01\n",
              "market_cap      5.433769e+07\n",
              "total_volume    3.442869e+05\n",
              "Name: 2015-08-09 00:00:00, dtype: float64"
            ]
          },
          "metadata": {
            "tags": []
          },
          "execution_count": 14
        }
      ]
    },
    {
      "cell_type": "code",
      "metadata": {
        "id": "KM3Athx9eCeT",
        "colab_type": "code",
        "colab": {
          "base_uri": "https://localhost:8080/",
          "height": 87
        },
        "outputId": "4dfd1e47-fdc4-4fb2-a541-ad7211fde023"
      },
      "source": [
        "#Checking if we have NaN in another place\n",
        "data[data.isnull().any(axis=1)].count()"
      ],
      "execution_count": 15,
      "outputs": [
        {
          "output_type": "execute_result",
          "data": {
            "text/plain": [
              "price           0\n",
              "market_cap      0\n",
              "total_volume    0\n",
              "dtype: int64"
            ]
          },
          "metadata": {
            "tags": []
          },
          "execution_count": 15
        }
      ]
    },
    {
      "cell_type": "markdown",
      "metadata": {
        "id": "W4FVcKB4eCeW",
        "colab_type": "text"
      },
      "source": [
        "#### Closed Price Column\n",
        "\n",
        "Now we need to include a new feature which will define the closed price for every sample. Ethereum market is always open so we can forget about weekends and use directly the open price of the next sample.\n",
        "\n",
        "Afterwards the model will use this __*close_price* as the target__ since it's the value we are trying to predict.\n",
        "\n",
        "The following script will help us with that."
      ]
    },
    {
      "cell_type": "code",
      "metadata": {
        "id": "etrTS7NDeCeW",
        "colab_type": "code",
        "colab": {
          "base_uri": "https://localhost:8080/",
          "height": 197
        },
        "outputId": "751f43c4-e8ed-4841-be1d-52bfce96a48f"
      },
      "source": [
        "new_column = 'closed_price'\n",
        "datab = data.copy()\n",
        "\n",
        "nc = list()\n",
        "\n",
        "for idx in data.index:\n",
        "    dayloc = data.index.get_loc(idx)\n",
        "    \n",
        "    #we put the price in the day after as closed price\n",
        "    if dayloc == len(data.index)-1:\n",
        "        #last position will not have closed_price\n",
        "        closed_price = np.nan\n",
        "    else:\n",
        "        closed_price = data.iloc[dayloc+1].price\n",
        "    \n",
        "    nc.append(closed_price)\n",
        "\n",
        "data[new_column] = nc\n",
        "data.tail(5)"
      ],
      "execution_count": 16,
      "outputs": [
        {
          "output_type": "execute_result",
          "data": {
            "text/html": [
              "<div>\n",
              "<style scoped>\n",
              "    .dataframe tbody tr th:only-of-type {\n",
              "        vertical-align: middle;\n",
              "    }\n",
              "\n",
              "    .dataframe tbody tr th {\n",
              "        vertical-align: top;\n",
              "    }\n",
              "\n",
              "    .dataframe thead th {\n",
              "        text-align: right;\n",
              "    }\n",
              "</style>\n",
              "<table border=\"1\" class=\"dataframe\">\n",
              "  <thead>\n",
              "    <tr style=\"text-align: right;\">\n",
              "      <th></th>\n",
              "      <th>price</th>\n",
              "      <th>market_cap</th>\n",
              "      <th>total_volume</th>\n",
              "      <th>closed_price</th>\n",
              "    </tr>\n",
              "  </thead>\n",
              "  <tbody>\n",
              "    <tr>\n",
              "      <th>2020-08-16</th>\n",
              "      <td>365.343550</td>\n",
              "      <td>4.092308e+10</td>\n",
              "      <td>8.668263e+09</td>\n",
              "      <td>365.729804</td>\n",
              "    </tr>\n",
              "    <tr>\n",
              "      <th>2020-08-17</th>\n",
              "      <td>365.729804</td>\n",
              "      <td>4.103849e+10</td>\n",
              "      <td>1.069973e+10</td>\n",
              "      <td>362.102420</td>\n",
              "    </tr>\n",
              "    <tr>\n",
              "      <th>2020-08-18</th>\n",
              "      <td>362.102420</td>\n",
              "      <td>4.063633e+10</td>\n",
              "      <td>9.849998e+09</td>\n",
              "      <td>353.327751</td>\n",
              "    </tr>\n",
              "    <tr>\n",
              "      <th>2020-08-19</th>\n",
              "      <td>353.327751</td>\n",
              "      <td>3.968129e+10</td>\n",
              "      <td>1.009743e+10</td>\n",
              "      <td>343.230167</td>\n",
              "    </tr>\n",
              "    <tr>\n",
              "      <th>2020-08-20</th>\n",
              "      <td>343.230167</td>\n",
              "      <td>3.852235e+10</td>\n",
              "      <td>1.085197e+10</td>\n",
              "      <td>NaN</td>\n",
              "    </tr>\n",
              "  </tbody>\n",
              "</table>\n",
              "</div>"
            ],
            "text/plain": [
              "                 price    market_cap  total_volume  closed_price\n",
              "2020-08-16  365.343550  4.092308e+10  8.668263e+09    365.729804\n",
              "2020-08-17  365.729804  4.103849e+10  1.069973e+10    362.102420\n",
              "2020-08-18  362.102420  4.063633e+10  9.849998e+09    353.327751\n",
              "2020-08-19  353.327751  3.968129e+10  1.009743e+10    343.230167\n",
              "2020-08-20  343.230167  3.852235e+10  1.085197e+10           NaN"
            ]
          },
          "metadata": {
            "tags": []
          },
          "execution_count": 16
        }
      ]
    },
    {
      "cell_type": "code",
      "metadata": {
        "id": "HZBAlgPueCea",
        "colab_type": "code",
        "colab": {}
      },
      "source": [
        "#Delete last because we don't know still the closed price \n",
        "data = data.drop(data.index[len(data)-1])"
      ],
      "execution_count": 17,
      "outputs": []
    },
    {
      "cell_type": "markdown",
      "metadata": {
        "id": "YKRURq24eCed",
        "colab_type": "text"
      },
      "source": [
        "----\n",
        "### Split Data into Training and Test Datasets"
      ]
    },
    {
      "cell_type": "code",
      "metadata": {
        "id": "MumnS3QjeCee",
        "colab_type": "code",
        "colab": {}
      },
      "source": [
        "# 90% for training and 10% for testing\n",
        "split = round(len(data)*0.9)\n",
        "data_train, data_test = data[:split].copy(), data[split:].copy()"
      ],
      "execution_count": 18,
      "outputs": []
    },
    {
      "cell_type": "code",
      "metadata": {
        "id": "gJ9K0awkeCeg",
        "colab_type": "code",
        "colab": {
          "base_uri": "https://localhost:8080/",
          "height": 52
        },
        "outputId": "dababbec-83e7-467a-9a09-e09e2df43280"
      },
      "source": [
        "print(\"Size data_train: {}\".format(data_train.shape[0]))\n",
        "print(\"Size data_test: {}\".format(data_test.shape[0]))"
      ],
      "execution_count": 19,
      "outputs": [
        {
          "output_type": "stream",
          "text": [
            "Size data_train: 1656\n",
            "Size data_test: 184\n"
          ],
          "name": "stdout"
        }
      ]
    },
    {
      "cell_type": "markdown",
      "metadata": {
        "id": "1XEGNzrNeCej",
        "colab_type": "text"
      },
      "source": [
        "### Normalizing Datasets\n",
        "\n",
        "Take care of this because we __don't know if the future values are in the range__. For this reason we'll __fit the scaler using only the training data and NOT the testing data__.\n",
        "\n",
        "__Standardization__ is a well known normalizer that uses the standard deviation assuming the dataset follows a Gaussian distribution (it's specially robust for new values outside of the expected values).\n",
        "\n",
        "_*__Note:__ this method assumes the distribution of data fits to Gaussian distribution._"
      ]
    },
    {
      "cell_type": "code",
      "metadata": {
        "id": "fKAK0n_jeCej",
        "colab_type": "code",
        "colab": {
          "base_uri": "https://localhost:8080/",
          "height": 287
        },
        "outputId": "4367ad1d-f1e8-4c5b-8f95-8da6e79b43ca"
      },
      "source": [
        "#Scale the data\n",
        "scaler = StandardScaler()\n",
        "\n",
        "data_train_norm, data_test_norm = data_train.copy(), data_test.copy()\n",
        "\n",
        "data_train_norm[data.columns] = scaler.fit_transform(data_train[data.columns])\n",
        "data_test_norm[data.columns] = scaler.transform(data_test[data.columns])\n",
        "\n",
        "data_test_norm.describe()"
      ],
      "execution_count": 20,
      "outputs": [
        {
          "output_type": "execute_result",
          "data": {
            "text/html": [
              "<div>\n",
              "<style scoped>\n",
              "    .dataframe tbody tr th:only-of-type {\n",
              "        vertical-align: middle;\n",
              "    }\n",
              "\n",
              "    .dataframe tbody tr th {\n",
              "        vertical-align: top;\n",
              "    }\n",
              "\n",
              "    .dataframe thead th {\n",
              "        text-align: right;\n",
              "    }\n",
              "</style>\n",
              "<table border=\"1\" class=\"dataframe\">\n",
              "  <thead>\n",
              "    <tr style=\"text-align: right;\">\n",
              "      <th></th>\n",
              "      <th>price</th>\n",
              "      <th>market_cap</th>\n",
              "      <th>total_volume</th>\n",
              "      <th>closed_price</th>\n",
              "    </tr>\n",
              "  </thead>\n",
              "  <tbody>\n",
              "    <tr>\n",
              "      <th>count</th>\n",
              "      <td>184.000000</td>\n",
              "      <td>184.000000</td>\n",
              "      <td>184.000000</td>\n",
              "      <td>184.000000</td>\n",
              "    </tr>\n",
              "    <tr>\n",
              "      <th>mean</th>\n",
              "      <td>0.151162</td>\n",
              "      <td>0.273271</td>\n",
              "      <td>2.055636</td>\n",
              "      <td>0.153070</td>\n",
              "    </tr>\n",
              "    <tr>\n",
              "      <th>std</th>\n",
              "      <td>0.296582</td>\n",
              "      <td>0.341658</td>\n",
              "      <td>1.215129</td>\n",
              "      <td>0.300683</td>\n",
              "    </tr>\n",
              "    <tr>\n",
              "      <th>min</th>\n",
              "      <td>-0.376496</td>\n",
              "      <td>-0.340572</td>\n",
              "      <td>0.360156</td>\n",
              "      <td>-0.377308</td>\n",
              "    </tr>\n",
              "    <tr>\n",
              "      <th>25%</th>\n",
              "      <td>-0.001516</td>\n",
              "      <td>0.097525</td>\n",
              "      <td>1.149969</td>\n",
              "      <td>-0.002259</td>\n",
              "    </tr>\n",
              "    <tr>\n",
              "      <th>50%</th>\n",
              "      <td>0.142447</td>\n",
              "      <td>0.262684</td>\n",
              "      <td>1.882881</td>\n",
              "      <td>0.141730</td>\n",
              "    </tr>\n",
              "    <tr>\n",
              "      <th>75%</th>\n",
              "      <td>0.208795</td>\n",
              "      <td>0.339891</td>\n",
              "      <td>2.699400</td>\n",
              "      <td>0.208091</td>\n",
              "    </tr>\n",
              "    <tr>\n",
              "      <th>max</th>\n",
              "      <td>0.988976</td>\n",
              "      <td>1.234290</td>\n",
              "      <td>7.298903</td>\n",
              "      <td>0.988413</td>\n",
              "    </tr>\n",
              "  </tbody>\n",
              "</table>\n",
              "</div>"
            ],
            "text/plain": [
              "            price  market_cap  total_volume  closed_price\n",
              "count  184.000000  184.000000    184.000000    184.000000\n",
              "mean     0.151162    0.273271      2.055636      0.153070\n",
              "std      0.296582    0.341658      1.215129      0.300683\n",
              "min     -0.376496   -0.340572      0.360156     -0.377308\n",
              "25%     -0.001516    0.097525      1.149969     -0.002259\n",
              "50%      0.142447    0.262684      1.882881      0.141730\n",
              "75%      0.208795    0.339891      2.699400      0.208091\n",
              "max      0.988976    1.234290      7.298903      0.988413"
            ]
          },
          "metadata": {
            "tags": []
          },
          "execution_count": 20
        }
      ]
    },
    {
      "cell_type": "markdown",
      "metadata": {
        "id": "UtJTecDAeCem",
        "colab_type": "text"
      },
      "source": [
        "---\n",
        "## Building the Model"
      ]
    },
    {
      "cell_type": "markdown",
      "metadata": {
        "id": "5v6DVHbFeCem",
        "colab_type": "text"
      },
      "source": [
        "### Check Tensorflow and GPU"
      ]
    },
    {
      "cell_type": "code",
      "metadata": {
        "id": "7cWdX-yUeCem",
        "colab_type": "code",
        "colab": {
          "base_uri": "https://localhost:8080/",
          "height": 70
        },
        "outputId": "24380a59-99de-4ade-8c96-bc322a3d4be1"
      },
      "source": [
        "from distutils.version import LooseVersion\n",
        "import warnings\n",
        "import tensorflow as tf\n",
        "\n",
        "# Check TensorFlow Version\n",
        "assert LooseVersion(tf.__version__) >= LooseVersion('1.0'), 'Please use TensorFlow version 1.0 or newer'\n",
        "print('TensorFlow Version: {}'.format(tf.__version__))\n",
        "\n",
        "# Check for a GPU\n",
        "if not tf.test.gpu_device_name():\n",
        "    warnings.warn('No GPU found. Please use a GPU to train your neural network.')\n",
        "else:\n",
        "    print('Default GPU Device: {}'.format(tf.test.gpu_device_name()))"
      ],
      "execution_count": 21,
      "outputs": [
        {
          "output_type": "stream",
          "text": [
            "TensorFlow Version: 2.3.0\n"
          ],
          "name": "stdout"
        },
        {
          "output_type": "stream",
          "text": [
            "/usr/local/lib/python3.6/dist-packages/ipykernel_launcher.py:11: UserWarning: No GPU found. Please use a GPU to train your neural network.\n",
            "  # This is added back by InteractiveShellApp.init_path()\n"
          ],
          "name": "stderr"
        }
      ]
    },
    {
      "cell_type": "markdown",
      "metadata": {
        "id": "HsB6HiDteCep",
        "colab_type": "text"
      },
      "source": [
        "### Regressor model\n",
        "\n",
        "* 1 step and 3 features"
      ]
    },
    {
      "cell_type": "code",
      "metadata": {
        "id": "8A2zmAqaeCeq",
        "colab_type": "code",
        "colab": {}
      },
      "source": [
        "from keras.models import Sequential\n",
        "from keras.layers import Dense\n",
        "from keras.layers import LSTM\n",
        "from keras.layers import Flatten\n",
        "\n",
        "X_train = data_train_norm[features].values.reshape((data_train_norm.shape[0], 1, 3))\n",
        "y_train = data_train_norm.closed_price.values\n",
        "\n",
        "X_test = data_test_norm[features].values.reshape((data_test_norm.shape[0], 1, 3))\n",
        "y_test = data_test_norm.closed_price.values\n"
      ],
      "execution_count": 22,
      "outputs": []
    },
    {
      "cell_type": "code",
      "metadata": {
        "id": "kEJfUv1DeCet",
        "colab_type": "code",
        "colab": {
          "base_uri": "https://localhost:8080/",
          "height": 87
        },
        "outputId": "dc29bfec-5d28-415d-b504-e48af7775ac4"
      },
      "source": [
        "print(X_train.shape)\n",
        "print(y_train.shape)\n",
        "print(X_test.shape)\n",
        "print(y_test.shape)"
      ],
      "execution_count": 23,
      "outputs": [
        {
          "output_type": "stream",
          "text": [
            "(1656, 1, 3)\n",
            "(1656,)\n",
            "(184, 1, 3)\n",
            "(184,)\n"
          ],
          "name": "stdout"
        }
      ]
    },
    {
      "cell_type": "code",
      "metadata": {
        "scrolled": true,
        "id": "uswK6050eCez",
        "colab_type": "code",
        "colab": {
          "base_uri": "https://localhost:8080/",
          "height": 34
        },
        "outputId": "b63600aa-cf9e-4ee6-cf9b-8d0eee74a124"
      },
      "source": [
        "model = Sequential()\n",
        "model.add(LSTM(32, input_shape=(1, 3) ))\n",
        "model.add(Dense(1))\n",
        "model.compile(loss='mean_squared_error', optimizer='adam')\n",
        "model.fit(X_train, y_train, epochs=50, batch_size=32, verbose=0)"
      ],
      "execution_count": 24,
      "outputs": [
        {
          "output_type": "execute_result",
          "data": {
            "text/plain": [
              "<tensorflow.python.keras.callbacks.History at 0x7fa379256780>"
            ]
          },
          "metadata": {
            "tags": []
          },
          "execution_count": 24
        }
      ]
    },
    {
      "cell_type": "code",
      "metadata": {
        "id": "RU__maY7eCe3",
        "colab_type": "code",
        "colab": {
          "base_uri": "https://localhost:8080/",
          "height": 52
        },
        "outputId": "545ab739-98cf-4b06-a00d-ea16c1ebbf77"
      },
      "source": [
        "print(\"Training) R^2 score: {:.3f}\".format(r2_score(y_train, model.predict(X_train))))\n",
        "print(\"Testing)  R^2 score: {:.3f}\".format(r2_score(y_test, model.predict(X_test))))"
      ],
      "execution_count": 25,
      "outputs": [
        {
          "output_type": "stream",
          "text": [
            "Training) R^2 score: 0.993\n",
            "Testing)  R^2 score: 0.962\n"
          ],
          "name": "stdout"
        }
      ]
    },
    {
      "cell_type": "code",
      "metadata": {
        "id": "l_CbpPvCeCe5",
        "colab_type": "code",
        "colab": {
          "base_uri": "https://localhost:8080/",
          "height": 282
        },
        "outputId": "02f1072d-875a-41d6-9a83-a21e83f3c37a"
      },
      "source": [
        "pred = model.predict(X_train)\n",
        "plt.plot(y_train, label='Actual')\n",
        "plt.plot(pred, label='Prediction')\n",
        "plt.legend()"
      ],
      "execution_count": 26,
      "outputs": [
        {
          "output_type": "execute_result",
          "data": {
            "text/plain": [
              "<matplotlib.legend.Legend at 0x7fa375faf438>"
            ]
          },
          "metadata": {
            "tags": []
          },
          "execution_count": 26
        },
        {
          "output_type": "display_data",
          "data": {
            "image/png": "[encoded data removed]",
            "text/plain": [
              "<Figure size 432x288 with 1 Axes>"
            ]
          },
          "metadata": {
            "tags": [],
            "needs_background": "light"
          }
        }
      ]
    },
    {
      "cell_type": "code",
      "metadata": {
        "id": "zLVLrHNseCe8",
        "colab_type": "code",
        "colab": {}
      },
      "source": [
        "#saving\n",
        "model_1_3 = model"
      ],
      "execution_count": 27,
      "outputs": []
    },
    {
      "cell_type": "markdown",
      "metadata": {
        "id": "ZGxB3VN8eCfG",
        "colab_type": "text"
      },
      "source": [
        "### Sequence model\n",
        "\n",
        "* 7 steps and 3 features"
      ]
    },
    {
      "cell_type": "code",
      "metadata": {
        "id": "LvP_AsIYeCfH",
        "colab_type": "code",
        "colab": {
          "base_uri": "https://localhost:8080/",
          "height": 34
        },
        "outputId": "25537796-c561-456e-85dd-b9d7a253d214"
      },
      "source": [
        "'''\n",
        "Helper function to transform the dataset to\n",
        "shapes defined by 7 steps and 3 features\n",
        "'''\n",
        "def prepare_sequence(data, sequence_size=7):\n",
        "    sequence = []\n",
        "    buckets = data.shape[0]//sequence_size\n",
        "    init_sample = data.shape[0] - buckets*sequence_size\n",
        "    samples = 0\n",
        "    for i in range(init_sample, data.shape[0] - sequence_size + 1):\n",
        "        sequence.append(data[i:i+sequence_size])\n",
        "        samples += 1\n",
        "    return np.concatenate(sequence).reshape((samples, sequence_size, data.shape[1]))\n",
        "\n",
        "prepare_sequence(data[features]).shape"
      ],
      "execution_count": 28,
      "outputs": [
        {
          "output_type": "execute_result",
          "data": {
            "text/plain": [
              "(1828, 7, 3)"
            ]
          },
          "metadata": {
            "tags": []
          },
          "execution_count": 28
        }
      ]
    },
    {
      "cell_type": "code",
      "metadata": {
        "id": "BfNE9OAMeCfK",
        "colab_type": "code",
        "colab": {}
      },
      "source": [
        "#getting (samples, steps, features)\n",
        "X_train = prepare_sequence(data_train_norm[features])\n",
        "X_test = prepare_sequence(data_test_norm[features])\n",
        "\n",
        "y_train = data_train_norm.iloc[-len(X_train):].closed_price.values\n",
        "y_test = data_test_norm.iloc[-len(X_test):].closed_price.values"
      ],
      "execution_count": 29,
      "outputs": []
    },
    {
      "cell_type": "code",
      "metadata": {
        "id": "92Tz9oJgeCfM",
        "colab_type": "code",
        "colab": {
          "base_uri": "https://localhost:8080/",
          "height": 87
        },
        "outputId": "85d9008f-8547-4226-d905-0e20c8c99a6a"
      },
      "source": [
        "print(X_train.shape)\n",
        "print(y_train.shape)\n",
        "print(X_test.shape)\n",
        "print(y_test.shape)"
      ],
      "execution_count": 30,
      "outputs": [
        {
          "output_type": "stream",
          "text": [
            "(1646, 7, 3)\n",
            "(1646,)\n",
            "(176, 7, 3)\n",
            "(176,)\n"
          ],
          "name": "stdout"
        }
      ]
    },
    {
      "cell_type": "code",
      "metadata": {
        "scrolled": true,
        "id": "vjeL_cSpeCfO",
        "colab_type": "code",
        "colab": {
          "base_uri": "https://localhost:8080/",
          "height": 34
        },
        "outputId": "6e3d5577-97a4-4510-def1-f359c2041e4e"
      },
      "source": [
        "model = Sequential()\n",
        "model.add(LSTM(32, input_shape=(7, 3) ))\n",
        "model.add(Dense(1))\n",
        "model.compile(loss='mean_squared_error', optimizer='adam')\n",
        "model.fit(X_train, y_train, epochs=50, batch_size=32, verbose=0)"
      ],
      "execution_count": 31,
      "outputs": [
        {
          "output_type": "execute_result",
          "data": {
            "text/plain": [
              "<tensorflow.python.keras.callbacks.History at 0x7fa375ca1710>"
            ]
          },
          "metadata": {
            "tags": []
          },
          "execution_count": 31
        }
      ]
    },
    {
      "cell_type": "code",
      "metadata": {
        "id": "Myk62O-ceCfQ",
        "colab_type": "code",
        "colab": {
          "base_uri": "https://localhost:8080/",
          "height": 52
        },
        "outputId": "e72bc083-25ea-4c50-cb2d-5979be9fba2d"
      },
      "source": [
        "print(\"Training) R^2 score: {:.3f}\".format(r2_score(y_train, model.predict(X_train))))\n",
        "print(\"Testing)  R^2 score: {:.3f}\".format(r2_score(y_test, model.predict(X_test))))"
      ],
      "execution_count": 32,
      "outputs": [
        {
          "output_type": "stream",
          "text": [
            "Training) R^2 score: 0.992\n",
            "Testing)  R^2 score: 0.942\n"
          ],
          "name": "stdout"
        }
      ]
    },
    {
      "cell_type": "code",
      "metadata": {
        "id": "rOMpZAaweCfS",
        "colab_type": "code",
        "colab": {
          "base_uri": "https://localhost:8080/",
          "height": 282
        },
        "outputId": "1b119d0b-30a2-4845-d9a9-57c9035e3fdb"
      },
      "source": [
        "pred = model.predict(X_train)\n",
        "plt.plot(y_train, label='Actual')\n",
        "plt.plot(pred, label='Prediction')\n",
        "plt.legend()"
      ],
      "execution_count": 33,
      "outputs": [
        {
          "output_type": "execute_result",
          "data": {
            "text/plain": [
              "<matplotlib.legend.Legend at 0x7fa3749d70b8>"
            ]
          },
          "metadata": {
            "tags": []
          },
          "execution_count": 33
        },
        {
          "output_type": "display_data",
          "data": {
            "image/png": "[encoded data removed]",
            "text/plain": [
              "<Figure size 432x288 with 1 Axes>"
            ]
          },
          "metadata": {
            "tags": [],
            "needs_background": "light"
          }
        }
      ]
    },
    {
      "cell_type": "code",
      "metadata": {
        "id": "5k1EVPZYeCfV",
        "colab_type": "code",
        "colab": {}
      },
      "source": [
        "#saving\n",
        "model_7_3 = model"
      ],
      "execution_count": 34,
      "outputs": []
    },
    {
      "cell_type": "markdown",
      "metadata": {
        "collapsed": true,
        "id": "E5JbdzimeCfX",
        "colab_type": "text"
      },
      "source": [
        "### ⇩ SPECIAL NORMALIZATION FOR SEQUENCES ⇩\n",
        "\n",
        "The neural network is not able to get good predictions for that data that has not seen before. For that reason we can find day that are not well fitted. This problem is related to the __'out-of-scale'__ data inputs.\n",
        "\n",
        "#### Custom: window steps by the rate of change ####\n",
        "\n",
        "Thinking that the batch size is a window of days that defines how the neural network learns, one idea is to normalize the window by the last sample. On this way we'll be able to keep almost all data in the same scale."
      ]
    },
    {
      "cell_type": "code",
      "metadata": {
        "id": "bNIUNyvNeCfX",
        "colab_type": "code",
        "colab": {}
      },
      "source": [
        "def print_mean_std(data):\n",
        "    mean = np.mean(data)\n",
        "    std = np.std(data)\n",
        "    print(\"mean:{:.3f} std:{:.3f}\".format(mean, std))"
      ],
      "execution_count": 35,
      "outputs": []
    },
    {
      "cell_type": "code",
      "metadata": {
        "id": "J41g68e1eCfZ",
        "colab_type": "code",
        "colab": {}
      },
      "source": [
        "def window_normalization(data, window_size):\n",
        "    y = np.empty_like(data, dtype='float64')\n",
        "    normalizer = list()\n",
        "    for i in range(0,len(data), window_size):\n",
        "        j = min(i+window_size, len(data))\n",
        "        y[i:j] = data[i:j]/np.abs(data[j-1])\n",
        "        normalizer.append(np.abs(data[j-1]))\n",
        "        #print_mean_std(y[i:j])\n",
        "        \n",
        "    return y, normalizer\n",
        "\n",
        "def window_denormalization(norm_data, normalizer, window_size):\n",
        "    y = np.empty_like(norm_data, dtype='float64')\n",
        "    idx = 0\n",
        "    for i in range(0,len(norm_data), window_size):\n",
        "        j = min(i+window_size, len(norm_data))\n",
        "        y[i:j] = norm_data[i:j]*normalizer[idx]\n",
        "        idx += 1\n",
        "        \n",
        "    return y"
      ],
      "execution_count": 36,
      "outputs": []
    },
    {
      "cell_type": "code",
      "metadata": {
        "id": "S4aooL_veCfc",
        "colab_type": "code",
        "colab": {}
      },
      "source": [
        "#testing the function\n",
        "a = np.array([[1, 1, 1], [2, 2, 2], [2, 2, 2], [8, 8, 8]])\n",
        "expected_result = np.array([[0.5, 0.5, 0.5], [1, 1, 1], [0.25, 0.25, 0.25], [1, 1, 1]])\n",
        "norm_a, normalizer = window_normalization(a, 2)\n",
        "\n",
        "assert ( np.array_equal(norm_a, expected_result) )\n",
        "assert ( np.array_equal(a, window_denormalization(norm_a, normalizer, 2)) )"
      ],
      "execution_count": 37,
      "outputs": []
    },
    {
      "cell_type": "code",
      "metadata": {
        "id": "bV4WJDrIeCfh",
        "colab_type": "code",
        "colab": {
          "base_uri": "https://localhost:8080/",
          "height": 35
        },
        "outputId": "fce0ddba-5435-490b-9bf7-00e492c9b1d5"
      },
      "source": [
        "#Showing the last sample\n",
        "data.index[-1].strftime(\"%d-%m-%Y\")"
      ],
      "execution_count": 38,
      "outputs": [
        {
          "output_type": "execute_result",
          "data": {
            "application/vnd.google.colaboratory.intrinsic+json": {
              "type": "string"
            },
            "text/plain": [
              "'19-08-2020'"
            ]
          },
          "metadata": {
            "tags": []
          },
          "execution_count": 38
        }
      ]
    },
    {
      "cell_type": "code",
      "metadata": {
        "id": "8_odWXPDeCfk",
        "colab_type": "code",
        "colab": {}
      },
      "source": [
        "window_size=32\n",
        "\n",
        "X_train = data_train[features].values\n",
        "y_train = data_train.closed_price.values\n",
        "\n",
        "X_train_norm, _ = window_normalization(X_train, window_size)\n",
        "y_train_norm, y_normalizer = window_normalization(y_train, window_size)\n",
        "\n",
        "#getting (samples, steps, features)\n",
        "X_train_norm = prepare_sequence(X_train_norm)\n",
        "y_train_norm = y_train_norm[-len(X_train_norm):]"
      ],
      "execution_count": 39,
      "outputs": []
    },
    {
      "cell_type": "code",
      "metadata": {
        "scrolled": true,
        "id": "DiRgbjOdeCfo",
        "colab_type": "code",
        "colab": {
          "base_uri": "https://localhost:8080/",
          "height": 34
        },
        "outputId": "515e817f-a28c-4d4a-c668-de10c4ee07df"
      },
      "source": [
        "model = Sequential()\n",
        "model.add(LSTM(32, input_shape=(7,3) ))\n",
        "model.add(Dense(1))\n",
        "model.compile(loss='mean_squared_error', optimizer='adam')\n",
        "model.fit(X_train_norm, y_train_norm, epochs=50, batch_size=window_size, verbose=0)"
      ],
      "execution_count": 40,
      "outputs": [
        {
          "output_type": "execute_result",
          "data": {
            "text/plain": [
              "<tensorflow.python.keras.callbacks.History at 0x7fa37488f400>"
            ]
          },
          "metadata": {
            "tags": []
          },
          "execution_count": 40
        }
      ]
    },
    {
      "cell_type": "code",
      "metadata": {
        "id": "qzJ8fB-JeCfq",
        "colab_type": "code",
        "colab": {}
      },
      "source": [
        "X_test = data_test[features].values\n",
        "y_test = data_test.closed_price.values\n",
        "\n",
        "X_test_norm, _ = window_normalization(X_test, window_size)\n",
        "y_test_norm, y_scaler = window_normalization(y_test, window_size)\n",
        "\n",
        "#getting (samples, steps, features)\n",
        "X_test_norm = prepare_sequence(X_test_norm)\n",
        "y_test_norm = y_test_norm[-len(X_test_norm):]"
      ],
      "execution_count": 41,
      "outputs": []
    },
    {
      "cell_type": "code",
      "metadata": {
        "id": "A21rcel8eCfx",
        "colab_type": "code",
        "colab": {
          "base_uri": "https://localhost:8080/",
          "height": 52
        },
        "outputId": "69fe0a46-c420-4fa1-e98c-467379f4e108"
      },
      "source": [
        "print(\"Training) R^2 score: {:.3f}\".format(r2_score(y_train_norm, model.predict(X_train_norm))))\n",
        "print(\"Testing)  R^2 score: {:.3f}\".format(r2_score(y_test_norm, model.predict(X_test_norm))))"
      ],
      "execution_count": 42,
      "outputs": [
        {
          "output_type": "stream",
          "text": [
            "Training) R^2 score: 0.919\n",
            "Testing)  R^2 score: 0.895\n"
          ],
          "name": "stdout"
        }
      ]
    },
    {
      "cell_type": "code",
      "metadata": {
        "id": "jdjSC3TYeCf0",
        "colab_type": "code",
        "colab": {
          "base_uri": "https://localhost:8080/",
          "height": 282
        },
        "outputId": "d9a922b3-541e-4dae-9ada-948815ed2eb8"
      },
      "source": [
        "pred = model.predict(X_train_norm)\n",
        "plt.plot(y_train_norm, label='Actual')\n",
        "plt.plot(pred, label='Prediction')\n",
        "plt.legend()"
      ],
      "execution_count": 43,
      "outputs": [
        {
          "output_type": "execute_result",
          "data": {
            "text/plain": [
              "<matplotlib.legend.Legend at 0x7fa373be2c18>"
            ]
          },
          "metadata": {
            "tags": []
          },
          "execution_count": 43
        },
        {
          "output_type": "display_data",
          "data": {
            "image/png": "[encoded data removed]",
            "text/plain": [
              "<Figure size 432x288 with 1 Axes>"
            ]
          },
          "metadata": {
            "tags": [],
            "needs_background": "light"
          }
        }
      ]
    },
    {
      "cell_type": "code",
      "metadata": {
        "id": "Vbd661rTeCf3",
        "colab_type": "code",
        "colab": {}
      },
      "source": [
        "#saving \n",
        "model_win = model"
      ],
      "execution_count": 44,
      "outputs": []
    },
    {
      "cell_type": "markdown",
      "metadata": {
        "id": "g6I_S-LpeCf5",
        "colab_type": "text"
      },
      "source": [
        "---\n",
        "## Testing the Model\n",
        "\n",
        "Seeing the last results our best chance of accurate predictions (__at a glance__) is to use:\n",
        "\n",
        "* LSTM sequence by 7 steps and 3 features\n",
        "* Data Standardization"
      ]
    },
    {
      "cell_type": "code",
      "metadata": {
        "id": "AWAMgqSSeCf5",
        "colab_type": "code",
        "colab": {}
      },
      "source": [
        "X_test = prepare_sequence(data_test_norm[features])\n",
        "y_test = data_test_norm.iloc[-len(X_test):].closed_price.values\n",
        "\n",
        "pred = model_7_3.predict(X_test)"
      ],
      "execution_count": 45,
      "outputs": []
    },
    {
      "cell_type": "code",
      "metadata": {
        "id": "DiN6oi4CfAgD",
        "colab_type": "code",
        "colab": {
          "base_uri": "https://localhost:8080/",
          "height": 578
        },
        "outputId": "c8e38365-ea08-4c47-ff21-b5b3960eafff"
      },
      "source": [
        "test_prices = scaler.inverse_transform(data_test_norm[8:])\n",
        "pred_prices = test_prices.copy()\n",
        "pred_prices[:,3] = pred.reshape(-1)\n",
        "pred_prices = scaler.inverse_transform(pred_prices)\n",
        "\n",
        "plt.figure(figsize=(20,10))\n",
        "plt.plot(data_test_norm[8:].index, test_prices[:,3], label='Actual Price')\n",
        "plt.plot(data_test_norm[8:].index, pred_prices[:,3], label='Prediction')\n",
        "plt.ylabel('Price (€)')\n",
        "plt.xlabel('Date')\n",
        "plt.legend()\n",
        "\n",
        "plt.gca().xaxis.set_major_formatter(mdates.DateFormatter('%Y-%m-%d'))\n",
        "plt.gca().xaxis.set_major_locator(mdates.DayLocator(interval=5))\n",
        "plt.gcf().autofmt_xdate()"
      ],
      "execution_count": 46,
      "outputs": [
        {
          "output_type": "display_data",
          "data": {
            "image/png": "[encoded data removed]",
            "text/plain": [
              "<Figure size 1440x720 with 1 Axes>"
            ]
          },
          "metadata": {
            "tags": [],
            "needs_background": "light"
          }
        }
      ]
    }
  ]
}