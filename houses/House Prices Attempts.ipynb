{
 "cells": [
  {
   "cell_type": "markdown",
   "metadata": {},
   "source": [
    "# House Prices Estimator\n",
    "\n",
    "__Note:__ It's a competition from __Kaggle.com__ and the input data was retrieved from there.\n"
   ]
  },
  {
   "cell_type": "markdown",
   "metadata": {},
   "source": [
    "## Data Analysis"
   ]
  },
  {
   "cell_type": "code",
   "execution_count": 141,
   "metadata": {
    "collapsed": true
   },
   "outputs": [],
   "source": [
    "import numpy as np\n",
    "import pandas as pd\n",
    "\n",
    "#load the files\n",
    "train = pd.read_csv('input/train.csv')\n",
    "test = pd.read_csv('input/test.csv')\n",
    "data = pd.concat([train, test])\n",
    "\n",
    "#size of training dataset\n",
    "train_samples = train.shape[0]\n",
    "test_samples = test.shape[0]"
   ]
  },
  {
   "cell_type": "code",
   "execution_count": 142,
   "metadata": {
    "collapsed": true
   },
   "outputs": [],
   "source": [
    "# remove the Id feature\n",
    "data.drop(['Id'],1, inplace=True);"
   ]
  },
  {
   "cell_type": "code",
   "execution_count": 143,
   "metadata": {
    "collapsed": true
   },
   "outputs": [],
   "source": [
    "#data.describe()"
   ]
  },
  {
   "cell_type": "code",
   "execution_count": 144,
   "metadata": {
    "collapsed": true
   },
   "outputs": [],
   "source": [
    "datanum = data.select_dtypes([np.number])\n",
    "datanum = datanum.fillna(datanum.dropna().mean())"
   ]
  },
  {
   "cell_type": "code",
   "execution_count": 145,
   "metadata": {},
   "outputs": [
    {
     "data": {
      "text/plain": [
       "<matplotlib.axes._subplots.AxesSubplot at 0x1134eb0f0>"
      ]
     },
     "execution_count": 145,
     "metadata": {},
     "output_type": "execute_result"
    },
    {
     "data": {
      "image/png": "[encoded data removed]",
      "text/plain": [
       "<matplotlib.figure.Figure at 0x111f47b70>"
      ]
     },
     "metadata": {},
     "output_type": "display_data"
    }
   ],
   "source": [
    "import matplotlib.pyplot as plt\n",
    "%matplotlib inline\n",
    "# Transforming to non-skewed SalePrice\n",
    "data.SalePrice = data.SalePrice.apply(np.log)\n",
    "data.SalePrice.hist(bins=50)"
   ]
  },
  {
   "cell_type": "code",
   "execution_count": 235,
   "metadata": {},
   "outputs": [
    {
     "data": {
      "text/plain": [
       "OverallQual     0.547865\n",
       "GrLivArea       0.518693\n",
       "GarageCars      0.444010\n",
       "GarageArea      0.437270\n",
       "TotalBsmtSF     0.431030\n",
       "1stFlrSF        0.421430\n",
       "FullBath        0.394865\n",
       "TotRmsAbvGrd    0.388821\n",
       "YearBuilt       0.368417\n",
       "YearRemodAdd    0.352833\n",
       "Name: SalePrice, dtype: float64"
      ]
     },
     "execution_count": 235,
     "metadata": {},
     "output_type": "execute_result"
    }
   ],
   "source": [
    "# Correlation features\n",
    "datanum.corr()['SalePrice'].drop('SalePrice').sort_values(ascending=False).head(10)"
   ]
  },
  {
   "cell_type": "code",
   "execution_count": 238,
   "metadata": {
    "collapsed": true
   },
   "outputs": [],
   "source": [
    "def getDataWithHighCorrFeatures(data, numberFeatures=10):\n",
    "    high_corr_feat_names = data.corr()['SalePrice'].drop('SalePrice').sort_values(ascending=False).head(numberFeatures).axes[0].tolist()\n",
    "    #high_corr_feat_names.remove('SalePrice')\n",
    "    return data[high_corr_feat_names]"
   ]
  },
  {
   "cell_type": "markdown",
   "metadata": {},
   "source": [
    "### KFold"
   ]
  },
  {
   "cell_type": "code",
   "execution_count": 214,
   "metadata": {},
   "outputs": [
    {
     "name": "stdout",
     "output_type": "stream",
     "text": [
      "KFold(n_splits=10, random_state=13, shuffle=False)\n"
     ]
    }
   ],
   "source": [
    "from sklearn.model_selection import KFold\n",
    "\n",
    "kf = KFold(n_splits=10, random_state=13)#, shuffle=True)\n",
    "print(kf)"
   ]
  },
  {
   "cell_type": "code",
   "execution_count": 188,
   "metadata": {
    "collapsed": true
   },
   "outputs": [],
   "source": [
    "#plotting PCA\n",
    "from sklearn.decomposition import PCA\n",
    "\n",
    "def getX_PCA(X):\n",
    "    pca = PCA(n_components=1)\n",
    "    return pca.fit(X).transform(X)\n",
    "    \n",
    "def plotPCA(X, y):\n",
    "    pca = PCA(n_components=1)\n",
    "    X_r = pca.fit(X).transform(X)\n",
    "    plt.plot(X_r, y, 'x')"
   ]
  },
  {
   "cell_type": "code",
   "execution_count": 244,
   "metadata": {},
   "outputs": [],
   "source": [
    "from sklearn.covariance import EllipticEnvelope\n",
    "\n",
    "def removeAnomalies(X_train, y_train, verbose=False):\n",
    "    # fit the model\n",
    "    ee = EllipticEnvelope(contamination=0.01,\n",
    "                          assume_centered=True,\n",
    "                          random_state=13)\n",
    "    ee.fit(X_train)\n",
    "    pred = ee.predict(X_train)\n",
    "\n",
    "    X_anom = X_train[pred != 1]\n",
    "    y_anom = y_train[pred != 1]\n",
    "    X_no_anom = X_train[pred == 1]\n",
    "    y_no_anom = y_train[pred == 1]\n",
    "    \n",
    "    if (verbose):\n",
    "        print(\"Number samples no anomalies: {}\".format(X_no_anom.shape[0]))\n",
    "\n",
    "    #after removing anomalies\n",
    "    #plt.scatter(getX_PCA(X_no_anom), y_no_anom)\n",
    "    #plt.scatter(getX_PCA(X_anom), y_anom)\n",
    "    \n",
    "    return X_no_anom, y_no_anom"
   ]
  },
  {
   "cell_type": "markdown",
   "metadata": {},
   "source": [
    "### Model"
   ]
  },
  {
   "cell_type": "code",
   "execution_count": 246,
   "metadata": {
    "collapsed": true
   },
   "outputs": [],
   "source": [
    "# Linear regression\n",
    "from sklearn.linear_model import LinearRegression\n",
    "from sklearn.metrics import mean_squared_error\n",
    "\n",
    "def train(X_train, y_train, verbose=False):\n",
    "    lr = LinearRegression()\n",
    "\n",
    "    #\n",
    "    batch = 0\n",
    "    for train_idx, val_idx in kf.split(X_train, y_train):\n",
    "        X_t, X_v = X_train[train_idx], X_train[val_idx]\n",
    "        y_t, y_v = y_train[train_idx], y_train[val_idx]\n",
    "\n",
    "        #training\n",
    "        lr.fit(X_t, y_t)\n",
    "\n",
    "        #calculate costs\n",
    "        t_error = mean_squared_error(y_t, lr.predict(X_t))**0.5\n",
    "        v_error = mean_squared_error(y_v, lr.predict(X_v))**0.5\n",
    "        if verbose:\n",
    "            print(\"{}) Training error: {:.2f}  Validation error: {:.2f} Score: {:.2f}\"\n",
    "                  .format(batch, t_error, v_error, lr.score(X_v, y_v)))\n",
    "        batch += 1\n",
    "        \n",
    "    return lr\n",
    "\n",
    "def metrics(model, X, y, verbose=False):\n",
    "    #Scores\n",
    "    if verbose:\n",
    "        print(\"Training score: {:.4f}\".format(model.score(X, y)))\n",
    "    #RMSLE\n",
    "    rmsle = mean_squared_error(y, model.predict(X))**0.5\n",
    "    if verbose:\n",
    "        print(\"RMSLE: {:.4f}\".format(rmsle))\n",
    "        # Plotting the results\n",
    "        plt.scatter(model.predict(X), y)\n",
    "        \n",
    "    return rmsle"
   ]
  },
  {
   "cell_type": "code",
   "execution_count": 209,
   "metadata": {},
   "outputs": [],
   "source": [
    "# Get polynomial features\n",
    "from sklearn.preprocessing import PolynomialFeatures\n",
    "\n",
    "def getPolynomial(X_train, X_no_anom, X_test):\n",
    "    poly = PolynomialFeatures(degree=2)\n",
    "    return poly.fit_transform(X_train), poly.fit_transform(X_no_anom), poly.fit_transform(X_test)"
   ]
  },
  {
   "cell_type": "code",
   "execution_count": 248,
   "metadata": {},
   "outputs": [],
   "source": [
    "def getKeyWithMinError(X_train, X_no_amon, y_train, y_no_anom, verbose=False):\n",
    "    rmsles = {}\n",
    "    for f in range(1,X_train.shape[1]):\n",
    "        model = train(X_no_anom[:,:f], y_no_anom, verbose=False)\n",
    "        rmsles[f] = metrics(model, X_train[:,:f], y_train, verbose=False)\n",
    "\n",
    "    min_error_key = min(rmsles, key=rmsles.get)\n",
    "    \n",
    "    if (verbose):\n",
    "        print(\"Min error (k={}):{}\".format(min_error_key, rmsles[min_error_key]))\n",
    "    #model = train(X_train_pol[:,:min_error_key], y_train)\n",
    "    #metrics(model, X_train_orig_pol[:,:min_error_key], y_train_orig)\n",
    "    #pd.Series(rmsles).plot()\n",
    "    return min_error_key\n"
   ]
  },
  {
   "cell_type": "markdown",
   "metadata": {},
   "source": [
    "## Running Models"
   ]
  },
  {
   "cell_type": "code",
   "execution_count": 253,
   "metadata": {},
   "outputs": [
    {
     "name": "stdout",
     "output_type": "stream",
     "text": [
      "f:1 err:0.230\n",
      "f:2 err:0.205\n",
      "f:3 err:0.182\n",
      "f:4 err:0.178\n",
      "f:5 err:0.164\n",
      "f:6 err:0.163\n",
      "f:7 err:0.162\n",
      "f:8 err:0.161\n",
      "f:9 err:0.153\n",
      "f:10 err:0.145\n",
      "f:11 err:0.145\n",
      "f:12 err:0.139\n",
      "f:13 err:0.139\n",
      "f:14 err:0.132\n",
      "f:15 err:0.130\n",
      "f:16 err:0.138\n"
     ]
    },
    {
     "data": {
      "text/plain": [
       "<matplotlib.axes._subplots.AxesSubplot at 0x10bb0e278>"
      ]
     },
     "execution_count": 253,
     "metadata": {},
     "output_type": "execute_result"
    },
    {
     "data": {
      "image/png": "[encoded data removed]",
      "text/plain": [
       "<matplotlib.figure.Figure at 0x116ff8dd8>"
      ]
     },
     "metadata": {},
     "output_type": "display_data"
    }
   ],
   "source": [
    "import warnings\n",
    "warnings.filterwarnings('ignore')\n",
    "\n",
    "errors = []\n",
    "for f in range(1,17):\n",
    "    #print(\"====Corr feat: {}====\".format(f))\n",
    "    datanum_high_corr = getDataWithHighCorrFeatures(datanum, f)\n",
    "\n",
    "    y = np.array(data['SalePrice'])\n",
    "    X = np.array(datanum_high_corr)\n",
    "\n",
    "    #split by idx\n",
    "    idx = train_samples\n",
    "    X_train, X_test = X[:idx], X[idx:]\n",
    "    y_train, y_test = y[:idx], y[idx:]\n",
    "\n",
    "    #print(\"Shape X train: {}\".format(X_train.shape))\n",
    "\n",
    "    X_no_anom, y_no_anom = removeAnomalies(X_train, y_train)\n",
    "    #print(\"Shape X train (no anom): {}\".format(X_no_anom.shape))\n",
    "\n",
    "    X_train, X_no_anom, X_test = getPolynomial(X_train, X_no_anom, X_test)\n",
    "    #print(\"Shape X train (poly): {}\".format(X_no_anom.shape))\n",
    "\n",
    "    key = getKeyWithMinError(X_train, X_no_anom, y_train, y_no_anom)\n",
    "    model = train(X_no_anom[:,:key], y_no_anom)\n",
    "    error = metrics(model, X_train[:,:key], y_train)\n",
    "    \n",
    "    print(\"f:{} err:{:.3f}\".format(f, error))\n",
    "    errors.append(error)\n",
    "\n",
    "# show graph\n",
    "pd.Series(errors).plot()"
   ]
  },
  {
   "cell_type": "markdown",
   "metadata": {},
   "source": [
    "## Get Predictions"
   ]
  },
  {
   "cell_type": "code",
   "execution_count": 258,
   "metadata": {},
   "outputs": [
    {
     "name": "stdout",
     "output_type": "stream",
     "text": [
      "0.13001519905\n"
     ]
    }
   ],
   "source": [
    "import os\n",
    "\n",
    "datanum_high_corr = getDataWithHighCorrFeatures(datanum, 15)\n",
    "y = np.array(data['SalePrice'])\n",
    "X = np.array(datanum_high_corr)\n",
    "\n",
    "#split by idx\n",
    "idx = train_samples\n",
    "X_train, X_test = X[:idx], X[idx:]\n",
    "y_train, y_test = y[:idx], y[idx:]\n",
    "\n",
    "X_no_anom, y_no_anom = removeAnomalies(X_train, y_train)\n",
    "X_train, X_no_anom, X_test = getPolynomial(X_train, X_no_anom, X_test)\n",
    "key = getKeyWithMinError(X_train, X_no_anom, y_train, y_no_anom)\n",
    "model = train(X_no_anom[:,:key], y_no_anom)\n",
    "error = metrics(model, X_train[:,:key], y_train)\n",
    "print(error)\n",
    "\n",
    "predict = model.predict(X_test[:,:key])\n",
    "\n",
    "#predictions are logs, return to the value\n",
    "predict = np.exp(predict)\n",
    "\n",
    "file = \"Id,SalePrice\" + os.linesep\n",
    "\n",
    "startId = 1461\n",
    "for i in range(len(X_test)):\n",
    "    file += \"{},{}\".format(startId, (int)(predict[i])) + os.linesep\n",
    "    startId += 1\n",
    "\n",
    "#print(file)"
   ]
  },
  {
   "cell_type": "code",
   "execution_count": 259,
   "metadata": {
    "collapsed": true
   },
   "outputs": [],
   "source": [
    "# Save to file\n",
    "with open('attempt.txt', 'w') as f:\n",
    "    f.write(file)"
   ]
  },
  {
   "cell_type": "code",
   "execution_count": null,
   "metadata": {
    "collapsed": true
   },
   "outputs": [],
   "source": []
  }
 ],
 "metadata": {
  "kernelspec": {
   "display_name": "Python 3",
   "language": "python",
   "name": "python3"
  },
  "language_info": {
   "codemirror_mode": {
    "name": "ipython",
    "version": 3
   },
   "file_extension": ".py",
   "mimetype": "text/x-python",
   "name": "python",
   "nbconvert_exporter": "python",
   "pygments_lexer": "ipython3",
   "version": "3.5.3"
  }
 },
 "nbformat": 4,
 "nbformat_minor": 2
}
