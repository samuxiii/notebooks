{
  "nbformat": 4,
  "nbformat_minor": 0,
  "metadata": {
    "colab": {
      "name": "Simpsons.ipynb",
      "version": "0.3.2",
      "provenance": [],
      "collapsed_sections": []
    },
    "kernelspec": {
      "display_name": "Python 3",
      "language": "python",
      "name": "python3"
    },
    "accelerator": "GPU"
  },
  "cells": [
    {
      "metadata": {
        "id": "Px_dw13ak33X",
        "colab_type": "code",
        "colab": {
          "base_uri": "https://localhost:8080/",
          "height": 125
        },
        "outputId": "5f661c12-482a-4ab8-8d23-966a686661b9"
      },
      "cell_type": "code",
      "source": [
        "!pip install -q kaggle\n",
        "!mkdir -p ~/.kaggle\n",
        "!echo '{\"username\":\"XXXX\",\"key\":\"XXXXX\"}' > ~/.kaggle/kaggle.json\n",
        "!kaggle datasets download -d alexattia/the-simpsons-characters-dataset"
      ],
      "execution_count": 85,
      "outputs": [
        {
          "output_type": "stream",
          "text": [
            "Warning: Your Kaggle API key is readable by otherusers on this system! To fix this, you can run'chmod 600 /content/.kaggle/kaggle.json'\n",
            "Downloading the-simpsons-characters-dataset.zip to /content\n",
            " 99%|█████████████████████████████████████▋| 1.06G/1.07G [00:12<00:00, 81.1MB/s]\n",
            "100%|██████████████████████████████████████| 1.07G/1.07G [00:13<00:00, 87.8MB/s]\n"
          ],
          "name": "stdout"
        }
      ]
    },
    {
      "metadata": {
        "id": "HsIgQFUlbn8B",
        "colab_type": "code",
        "colab": {}
      },
      "cell_type": "code",
      "source": [
        "!unzip -qo the-simpsons-characters-dataset.zip -d the-simpsons-characters-dataset\n",
        "!cd the-simpsons-characters-dataset\n",
        "!unzip -qo simpsons_dataset.zip -d the-simpsons-characters-dataset/\n",
        "!unzip -qo kaggle_simpson_testset.zip -d the-simpsons-characters-dataset/\n",
        "\n",
        "!rm ./the-simpsons-characters-dataset/kaggle_simpson_testset/.DS_Store\n",
        "!rm ./the-simpsons-characters-dataset/simpsons_dataset/nelson_muntz/.DS_Store"
      ],
      "execution_count": 0,
      "outputs": []
    },
    {
      "metadata": {
        "id": "5SZS7l6bbfCm",
        "colab_type": "code",
        "colab": {
          "base_uri": "https://localhost:8080/",
          "height": 71
        },
        "outputId": "5544fec7-bbcd-4116-bd86-cf1bd8e440b7"
      },
      "cell_type": "code",
      "source": [
        "from os import listdir\n",
        "\n",
        "#configure train dataset\n",
        "train_root_path = \"./the-simpsons-characters-dataset/simpsons_dataset\"\n",
        "character_directories = listdir(train_root_path)\n",
        "#character_directories.remove('.DS_Store')\n",
        "print(\"Train: {}\".format(character_directories[:5]))\n",
        "\n",
        "#configure test dataset\n",
        "test_root_path = \"./the-simpsons-characters-dataset/kaggle_simpson_testset\"\n",
        "test_image_names = listdir(test_root_path)\n",
        "#test_image_names.remove('.DS_Store')\n",
        "print(\"Test: {}\".format(test_image_names[:5]))\n"
      ],
      "execution_count": 125,
      "outputs": [
        {
          "output_type": "stream",
          "text": [
            "Train: ['selma_bouvier', 'rainier_wolfcastle', 'hans_moleman', 'groundskeeper_willie', 'bumblebee_man']\n",
            "Test: ['ned_flanders_46.jpg', 'homer_simpson_29.jpg', 'ned_flanders_3.jpg', 'sideshow_bob_48.jpg', 'lenny_leonard_35.jpg']\n"
          ],
          "name": "stdout"
        }
      ]
    },
    {
      "metadata": {
        "id": "G16VAONabfC5",
        "colab_type": "text"
      },
      "cell_type": "markdown",
      "source": [
        "### Calculate mean width and lenght from test images"
      ]
    },
    {
      "metadata": {
        "id": "dWoTzSqwbfC8",
        "colab_type": "code",
        "colab": {
          "base_uri": "https://localhost:8080/",
          "height": 68
        },
        "outputId": "c2026df3-60eb-4886-a849-c42ea455f1ff"
      },
      "cell_type": "code",
      "source": [
        "import os, random\n",
        "from scipy.misc import imread, imresize\n",
        "\n",
        "width = 0\n",
        "lenght = 0\n",
        "num_test_images = len(test_image_names)\n",
        "\n",
        "for i in range(num_test_images):\n",
        "    path_file = os.path.join(test_root_path, test_image_names[i])\n",
        "    image = imread(path_file)\n",
        "    width += image.shape[0]\n",
        "    lenght += image.shape[1]\n",
        "\n",
        "width_mean = width//num_test_images\n",
        "lenght_mean = lenght//num_test_images\n",
        "dim_size = (width_mean + lenght_mean) // 2\n",
        "\n",
        "print(\"Width mean: {}\".format(width_mean))\n",
        "print(\"Lenght mean: {}\".format(lenght_mean))\n",
        "print(\"Size mean dimension: {}\".format(dim_size))"
      ],
      "execution_count": 126,
      "outputs": [
        {
          "output_type": "stream",
          "text": [
            "Width mean: 152\n",
            "Lenght mean: 147\n",
            "Size mean dimension: 149\n"
          ],
          "name": "stdout"
        }
      ]
    },
    {
      "metadata": {
        "id": "YJJQ-LpXbfDG",
        "colab_type": "text"
      },
      "cell_type": "markdown",
      "source": [
        "Size mean dimension will be used for the resizing process. __All the images will be scaled__ to __(149, 149)__ since it's the average of the test images."
      ]
    },
    {
      "metadata": {
        "id": "IfyAbSatbfDH",
        "colab_type": "text"
      },
      "cell_type": "markdown",
      "source": [
        "### Show some test examples"
      ]
    },
    {
      "metadata": {
        "id": "nhHY2PsFbfDJ",
        "colab_type": "code",
        "colab": {
          "base_uri": "https://localhost:8080/",
          "height": 232
        },
        "outputId": "98797503-c702-499c-fd22-f02cd3b84ca2"
      },
      "cell_type": "code",
      "source": [
        "import matplotlib.pyplot as plt\n",
        "\n",
        "idx = random.randint(0, num_test_images)\n",
        "sample_file, sample_name = test_image_names[idx], test_image_names[idx].split('_')[:-1]\n",
        "path_file = os.path.join(test_root_path, sample_file)\n",
        "sample_image = imread(path_file)\n",
        "\n",
        "print(\"Label:{}, Image:{}, Shape:{}\".format('_'.join(sample_name), idx, sample_image.shape))\n",
        "plt.figure(figsize=(3,3))\n",
        "plt.imshow(sample_image)\n",
        "plt.axis('off')\n",
        "plt.show()"
      ],
      "execution_count": 127,
      "outputs": [
        {
          "output_type": "stream",
          "text": [
            "Label:lisa_simpson, Image:386, Shape:(171, 114, 3)\n"
          ],
          "name": "stdout"
        },
        {
          "output_type": "display_data",
          "data": {
            "image/png": "[encoded data removed]",
            "text/plain": [
              "<matplotlib.figure.Figure at 0x7f357857f8d0>"
            ]
          },
          "metadata": {
            "tags": []
          }
        }
      ]
    },
    {
      "metadata": {
        "id": "ZHrhrWUqbfDR",
        "colab_type": "text"
      },
      "cell_type": "markdown",
      "source": [
        "### Making batches (resized)"
      ]
    },
    {
      "metadata": {
        "id": "LJMtTmEFbfDT",
        "colab_type": "code",
        "colab": {}
      },
      "cell_type": "code",
      "source": [
        "def get_num_of_samples():\n",
        "    count = 0\n",
        "    for _,character in enumerate(character_directories):\n",
        "        path = os.path.join(train_root_path, character)\n",
        "        count += len(listdir(path))\n",
        "        \n",
        "    return count\n",
        "\n",
        "def get_batch(batch_init, batch_size):\n",
        "    data = {'image':[], 'label':[]}\n",
        "    character_batch_size = batch_size//len(character_directories)\n",
        "    character_batch_init = batch_init//len(character_directories)\n",
        "    character_batch_end = character_batch_init + character_batch_size\n",
        "    \n",
        "    for _,character in enumerate(character_directories):\n",
        "        path = os.path.join(train_root_path, character)\n",
        "        images_list = listdir(path)\n",
        "        for i in range(character_batch_init, character_batch_end):\n",
        "            if len(images_list) == 0:\n",
        "                continue\n",
        "            #if this character has small number of features\n",
        "            #we repeat them\n",
        "            if i >= len(images_list):\n",
        "                p = i % len(images_list)\n",
        "            else:\n",
        "                p = i\n",
        "                \n",
        "            path_file = os.path.join(path, images_list[p])\n",
        "            image = imread(path_file)\n",
        "            #all with the same shape\n",
        "            image = imresize(image, (dim_size, dim_size))\n",
        "            data['image'].append(image)\n",
        "            data['label'].append(character)\n",
        "    \n",
        "    return data\n",
        "\n",
        "def get_batches(num_batches, batch_size, verbose=False):\n",
        "    #num max of samples\n",
        "    num_samples = get_num_of_samples()\n",
        "    #check number of batches with the maximum\n",
        "    max_num_batches = num_samples//batch_size - 1\n",
        "    \n",
        "    if verbose:\n",
        "        print(\"Number of samples:{}\".format(num_samples))\n",
        "        print(\"Batches:{} Size:{}\".format(num_batches, batch_size))\n",
        "    assert num_batches <= max_num_batches, \"Surpassed the maximum number of batches\"\n",
        "        \n",
        "    for i in range(0, num_batches):\n",
        "        init = i * batch_size\n",
        "        if verbose:\n",
        "            print(\"Batch-{} yielding images from {} to {}...\".format(i, init, init+batch_size))\n",
        "        \n",
        "        yield get_batch(init, batch_size)"
      ],
      "execution_count": 0,
      "outputs": []
    },
    {
      "metadata": {
        "id": "53H0GuvAbfDX",
        "colab_type": "code",
        "colab": {
          "base_uri": "https://localhost:8080/",
          "height": 391
        },
        "outputId": "6428399d-6bf3-494d-ec14-5bd188112ffc"
      },
      "cell_type": "code",
      "source": [
        "#testing generator\n",
        "batch_size = 500\n",
        "\n",
        "for b in get_batches(10, batch_size, verbose=True):\n",
        "    print(\"\\t|- retrieved {} images\".format(len(b['image'])))"
      ],
      "execution_count": 131,
      "outputs": [
        {
          "output_type": "stream",
          "text": [
            "Number of samples:20933\n",
            "Batches:10 Size:500\n",
            "Batch-0 yielding images from 0 to 500...\n",
            "\t|- retrieved 420 images\n",
            "Batch-1 yielding images from 500 to 1000...\n",
            "\t|- retrieved 420 images\n",
            "Batch-2 yielding images from 1000 to 1500...\n",
            "\t|- retrieved 420 images\n",
            "Batch-3 yielding images from 1500 to 2000...\n",
            "\t|- retrieved 420 images\n",
            "Batch-4 yielding images from 2000 to 2500...\n",
            "\t|- retrieved 420 images\n",
            "Batch-5 yielding images from 2500 to 3000...\n",
            "\t|- retrieved 420 images\n",
            "Batch-6 yielding images from 3000 to 3500...\n",
            "\t|- retrieved 420 images\n",
            "Batch-7 yielding images from 3500 to 4000...\n",
            "\t|- retrieved 420 images\n",
            "Batch-8 yielding images from 4000 to 4500...\n",
            "\t|- retrieved 420 images\n",
            "Batch-9 yielding images from 4500 to 5000...\n",
            "\t|- retrieved 420 images\n"
          ],
          "name": "stdout"
        }
      ]
    },
    {
      "metadata": {
        "id": "FD319qQebfDc",
        "colab_type": "text"
      },
      "cell_type": "markdown",
      "source": [
        "### Preprocessing data"
      ]
    },
    {
      "metadata": {
        "id": "cHGJqgDYbfDd",
        "colab_type": "code",
        "colab": {}
      },
      "cell_type": "code",
      "source": [
        "from sklearn import preprocessing\n",
        "\n",
        "#num characters\n",
        "num_characters = len(character_directories)\n",
        "\n",
        "#normalize\n",
        "def normalize(x):\n",
        "    #we use the feature scaling to have all the batches\n",
        "    #in the same space, that is (0,1)\n",
        "    return (x - np.amin(x))/(np.amax(x) - np.amin(x))\n",
        "\n",
        "#one-hot encode\n",
        "lb = preprocessing.LabelBinarizer()\n",
        "lb = lb.fit(character_directories)\n",
        "\n",
        "def one_hot(label):\n",
        "    return lb.transform([label])\n"
      ],
      "execution_count": 0,
      "outputs": []
    },
    {
      "metadata": {
        "id": "Jey_T8srbfDh",
        "colab_type": "text"
      },
      "cell_type": "markdown",
      "source": [
        "### Storing preprocessed batches on disk"
      ]
    },
    {
      "metadata": {
        "id": "rD4X5CpybfDj",
        "colab_type": "code",
        "colab": {}
      },
      "cell_type": "code",
      "source": [
        "num_batches = 40\n",
        "batch_size = 500"
      ],
      "execution_count": 0,
      "outputs": []
    },
    {
      "metadata": {
        "id": "yLKUDO21bfDn",
        "colab_type": "code",
        "colab": {
          "base_uri": "https://localhost:8080/",
          "height": 34
        },
        "outputId": "c119c873-1078-4ed0-9283-4e76ef72c48f"
      },
      "cell_type": "code",
      "source": [
        "import pickle\n",
        "import numpy as np\n",
        "\n",
        "cnt_images = 0\n",
        "for cnt, b in enumerate(get_batches(num_batches, batch_size)):\n",
        "    data = {'image':[], 'label':[]}\n",
        "    \n",
        "    for i in range( min(len(b['image']), batch_size) ):\n",
        "        image = np.array( b['image'][i] )\n",
        "        label = np.array( b['label'][i] )\n",
        "        #label = label.reshape([-1,:])\n",
        "        if len(image.shape) == 3:\n",
        "          data['image'].append(normalize(image))\n",
        "          data['label'].append(one_hot(label)[-1,:])\n",
        "          cnt_images += 1\n",
        "        else:\n",
        "          print(\"Dim image < 3\")\n",
        "    \n",
        "    with open(\"simpson_train_{}.pkl\".format(cnt), 'wb') as file:\n",
        "        pickle.dump(data, file, pickle.HIGHEST_PROTOCOL)\n",
        "    \n",
        "print(\"Loaded {} train images and stored on disk\".format(cnt_images))"
      ],
      "execution_count": 134,
      "outputs": [
        {
          "output_type": "stream",
          "text": [
            "Loaded 16800 train images and stored on disk\n"
          ],
          "name": "stdout"
        }
      ]
    },
    {
      "metadata": {
        "id": "TQRJW7CAbfDs",
        "colab_type": "code",
        "colab": {
          "base_uri": "https://localhost:8080/",
          "height": 85
        },
        "outputId": "7540c910-b6e9-4e7a-f27a-414e95d62245"
      },
      "cell_type": "code",
      "source": [
        "#testing load from file\n",
        "import pickle\n",
        "\n",
        "with open('simpson_train_0.pkl', 'rb') as file:\n",
        "    data = pickle.load(file)\n",
        "    print(\"Example of onehot encoded:\\n{}\".format(data['label'][0]))\n",
        "    print(\"Data shape: {}\".format(data['image'][0].shape))"
      ],
      "execution_count": 135,
      "outputs": [
        {
          "output_type": "stream",
          "text": [
            "Example of onehot encoded:\n",
            "[0 0 0 0 0 0 0 0 0 0 0 0 0 0 0 0 0 0 0 0 0 0 0 0 0 0 0 0 0 0 0 0 0 0 0 0 0\n",
            " 0 0 0 0 1 0 0 0 0 0]\n",
            "Data shape: (149, 149, 3)\n"
          ],
          "name": "stdout"
        }
      ]
    },
    {
      "metadata": {
        "id": "FtDsSpX2p0MX",
        "colab_type": "text"
      },
      "cell_type": "markdown",
      "source": [
        "###NOTE\n",
        "Since here the data is already processed and saved as pickle files."
      ]
    },
    {
      "metadata": {
        "id": "uKHY-7v8bfDw",
        "colab_type": "text"
      },
      "cell_type": "markdown",
      "source": [
        "### Building the Network"
      ]
    },
    {
      "metadata": {
        "id": "IdGmHLj4bfDx",
        "colab_type": "code",
        "colab": {}
      },
      "cell_type": "code",
      "source": [
        "import tensorflow as tf\n",
        "\n",
        "#helpers\n",
        "def convolution(inputs, kernel_shape, stride_shape, output_depth):\n",
        "    #convolution variables\n",
        "    input_depth = inputs.get_shape().as_list()[3]\n",
        "    filter_shape = kernel_shape + (input_depth, output_depth)\n",
        "    dev = 1/np.sqrt(kernel_shape[0]*kernel_shape[1])\n",
        "    filter_ = tf.Variable(tf.truncated_normal(filter_shape, stddev=dev), name=\"filter_\")\n",
        "    stride_shape = (1,) + stride_shape + (1,)\n",
        "    pool_shape = stride_shape\n",
        "    bias_ = tf.Variable(tf.truncated_normal([output_depth], stddev=dev), name=\"bias_\")\n",
        "    \n",
        "    #convolution\n",
        "    conv = tf.nn.conv2d(inputs, filter_, stride_shape, padding='SAME')\n",
        "    conv = tf.nn.bias_add(conv, bias_)\n",
        "    conv = tf.nn.relu(conv)\n",
        "    conv = tf.nn.conv2d(inputs, filter_, stride_shape, padding='SAME')\n",
        "    conv = tf.nn.bias_add(conv, bias_)\n",
        "    conv = tf.nn.relu(conv)\n",
        "    \n",
        "    #pooling\n",
        "    conv = tf.nn.max_pool(conv, pool_shape, stride_shape, padding='SAME')\n",
        "    \n",
        "    return conv\n",
        "\n",
        "def classifier(inputs, num_outputs):\n",
        "    #classifier variables\n",
        "    num_inputs = inputs.get_shape().as_list()[1]\n",
        "    dev = 1/np.sqrt(num_inputs)\n",
        "    weights = tf.Variable(tf.truncated_normal((num_inputs,)+num_outputs, stddev=dev), name=\"weights\")\n",
        "    bias = tf.Variable(tf.truncated_normal(num_outputs, stddev=dev), name=\"bias\")\n",
        "\n",
        "    #classifier\n",
        "    logits = tf.add(tf.matmul(inputs, weights), bias)\n",
        "\n",
        "    return logits"
      ],
      "execution_count": 0,
      "outputs": []
    },
    {
      "metadata": {
        "id": "Dl6qIqH0bfDz",
        "colab_type": "code",
        "colab": {
          "base_uri": "https://localhost:8080/",
          "height": 136
        },
        "outputId": "5fab8b6e-a8d5-4d32-a5a4-2a43ef339c49"
      },
      "cell_type": "code",
      "source": [
        "##building the network\n",
        "import numpy as np\n",
        "\n",
        "#remove previous weights, bias, etc\n",
        "tf.reset_default_graph()\n",
        "\n",
        "#shape\n",
        "image_shape = (dim_size, dim_size, 3)\n",
        "label_shape = (num_characters,)\n",
        "\n",
        "#data\n",
        "X = tf.placeholder(tf.float32, (None,) + image_shape)\n",
        "y = tf.placeholder(tf.float32, (None,) + label_shape)\n",
        "\n",
        "#conv\n",
        "print(X.get_shape().as_list())\n",
        "conv = convolution(X, (5,5), (2,2), 32)\n",
        "print(conv.get_shape().as_list())\n",
        "conv = convolution(X, (5,5), (2,2), 64)\n",
        "print(conv.get_shape().as_list())\n",
        "conv = convolution(conv, (5,5), (2,2), 128)\n",
        "print(conv.get_shape().as_list())\n",
        "    \n",
        "#before classifier\n",
        "flatten_shape = np.prod(conv.get_shape().as_list()[1:])\n",
        "flatten = tf.reshape(conv, [-1,flatten_shape])\n",
        "\n",
        "#classifying\n",
        "num_outputs = label_shape\n",
        "logits = classifier(flatten, (40,))\n",
        "logits = tf.nn.dropout(logits, 0.8)\n",
        "logits = classifier(logits, num_outputs)\n",
        "\n",
        "print(\"Inputs shape: {}\".format(X.get_shape().as_list()[1:]))\n",
        "print(\"Flatten shape: {}\".format(flatten_shape))\n",
        "print(\"Outputs shape: {}\".format(logits.get_shape().as_list()[1]))"
      ],
      "execution_count": 137,
      "outputs": [
        {
          "output_type": "stream",
          "text": [
            "[None, 149, 149, 3]\n",
            "[None, 38, 38, 32]\n",
            "[None, 38, 38, 64]\n",
            "[None, 10, 10, 128]\n",
            "Inputs shape: [149, 149, 3]\n",
            "Flatten shape: 12800\n",
            "Outputs shape: 47\n"
          ],
          "name": "stdout"
        }
      ]
    },
    {
      "metadata": {
        "id": "1jeOBRSfbfD2",
        "colab_type": "code",
        "colab": {}
      },
      "cell_type": "code",
      "source": [
        "#loss and optmizer\n",
        "cost = tf.reduce_mean(tf.nn.softmax_cross_entropy_with_logits_v2(logits=logits, labels=y))\n",
        "optimizer = tf.train.AdamOptimizer().minimize(cost)\n",
        "\n",
        "#accuracy\n",
        "correct_pred = tf.equal(tf.argmax(logits, 1), tf.argmax(y, 1))\n",
        "accuracy = tf.reduce_mean(tf.cast(correct_pred, tf.float32))"
      ],
      "execution_count": 0,
      "outputs": []
    },
    {
      "metadata": {
        "id": "dMLC8ZRSbfD4",
        "colab_type": "code",
        "colab": {
          "base_uri": "https://localhost:8080/",
          "height": 136
        },
        "outputId": "e356b2d2-a2bb-46a4-8f70-1583a04bb5bd"
      },
      "cell_type": "code",
      "source": [
        "from sklearn.model_selection import train_test_split\n",
        "\n",
        "##Train the model\n",
        "x_train = []\n",
        "y_train = []\n",
        "x_val = []\n",
        "y_val = []\n",
        "\n",
        "##\n",
        "epochs = 30\n",
        "\n",
        "sess = tf.Session()\n",
        "sess.run(tf.global_variables_initializer())\n",
        "\n",
        "stats = {'train_loss':[], 'val_loss':[], 'acc':[]}\n",
        "\n",
        "for e in range(epochs):\n",
        "    \n",
        "    for i in range(num_batches):\n",
        "        fname = \"simpson_train_{}.pkl\".format(i)\n",
        "        if os.path.exists(fname):   \n",
        "            with open(fname, 'rb') as file:\n",
        "                #print(\"Processing: {}\".format(fname))\n",
        "                data = pickle.load(file)\n",
        "                x_train, x_val, y_train, y_val = train_test_split(data['image'], data['label'], test_size=0.2, random_state=42)\n",
        "\n",
        "                feed_dict = {X: x_train, y: y_train}\n",
        "                train_loss, _ = sess.run([cost, optimizer], feed_dict)\n",
        "\n",
        "                feed_dict = {X: x_val, y: y_val}\n",
        "                val_loss, acc = sess.run([cost, accuracy], feed_dict)\n",
        "\n",
        "                #storing stats\n",
        "                stats['train_loss'].append(train_loss)\n",
        "                stats['val_loss'].append(val_loss)\n",
        "                stats['acc'].append(acc)\n",
        "                \n",
        "                #enough accuracy\n",
        "                if acc > 0.8:\n",
        "                  break\n",
        "                \n",
        "    print(\"Epoch:{} Training Loss:{:.4f} Validation Loss:{:.4f} Accuracy:{:.4f}\".format(e, train_loss, val_loss, acc))\n",
        "    \n",
        "    #stop epochs\n",
        "    if acc > 0.8:\n",
        "      break\n"
      ],
      "execution_count": 164,
      "outputs": [
        {
          "output_type": "stream",
          "text": [
            "Epoch:0 Training Loss:2.6963 Validation Loss:2.6530 Accuracy:0.3333\n",
            "Epoch:1 Training Loss:1.5895 Validation Loss:1.8952 Accuracy:0.5476\n",
            "Epoch:2 Training Loss:1.1042 Validation Loss:1.5211 Accuracy:0.6429\n",
            "Epoch:3 Training Loss:0.9013 Validation Loss:1.3228 Accuracy:0.6786\n",
            "Epoch:4 Training Loss:0.5966 Validation Loss:1.3591 Accuracy:0.6905\n",
            "Epoch:5 Training Loss:0.5038 Validation Loss:1.1092 Accuracy:0.7262\n",
            "Epoch:6 Training Loss:0.3904 Validation Loss:1.0362 Accuracy:0.8214\n"
          ],
          "name": "stdout"
        }
      ]
    },
    {
      "metadata": {
        "id": "tB8nRYrG3qaB",
        "colab_type": "code",
        "colab": {
          "base_uri": "https://localhost:8080/",
          "height": 364
        },
        "outputId": "c5da79fa-e817-4d21-e8f4-90fa797a20fa"
      },
      "cell_type": "code",
      "source": [
        "#don't plot the first 7 stats, they're in a big scale\n",
        "plt.plot(stats['train_loss'][7:], label='Train Loss')\n",
        "plt.plot(stats['val_loss'][7:], label='Validation Loss')\n",
        "plt.plot(stats['acc'][7:], label='Accuracy')\n",
        "plt.legend()"
      ],
      "execution_count": 181,
      "outputs": [
        {
          "output_type": "execute_result",
          "data": {
            "text/plain": [
              "<matplotlib.legend.Legend at 0x7f35786ecd30>"
            ]
          },
          "metadata": {
            "tags": []
          },
          "execution_count": 181
        },
        {
          "output_type": "display_data",
          "data": {
            "image/png": "[encoded data removed]",
            "text/plain": [
              "<matplotlib.figure.Figure at 0x7f35790dbd30>"
            ]
          },
          "metadata": {
            "tags": []
          }
        }
      ]
    },
    {
      "metadata": {
        "id": "KQQDBi19bfD9",
        "colab_type": "text"
      },
      "cell_type": "markdown",
      "source": [
        "### Testing model"
      ]
    },
    {
      "metadata": {
        "id": "F_o5h_QBbfD-",
        "colab_type": "code",
        "colab": {
          "base_uri": "https://localhost:8080/",
          "height": 248
        },
        "outputId": "af52219b-c034-4158-8ce4-6d07ffd1b067"
      },
      "cell_type": "code",
      "source": [
        "import warnings\n",
        "warnings.filterwarnings('ignore')\n",
        "\n",
        "#prediction\n",
        "idx = random.randint(0, num_test_images)\n",
        "sample_file, sample_name = test_image_names[idx], test_image_names[idx].split('_')[:-1]\n",
        "path_file = os.path.join(test_root_path, sample_file)\n",
        "sample_image = imread(path_file)\n",
        "idx = int(random.uniform(0, len(y_val)))\n",
        "    \n",
        "test_image = sample_image\n",
        "test_label = ' '.join([s.capitalize() for s in sample_name])\n",
        "\n",
        "test_image_norm = normalize(imresize(sample_image, (dim_size, dim_size)))\n",
        "\n",
        "prediction = sess.run(logits, {X:[test_image_norm]})\n",
        "prediction = lb.inverse_transform(prediction)\n",
        "\n",
        "#showing\n",
        "print(\"Label: {}\".format(test_label))\n",
        "prediction = ' '.join([s.capitalize() for s in prediction[0].split('_')])\n",
        "print(\"Prediction: {}\".format(prediction))\n",
        "\n",
        "plt.figure(figsize=(3,3))\n",
        "plt.imshow(test_image)\n",
        "plt.axis('off')\n",
        "plt.show()"
      ],
      "execution_count": 207,
      "outputs": [
        {
          "output_type": "stream",
          "text": [
            "Label: Bart Simpson\n",
            "Prediction: Bart Simpson\n"
          ],
          "name": "stdout"
        },
        {
          "output_type": "display_data",
          "data": {
            "image/png": "[encoded data removed]",
            "text/plain": [
              "<matplotlib.figure.Figure at 0x7f34fe5a7b38>"
            ]
          },
          "metadata": {
            "tags": []
          }
        }
      ]
    }
  ]
}