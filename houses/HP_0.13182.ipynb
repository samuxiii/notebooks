{
 "cells": [
  {
   "cell_type": "code",
   "execution_count": 1,
   "metadata": {},
   "outputs": [],
   "source": [
    "import numpy as np\n",
    "import pandas as pd\n",
    "import warnings\n",
    "warnings.filterwarnings('ignore')\n",
    "\n",
    "train = pd.read_csv('input/train.csv')\n",
    "test = pd.read_csv('input/test.csv')\n",
    "data = pd.concat([train, test])\n",
    "data = pd.get_dummies(data)\n",
    "data.drop(['Id'], axis=1, inplace=True)\n",
    "\n",
    "#size of training dataset\n",
    "train_samples = train.shape[0]\n",
    "\n",
    "train = data.iloc[:train_samples, :]\n",
    "test = data.iloc[train_samples:, :]\n",
    "\n",
    "datanum = train.select_dtypes([np.number])\n",
    "datatxt = train.select_dtypes(exclude=[np.number])\n",
    "data_mix = pd.concat([datanum, datatxt], axis=1)\n",
    "#data_mix = pd.get_dummies(data_mix)\n",
    "\n",
    "from sklearn.metrics import mean_squared_error\n",
    "from sklearn.impute import SimpleImputer\n",
    "\n",
    "imp_mean = SimpleImputer(missing_values=np.nan, strategy='mean')\n",
    "\n",
    "X_train = imp_mean.fit_transform(data_mix.drop(['SalePrice'], axis=1))\n",
    "y_train = data_mix.SalePrice.apply(np.log)"
   ]
  },
  {
   "cell_type": "code",
   "execution_count": 2,
   "metadata": {},
   "outputs": [
    {
     "name": "stderr",
     "output_type": "stream",
     "text": [
      "/Users/samuel/anaconda/envs/py3/lib/python3.5/site-packages/sklearn/model_selection/_search.py:841: DeprecationWarning: The default of the `iid` parameter will change from True to False in version 0.22 and will be removed in 0.24. This will change numeric results when test-set sizes are unequal.\n",
      "  DeprecationWarning)\n"
     ]
    },
    {
     "data": {
      "text/plain": [
       "GridSearchCV(cv='warn', error_score='raise-deprecating',\n",
       "       estimator=Ridge(alpha=1.0, copy_X=True, fit_intercept=True, max_iter=None,\n",
       "   normalize=False, random_state=None, solver='auto', tol=0.001),\n",
       "       fit_params=None, iid='warn', n_jobs=None,\n",
       "       param_grid={'alpha': [0.0, 0.01, 0.02, 0.03, 0.04, 0.05, 0.06, 0.07, 0.08, 0.09, 0.1, 0.11, 0.12, 0.13, 0.14, 0.15, 0.16, 0.17, 0.18, 0.19, 0.2, 0.21, 0.22, 0.23, 0.24, 0.25, 0.26, 0.27, 0.28, 0.29, 0.3, 0.31, 0.32, 0.33, 0.34, 0.35, 0.36, 0.37, 0.38, 0.39, 0.4, 0.41, 0.42, 0.43, 0.44, 0.45, 0.46, 0...0.84, 0.85, 0.86, 0.87, 0.88, 0.89, 0.9, 0.91, 0.92, 0.93, 0.94, 0.95, 0.96, 0.97, 0.98, 0.99, 1.0]},\n",
       "       pre_dispatch='2*n_jobs', refit=True, return_train_score='warn',\n",
       "       scoring=None, verbose=0)"
      ]
     },
     "execution_count": 2,
     "metadata": {},
     "output_type": "execute_result"
    }
   ],
   "source": [
    "from sklearn.linear_model import Ridge\n",
    "from sklearn.model_selection import GridSearchCV\n",
    "\n",
    "ridge = Ridge()\n",
    "parameters = {'alpha': list(x / 100 for x in range(0, 101))}\n",
    "regr = GridSearchCV(ridge, parameters)\n",
    "regr.fit(X_train, y_train)"
   ]
  },
  {
   "cell_type": "code",
   "execution_count": 3,
   "metadata": {},
   "outputs": [
    {
     "name": "stdout",
     "output_type": "stream",
     "text": [
      "RMSLE: 0.101\n"
     ]
    }
   ],
   "source": [
    "regr.best_estimator_.score(X_train, y_train)\n",
    "\n",
    "rmse = mean_squared_error(y_train, regr.best_estimator_.predict(X_train))**0.5\n",
    "print(\"RMSLE: {:.3f}\".format(rmse))"
   ]
  },
  {
   "cell_type": "code",
   "execution_count": 4,
   "metadata": {},
   "outputs": [],
   "source": [
    "from sklearn.metrics import mean_squared_error\n",
    "from sklearn.impute import SimpleImputer\n",
    "\n",
    "\n",
    "datanum = test.select_dtypes([np.number])\n",
    "datatxt = test.select_dtypes(exclude=[np.number])\n",
    "data_mix = pd.concat([datanum, datatxt], axis=1)\n",
    "\n",
    "X_test = imp_mean.transform(data_mix.drop(['SalePrice'],axis=1))\n",
    "\n",
    "predictions = regr.best_estimator_.predict(X_test)\n",
    "\n",
    "import os\n",
    "\n",
    "#predictions are logs, return to the value\n",
    "predictions = np.exp(predictions)\n",
    "\n",
    "file = \"Id,SalePrice\" + os.linesep\n",
    "\n",
    "startId = 1461\n",
    "for i in range(len(X_test)):\n",
    "    file += \"{},{}\".format(startId, (int)(predictions[i])) + os.linesep\n",
    "    startId += 1\n",
    "\n",
    "# Save to file\n",
    "with open('attempt.txt', 'w') as f:\n",
    "    f.write(file)"
   ]
  },
  {
   "cell_type": "code",
   "execution_count": null,
   "metadata": {
    "collapsed": true
   },
   "outputs": [],
   "source": [
    "#0.13182 in Kaggle Leader Board"
   ]
  }
 ],
 "metadata": {
  "kernelspec": {
   "display_name": "Python 3",
   "language": "python",
   "name": "python3"
  },
  "language_info": {
   "codemirror_mode": {
    "name": "ipython",
    "version": 3
   },
   "file_extension": ".py",
   "mimetype": "text/x-python",
   "name": "python",
   "nbconvert_exporter": "python",
   "pygments_lexer": "ipython3",
   "version": "3.5.3"
  }
 },
 "nbformat": 4,
 "nbformat_minor": 2
}
