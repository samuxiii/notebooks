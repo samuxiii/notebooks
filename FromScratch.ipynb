{
 "cells": [
  {
   "cell_type": "markdown",
   "metadata": {},
   "source": [
    "# From Scratch"
   ]
  },
  {
   "cell_type": "code",
   "execution_count": 1,
   "metadata": {},
   "outputs": [
    {
     "data": {
      "text/plain": [
       "<matplotlib.collections.PathCollection at 0x109cb5c88>"
      ]
     },
     "execution_count": 1,
     "metadata": {},
     "output_type": "execute_result"
    },
    {
     "data": {
      "image/png": "[encoded data removed]",
      "text/plain": [
       "<matplotlib.figure.Figure at 0x103097550>"
      ]
     },
     "metadata": {},
     "output_type": "display_data"
    }
   ],
   "source": [
    "import numpy as np\n",
    "import matplotlib.pyplot as plt\n",
    "import random\n",
    "%matplotlib inline\n",
    "\n",
    "N = 10\n",
    "x = np.random.rand(N)\n",
    "y = np.random.rand(N)\n",
    "\n",
    "#plotting\n",
    "plt.scatter(x,y)"
   ]
  },
  {
   "cell_type": "markdown",
   "metadata": {},
   "source": [
    "## Linear Regression"
   ]
  },
  {
   "cell_type": "code",
   "execution_count": 2,
   "metadata": {},
   "outputs": [
    {
     "name": "stdout",
     "output_type": "stream",
     "text": [
      "m:-0.22593620208833454 b:0.73813128555647\n"
     ]
    },
    {
     "data": {
      "text/plain": [
       "[<matplotlib.lines.Line2D at 0x103097320>]"
      ]
     },
     "execution_count": 2,
     "metadata": {},
     "output_type": "execute_result"
    },
    {
     "data": {
      "image/png": "[encoded data removed]",
      "text/plain": [
       "<matplotlib.figure.Figure at 0x1030972b0>"
      ]
     },
     "metadata": {},
     "output_type": "display_data"
    }
   ],
   "source": [
    "#linear regression y = m*x + b\n",
    "m = 0\n",
    "b = 0\n",
    "\n",
    "#implement using m = sum((x - x_mean)(y - y_mean)) / sum((x - x_mean)^2)\n",
    "def lr(X, Y):\n",
    "    global m,b\n",
    "    x_mean = np.mean(X)\n",
    "    y_mean = np.mean(Y)\n",
    "    num = 0\n",
    "    den = 0\n",
    "    \n",
    "    ## iterative\n",
    "    #for x, y in zip(X, Y):\n",
    "    #    num += (x - x_mean)*(y - y_mean)\n",
    "    #    den += (x - x_mean)*(x - x_mean)\n",
    "    \n",
    "    ## vectorial\n",
    "    num = sum((x -x_mean)*(y -y_mean))\n",
    "    den = sum((x -x_mean)**2)\n",
    "    \n",
    "    m = num/den\n",
    "    b = y_mean - (m * x_mean)\n",
    "\n",
    "#calculate\n",
    "lr(x, y)\n",
    "print(\"m:{} b:{}\".format(m, b))\n",
    "plt.scatter(x, y)\n",
    "plt.plot(x, m*x+b, 'r')"
   ]
  },
  {
   "cell_type": "markdown",
   "metadata": {},
   "source": [
    "## Gradient Descent"
   ]
  },
  {
   "cell_type": "code",
   "execution_count": 3,
   "metadata": {},
   "outputs": [
    {
     "name": "stdout",
     "output_type": "stream",
     "text": [
      "m1:0.1779409153972962 b1:0.018396934948135414  (red)\n",
      "m2:0.6726350297720924 b2:0.10194767261038437  (yellow)\n",
      "m3:0.8960035696284329 b3:0.2672099295274621  (green)\n"
     ]
    },
    {
     "data": {
      "text/plain": [
       "[<matplotlib.lines.Line2D at 0x109e47438>]"
      ]
     },
     "execution_count": 3,
     "metadata": {},
     "output_type": "execute_result"
    },
    {
     "data": {
      "image/png": "[encoded data removed]",
      "text/plain": [
       "<matplotlib.figure.Figure at 0x109cf1c18>"
      ]
     },
     "metadata": {},
     "output_type": "display_data"
    }
   ],
   "source": [
    "#using linear regression formula: y = m*x + b\n",
    "\n",
    "#implement gradient descent\n",
    "def gd(X, Y, lr):\n",
    "    m = 0\n",
    "    b = 1e-2\n",
    "    for x, y in zip(X,Y):\n",
    "        pred = m*x + b\n",
    "        err = y - pred\n",
    "        b += b * err * lr\n",
    "        m += x * err * lr\n",
    "\n",
    "    return m, b\n",
    "\n",
    "#calculate\n",
    "learnin_rate = 0.1\n",
    "m1, b1 = gd(x, y, learnin_rate)\n",
    "print(\"m1:{} b1:{}  (red)\".format(m1, b1))\n",
    "\n",
    "learnin_rate = 0.5\n",
    "m2, b2 = gd(x, y, learnin_rate)\n",
    "print(\"m2:{} b2:{}  (yellow)\".format(m2, b2))\n",
    "\n",
    "learnin_rate = 1\n",
    "m3, b3 = gd(x, y, learnin_rate)\n",
    "print(\"m3:{} b3:{}  (green)\".format(m3, b3))\n",
    "\n",
    "plt.scatter(x, y)\n",
    "plt.plot(x, m1*x+b1, 'r')\n",
    "plt.plot(x, m2*x+b2, 'y')\n",
    "plt.plot(x, m3*x+b3, 'g')"
   ]
  }
 ],
 "metadata": {
  "kernelspec": {
   "display_name": "Python 3",
   "language": "python",
   "name": "python3"
  },
  "language_info": {
   "codemirror_mode": {
    "name": "ipython",
    "version": 3
   },
   "file_extension": ".py",
   "mimetype": "text/x-python",
   "name": "python",
   "nbconvert_exporter": "python",
   "pygments_lexer": "ipython3",
   "version": "3.5.3"
  }
 },
 "nbformat": 4,
 "nbformat_minor": 2
}
