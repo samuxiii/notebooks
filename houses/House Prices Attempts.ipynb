{
 "cells": [
  {
   "cell_type": "markdown",
   "metadata": {},
   "source": [
    "# House Prices Estimator\n",
    "\n",
    "__Note:__ It's a competition from __Kaggle.com__ and the input data was retrieved from there.\n"
   ]
  },
  {
   "cell_type": "markdown",
   "metadata": {},
   "source": [
    "## Data Analysis"
   ]
  },
  {
   "cell_type": "code",
   "execution_count": 1,
   "metadata": {
    "collapsed": true
   },
   "outputs": [],
   "source": [
    "import numpy as np\n",
    "import pandas as pd\n",
    "\n",
    "#load the files\n",
    "train = pd.read_csv('input/train.csv')\n",
    "test = pd.read_csv('input/test.csv')\n",
    "data = pd.concat([train, test])\n",
    "\n",
    "#size of training dataset\n",
    "train_samples = train.shape[0]\n",
    "test_samples = test.shape[0]"
   ]
  },
  {
   "cell_type": "code",
   "execution_count": 2,
   "metadata": {
    "collapsed": true
   },
   "outputs": [],
   "source": [
    "# remove the Id feature\n",
    "data.drop(['Id'],1, inplace=True);"
   ]
  },
  {
   "cell_type": "code",
   "execution_count": 3,
   "metadata": {
    "collapsed": true
   },
   "outputs": [],
   "source": [
    "#data.describe()"
   ]
  },
  {
   "cell_type": "code",
   "execution_count": 4,
   "metadata": {
    "collapsed": true
   },
   "outputs": [],
   "source": [
    "datanum = data.select_dtypes([np.number])\n",
    "datanum = datanum.fillna(datanum.dropna().mean())"
   ]
  },
  {
   "cell_type": "code",
   "execution_count": 5,
   "metadata": {},
   "outputs": [
    {
     "data": {
      "text/plain": [
       "<matplotlib.axes._subplots.AxesSubplot at 0x117363e48>"
      ]
     },
     "execution_count": 5,
     "metadata": {},
     "output_type": "execute_result"
    },
    {
     "data": {
      "image/png": "[encoded data removed]",
      "text/plain": [
       "<matplotlib.figure.Figure at 0x1120921d0>"
      ]
     },
     "metadata": {},
     "output_type": "display_data"
    }
   ],
   "source": [
    "import matplotlib.pyplot as plt\n",
    "%matplotlib inline\n",
    "# Transforming to non-skewed SalePrice\n",
    "data.SalePrice = data.SalePrice.apply(np.log)\n",
    "data.SalePrice.hist(bins=50)"
   ]
  },
  {
   "cell_type": "code",
   "execution_count": 6,
   "metadata": {},
   "outputs": [
    {
     "data": {
      "text/plain": [
       "OverallQual     0.547865\n",
       "GrLivArea       0.518693\n",
       "GarageCars      0.444010\n",
       "GarageArea      0.437270\n",
       "TotalBsmtSF     0.431030\n",
       "1stFlrSF        0.421430\n",
       "FullBath        0.394865\n",
       "TotRmsAbvGrd    0.388821\n",
       "YearBuilt       0.368417\n",
       "YearRemodAdd    0.352833\n",
       "Name: SalePrice, dtype: float64"
      ]
     },
     "execution_count": 6,
     "metadata": {},
     "output_type": "execute_result"
    }
   ],
   "source": [
    "# Correlation features\n",
    "datanum.corr()['SalePrice'].drop('SalePrice').sort_values(ascending=False).head(10)"
   ]
  },
  {
   "cell_type": "code",
   "execution_count": 7,
   "metadata": {
    "collapsed": true
   },
   "outputs": [],
   "source": [
    "def getDataWithHighCorrFeatures(data, numberFeatures=10):\n",
    "    high_corr_feat_names = data.corr()['SalePrice'].drop('SalePrice').sort_values(ascending=False).head(numberFeatures).axes[0].tolist()\n",
    "    #high_corr_feat_names.remove('SalePrice')\n",
    "    return data[high_corr_feat_names]"
   ]
  },
  {
   "cell_type": "markdown",
   "metadata": {},
   "source": [
    "### KFold"
   ]
  },
  {
   "cell_type": "code",
   "execution_count": 8,
   "metadata": {},
   "outputs": [
    {
     "name": "stdout",
     "output_type": "stream",
     "text": [
      "KFold(n_splits=10, random_state=13, shuffle=False)\n"
     ]
    }
   ],
   "source": [
    "from sklearn.model_selection import KFold\n",
    "\n",
    "kf = KFold(n_splits=10, random_state=13)#, shuffle=True)\n",
    "print(kf)"
   ]
  },
  {
   "cell_type": "code",
   "execution_count": 9,
   "metadata": {
    "collapsed": true
   },
   "outputs": [],
   "source": [
    "#plotting PCA\n",
    "from sklearn.decomposition import PCA\n",
    "\n",
    "def getX_PCA(X):\n",
    "    pca = PCA(n_components=1)\n",
    "    return pca.fit(X).transform(X)\n",
    "    \n",
    "def plotPCA(X, y):\n",
    "    pca = PCA(n_components=1)\n",
    "    X_r = pca.fit(X).transform(X)\n",
    "    plt.plot(X_r, y, 'x')"
   ]
  },
  {
   "cell_type": "code",
   "execution_count": 10,
   "metadata": {},
   "outputs": [],
   "source": [
    "from sklearn.covariance import EllipticEnvelope\n",
    "\n",
    "def removeAnomaliesFake(X_train, y_train, verbose=False):\n",
    "    return X_train, y_train\n",
    "\n",
    "def removeAnomalies(X_train, y_train, verbose=False):\n",
    "    # fit the model\n",
    "    ee = EllipticEnvelope(contamination=0.01,\n",
    "                          assume_centered=True,\n",
    "                          random_state=13)\n",
    "    ee.fit(X_train)\n",
    "    pred = ee.predict(X_train)\n",
    "\n",
    "    X_anom = X_train[pred != 1]\n",
    "    y_anom = y_train[pred != 1]\n",
    "    X_no_anom = X_train[pred == 1]\n",
    "    y_no_anom = y_train[pred == 1]\n",
    "    \n",
    "    if (verbose):\n",
    "        print(\"Number samples no anomalies: {}\".format(X_no_anom.shape[0]))\n",
    "\n",
    "    #after removing anomalies\n",
    "    #plt.scatter(getX_PCA(X_no_anom), y_no_anom)\n",
    "    #plt.scatter(getX_PCA(X_anom), y_anom)\n",
    "    \n",
    "    return X_no_anom, y_no_anom"
   ]
  },
  {
   "cell_type": "markdown",
   "metadata": {},
   "source": [
    "### Model"
   ]
  },
  {
   "cell_type": "code",
   "execution_count": 11,
   "metadata": {
    "collapsed": true
   },
   "outputs": [],
   "source": [
    "# Linear regression\n",
    "from sklearn.linear_model import LinearRegression\n",
    "from sklearn.metrics import mean_squared_error\n",
    "\n",
    "def train(X_train, y_train, verbose=False):\n",
    "    lr = LinearRegression()\n",
    "\n",
    "    #\n",
    "    batch = 0\n",
    "    for train_idx, val_idx in kf.split(X_train, y_train):\n",
    "        X_t, X_v = X_train[train_idx], X_train[val_idx]\n",
    "        y_t, y_v = y_train[train_idx], y_train[val_idx]\n",
    "\n",
    "        #training\n",
    "        lr.fit(X_t, y_t)\n",
    "\n",
    "        #calculate costs\n",
    "        t_error = mean_squared_error(y_t, lr.predict(X_t))**0.5\n",
    "        v_error = mean_squared_error(y_v, lr.predict(X_v))**0.5\n",
    "        if verbose:\n",
    "            print(\"{}) Training error: {:.2f}  Validation error: {:.2f} Score: {:.2f}\"\n",
    "                  .format(batch, t_error, v_error, lr.score(X_v, y_v)))\n",
    "        batch += 1\n",
    "        \n",
    "    return lr\n",
    "\n",
    "def metrics(model, X, y, verbose=False):\n",
    "    #Scores\n",
    "    if verbose:\n",
    "        print(\"Training score: {:.4f}\".format(model.score(X, y)))\n",
    "    #RMSLE\n",
    "    rmsle = mean_squared_error(y, model.predict(X))**0.5\n",
    "    if verbose:\n",
    "        print(\"RMSLE: {:.4f}\".format(rmsle))\n",
    "        # Plotting the results\n",
    "        plt.scatter(model.predict(X), y)\n",
    "        \n",
    "    return rmsle"
   ]
  },
  {
   "cell_type": "code",
   "execution_count": 12,
   "metadata": {},
   "outputs": [],
   "source": [
    "# Get polynomial features\n",
    "from sklearn.preprocessing import PolynomialFeatures\n",
    "\n",
    "def getPolynomial(X_train, X_no_anom, X_test):\n",
    "    poly = PolynomialFeatures(degree=2)\n",
    "    return poly.fit_transform(X_train), poly.fit_transform(X_no_anom), poly.fit_transform(X_test)"
   ]
  },
  {
   "cell_type": "code",
   "execution_count": 13,
   "metadata": {},
   "outputs": [],
   "source": [
    "def getKeyWithMinError(X_train, X_no_amon, y_train, y_no_anom, verbose=False):\n",
    "    rmsles = {}\n",
    "    for f in range(1,X_train.shape[1]):\n",
    "        model = train(X_no_anom[:,:f], y_no_anom, verbose=False)\n",
    "        rmsles[f] = metrics(model, X_train[:,:f], y_train, verbose=False)\n",
    "\n",
    "    min_error_key = min(rmsles, key=rmsles.get)\n",
    "    \n",
    "    if (verbose):\n",
    "        print(\"Min error (k={}):{}\".format(min_error_key, rmsles[min_error_key]))\n",
    "    #model = train(X_train_pol[:,:min_error_key], y_train)\n",
    "    #metrics(model, X_train_orig_pol[:,:min_error_key], y_train_orig)\n",
    "    #pd.Series(rmsles).plot()\n",
    "    return min_error_key\n"
   ]
  },
  {
   "cell_type": "markdown",
   "metadata": {},
   "source": [
    "## Running Models"
   ]
  },
  {
   "cell_type": "code",
   "execution_count": 14,
   "metadata": {},
   "outputs": [
    {
     "name": "stdout",
     "output_type": "stream",
     "text": [
      "f:1 err:0.230\n",
      "f:2 err:0.205\n",
      "f:3 err:0.182\n",
      "f:4 err:0.178\n",
      "f:5 err:0.164\n",
      "f:6 err:0.163\n",
      "f:7 err:0.162\n",
      "f:8 err:0.161\n",
      "f:9 err:0.153\n",
      "f:10 err:0.145\n",
      "f:11 err:0.145\n",
      "f:12 err:0.139\n",
      "f:13 err:0.139\n",
      "f:14 err:0.132\n",
      "f:15 err:0.130\n",
      "f:16 err:0.138\n"
     ]
    },
    {
     "data": {
      "text/plain": [
       "<matplotlib.axes._subplots.AxesSubplot at 0x11c9e04a8>"
      ]
     },
     "execution_count": 14,
     "metadata": {},
     "output_type": "execute_result"
    },
    {
     "data": {
      "image/png": "[encoded data removed]",
      "text/plain": [
       "<matplotlib.figure.Figure at 0x11c9e02e8>"
      ]
     },
     "metadata": {},
     "output_type": "display_data"
    }
   ],
   "source": [
    "import warnings\n",
    "warnings.filterwarnings('ignore')\n",
    "\n",
    "errors = []\n",
    "for f in range(1,17):\n",
    "    #print(\"====Corr feat: {}====\".format(f))\n",
    "    datanum_high_corr = getDataWithHighCorrFeatures(datanum, f)\n",
    "\n",
    "    y = np.array(data['SalePrice'])\n",
    "    X = np.array(datanum_high_corr)\n",
    "\n",
    "    #split by idx\n",
    "    idx = train_samples\n",
    "    X_train, X_test = X[:idx], X[idx:]\n",
    "    y_train, y_test = y[:idx], y[idx:]\n",
    "    \n",
    "    #print(\"Shape X train: {}\".format(X_train.shape))\n",
    "\n",
    "    X_no_anom, y_no_anom = removeAnomalies(X_train, y_train)\n",
    "    #print(\"Shape X train (no anom): {}\".format(X_no_anom.shape))\n",
    "\n",
    "    X_train, X_no_anom, X_test = getPolynomial(X_train, X_no_anom, X_test)\n",
    "    #print(\"Shape X train (poly): {}\".format(X_no_anom.shape))\n",
    "\n",
    "    key = getKeyWithMinError(X_train, X_no_anom, y_train, y_no_anom)\n",
    "    model = train(X_no_anom[:,:key], y_no_anom)\n",
    "    error = metrics(model, X_train[:,:key], y_train)\n",
    "    \n",
    "    print(\"f:{} err:{:.3f}\".format(f, error))\n",
    "    errors.append(error)\n",
    "\n",
    "# show graph\n",
    "pd.Series(errors).plot()"
   ]
  },
  {
   "cell_type": "markdown",
   "metadata": {},
   "source": [
    "## Adding Categorical"
   ]
  },
  {
   "cell_type": "code",
   "execution_count": 15,
   "metadata": {},
   "outputs": [
    {
     "data": {
      "text/plain": [
       "Foundation_PConc     0.375016\n",
       "ExterQual_Gd         0.360151\n",
       "HeatingQC_Ex         0.330117\n",
       "BsmtQual_Ex          0.318714\n",
       "BsmtFinType1_GLQ     0.310262\n",
       "GarageFinish_Fin     0.294101\n",
       "GarageType_Attchd    0.293420\n",
       "KitchenQual_Ex       0.289375\n",
       "KitchenQual_Gd       0.288427\n",
       "GarageCond_TA        0.259965\n",
       "Name: SalePrice, dtype: float64"
      ]
     },
     "execution_count": 15,
     "metadata": {},
     "output_type": "execute_result"
    }
   ],
   "source": [
    "features = data.select_dtypes([np.object]).axes[1].tolist()\n",
    "features.append('SalePrice')\n",
    "\n",
    "datacat = pd.get_dummies(data[features])\n",
    "datacat = datacat.fillna(datacat.dropna().mean())\n",
    "datacat.corr()['SalePrice'].drop('SalePrice').sort_values(ascending=False).head(10)"
   ]
  },
  {
   "cell_type": "code",
   "execution_count": 16,
   "metadata": {},
   "outputs": [],
   "source": [
    "features_order_by_corr = datacat.corr()['SalePrice'].drop('SalePrice').sort_values(ascending=False).axes[0].tolist()"
   ]
  },
  {
   "cell_type": "code",
   "execution_count": 17,
   "metadata": {},
   "outputs": [
    {
     "name": "stdout",
     "output_type": "stream",
     "text": [
      "(2919, 136)\n",
      "(2919, 252)\n",
      "(2919, 388)\n"
     ]
    }
   ],
   "source": [
    "import warnings\n",
    "warnings.filterwarnings('ignore')\n",
    "\n",
    "datanum_high_corr = getDataWithHighCorrFeatures(datanum, 15)\n",
    "Xn = np.array(datanum_high_corr)\n",
    "Xc = np.array(datacat[features_order_by_corr])\n",
    "y = np.array(data['SalePrice'])\n",
    "\n",
    "poly = PolynomialFeatures(degree=2)\n",
    "Xpn = poly.fit_transform(Xn)\n",
    "\n",
    "X = np.concatenate([Xpn, Xc], axis=1)\n",
    "print(Xpn.shape)\n",
    "print(Xc.shape)\n",
    "print(X.shape)"
   ]
  },
  {
   "cell_type": "code",
   "execution_count": 18,
   "metadata": {},
   "outputs": [
    {
     "name": "stdout",
     "output_type": "stream",
     "text": [
      "Shape X train: (1460, 388)\n",
      "Shape X test: (1459, 388)\n",
      "Shape X train (no anom): (1460, 388)\n"
     ]
    }
   ],
   "source": [
    "#split by idx\n",
    "idx = train_samples\n",
    "X_train, X_test = X[:idx], X[idx:]\n",
    "y_train, y_test = y[:idx], y[idx:]\n",
    "\n",
    "print(\"Shape X train: {}\".format(X_train.shape))\n",
    "print(\"Shape X test: {}\".format(X_test.shape))\n",
    "\n",
    "X_no_anom, y_no_anom = removeAnomaliesFake(X_train, y_train) ### MUST USE removeAnomalies\n",
    "print(\"Shape X train (no anom): {}\".format(X_no_anom.shape))"
   ]
  },
  {
   "cell_type": "code",
   "execution_count": 19,
   "metadata": {},
   "outputs": [
    {
     "name": "stdout",
     "output_type": "stream",
     "text": [
      "Min err:0.096\n"
     ]
    },
    {
     "data": {
      "text/plain": [
       "<matplotlib.axes._subplots.AxesSubplot at 0x10e7631d0>"
      ]
     },
     "execution_count": 19,
     "metadata": {},
     "output_type": "execute_result"
    },
    {
     "data": {
      "image/png": "[encoded data removed]",
      "text/plain": [
       "<matplotlib.figure.Figure at 0x10e75ec50>"
      ]
     },
     "metadata": {},
     "output_type": "display_data"
    }
   ],
   "source": [
    "errors = {}\n",
    "for f in range(100,X_train.shape[1]):\n",
    "    modelt = train(X_no_anom[:,:f], y_no_anom, verbose=False)\n",
    "    err = metrics(modelt, X_train[:,:f], y_train, verbose=False)\n",
    "    if err > 1e-7:\n",
    "        errors[f] = err\n",
    "    else:\n",
    "        break\n",
    "\n",
    "min_error_key = min(errors, key=errors.get)\n",
    "print(\"Min err:{:.3f}\".format(errors[min_error_key]))\n",
    "pd.Series(errors).plot()"
   ]
  },
  {
   "cell_type": "code",
   "execution_count": 20,
   "metadata": {},
   "outputs": [
    {
     "name": "stdout",
     "output_type": "stream",
     "text": [
      "364\n"
     ]
    }
   ],
   "source": [
    "print(min_error_key)"
   ]
  },
  {
   "cell_type": "markdown",
   "metadata": {},
   "source": [
    "## Get Predictions"
   ]
  },
  {
   "cell_type": "code",
   "execution_count": 21,
   "metadata": {},
   "outputs": [
    {
     "name": "stdout",
     "output_type": "stream",
     "text": [
      "0.096154573311\n"
     ]
    }
   ],
   "source": [
    "import os\n",
    "\n",
    "modelt = train(X_no_anom[:,:min_error_key], y_no_anom, verbose=False)\n",
    "err = metrics(modelt, X_train[:,:min_error_key], y_train, verbose=False)\n",
    "print(err)\n",
    "predict = modelt.predict(X_test[:,:min_error_key])\n",
    "\n",
    "#predictions are logs, return to the value\n",
    "predict = np.exp(predict)\n",
    "\n",
    "file = \"Id,SalePrice\" + os.linesep\n",
    "\n",
    "startId = 1461\n",
    "for i in range(len(X_test)):\n",
    "    file += \"{},{}\".format(startId, (int)(predict[i])) + os.linesep\n",
    "    startId += 1\n",
    "\n",
    "#print(file)"
   ]
  },
  {
   "cell_type": "code",
   "execution_count": 22,
   "metadata": {
    "collapsed": true
   },
   "outputs": [],
   "source": [
    "# Save to file\n",
    "with open('attempt.txt', 'w') as f:\n",
    "    f.write(file)"
   ]
  },
  {
   "cell_type": "code",
   "execution_count": null,
   "metadata": {
    "collapsed": true
   },
   "outputs": [],
   "source": []
  }
 ],
 "metadata": {
  "kernelspec": {
   "display_name": "Python 3",
   "language": "python",
   "name": "python3"
  },
  "language_info": {
   "codemirror_mode": {
    "name": "ipython",
    "version": 3
   },
   "file_extension": ".py",
   "mimetype": "text/x-python",
   "name": "python",
   "nbconvert_exporter": "python",
   "pygments_lexer": "ipython3",
   "version": "3.5.3"
  }
 },
 "nbformat": 4,
 "nbformat_minor": 2
}
