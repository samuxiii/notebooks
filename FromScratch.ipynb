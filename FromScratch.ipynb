{
 "cells": [
  {
   "cell_type": "markdown",
   "metadata": {},
   "source": [
    "# From Scratch"
   ]
  },
  {
   "cell_type": "code",
   "execution_count": 28,
   "metadata": {},
   "outputs": [
    {
     "data": {
      "image/png": "[encoded data removed]",
      "text/plain": [
       "<matplotlib.figure.Figure at 0x10c0dc748>"
      ]
     },
     "metadata": {},
     "output_type": "display_data"
    }
   ],
   "source": [
    "import numpy as np\n",
    "import matplotlib.pyplot as plt\n",
    "import random\n",
    "\n",
    "x = np.random.randint(10, size=10)\n",
    "y = np.random.randint(10, size=10)\n",
    "\n",
    "#plotting\n",
    "plt.scatter(x,y)\n",
    "plt.show()"
   ]
  },
  {
   "cell_type": "code",
   "execution_count": 77,
   "metadata": {},
   "outputs": [
    {
     "name": "stdout",
     "output_type": "stream",
     "text": [
      "m:1.1631896700121125 b:0.9596606973432111\n"
     ]
    },
    {
     "data": {
      "image/png": "[encoded data removed]",
      "text/plain": [
       "<matplotlib.figure.Figure at 0x10c23d588>"
      ]
     },
     "metadata": {},
     "output_type": "display_data"
    }
   ],
   "source": [
    "#linear regression y = m*x + b\n",
    "m = 0\n",
    "b = random.random()\n",
    "\n",
    "#implement gradient descent\n",
    "def gd(X, Y, lr):\n",
    "    global m,b\n",
    "    for x,y in zip(X,Y):\n",
    "        pred = m*x + b\n",
    "        err = y - pred\n",
    "        b += b * err * lr\n",
    "        m += err * x * lr\n",
    "\n",
    "#calculate\n",
    "learnin_rate = 0.03\n",
    "gd(x, y, learnin_rate)\n",
    "print(\"m:{} b:{}\".format(m,b))\n",
    "plt.scatter(x,y)\n",
    "plt.plot(x, m*x+b, 'r')\n",
    "plt.show()"
   ]
  }
 ],
 "metadata": {
  "kernelspec": {
   "display_name": "Python 3",
   "language": "python",
   "name": "python3"
  },
  "language_info": {
   "codemirror_mode": {
    "name": "ipython",
    "version": 3
   },
   "file_extension": ".py",
   "mimetype": "text/x-python",
   "name": "python",
   "nbconvert_exporter": "python",
   "pygments_lexer": "ipython3",
   "version": "3.5.3"
  }
 },
 "nbformat": 4,
 "nbformat_minor": 2
}
