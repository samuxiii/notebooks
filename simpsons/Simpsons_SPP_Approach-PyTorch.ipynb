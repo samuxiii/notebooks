{
  "nbformat": 4,
  "nbformat_minor": 0,
  "metadata": {
    "colab": {
      "name": "Simpsons SPP Approach-PyTorch.ipynb",
      "version": "0.3.2",
      "provenance": [],
      "collapsed_sections": []
    },
    "kernelspec": {
      "display_name": "Python 3",
      "language": "python",
      "name": "python3"
    },
    "accelerator": "GPU"
  },
  "cells": [
    {
      "metadata": {
        "id": "9pgqMmWCbk59",
        "colab_type": "text"
      },
      "cell_type": "markdown",
      "source": [
        "# Simpsons Classifier\n",
        "\n",
        "\n",
        "## Images with different sizes: understanding _Spatial Pyramid Pooling_\n",
        "\n",
        "If the neural network has a fixed size as input images we'll have to deal with it. \n",
        "\n",
        "So the possible solutions will be:\n",
        "\n",
        "* Crop: problem, there is information that gets lost.\n",
        "* Warp/Resize: problem, the image patterns change and we lose accuracy.\n",
        "* Padding: problem, the model might be biased to images that contain such a padded border.\n",
        "* Combination of previous.\n",
        "\n",
        "Spatial Pyramid Pooling tries to resolve it. Indeed it should improve the efficiency.\n",
        "\n",
        "Paper: https://arxiv.org/abs/1406.4729"
      ]
    },
    {
      "metadata": {
        "id": "ONyoHry62qSz",
        "colab_type": "text"
      },
      "cell_type": "markdown",
      "source": [
        "### Obtaining the Dataset"
      ]
    },
    {
      "metadata": {
        "id": "EN7pM7HO12x5",
        "colab_type": "code",
        "colab": {
          "base_uri": "https://localhost:8080/",
          "height": 51
        },
        "outputId": "69f2ac05-780b-445f-ae8f-2aac0e640de8"
      },
      "cell_type": "code",
      "source": [
        "!pip install -q kaggle\n",
        "!mkdir -p ~/.kaggle\n",
        "!echo '{\"username\":\"XXXX\",\"key\":\"XXXX\"}' > ~/.kaggle/kaggle.json\n",
        "!kaggle datasets download -d alexattia/the-simpsons-characters-dataset"
      ],
      "execution_count": 1,
      "outputs": [
        {
          "output_type": "stream",
          "text": [
            "Warning: Your Kaggle API key is readable by otherusers on this system! To fix this, you can run'chmod 600 /root/.kaggle/kaggle.json'\n",
            "401 - Unauthorized\n"
          ],
          "name": "stdout"
        }
      ]
    },
    {
      "metadata": {
        "id": "MaJsJQMw2lai",
        "colab_type": "code",
        "colab": {}
      },
      "cell_type": "code",
      "source": [
        "!unzip -qo the-simpsons-characters-dataset.zip -d the-simpsons-characters-dataset\n",
        "!unzip -qo ./the-simpsons-characters-dataset/simpsons_dataset.zip -d the-simpsons-characters-dataset/\n",
        "!unzip -qo ./the-simpsons-characters-dataset/kaggle_simpson_testset.zip -d the-simpsons-characters-dataset/\n",
        "\n",
        "!rm ./the-simpsons-characters-dataset/kaggle_simpson_testset/.DS_Store\n",
        "!rm ./the-simpsons-characters-dataset/simpsons_dataset/nelson_muntz/.DS_Store"
      ],
      "execution_count": 0,
      "outputs": []
    },
    {
      "metadata": {
        "id": "W0iH5H2tbk5_",
        "colab_type": "text"
      },
      "cell_type": "markdown",
      "source": [
        "## Defining Datasets"
      ]
    },
    {
      "metadata": {
        "id": "7wVp3W3w14NE",
        "colab_type": "code",
        "colab": {
          "base_uri": "https://localhost:8080/",
          "height": 51
        },
        "outputId": "ae840067-6137-430d-b357-69ecc7820877"
      },
      "cell_type": "code",
      "source": [
        "# If running in Google Colab\n",
        "from os import path\n",
        "from wheel.pep425tags import get_abbr_impl, get_impl_ver, get_abi_tag\n",
        "platform = '{}{}-{}'.format(get_abbr_impl(), get_impl_ver(), get_abi_tag())\n",
        "\n",
        "accelerator = 'cu80' if path.exists('/opt/bin/nvidia-smi') else 'cpu'\n",
        "\n",
        "!pip install -q http://download.pytorch.org/whl/{accelerator}/torch-0.4.0-{platform}-linux_x86_64.whl torchvision\n",
        "import torch\n",
        "print(torch.__version__)\n",
        "print(torch.cuda.is_available())"
      ],
      "execution_count": 3,
      "outputs": [
        {
          "output_type": "stream",
          "text": [
            "0.4.0\n",
            "True\n"
          ],
          "name": "stdout"
        }
      ]
    },
    {
      "metadata": {
        "id": "2gFK--Bzbk6B",
        "colab_type": "code",
        "colab": {}
      },
      "cell_type": "code",
      "source": [
        "#Import libraries\n",
        "import os\n",
        "import glob\n",
        "import random\n",
        "import pickle\n",
        "import numpy as np\n",
        "import pandas as pd\n",
        "import matplotlib.pyplot as plt\n",
        "from scipy.misc import imread, imresize\n",
        "from random import shuffle\n",
        "#from sklearn.model_selection import train_test_split\n",
        "from sklearn import preprocessing"
      ],
      "execution_count": 0,
      "outputs": []
    },
    {
      "metadata": {
        "id": "M5h2qPBobk6I",
        "colab_type": "code",
        "colab": {
          "base_uri": "https://localhost:8080/",
          "height": 833
        },
        "outputId": "0b49adb6-b7e8-4671-edfb-6be813210c9c"
      },
      "cell_type": "code",
      "source": [
        "#Initial data inside simpsons.tar.gz\n",
        "info = pd.read_csv('./the-simpsons-characters-dataset/number_pic_char.csv')\n",
        "print(info)"
      ],
      "execution_count": 5,
      "outputs": [
        {
          "output_type": "stream",
          "text": [
            "    Unnamed: 0                      name  total  train  test  bounding_box\n",
            "0            0             Homer Simpson   2246   1909   337           612\n",
            "1            1              Ned Flanders   1454   1236   218           595\n",
            "2            2               Moe Szyslak   1452   1234   218           215\n",
            "3            3              Lisa Simpson   1354   1151   203           562\n",
            "4            4              Bart Simpson   1342   1141   201           554\n",
            "5            5             Marge Simpson   1291   1097   194           557\n",
            "6            6          Krusty The Clown   1206   1025   181           226\n",
            "7            7         Principal Skinner   1194   1015   179           506\n",
            "8            8  Charles Montgomery Burns   1193   1014   179           650\n",
            "9            9       Milhouse Van Houten   1079    917   162           210\n",
            "10          10              Chief Wiggum    986    838   148           209\n",
            "11          11    Abraham Grampa Simpson    913    776   137           595\n",
            "12          12              Sideshow Bob    877    745   132           203\n",
            "13          13    Apu Nahasapeemapetilon    623    530    93           206\n",
            "14          14             Kent Brockman    498    423    75           213\n",
            "15          15            Comic Book Guy    469    399    70           208\n",
            "16          16            Edna Krabappel    457    388    69           212\n",
            "17          17              Nelson Muntz    358    304    54           219\n",
            "18          18             Lenny Leonard    310    264    46             0\n",
            "19          19              Mayor Quimby    246    209    37             0\n",
            "20          20           Waylon Smithers    181    154    27             0\n",
            "21          21            Maggie Simpson    128    109    19             0\n",
            "22          22      Groundskeeper Willie    121    103    18             0\n",
            "23          23             Barney Gumble    106     90    16             0\n",
            "24          24             Selma Bouvier    103     88    15             0\n",
            "25          25              Carl Carlson     98     83    15             0\n",
            "26          26              Ralph Wiggum     89     76    13             0\n",
            "27          27             Patty Bouvier     72     61    11             0\n",
            "28          28             Martin Prince     71     60    11             0\n",
            "29          29      Professor John Frink     65     55    10             0\n",
            "30          30            Snake Jailbird     55     47     8             0\n",
            "31          31           Cletus Spuckler     47     40     7             0\n",
            "32          32        Rainier Wolfcastle     45     38     7             0\n",
            "33          33             Agnes Skinner     42     36     6             0\n",
            "34          34              Sideshow Mel     40     34     6             0\n",
            "35          35                 Otto Mann     32     27     5             0\n",
            "36          36                  Fat Tony     27     23     4             0\n",
            "37          37                       Gil     27     23     4             0\n",
            "38          38               Miss Hoover     17     14     3             0\n",
            "39          39                 Disco Stu      8      7     1             0\n",
            "40          40              Troy Mcclure      8      7     1             0\n",
            "41          41               Lionel Hutz      3      3     0             0\n",
            "42          42               Jimbo Jones      0      0     0             0\n",
            "43          43             Bumblebee Man      0      0     0             0\n",
            "44          44              Hans Moleman      0      0     0             0\n",
            "45          45             Helen Lovejoy      0      0     0             0\n",
            "46          46            Jasper Beardly      0      0     0             0\n"
          ],
          "name": "stdout"
        }
      ]
    },
    {
      "metadata": {
        "id": "K_ybW__Obk6Q",
        "colab_type": "code",
        "colab": {}
      },
      "cell_type": "code",
      "source": [
        "def get_character_directories(path):\n",
        "    character_directories = os.listdir(path)\n",
        "    if '.DS_Store' in character_directories: character_directories.remove('.DS_Store')\n",
        "    return character_directories\n",
        "\n",
        "def get_images_from_directory(path):\n",
        "    image_files = os.listdir(path)\n",
        "    if '.DS_Store' in image_files: image_files.remove('.DS_Store')\n",
        "    return image_files"
      ],
      "execution_count": 0,
      "outputs": []
    },
    {
      "metadata": {
        "id": "Bkxlz9G4bk6U",
        "colab_type": "code",
        "colab": {}
      },
      "cell_type": "code",
      "source": [
        "#root pats\n",
        "train_root_path = \"./the-simpsons-characters-dataset/simpsons_dataset\"\n",
        "test_root_path = \"./the-simpsons-characters-dataset/kaggle_simpson_testset\"\n",
        "\n",
        "#train directories\n",
        "character_directories = get_character_directories(train_root_path)"
      ],
      "execution_count": 0,
      "outputs": []
    },
    {
      "metadata": {
        "id": "XlJ1Z0WZbk6Z",
        "colab_type": "code",
        "colab": {
          "base_uri": "https://localhost:8080/",
          "height": 85
        },
        "outputId": "f1bf9112-3d6b-460f-e82d-0c74031e687f"
      },
      "cell_type": "code",
      "source": [
        "def test_paths():\n",
        "    #configure train dataset\n",
        "    print(\"Train: {}\".format(character_directories[:5]))\n",
        "\n",
        "    #images from one train directory\n",
        "    character_path = train_root_path + \"/\" + character_directories[1]\n",
        "    train_image_names = get_images_from_directory(character_path)\n",
        "    print(\"Images of {}: {}\".format(character_directories[1], train_image_names[:5]))\n",
        "\n",
        "\n",
        "    #configure test dataset\n",
        "    test_image_names = get_images_from_directory(test_root_path)\n",
        "    print(\"\\nTest: {}\".format(test_image_names[:5]))\n",
        "\n",
        "test_paths()"
      ],
      "execution_count": 8,
      "outputs": [
        {
          "output_type": "stream",
          "text": [
            "Train: ['abraham_grampa_simpson', 'moe_szyslak', 'kent_brockman', 'lionel_hutz', 'barney_gumble']\n",
            "Images of moe_szyslak: ['pic_0588.jpg', 'pic_0727.jpg', 'pic_1429.jpg', 'pic_0618.jpg', 'pic_1057.jpg']\n",
            "\n",
            "Test: ['kent_brockman_33.jpg', 'homer_simpson_17.jpg', 'lisa_simpson_7.jpg', 'marge_simpson_38.jpg', 'principal_skinner_48.jpg']\n"
          ],
          "name": "stdout"
        }
      ]
    },
    {
      "metadata": {
        "id": "I5t_xx7Bbk6f",
        "colab_type": "text"
      },
      "cell_type": "markdown",
      "source": [
        "### Showing Training and Test Samples"
      ]
    },
    {
      "metadata": {
        "id": "vTbbyuobbk6g",
        "colab_type": "code",
        "colab": {}
      },
      "cell_type": "code",
      "source": [
        "def plot_image(image):\n",
        "    plt.figure(figsize=(3, 3))\n",
        "    plt.imshow(image)\n",
        "    plt.axis('off')\n",
        "    plt.show()"
      ],
      "execution_count": 0,
      "outputs": []
    },
    {
      "metadata": {
        "id": "Ygt-KlWabk6j",
        "colab_type": "code",
        "colab": {
          "base_uri": "https://localhost:8080/",
          "height": 196
        },
        "outputId": "ceba1cce-3e1d-42de-872e-7d1caacbc79e"
      },
      "cell_type": "code",
      "source": [
        "def show_train_image(character_directory, idx):\n",
        "    directory = os.path.join(train_root_path, character_directory)\n",
        "    sample_file = get_images_from_directory(directory)[idx]\n",
        "    path_file = os.path.join(directory, sample_file)\n",
        "    sample_image = imread(path_file)\n",
        "\n",
        "    print(\"Label:{}, Image:{}, Shape:{}\".format(character_directory, idx, sample_image.shape))\n",
        "    plot_image(sample_image)\n",
        "    \n",
        "idx = random.randint(0, 10)\n",
        "show_train_image(character_directories[idx], idx)"
      ],
      "execution_count": 10,
      "outputs": [
        {
          "output_type": "stream",
          "text": [
            "Label:snake_jailbird, Image:6, Shape:(400, 528, 3)\n"
          ],
          "name": "stdout"
        },
        {
          "output_type": "display_data",
          "data": {
            "image/png": "[encoded data removed]",
            "text/plain": [
              "<matplotlib.figure.Figure at 0x7f1e345b4e48>"
            ]
          },
          "metadata": {
            "tags": []
          }
        }
      ]
    },
    {
      "metadata": {
        "id": "OhrXE27Rbk6o",
        "colab_type": "code",
        "colab": {
          "base_uri": "https://localhost:8080/",
          "height": 232
        },
        "outputId": "6dabbefc-18bf-456a-be4b-ca2c04548cb3"
      },
      "cell_type": "code",
      "source": [
        "def show_test_image(idx):\n",
        "    test_image_names = get_images_from_directory(test_root_path)\n",
        "    sample_file, sample_name = test_image_names[idx], test_image_names[idx].split('_')[:-1]\n",
        "    path_file = os.path.join(test_root_path, sample_file)\n",
        "    sample_image = imread(path_file)\n",
        "\n",
        "    print(\"Label:{}, Image:{}, Shape:{}\".format('_'.join(sample_name), idx, sample_image.shape))\n",
        "    plot_image(sample_image)\n",
        "\n",
        "idx = random.randint(0, 10)\n",
        "show_test_image(idx)"
      ],
      "execution_count": 11,
      "outputs": [
        {
          "output_type": "stream",
          "text": [
            "Label:nelson_muntz, Image:7, Shape:(176, 156, 3)\n"
          ],
          "name": "stdout"
        },
        {
          "output_type": "display_data",
          "data": {
            "image/png": "[encoded data removed]",
            "text/plain": [
              "<matplotlib.figure.Figure at 0x7f1e345db9b0>"
            ]
          },
          "metadata": {
            "tags": []
          }
        }
      ]
    },
    {
      "metadata": {
        "id": "KeZGH5Wzbk6t",
        "colab_type": "text"
      },
      "cell_type": "markdown",
      "source": [
        "### Training Images"
      ]
    },
    {
      "metadata": {
        "id": "SSxzBDVdbk6t",
        "colab_type": "code",
        "colab": {}
      },
      "cell_type": "code",
      "source": [
        "'''\n",
        "Input 'different_characters' will define the number of different Simpson\n",
        "characters the generator is going to return\n",
        "\n",
        "@Return: tuple (images list, names list)\n",
        "'''\n",
        "#Create the batch generator\n",
        "def batch_generator_training_images(batch_size, different_characters, verbose=False):\n",
        "    #Obtain the characters Serie with the most number of images\n",
        "    characters = info.sort_values(by='total', ascending=False).name\n",
        "\n",
        "    #transform to list with the following format:  Homer Simpson -> homer_simpson\n",
        "    characters = characters.map(lambda x: x.replace(\" \", \"_\").lower()).tolist()\n",
        "\n",
        "    path_name_list = list()\n",
        "    for i in range(0, different_characters):\n",
        "        directory = os.path.join(train_root_path, characters[i])\n",
        "        path_name_list += list(map( lambda x: (os.path.join(directory, x), characters[i]), \n",
        "                                    get_images_from_directory(directory)))\n",
        "\n",
        "    #shuffle all the images\n",
        "    shuffle(path_name_list)\n",
        "    \n",
        "    #getting a number of complete chunks according to the batch size\n",
        "    number_complete_chunks = len(path_name_list)//batch_size\n",
        "    num_images_in_all_chunks = number_complete_chunks * batch_size\n",
        "        \n",
        "    for b in range(0, num_images_in_all_chunks, batch_size):\n",
        "        if verbose:\n",
        "            print(\"init: {}, end:{}\".format(b, b+batch_size))\n",
        "        \n",
        "        yield (list(map( lambda x: imread(x[0]), path_name_list[b:b + batch_size])), #x == path\n",
        "               list(map( lambda x: x[1], path_name_list[b:b + batch_size])) ) #x == name\n"
      ],
      "execution_count": 0,
      "outputs": []
    },
    {
      "metadata": {
        "id": "a44BY3oAbk6w",
        "colab_type": "code",
        "colab": {
          "base_uri": "https://localhost:8080/",
          "height": 249
        },
        "outputId": "63ee87b3-53c7-433f-fa2e-acfe5541b063"
      },
      "cell_type": "code",
      "source": [
        "#testing how to show an image from generator\n",
        "def testing_generator_1():\n",
        "    for batch in batch_generator_training_images(32, 10, True):\n",
        "        for img, name in zip(*batch):\n",
        "            print(name)\n",
        "            plot_image(img)\n",
        "            break\n",
        "        pass\n",
        "        break\n",
        "        \n",
        "testing_generator_1()"
      ],
      "execution_count": 13,
      "outputs": [
        {
          "output_type": "stream",
          "text": [
            "init: 0, end:32\n",
            "charles_montgomery_burns\n"
          ],
          "name": "stdout"
        },
        {
          "output_type": "display_data",
          "data": {
            "image/png": "[encoded data removed]",
            "text/plain": [
              "<matplotlib.figure.Figure at 0x7f1e346522b0>"
            ]
          },
          "metadata": {
            "tags": []
          }
        }
      ]
    },
    {
      "metadata": {
        "id": "a0aN6XThbk6z",
        "colab_type": "code",
        "colab": {
          "base_uri": "https://localhost:8080/",
          "height": 170
        },
        "outputId": "54f1e0e6-ed30-48ea-b022-fdd9e5d974bc"
      },
      "cell_type": "code",
      "source": [
        "#testing the generator\n",
        "def testing_generator_2():\n",
        "    group = {}\n",
        "\n",
        "    for batch in batch_generator_training_images(8, 10, True):\n",
        "        for img, name in zip(*batch):\n",
        "            if not img.shape in group:\n",
        "                group[img.shape] = []\n",
        "            group[img.shape].append(img)\n",
        "        pass\n",
        "        break\n",
        "\n",
        "    for key, lists in group.items():\n",
        "        print(\"shape{} count:{}\".format(key, len(lists)))\n",
        "\n",
        "\n",
        "testing_generator_2()"
      ],
      "execution_count": 14,
      "outputs": [
        {
          "output_type": "stream",
          "text": [
            "init: 0, end:8\n",
            "shape(480, 640, 3) count:1\n",
            "shape(368, 496, 3) count:1\n",
            "shape(352, 312, 3) count:1\n",
            "shape(480, 320, 3) count:1\n",
            "shape(432, 576, 3) count:1\n",
            "shape(432, 288, 3) count:1\n",
            "shape(416, 288, 3) count:1\n",
            "shape(256, 339, 3) count:1\n"
          ],
          "name": "stdout"
        }
      ]
    },
    {
      "metadata": {
        "id": "yxsq6U_Wbk62",
        "colab_type": "code",
        "colab": {}
      },
      "cell_type": "code",
      "source": [
        "#global variable\n",
        "num_classes = 10 #different number of Simpons characters"
      ],
      "execution_count": 0,
      "outputs": []
    },
    {
      "metadata": {
        "id": "_7ibioT1bk63",
        "colab_type": "code",
        "colab": {}
      },
      "cell_type": "code",
      "source": [
        "#one hot encoder\n",
        "lb = preprocessing.LabelBinarizer()\n",
        "\n",
        "def customize_onehot_encoder(num_classes=10):\n",
        "    #Obtain the characters Serie with the most number of images\n",
        "    characters = info.sort_values(by='total', ascending=False).name\n",
        "\n",
        "    #transform to list with the following format:  Homer Simpson -> homer_simpson\n",
        "    names = characters[:num_classes].map(lambda x: x.replace(\" \", \"_\").lower()).tolist()\n",
        "\n",
        "    print(\"Character classes: {}\\n\".format(names))\n",
        "    lb.fit(names)\n"
      ],
      "execution_count": 0,
      "outputs": []
    },
    {
      "metadata": {
        "id": "Cly_WE9mbk65",
        "colab_type": "text"
      },
      "cell_type": "markdown",
      "source": [
        "### Storing Processed Files On Disk"
      ]
    },
    {
      "metadata": {
        "id": "KALs1L3rbk66",
        "colab_type": "code",
        "colab": {}
      },
      "cell_type": "code",
      "source": [
        "#global variable\n",
        "file_prefix = \"spp_simpson_train_\"\n",
        "batch_size = 1024"
      ],
      "execution_count": 0,
      "outputs": []
    },
    {
      "metadata": {
        "id": "PFOW6VO0bk68",
        "colab_type": "code",
        "colab": {
          "base_uri": "https://localhost:8080/",
          "height": 371
        },
        "outputId": "519a2246-5b13-46e6-e09c-5532912262ea"
      },
      "cell_type": "code",
      "source": [
        "def create_processed_files(batch_size=64):\n",
        "    customize_onehot_encoder(num_classes)\n",
        "    # Format of data => {shape: {'images':[], 'labels':[]} }\n",
        "    data = {}\n",
        "    \n",
        "    '''\n",
        "    The batch generator returns a tuple of two lists!!! (list_images, list_names)\n",
        "    '''\n",
        "    for cnt, batch in enumerate(batch_generator_training_images(batch_size, num_classes)):\n",
        "                \n",
        "        #group by shape\n",
        "        grouped = {}\n",
        "        for image, name in zip(*batch):\n",
        "            if not image.shape in grouped:\n",
        "                grouped[image.shape] = []\n",
        "            grouped[image.shape].append((image, name))        \n",
        "        \n",
        "        #training images which are grouped by shape at the same time\n",
        "        for shape, tuple_imagesList_namesList in grouped.items():\n",
        "            imagesList, namesList = zip(*tuple_imagesList_namesList)\n",
        "            \n",
        "            #casting\n",
        "            images = np.array(imagesList)\n",
        "            #onehot encoding names\n",
        "            names = np.array(lb.transform(namesList))\n",
        "            \n",
        "            if len(shape) == 3: #just in case dimension are less than 3\n",
        "                #print(\"Storing shape:{} with {}\".format(shape, len(images)))\n",
        "                data[shape] = {'images': images, 'labels': names}\n",
        "            else:\n",
        "                print(\"W: Dim image < 3\")\n",
        "        \n",
        "        #save into disk\n",
        "        with open(\"{}{}.pkl\".format(file_prefix, cnt), 'wb') as file:\n",
        "            pickle.dump(data, file, pickle.HIGHEST_PROTOCOL)\n",
        "            print(\"{} saved\".format(\"{}{}.pkl\".format(file_prefix, cnt)))\n",
        "        \n",
        "\n",
        "create_processed_files(batch_size)"
      ],
      "execution_count": 18,
      "outputs": [
        {
          "output_type": "stream",
          "text": [
            "Character classes: ['homer_simpson', 'ned_flanders', 'moe_szyslak', 'lisa_simpson', 'bart_simpson', 'marge_simpson', 'krusty_the_clown', 'principal_skinner', 'charles_montgomery_burns', 'milhouse_van_houten']\n",
            "\n",
            "spp_simpson_train_0.pkl saved\n",
            "spp_simpson_train_1.pkl saved\n",
            "spp_simpson_train_2.pkl saved\n",
            "spp_simpson_train_3.pkl saved\n",
            "spp_simpson_train_4.pkl saved\n",
            "spp_simpson_train_5.pkl saved\n",
            "spp_simpson_train_6.pkl saved\n",
            "spp_simpson_train_7.pkl saved\n",
            "spp_simpson_train_8.pkl saved\n",
            "spp_simpson_train_9.pkl saved\n",
            "spp_simpson_train_10.pkl saved\n",
            "spp_simpson_train_11.pkl saved\n",
            "spp_simpson_train_12.pkl saved\n"
          ],
          "name": "stdout"
        }
      ]
    },
    {
      "metadata": {
        "id": "vJa_IFzpbk6-",
        "colab_type": "text"
      },
      "cell_type": "markdown",
      "source": [
        "Since here, the images are processed and stored in different pickle files. \n",
        "\n",
        "The format of the __data is a dictionary__ which follows the format:  \n",
        "```\n",
        "{shape: {'images':[], 'labels':[]} }\n",
        "```"
      ]
    },
    {
      "metadata": {
        "id": "8B8u3lZQbk6_",
        "colab_type": "text"
      },
      "cell_type": "markdown",
      "source": [
        "## Keras + SPP Module\n",
        "\n",
        "Keras doesn't support currently the SSP layer but thanks to [yhenon](https://github.com/yhenon) there's a module which is integrated into keras. [Code is here](https://github.com/yhenon/keras-spp)"
      ]
    },
    {
      "metadata": {
        "id": "yZ0AF6ULcttG",
        "colab_type": "code",
        "colab": {
          "base_uri": "https://localhost:8080/",
          "height": 476
        },
        "outputId": "1c0a95e8-7efe-4672-88d9-e289c042360d"
      },
      "cell_type": "code",
      "source": [
        "!git clone https://github.com/yhenon/keras-spp.git\n",
        "!cd keras-spp && python setup.py install\n"
      ],
      "execution_count": 18,
      "outputs": [
        {
          "output_type": "stream",
          "text": [
            "Cloning into 'keras-spp'...\n",
            "remote: Counting objects: 125, done.\u001b[K\n",
            "remote: Total 125 (delta 0), reused 0 (delta 0), pack-reused 125\u001b[K\n",
            "Receiving objects: 100% (125/125), 29.25 KiB | 374.00 KiB/s, done.\n",
            "Resolving deltas: 100% (76/76), done.\n",
            "running install\n",
            "running build\n",
            "running build_py\n",
            "creating build\n",
            "creating build/lib\n",
            "creating build/lib/spp\n",
            "copying spp/__init__.py -> build/lib/spp\n",
            "copying spp/RoiPooling.py -> build/lib/spp\n",
            "copying spp/RoiPoolingConv.py -> build/lib/spp\n",
            "copying spp/SpatialPyramidPooling.py -> build/lib/spp\n",
            "running install_lib\n",
            "creating /usr/local/lib/python3.6/dist-packages/spp\n",
            "copying build/lib/spp/__init__.py -> /usr/local/lib/python3.6/dist-packages/spp\n",
            "copying build/lib/spp/RoiPooling.py -> /usr/local/lib/python3.6/dist-packages/spp\n",
            "copying build/lib/spp/RoiPoolingConv.py -> /usr/local/lib/python3.6/dist-packages/spp\n",
            "copying build/lib/spp/SpatialPyramidPooling.py -> /usr/local/lib/python3.6/dist-packages/spp\n",
            "byte-compiling /usr/local/lib/python3.6/dist-packages/spp/__init__.py to __init__.cpython-36.pyc\n",
            "byte-compiling /usr/local/lib/python3.6/dist-packages/spp/RoiPooling.py to RoiPooling.cpython-36.pyc\n",
            "byte-compiling /usr/local/lib/python3.6/dist-packages/spp/RoiPoolingConv.py to RoiPoolingConv.cpython-36.pyc\n",
            "byte-compiling /usr/local/lib/python3.6/dist-packages/spp/SpatialPyramidPooling.py to SpatialPyramidPooling.cpython-36.pyc\n",
            "running install_egg_info\n",
            "Writing /usr/local/lib/python3.6/dist-packages/keras_spp-0.0.0.egg-info\n"
          ],
          "name": "stdout"
        }
      ]
    },
    {
      "metadata": {
        "id": "syXZLfe9bk6_",
        "colab_type": "code",
        "colab": {
          "base_uri": "https://localhost:8080/",
          "height": 34
        },
        "outputId": "7b2a0478-209c-4ed2-d059-7138919dc922"
      },
      "cell_type": "code",
      "source": [
        "from keras.models import Sequential\n",
        "from keras.layers import Conv2D, Convolution2D, Activation, MaxPooling2D, Dense, Dropout\n",
        "from keras.layers.normalization import BatchNormalization\n",
        "from spp.SpatialPyramidPooling import SpatialPyramidPooling"
      ],
      "execution_count": 3,
      "outputs": [
        {
          "output_type": "stream",
          "text": [
            "Using TensorFlow backend.\n"
          ],
          "name": "stderr"
        }
      ]
    },
    {
      "metadata": {
        "id": "ZE56ZqqauW9i",
        "colab_type": "code",
        "colab": {}
      },
      "cell_type": "code",
      "source": [
        "from keras.engine.topology import Layer\n",
        "import keras.backend as K\n",
        "\n",
        "\n",
        "class SPP(Layer):\n",
        "    \"\"\"\n",
        "    # Arguments\n",
        "        pool_list: list of int\n",
        "            List of pooling regions to use. The length of the list is the number of pooling regions,\n",
        "            each int in the list is the number of regions in that pool. For example [1,2,4] would be 3\n",
        "            regions with 1, 2x2 and 4x4 max pools, so 21 outputs per feature map\n",
        "    # Input shape\n",
        "        4D tensor with shape (samples, rows, cols, channels)\n",
        "    # Output shape\n",
        "        2D tensor with shape (samples, channels * sum([i * i for i in pool_list])\n",
        "    \"\"\"\n",
        "\n",
        "    def __init__(self, pool_list, **kwargs):\n",
        "\n",
        "        self.dim_ordering = K.image_dim_ordering()\n",
        "        assert self.dim_ordering in {'tf'}, 'dim_ordering must be in tensorflow'\n",
        "\n",
        "        self.pool_list = pool_list\n",
        "        self.num_outputs_per_channel = sum([i * i for i in pool_list])\n",
        "        super(SPP, self).__init__(**kwargs)\n",
        "\n",
        "    def build(self, input_shape):\n",
        "        self.nb_channels = input_shape[3]\n",
        "\n",
        "    def compute_output_shape(self, input_shape):\n",
        "        return (input_shape[0], self.nb_channels * self.num_outputs_per_channel)\n",
        "\n",
        "    def get_config(self):\n",
        "        config = {'pool_list': self.pool_list}\n",
        "        base_config = super(SPP, self).get_config()\n",
        "        return dict(list(base_config.items()) + list(config.items()))\n",
        "\n",
        "    def call(self, x, mask=None):\n",
        "        input_shape = K.shape(x)\n",
        "\n",
        "        num_rows = input_shape[1]\n",
        "        num_cols = input_shape[2]\n",
        "\n",
        "        row_length = [K.cast(num_rows, 'float32') / i for i in self.pool_list]\n",
        "        col_length = [K.cast(num_cols, 'float32') / i for i in self.pool_list]\n",
        "\n",
        "        outputs = []\n",
        "\n",
        "        for pool_num, num_pool_regions in enumerate(self.pool_list):\n",
        "            for jy in range(num_pool_regions):\n",
        "                for ix in range(num_pool_regions):\n",
        "                    x1 = ix * col_length[pool_num]\n",
        "                    x2 = ix * col_length[pool_num] + col_length[pool_num]\n",
        "                    y1 = jy * row_length[pool_num]\n",
        "                    y2 = jy * row_length[pool_num] + row_length[pool_num]\n",
        "\n",
        "                    x1 = K.cast(K.round(x1), 'int32')\n",
        "                    x2 = K.cast(K.round(x2), 'int32')\n",
        "                    y1 = K.cast(K.round(y1), 'int32')\n",
        "                    y2 = K.cast(K.round(y2), 'int32')\n",
        "\n",
        "                    new_shape = [input_shape[0], y2 - y1,\n",
        "                                 x2 - x1, input_shape[3]]\n",
        "\n",
        "                    x_crop = x[:, y1:y2, x1:x2, :]\n",
        "                    xm = K.reshape(x_crop, new_shape)\n",
        "                    pooled_val = K.max(xm, axis=(1, 2))\n",
        "                    outputs.append(pooled_val)\n",
        "\n",
        "        #outputs = K.concatenate(outputs)\n",
        "        outputs = K.reshape(outputs, self.compute_output_shape(input_shape))\n",
        "\n",
        "        return outputs"
      ],
      "execution_count": 0,
      "outputs": []
    },
    {
      "metadata": {
        "id": "TrHR5yoObk7C",
        "colab_type": "code",
        "colab": {
          "base_uri": "https://localhost:8080/",
          "height": 544
        },
        "outputId": "3ca430f5-2b2d-4471-a305-ed2ac5d73b0a"
      },
      "cell_type": "code",
      "source": [
        "'''\n",
        "Build a model with a typical network architecture\n",
        "'''\n",
        "def build_model(num_channels = 3, num_classes = 10, filters = 32):\n",
        "    model = Sequential()\n",
        "\n",
        "    #Note: leave the image size as None to allow multiple image sizes\n",
        "    model.add(Conv2D(filters, (3, 3), padding='same', input_shape=(None, None, num_channels)))\n",
        "    model.add(Activation('relu'))\n",
        "    model.add(Conv2D(filters, (3, 3)))\n",
        "    model.add(Activation('relu'))\n",
        "    model.add(MaxPooling2D(pool_size=(2, 2), strides=(2, 2)))\n",
        "    \n",
        "    model.add(Conv2D(filters*2, (3, 3), padding='same'))\n",
        "    model.add(Activation('relu'))\n",
        "    model.add(Conv2D(filters*2, (3, 3)))\n",
        "    model.add(Activation('relu'))\n",
        "    \n",
        "    #SPP\n",
        "    model.add(SPP([1, 2, 3]))\n",
        "    #for l in [1,2,4]:\n",
        "    #    kernel_size = ceil(a/l)\n",
        "    #    stride_size = floor(a/l)\n",
        "    #    model.add(MaxPooling2D(pool_size=pool_size, strides=strides, padding='valid', data_format=None))\n",
        "\n",
        "    model.add(Dense(num_classes))\n",
        "    model.add(Activation('softmax'))\n",
        "\n",
        "    model.compile(loss='categorical_crossentropy', optimizer='adam', metrics=['accuracy'])\n",
        "    \n",
        "    return model\n",
        "\n",
        "build_model().summary()"
      ],
      "execution_count": 48,
      "outputs": [
        {
          "output_type": "stream",
          "text": [
            "_________________________________________________________________\n",
            "Layer (type)                 Output Shape              Param #   \n",
            "=================================================================\n",
            "conv2d_109 (Conv2D)          (None, None, None, 32)    896       \n",
            "_________________________________________________________________\n",
            "activation_134 (Activation)  (None, None, None, 32)    0         \n",
            "_________________________________________________________________\n",
            "conv2d_110 (Conv2D)          (None, None, None, 32)    9248      \n",
            "_________________________________________________________________\n",
            "activation_135 (Activation)  (None, None, None, 32)    0         \n",
            "_________________________________________________________________\n",
            "max_pooling2d_34 (MaxPooling (None, None, None, 32)    0         \n",
            "_________________________________________________________________\n",
            "conv2d_111 (Conv2D)          (None, None, None, 64)    18496     \n",
            "_________________________________________________________________\n",
            "activation_136 (Activation)  (None, None, None, 64)    0         \n",
            "_________________________________________________________________\n",
            "conv2d_112 (Conv2D)          (None, None, None, 64)    36928     \n",
            "_________________________________________________________________\n",
            "activation_137 (Activation)  (None, None, None, 64)    0         \n",
            "_________________________________________________________________\n",
            "spp_4 (SPP)                  (None, 896)               0         \n",
            "_________________________________________________________________\n",
            "dense_26 (Dense)             (None, 10)                8970      \n",
            "_________________________________________________________________\n",
            "activation_138 (Activation)  (None, 10)                0         \n",
            "=================================================================\n",
            "Total params: 74,538\n",
            "Trainable params: 74,538\n",
            "Non-trainable params: 0\n",
            "_________________________________________________________________\n"
          ],
          "name": "stdout"
        }
      ]
    },
    {
      "metadata": {
        "id": "Euuhc1TQNfOC",
        "colab_type": "code",
        "colab": {
          "base_uri": "https://localhost:8080/",
          "height": 612
        },
        "outputId": "88ac7bae-8e5a-4409-b748-4c11dae2fcba"
      },
      "cell_type": "code",
      "source": [
        "'''\n",
        "Build a model with a typical network architecture\n",
        "'''\n",
        "def build_model(num_channels = 3, num_classes = 10, filters = 32):\n",
        "    model = Sequential()\n",
        "\n",
        "    #Note: leave the image size as None to allow multiple image sizes\n",
        "    model.add(Conv2D(96, (11, 11), padding='same', input_shape=(None, None, num_channels)))\n",
        "    model.add(Activation('relu'))\n",
        "    model.add(MaxPooling2D(pool_size=(2, 2), strides=(2, 2)))\n",
        "\n",
        "    model.add(Conv2D(32, (3, 3)))\n",
        "    model.add(Activation('relu'))\n",
        "    model.add(MaxPooling2D(pool_size=(2, 2), strides=(2, 2)))\n",
        "\n",
        "    model.add(Conv2D(64, (3, 3)))\n",
        "    model.add(Activation('relu'))\n",
        "    model.add(MaxPooling2D(pool_size=(2, 2), strides=(2, 2)))\n",
        "\n",
        "    \n",
        "    #SPP\n",
        "    model.add(SPP([1, 2, 3]))\n",
        "    #for l in [1,2,4]:\n",
        "    #    kernel_size = ceil(a/l)\n",
        "    #    stride_size = floor(a/l)\n",
        "    #    model.add(MaxPooling2D(pool_size=pool_size, strides=strides, padding='valid', data_format=None))\n",
        "\n",
        "    model.add(Dense(4096))\n",
        "    model.add(Dropout(0.5))\n",
        "    \n",
        "    model.add(Dense(num_classes))\n",
        "    model.add(Activation('softmax'))\n",
        "\n",
        "    model.compile(loss='categorical_crossentropy', optimizer='adam', metrics=['accuracy'])\n",
        "    \n",
        "    return model\n",
        "\n",
        "build_model().summary()"
      ],
      "execution_count": 53,
      "outputs": [
        {
          "output_type": "stream",
          "text": [
            "_________________________________________________________________\n",
            "Layer (type)                 Output Shape              Param #   \n",
            "=================================================================\n",
            "conv2d_125 (Conv2D)          (None, None, None, 96)    34944     \n",
            "_________________________________________________________________\n",
            "activation_154 (Activation)  (None, None, None, 96)    0         \n",
            "_________________________________________________________________\n",
            "max_pooling2d_47 (MaxPooling (None, None, None, 96)    0         \n",
            "_________________________________________________________________\n",
            "conv2d_126 (Conv2D)          (None, None, None, 32)    27680     \n",
            "_________________________________________________________________\n",
            "activation_155 (Activation)  (None, None, None, 32)    0         \n",
            "_________________________________________________________________\n",
            "max_pooling2d_48 (MaxPooling (None, None, None, 32)    0         \n",
            "_________________________________________________________________\n",
            "conv2d_127 (Conv2D)          (None, None, None, 64)    18496     \n",
            "_________________________________________________________________\n",
            "activation_156 (Activation)  (None, None, None, 64)    0         \n",
            "_________________________________________________________________\n",
            "max_pooling2d_49 (MaxPooling (None, None, None, 64)    0         \n",
            "_________________________________________________________________\n",
            "spp_8 (SPP)                  (None, 896)               0         \n",
            "_________________________________________________________________\n",
            "dense_36 (Dense)             (None, 4096)              3674112   \n",
            "_________________________________________________________________\n",
            "dropout_7 (Dropout)          (None, 4096)              0         \n",
            "_________________________________________________________________\n",
            "dense_37 (Dense)             (None, 10)                40970     \n",
            "_________________________________________________________________\n",
            "activation_157 (Activation)  (None, 10)                0         \n",
            "=================================================================\n",
            "Total params: 3,796,202\n",
            "Trainable params: 3,796,202\n",
            "Non-trainable params: 0\n",
            "_________________________________________________________________\n"
          ],
          "name": "stdout"
        }
      ]
    },
    {
      "metadata": {
        "id": "8EaSD6uobk7F",
        "colab_type": "code",
        "colab": {
          "base_uri": "https://localhost:8080/",
          "height": 102
        },
        "outputId": "a4662e44-2104-4fe6-dd94-2de26b4dc511"
      },
      "cell_type": "code",
      "source": [
        "#TESTING\n",
        "# train on images with different sizes\n",
        "def model_tried_out(num_channels, num_classes, batch_size):\n",
        "    model = build_model(num_channels, num_classes)\n",
        "    #size 1\n",
        "    hist = model.fit(np.random.rand(batch_size, 100, 132, num_channels), \n",
        "                     np.random.rand(batch_size, num_classes),\n",
        "                     epochs=1)\n",
        "    #size 2\n",
        "    hist = model.fit(np.random.rand(batch_size, 64, 64, num_channels), \n",
        "                     np.random.rand(batch_size, num_classes),\n",
        "                     epochs=1)\n",
        "\n",
        "    print(hist.history)\n",
        "    \n",
        "model_tried_out(2, 2, 10)"
      ],
      "execution_count": 50,
      "outputs": [
        {
          "output_type": "stream",
          "text": [
            "Epoch 1/1\n",
            "10/10 [==============================] - 4s 424ms/step - loss: 0.5229 - acc: 0.7000\n",
            "Epoch 1/1\n",
            "10/10 [==============================] - 0s 12ms/step - loss: 1.1228 - acc: 0.3000\n",
            "{'loss': [1.1227833032608032], 'acc': [0.30000001192092896]}\n"
          ],
          "name": "stdout"
        }
      ]
    },
    {
      "metadata": {
        "id": "UYalaISkbk7I",
        "colab_type": "text"
      },
      "cell_type": "markdown",
      "source": [
        "### Training The Model Using The Processed Files"
      ]
    },
    {
      "metadata": {
        "id": "xmbgE0n4bk7K",
        "colab_type": "code",
        "colab": {
          "base_uri": "https://localhost:8080/",
          "height": 1003
        },
        "outputId": "c97e867d-d3bd-4270-ce89-78ab72d62267"
      },
      "cell_type": "code",
      "source": [
        "def train_model(epochs=5):\n",
        "    customize_onehot_encoder()\n",
        "    model = build_model()\n",
        "\n",
        "    num_files = len(glob.glob(\"{}*\".format(file_prefix)))\n",
        "    \n",
        "    for e in range(epochs):\n",
        "        for i in range(num_files):\n",
        "            fname = \"{}{}.pkl\".format(file_prefix, i)\n",
        "            if os.path.exists(fname):   \n",
        "                with open(fname, 'rb') as file:\n",
        "                    data = pickle.load(file)\n",
        "                    #print(\"Processing file: {}\".format(fname))\n",
        "                    #print(\"Training shapes: \")\n",
        "\n",
        "                    for shape, data in data.items():\n",
        "                        #print(\"{}\".format(shape), end='', flush=True)\n",
        "\n",
        "                        #if len(data['images']) < 10:\n",
        "                        #  continue\n",
        "                        val_size = 0 #0.3 if len(data['images']) > 3 else 0\n",
        "                        hist = model.fit(data['images'], data['labels'], validation_split=val_size, epochs=1, verbose=0)\n",
        "\n",
        "        print(\"Epoch: {}  Loss: {}  Accuracy: {}\".format(e, hist.history['loss'][0], hist.history['acc'][0]))\n",
        "\n",
        "    return model\n",
        "\n",
        "model1 = train_model()"
      ],
      "execution_count": 54,
      "outputs": [
        {
          "output_type": "stream",
          "text": [
            "Character classes: ['homer_simpson', 'ned_flanders', 'moe_szyslak', 'lisa_simpson', 'bart_simpson', 'marge_simpson', 'krusty_the_clown', 'principal_skinner', 'charles_montgomery_burns', 'milhouse_van_houten']\n",
            "\n",
            "Epoch: 0  Loss: 16.11809539794922  Accuracy: 0.0\n"
          ],
          "name": "stdout"
        },
        {
          "output_type": "error",
          "ename": "KeyboardInterrupt",
          "evalue": "ignored",
          "traceback": [
            "\u001b[0;31m---------------------------------------------------------------------------\u001b[0m",
            "\u001b[0;31mKeyboardInterrupt\u001b[0m                         Traceback (most recent call last)",
            "\u001b[0;32m<ipython-input-54-da85f8e6d5a0>\u001b[0m in \u001b[0;36m<module>\u001b[0;34m()\u001b[0m\n\u001b[1;32m     26\u001b[0m     \u001b[0;32mreturn\u001b[0m \u001b[0mmodel\u001b[0m\u001b[0;34m\u001b[0m\u001b[0m\n\u001b[1;32m     27\u001b[0m \u001b[0;34m\u001b[0m\u001b[0m\n\u001b[0;32m---> 28\u001b[0;31m \u001b[0mmodel1\u001b[0m \u001b[0;34m=\u001b[0m \u001b[0mtrain_model\u001b[0m\u001b[0;34m(\u001b[0m\u001b[0;34m)\u001b[0m\u001b[0;34m\u001b[0m\u001b[0m\n\u001b[0m",
            "\u001b[0;32m<ipython-input-54-da85f8e6d5a0>\u001b[0m in \u001b[0;36mtrain_model\u001b[0;34m(epochs)\u001b[0m\n\u001b[1;32m     20\u001b[0m                         \u001b[0;31m#  continue\u001b[0m\u001b[0;34m\u001b[0m\u001b[0;34m\u001b[0m\u001b[0m\n\u001b[1;32m     21\u001b[0m                         \u001b[0mval_size\u001b[0m \u001b[0;34m=\u001b[0m \u001b[0;36m0\u001b[0m \u001b[0;31m#0.3 if len(data['images']) > 3 else 0\u001b[0m\u001b[0;34m\u001b[0m\u001b[0m\n\u001b[0;32m---> 22\u001b[0;31m                         \u001b[0mhist\u001b[0m \u001b[0;34m=\u001b[0m \u001b[0mmodel\u001b[0m\u001b[0;34m.\u001b[0m\u001b[0mfit\u001b[0m\u001b[0;34m(\u001b[0m\u001b[0mdata\u001b[0m\u001b[0;34m[\u001b[0m\u001b[0;34m'images'\u001b[0m\u001b[0;34m]\u001b[0m\u001b[0;34m,\u001b[0m \u001b[0mdata\u001b[0m\u001b[0;34m[\u001b[0m\u001b[0;34m'labels'\u001b[0m\u001b[0;34m]\u001b[0m\u001b[0;34m,\u001b[0m \u001b[0mvalidation_split\u001b[0m\u001b[0;34m=\u001b[0m\u001b[0mval_size\u001b[0m\u001b[0;34m,\u001b[0m \u001b[0mepochs\u001b[0m\u001b[0;34m=\u001b[0m\u001b[0;36m1\u001b[0m\u001b[0;34m,\u001b[0m \u001b[0mverbose\u001b[0m\u001b[0;34m=\u001b[0m\u001b[0;36m0\u001b[0m\u001b[0;34m)\u001b[0m\u001b[0;34m\u001b[0m\u001b[0m\n\u001b[0m\u001b[1;32m     23\u001b[0m \u001b[0;34m\u001b[0m\u001b[0m\n\u001b[1;32m     24\u001b[0m         \u001b[0mprint\u001b[0m\u001b[0;34m(\u001b[0m\u001b[0;34m\"Epoch: {}  Loss: {}  Accuracy: {}\"\u001b[0m\u001b[0;34m.\u001b[0m\u001b[0mformat\u001b[0m\u001b[0;34m(\u001b[0m\u001b[0me\u001b[0m\u001b[0;34m,\u001b[0m \u001b[0mhist\u001b[0m\u001b[0;34m.\u001b[0m\u001b[0mhistory\u001b[0m\u001b[0;34m[\u001b[0m\u001b[0;34m'loss'\u001b[0m\u001b[0;34m]\u001b[0m\u001b[0;34m[\u001b[0m\u001b[0;36m0\u001b[0m\u001b[0;34m]\u001b[0m\u001b[0;34m,\u001b[0m \u001b[0mhist\u001b[0m\u001b[0;34m.\u001b[0m\u001b[0mhistory\u001b[0m\u001b[0;34m[\u001b[0m\u001b[0;34m'acc'\u001b[0m\u001b[0;34m]\u001b[0m\u001b[0;34m[\u001b[0m\u001b[0;36m0\u001b[0m\u001b[0;34m]\u001b[0m\u001b[0;34m)\u001b[0m\u001b[0;34m)\u001b[0m\u001b[0;34m\u001b[0m\u001b[0m\n",
            "\u001b[0;32m/usr/local/lib/python3.6/dist-packages/keras/models.py\u001b[0m in \u001b[0;36mfit\u001b[0;34m(self, x, y, batch_size, epochs, verbose, callbacks, validation_split, validation_data, shuffle, class_weight, sample_weight, initial_epoch, steps_per_epoch, validation_steps, **kwargs)\u001b[0m\n\u001b[1;32m   1000\u001b[0m                               \u001b[0minitial_epoch\u001b[0m\u001b[0;34m=\u001b[0m\u001b[0minitial_epoch\u001b[0m\u001b[0;34m,\u001b[0m\u001b[0;34m\u001b[0m\u001b[0m\n\u001b[1;32m   1001\u001b[0m                               \u001b[0msteps_per_epoch\u001b[0m\u001b[0;34m=\u001b[0m\u001b[0msteps_per_epoch\u001b[0m\u001b[0;34m,\u001b[0m\u001b[0;34m\u001b[0m\u001b[0m\n\u001b[0;32m-> 1002\u001b[0;31m                               validation_steps=validation_steps)\n\u001b[0m\u001b[1;32m   1003\u001b[0m \u001b[0;34m\u001b[0m\u001b[0m\n\u001b[1;32m   1004\u001b[0m     def evaluate(self, x=None, y=None,\n",
            "\u001b[0;32m/usr/local/lib/python3.6/dist-packages/keras/engine/training.py\u001b[0m in \u001b[0;36mfit\u001b[0;34m(self, x, y, batch_size, epochs, verbose, callbacks, validation_split, validation_data, shuffle, class_weight, sample_weight, initial_epoch, steps_per_epoch, validation_steps, **kwargs)\u001b[0m\n\u001b[1;32m   1628\u001b[0m             \u001b[0msample_weight\u001b[0m\u001b[0;34m=\u001b[0m\u001b[0msample_weight\u001b[0m\u001b[0;34m,\u001b[0m\u001b[0;34m\u001b[0m\u001b[0m\n\u001b[1;32m   1629\u001b[0m             \u001b[0mclass_weight\u001b[0m\u001b[0;34m=\u001b[0m\u001b[0mclass_weight\u001b[0m\u001b[0;34m,\u001b[0m\u001b[0;34m\u001b[0m\u001b[0m\n\u001b[0;32m-> 1630\u001b[0;31m             batch_size=batch_size)\n\u001b[0m\u001b[1;32m   1631\u001b[0m         \u001b[0;31m# Prepare validation data.\u001b[0m\u001b[0;34m\u001b[0m\u001b[0;34m\u001b[0m\u001b[0m\n\u001b[1;32m   1632\u001b[0m         \u001b[0mdo_validation\u001b[0m \u001b[0;34m=\u001b[0m \u001b[0;32mFalse\u001b[0m\u001b[0;34m\u001b[0m\u001b[0m\n",
            "\u001b[0;32m/usr/local/lib/python3.6/dist-packages/keras/engine/training.py\u001b[0m in \u001b[0;36m_standardize_user_data\u001b[0;34m(self, x, y, sample_weight, class_weight, check_array_lengths, batch_size)\u001b[0m\n\u001b[1;32m   1485\u001b[0m         sample_weights = [_standardize_weights(ref, sw, cw, mode)\n\u001b[1;32m   1486\u001b[0m                           \u001b[0;32mfor\u001b[0m \u001b[0;34m(\u001b[0m\u001b[0mref\u001b[0m\u001b[0;34m,\u001b[0m \u001b[0msw\u001b[0m\u001b[0;34m,\u001b[0m \u001b[0mcw\u001b[0m\u001b[0;34m,\u001b[0m \u001b[0mmode\u001b[0m\u001b[0;34m)\u001b[0m\u001b[0;34m\u001b[0m\u001b[0m\n\u001b[0;32m-> 1487\u001b[0;31m                           in zip(y, sample_weights, class_weights, self._feed_sample_weight_modes)]\n\u001b[0m\u001b[1;32m   1488\u001b[0m \u001b[0;34m\u001b[0m\u001b[0m\n\u001b[1;32m   1489\u001b[0m         \u001b[0;32mif\u001b[0m \u001b[0mcheck_array_lengths\u001b[0m\u001b[0;34m:\u001b[0m\u001b[0;34m\u001b[0m\u001b[0m\n",
            "\u001b[0;32m/usr/local/lib/python3.6/dist-packages/keras/engine/training.py\u001b[0m in \u001b[0;36m<listcomp>\u001b[0;34m(.0)\u001b[0m\n\u001b[1;32m   1484\u001b[0m                                                    self._feed_output_names)\n\u001b[1;32m   1485\u001b[0m         sample_weights = [_standardize_weights(ref, sw, cw, mode)\n\u001b[0;32m-> 1486\u001b[0;31m                           \u001b[0;32mfor\u001b[0m \u001b[0;34m(\u001b[0m\u001b[0mref\u001b[0m\u001b[0;34m,\u001b[0m \u001b[0msw\u001b[0m\u001b[0;34m,\u001b[0m \u001b[0mcw\u001b[0m\u001b[0;34m,\u001b[0m \u001b[0mmode\u001b[0m\u001b[0;34m)\u001b[0m\u001b[0;34m\u001b[0m\u001b[0m\n\u001b[0m\u001b[1;32m   1487\u001b[0m                           in zip(y, sample_weights, class_weights, self._feed_sample_weight_modes)]\n\u001b[1;32m   1488\u001b[0m \u001b[0;34m\u001b[0m\u001b[0m\n",
            "\u001b[0;32m/usr/local/lib/python3.6/dist-packages/keras/engine/training.py\u001b[0m in \u001b[0;36m_standardize_weights\u001b[0;34m(y, sample_weight, class_weight, sample_weight_mode)\u001b[0m\n\u001b[1;32m    538\u001b[0m     \u001b[0;32melse\u001b[0m\u001b[0;34m:\u001b[0m\u001b[0;34m\u001b[0m\u001b[0m\n\u001b[1;32m    539\u001b[0m         \u001b[0;32mif\u001b[0m \u001b[0msample_weight_mode\u001b[0m \u001b[0;32mis\u001b[0m \u001b[0;32mNone\u001b[0m\u001b[0;34m:\u001b[0m\u001b[0;34m\u001b[0m\u001b[0m\n\u001b[0;32m--> 540\u001b[0;31m             \u001b[0;32mreturn\u001b[0m \u001b[0mnp\u001b[0m\u001b[0;34m.\u001b[0m\u001b[0mones\u001b[0m\u001b[0;34m(\u001b[0m\u001b[0;34m(\u001b[0m\u001b[0my\u001b[0m\u001b[0;34m.\u001b[0m\u001b[0mshape\u001b[0m\u001b[0;34m[\u001b[0m\u001b[0;36m0\u001b[0m\u001b[0;34m]\u001b[0m\u001b[0;34m,\u001b[0m\u001b[0;34m)\u001b[0m\u001b[0;34m,\u001b[0m \u001b[0mdtype\u001b[0m\u001b[0;34m=\u001b[0m\u001b[0mK\u001b[0m\u001b[0;34m.\u001b[0m\u001b[0mfloatx\u001b[0m\u001b[0;34m(\u001b[0m\u001b[0;34m)\u001b[0m\u001b[0;34m)\u001b[0m\u001b[0;34m\u001b[0m\u001b[0m\n\u001b[0m\u001b[1;32m    541\u001b[0m         \u001b[0;32melse\u001b[0m\u001b[0;34m:\u001b[0m\u001b[0;34m\u001b[0m\u001b[0m\n\u001b[1;32m    542\u001b[0m             \u001b[0;32mreturn\u001b[0m \u001b[0mnp\u001b[0m\u001b[0;34m.\u001b[0m\u001b[0mones\u001b[0m\u001b[0;34m(\u001b[0m\u001b[0;34m(\u001b[0m\u001b[0my\u001b[0m\u001b[0;34m.\u001b[0m\u001b[0mshape\u001b[0m\u001b[0;34m[\u001b[0m\u001b[0;36m0\u001b[0m\u001b[0;34m]\u001b[0m\u001b[0;34m,\u001b[0m \u001b[0my\u001b[0m\u001b[0;34m.\u001b[0m\u001b[0mshape\u001b[0m\u001b[0;34m[\u001b[0m\u001b[0;36m1\u001b[0m\u001b[0;34m]\u001b[0m\u001b[0;34m)\u001b[0m\u001b[0;34m,\u001b[0m \u001b[0mdtype\u001b[0m\u001b[0;34m=\u001b[0m\u001b[0mK\u001b[0m\u001b[0;34m.\u001b[0m\u001b[0mfloatx\u001b[0m\u001b[0;34m(\u001b[0m\u001b[0;34m)\u001b[0m\u001b[0;34m)\u001b[0m\u001b[0;34m\u001b[0m\u001b[0m\n",
            "\u001b[0;31mKeyboardInterrupt\u001b[0m: "
          ]
        }
      ]
    },
    {
      "metadata": {
        "id": "TRIU84twbk7N",
        "colab_type": "text"
      },
      "cell_type": "markdown",
      "source": [
        "### Testing The Model"
      ]
    },
    {
      "metadata": {
        "id": "2QdAJjPYbk7N",
        "colab_type": "code",
        "colab": {
          "base_uri": "https://localhost:8080/",
          "height": 248
        },
        "outputId": "f04abfe7-226a-461e-d2ca-1f85e0097b64"
      },
      "cell_type": "code",
      "source": [
        "def eyeball_test_model(model):\n",
        "    idx = random.randint(0, 100)\n",
        "    test_image_names = get_images_from_directory(test_root_path)\n",
        "    sample_file, sample_name = test_image_names[idx], test_image_names[idx].split('_')[:-1]\n",
        "    path_file = os.path.join(test_root_path, sample_file)\n",
        "    sample_image = imread(path_file)\n",
        "\n",
        "    print(\"Label: {}\".format('_'.join(sample_name)))\n",
        "    \n",
        "    #prediction\n",
        "    pred = model.predict(sample_image[np.newaxis, :])\n",
        "    print(\"PREDICTION: {}\".format(lb.inverse_transform(pred)[0]))\n",
        " \n",
        "    #showing the image\n",
        "    plot_image(sample_image)\n",
        "\n",
        "eyeball_test_model(model1)"
      ],
      "execution_count": 281,
      "outputs": [
        {
          "output_type": "stream",
          "text": [
            "Label: lenny_leonard\n",
            "PREDICTION: homer_simpson\n"
          ],
          "name": "stdout"
        },
        {
          "output_type": "display_data",
          "data": {
            "image/png": "[encoded data removed]",
            "text/plain": [
              "<matplotlib.figure.Figure at 0x7f29a76f5e48>"
            ]
          },
          "metadata": {
            "tags": []
          }
        }
      ]
    },
    {
      "metadata": {
        "id": "IyUo2npcbk7Q",
        "colab_type": "code",
        "colab": {}
      },
      "cell_type": "code",
      "source": [
        ""
      ],
      "execution_count": 0,
      "outputs": []
    }
  ]
}