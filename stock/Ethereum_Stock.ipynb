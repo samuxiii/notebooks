{
  "nbformat": 4,
  "nbformat_minor": 0,
  "metadata": {
    "kernelspec": {
      "display_name": "Python 3",
      "language": "python",
      "name": "python3"
    },
    "language_info": {
      "codemirror_mode": {
        "name": "ipython",
        "version": 3
      },
      "file_extension": ".py",
      "mimetype": "text/x-python",
      "name": "python",
      "nbconvert_exporter": "python",
      "pygments_lexer": "ipython3",
      "version": "3.5.3"
    },
    "colab": {
      "name": "Ethereum Stock.ipynb",
      "provenance": [],
      "collapsed_sections": []
    }
  },
  "cells": [
    {
      "cell_type": "markdown",
      "metadata": {
        "id": "bAf0tVYBeCdh",
        "colab_type": "text"
      },
      "source": [
        "## Ethereum Stock Prices"
      ]
    },
    {
      "cell_type": "markdown",
      "metadata": {
        "id": "lg251WVdeCdj",
        "colab_type": "text"
      },
      "source": [
        "* Import data\n",
        "    * Show prices, market capital and volume\n",
        "    * Analysis\n",
        "* Preprocessing data\n",
        "    * Complete the Index\n",
        "    * Find NaN and Fix it\n",
        "    * Closed Price Column\n",
        "* Split data into training and test datasets\n",
        "    * Normalizing datasets\n",
        "* Building the LSTM model\n",
        "  * Regressor\n",
        "  * Sequence\n",
        "    * Special Normalizations for Sequences\n",
        "      * Custom: window steps by change rate\n",
        "* Testing the model\n"
      ]
    },
    {
      "cell_type": "markdown",
      "metadata": {
        "id": "F2_5SOMweCdj",
        "colab_type": "text"
      },
      "source": [
        "### Import Libraries"
      ]
    },
    {
      "cell_type": "code",
      "metadata": {
        "id": "k2Fr7ZF5eCdk",
        "colab_type": "code",
        "colab": {}
      },
      "source": [
        "import os\n",
        "import io\n",
        "import math\n",
        "import random\n",
        "import requests\n",
        "from tqdm import tqdm\n",
        "import numpy as np\n",
        "import pandas as pd\n",
        "import sklearn\n",
        "import matplotlib.dates as mdates\n",
        "import datetime as dt\n",
        "from sklearn.preprocessing import StandardScaler\n",
        "from sklearn.model_selection import train_test_split\n",
        "from sklearn.metrics import r2_score\n",
        "\n",
        "import matplotlib.pyplot as plt\n",
        "%matplotlib inline\n",
        "\n",
        "plt.style.use('seaborn-colorblind')"
      ],
      "execution_count": 59,
      "outputs": []
    },
    {
      "cell_type": "markdown",
      "metadata": {
        "id": "kaMo2ToyeCdo",
        "colab_type": "text"
      },
      "source": [
        "### Import Data and Analysis"
      ]
    },
    {
      "cell_type": "code",
      "metadata": {
        "id": "Y5cZIv3GeCdo",
        "colab_type": "code",
        "colab": {}
      },
      "source": [
        "def download_file(url, filename):\n",
        "    r = requests.get(url, stream=True)\n",
        "\n",
        "    total_size = int(r.headers.get('content-length', 0)); \n",
        "    block_size = 1024\n",
        "    total_kb_size = math.ceil(total_size//block_size)\n",
        "    \n",
        "    wrote = 0 \n",
        "    with open(filename, 'wb') as f:\n",
        "        for data in tqdm(r.iter_content(block_size), total=total_kb_size , unit='KB', unit_scale=True):\n",
        "            wrote = wrote  + len(data)\n",
        "            f.write(data)"
      ],
      "execution_count": 60,
      "outputs": []
    },
    {
      "cell_type": "code",
      "metadata": {
        "id": "KFtgY5YgeCds",
        "colab_type": "code",
        "colab": {}
      },
      "source": [
        "datafile = \"eth-eur.csv\"\n",
        "\n",
        "#import from server\n",
        "if not os.path.exists(datafile):\n",
        "    download_file(\"https://www.coingecko.com/price_charts/export/279/eur.csv\", datafile)\n"
      ],
      "execution_count": 61,
      "outputs": []
    },
    {
      "cell_type": "code",
      "metadata": {
        "id": "fn9Vevo2eCdv",
        "colab_type": "code",
        "colab": {
          "base_uri": "https://localhost:8080/",
          "height": 105
        },
        "outputId": "716be403-d33e-4856-cdd2-d8a70bbb2d2c"
      },
      "source": [
        "data = pd.read_csv(datafile)\n",
        "\n",
        "#print a random sample\n",
        "data.iloc[random.randint(0, data.shape[0])]"
      ],
      "execution_count": 62,
      "outputs": [
        {
          "output_type": "execute_result",
          "data": {
            "text/plain": [
              "snapped_at      2018-01-30 00:05:11 UTC\n",
              "price                           938.305\n",
              "market_cap                  9.12891e+10\n",
              "total_volume                1.62058e+09\n",
              "Name: 906, dtype: object"
            ]
          },
          "metadata": {
            "tags": []
          },
          "execution_count": 62
        }
      ]
    },
    {
      "cell_type": "code",
      "metadata": {
        "id": "Z39JecV4eCdy",
        "colab_type": "code",
        "colab": {
          "base_uri": "https://localhost:8080/",
          "height": 212
        },
        "outputId": "b8bc1373-8ca1-4902-9340-9af4870b102c"
      },
      "source": [
        "data.info()"
      ],
      "execution_count": 63,
      "outputs": [
        {
          "output_type": "stream",
          "text": [
            "<class 'pandas.core.frame.DataFrame'>\n",
            "RangeIndex: 1840 entries, 0 to 1839\n",
            "Data columns (total 4 columns):\n",
            " #   Column        Non-Null Count  Dtype  \n",
            "---  ------        --------------  -----  \n",
            " 0   snapped_at    1840 non-null   object \n",
            " 1   price         1840 non-null   float64\n",
            " 2   market_cap    1839 non-null   float64\n",
            " 3   total_volume  1840 non-null   float64\n",
            "dtypes: float64(3), object(1)\n",
            "memory usage: 57.6+ KB\n"
          ],
          "name": "stdout"
        }
      ]
    },
    {
      "cell_type": "code",
      "metadata": {
        "id": "ocxDI6WEKB7_",
        "colab_type": "code",
        "colab": {
          "base_uri": "https://localhost:8080/",
          "height": 446
        },
        "outputId": "67a70478-f99d-4fb8-b06b-43fb0e5f7064"
      },
      "source": [
        "import seaborn as sns\n",
        "\n",
        "# Generate a mask for the upper triangle\n",
        "mask = np.triu(np.ones_like(data.corr(), dtype=np.bool))\n",
        "\n",
        "# Set up the matplotlib figure\n",
        "f, ax = plt.subplots(figsize=(9, 7))\n",
        "\n",
        "# Generate a custom diverging colormap\n",
        "cmap = sns.diverging_palette(220, 10, as_cmap=True)\n",
        "\n",
        "sns.heatmap(data.corr(), mask=mask, cmap=cmap, vmax=1, center=0,\n",
        "            square=True, linewidths=.5, cbar_kws={\"shrink\": .5})"
      ],
      "execution_count": 64,
      "outputs": [
        {
          "output_type": "execute_result",
          "data": {
            "text/plain": [
              "<matplotlib.axes._subplots.AxesSubplot at 0x7f08071f4dd8>"
            ]
          },
          "metadata": {
            "tags": []
          },
          "execution_count": 64
        },
        {
          "output_type": "display_data",
          "data": {
            "image/png": "[encoded data removed]",
            "text/plain": [
              "<Figure size 648x504 with 2 Axes>"
            ]
          },
          "metadata": {
            "tags": [],
            "needs_background": "light"
          }
        }
      ]
    },
    {
      "cell_type": "markdown",
      "metadata": {
        "id": "v_zsVH9heCd1",
        "colab_type": "text"
      },
      "source": [
        "Here we can see that every sample corresponds to a day which is defined by the __day in a date format, the current price, the capital market and the total volume of transactions__ performed that day.\n",
        "\n",
        "At first glance, the __market_cap__ by itself is a good indicator of the price since it has the highest correlation."
      ]
    },
    {
      "cell_type": "code",
      "metadata": {
        "id": "ow2tzdMyeCd2",
        "colab_type": "code",
        "colab": {}
      },
      "source": [
        "#customize index\n",
        "data.snapped_at[0].split()[0]\n",
        "data.snapped_at = data.snapped_at.apply(lambda x: x.split()[0])"
      ],
      "execution_count": 65,
      "outputs": []
    },
    {
      "cell_type": "code",
      "metadata": {
        "id": "7YTBJbqyeCd5",
        "colab_type": "code",
        "colab": {}
      },
      "source": [
        "data.set_index('snapped_at', inplace=True)\n",
        "data.index = pd.to_datetime(data.index)"
      ],
      "execution_count": 66,
      "outputs": []
    },
    {
      "cell_type": "code",
      "metadata": {
        "id": "CUfZXSmweCd8",
        "colab_type": "code",
        "colab": {}
      },
      "source": [
        "features = ['price', 'market_cap', 'total_volume']"
      ],
      "execution_count": 67,
      "outputs": []
    },
    {
      "cell_type": "code",
      "metadata": {
        "id": "-x7GGoZQeCd_",
        "colab_type": "code",
        "colab": {
          "base_uri": "https://localhost:8080/",
          "height": 281
        },
        "outputId": "35e4580b-a85f-4fcc-a195-edd1260399e3"
      },
      "source": [
        "data[features].plot(subplots=True, layout=(1,3), figsize=(20,4));"
      ],
      "execution_count": 68,
      "outputs": [
        {
          "output_type": "display_data",
          "data": {
            "image/png": "[encoded data removed]",
            "text/plain": [
              "<Figure size 1440x288 with 3 Axes>"
            ]
          },
          "metadata": {
            "tags": [],
            "needs_background": "light"
          }
        }
      ]
    },
    {
      "cell_type": "markdown",
      "metadata": {
        "id": "yvDGtymueCeF",
        "colab_type": "text"
      },
      "source": [
        "---\n",
        "### Preprocessing Data\n",
        "\n",
        "#### Complete the Index"
      ]
    },
    {
      "cell_type": "markdown",
      "metadata": {
        "id": "bM3UmwSoeCeG",
        "colab_type": "text"
      },
      "source": [
        "The list is not complete _(2015-08-09 is missing)_ so we have to fill the blanks."
      ]
    },
    {
      "cell_type": "code",
      "metadata": {
        "id": "3zK2l7bweCeG",
        "colab_type": "code",
        "colab": {
          "base_uri": "https://localhost:8080/",
          "height": 34
        },
        "outputId": "aa0415a6-724f-4c86-86f1-4b6009830271"
      },
      "source": [
        "#check\n",
        "'2015-08-09 00:00:00' in data.index"
      ],
      "execution_count": 69,
      "outputs": [
        {
          "output_type": "execute_result",
          "data": {
            "text/plain": [
              "False"
            ]
          },
          "metadata": {
            "tags": []
          },
          "execution_count": 69
        }
      ]
    },
    {
      "cell_type": "code",
      "metadata": {
        "id": "OHkSLcoueCeJ",
        "colab_type": "code",
        "colab": {}
      },
      "source": [
        "#Generate all the possible days and use them to reindex\n",
        "start = data.index[data.index.argmin()]\n",
        "end = data.index[data.index.argmax()]\n",
        "\n",
        "index_complete = pd.date_range(start, end)\n",
        "data = data.reindex(index_complete)"
      ],
      "execution_count": 70,
      "outputs": []
    },
    {
      "cell_type": "markdown",
      "metadata": {
        "id": "TDBpMD1meCeM",
        "colab_type": "text"
      },
      "source": [
        "Now, the index is completed but the inexistent samples must be filled out.\n",
        "\n",
        "#### Find NaN and Fix it"
      ]
    },
    {
      "cell_type": "code",
      "metadata": {
        "id": "FJnoL7OjeCeN",
        "colab_type": "code",
        "colab": {
          "base_uri": "https://localhost:8080/",
          "height": 52
        },
        "outputId": "9b1d10d7-9388-4f4e-cdfe-62cf6960973c"
      },
      "source": [
        "#Fill the blanks with the mean between the previous and the day after\n",
        "\n",
        "for idx in data.index:\n",
        "    dayloc = data.index.get_loc(idx)\n",
        "    day = data.loc[idx]\n",
        "    if day.hasnans:\n",
        "        #updating\n",
        "        rg = slice(dayloc-1, dayloc+2)\n",
        "        data.loc[idx] = data.iloc[rg].mean()\n",
        "        \n",
        "        print(\"Day <{}> updated\".format(idx))"
      ],
      "execution_count": 71,
      "outputs": [
        {
          "output_type": "stream",
          "text": [
            "Day <2015-08-09 00:00:00> updated\n",
            "Day <2017-04-02 00:00:00> updated\n"
          ],
          "name": "stdout"
        }
      ]
    },
    {
      "cell_type": "code",
      "metadata": {
        "id": "6YB9JItYeCeQ",
        "colab_type": "code",
        "colab": {
          "base_uri": "https://localhost:8080/",
          "height": 87
        },
        "outputId": "6613f08b-8d1e-4afe-9339-530bb15af731"
      },
      "source": [
        "#Check\n",
        "data.loc['2015-08-09 00:00:00']"
      ],
      "execution_count": 72,
      "outputs": [
        {
          "output_type": "execute_result",
          "data": {
            "text/plain": [
              "price           8.997108e-01\n",
              "market_cap      5.433769e+07\n",
              "total_volume    3.442869e+05\n",
              "Name: 2015-08-09 00:00:00, dtype: float64"
            ]
          },
          "metadata": {
            "tags": []
          },
          "execution_count": 72
        }
      ]
    },
    {
      "cell_type": "code",
      "metadata": {
        "id": "KM3Athx9eCeT",
        "colab_type": "code",
        "colab": {
          "base_uri": "https://localhost:8080/",
          "height": 87
        },
        "outputId": "ba2b2d1a-b43d-4b36-90fb-6eda56d28e02"
      },
      "source": [
        "#Checking if we have NaN in another place\n",
        "data[data.isnull().any(axis=1)].count()"
      ],
      "execution_count": 73,
      "outputs": [
        {
          "output_type": "execute_result",
          "data": {
            "text/plain": [
              "price           0\n",
              "market_cap      0\n",
              "total_volume    0\n",
              "dtype: int64"
            ]
          },
          "metadata": {
            "tags": []
          },
          "execution_count": 73
        }
      ]
    },
    {
      "cell_type": "markdown",
      "metadata": {
        "id": "W4FVcKB4eCeW",
        "colab_type": "text"
      },
      "source": [
        "#### Closed Price Column\n",
        "\n",
        "Now we need to include a new feature which will define the closed price for every sample. Ethereum market is always open so we can forget about weekends and use directly the open price of the next sample.\n",
        "\n",
        "Afterwards the model will use this __*close_price* as the target__ since it's the value we are trying to predict.\n",
        "\n",
        "The following script will help us with that."
      ]
    },
    {
      "cell_type": "code",
      "metadata": {
        "id": "etrTS7NDeCeW",
        "colab_type": "code",
        "colab": {
          "base_uri": "https://localhost:8080/",
          "height": 197
        },
        "outputId": "ba4a32c6-869e-4b8f-f7e0-3b98f69e1b7d"
      },
      "source": [
        "new_column = 'closed_price'\n",
        "datab = data.copy()\n",
        "\n",
        "nc = list()\n",
        "\n",
        "for idx in data.index:\n",
        "    dayloc = data.index.get_loc(idx)\n",
        "    \n",
        "    #we put the price in the day after as closed price\n",
        "    if dayloc == len(data.index)-1:\n",
        "        #last position will not have closed_price\n",
        "        closed_price = np.nan\n",
        "    else:\n",
        "        closed_price = data.iloc[dayloc+1].price\n",
        "    \n",
        "    nc.append(closed_price)\n",
        "\n",
        "data[new_column] = nc\n",
        "data.tail(5)"
      ],
      "execution_count": 74,
      "outputs": [
        {
          "output_type": "execute_result",
          "data": {
            "text/html": [
              "<div>\n",
              "<style scoped>\n",
              "    .dataframe tbody tr th:only-of-type {\n",
              "        vertical-align: middle;\n",
              "    }\n",
              "\n",
              "    .dataframe tbody tr th {\n",
              "        vertical-align: top;\n",
              "    }\n",
              "\n",
              "    .dataframe thead th {\n",
              "        text-align: right;\n",
              "    }\n",
              "</style>\n",
              "<table border=\"1\" class=\"dataframe\">\n",
              "  <thead>\n",
              "    <tr style=\"text-align: right;\">\n",
              "      <th></th>\n",
              "      <th>price</th>\n",
              "      <th>market_cap</th>\n",
              "      <th>total_volume</th>\n",
              "      <th>closed_price</th>\n",
              "    </tr>\n",
              "  </thead>\n",
              "  <tbody>\n",
              "    <tr>\n",
              "      <th>2020-08-16</th>\n",
              "      <td>365.343550</td>\n",
              "      <td>4.092308e+10</td>\n",
              "      <td>8.668263e+09</td>\n",
              "      <td>365.729804</td>\n",
              "    </tr>\n",
              "    <tr>\n",
              "      <th>2020-08-17</th>\n",
              "      <td>365.729804</td>\n",
              "      <td>4.103849e+10</td>\n",
              "      <td>1.069973e+10</td>\n",
              "      <td>362.102420</td>\n",
              "    </tr>\n",
              "    <tr>\n",
              "      <th>2020-08-18</th>\n",
              "      <td>362.102420</td>\n",
              "      <td>4.063633e+10</td>\n",
              "      <td>9.849998e+09</td>\n",
              "      <td>353.327751</td>\n",
              "    </tr>\n",
              "    <tr>\n",
              "      <th>2020-08-19</th>\n",
              "      <td>353.327751</td>\n",
              "      <td>3.968129e+10</td>\n",
              "      <td>1.009743e+10</td>\n",
              "      <td>343.230167</td>\n",
              "    </tr>\n",
              "    <tr>\n",
              "      <th>2020-08-20</th>\n",
              "      <td>343.230167</td>\n",
              "      <td>3.852235e+10</td>\n",
              "      <td>1.085197e+10</td>\n",
              "      <td>NaN</td>\n",
              "    </tr>\n",
              "  </tbody>\n",
              "</table>\n",
              "</div>"
            ],
            "text/plain": [
              "                 price    market_cap  total_volume  closed_price\n",
              "2020-08-16  365.343550  4.092308e+10  8.668263e+09    365.729804\n",
              "2020-08-17  365.729804  4.103849e+10  1.069973e+10    362.102420\n",
              "2020-08-18  362.102420  4.063633e+10  9.849998e+09    353.327751\n",
              "2020-08-19  353.327751  3.968129e+10  1.009743e+10    343.230167\n",
              "2020-08-20  343.230167  3.852235e+10  1.085197e+10           NaN"
            ]
          },
          "metadata": {
            "tags": []
          },
          "execution_count": 74
        }
      ]
    },
    {
      "cell_type": "code",
      "metadata": {
        "id": "HZBAlgPueCea",
        "colab_type": "code",
        "colab": {}
      },
      "source": [
        "#Delete last because we don't know still the closed price \n",
        "data = data.drop(data.index[len(data)-1])"
      ],
      "execution_count": 75,
      "outputs": []
    },
    {
      "cell_type": "markdown",
      "metadata": {
        "id": "_jcJL4A7hbPP",
        "colab_type": "text"
      },
      "source": [
        "#### Final Dataset"
      ]
    },
    {
      "cell_type": "code",
      "metadata": {
        "id": "u9F0L-eYWlmL",
        "colab_type": "code",
        "colab": {
          "base_uri": "https://localhost:8080/",
          "height": 194
        },
        "outputId": "8e41fbfb-110d-4e03-e927-edbaebb2ccf1"
      },
      "source": [
        "# Update the features with the highest correlation\n",
        "features = ['market_cap']\n",
        "data = data.drop(['price', 'total_volume'], axis=1)\n",
        "data.info()"
      ],
      "execution_count": 76,
      "outputs": [
        {
          "output_type": "stream",
          "text": [
            "<class 'pandas.core.frame.DataFrame'>\n",
            "DatetimeIndex: 1840 entries, 2015-08-07 to 2020-08-19\n",
            "Freq: D\n",
            "Data columns (total 2 columns):\n",
            " #   Column        Non-Null Count  Dtype  \n",
            "---  ------        --------------  -----  \n",
            " 0   market_cap    1840 non-null   float64\n",
            " 1   closed_price  1840 non-null   float64\n",
            "dtypes: float64(2)\n",
            "memory usage: 43.1 KB\n"
          ],
          "name": "stdout"
        }
      ]
    },
    {
      "cell_type": "markdown",
      "metadata": {
        "id": "YKRURq24eCed",
        "colab_type": "text"
      },
      "source": [
        "----\n",
        "### Split Data into Training and Test Datasets"
      ]
    },
    {
      "cell_type": "code",
      "metadata": {
        "id": "MumnS3QjeCee",
        "colab_type": "code",
        "colab": {}
      },
      "source": [
        "# 80% for training, 10% for validation and 10% for testing\n",
        "idx1 = round(len(data)*0.8)\n",
        "idx2 = round(len(data)*0.9)\n",
        "data_train, data_val, data_test = data[:idx1].copy(), data[idx1:idx2].copy(), data[idx2:].copy()"
      ],
      "execution_count": 77,
      "outputs": []
    },
    {
      "cell_type": "code",
      "metadata": {
        "id": "gJ9K0awkeCeg",
        "colab_type": "code",
        "colab": {
          "base_uri": "https://localhost:8080/",
          "height": 70
        },
        "outputId": "91a7086a-0639-4853-fe00-6cc8d8dbfe6c"
      },
      "source": [
        "print(\"Size data_train: {}\".format(data_train.shape[0]))\n",
        "print(\"Size data_val: {}\".format(data_val.shape[0]))\n",
        "print(\"Size data_test: {}\".format(data_test.shape[0]))"
      ],
      "execution_count": 78,
      "outputs": [
        {
          "output_type": "stream",
          "text": [
            "Size data_train: 1472\n",
            "Size data_val: 184\n",
            "Size data_test: 184\n"
          ],
          "name": "stdout"
        }
      ]
    },
    {
      "cell_type": "markdown",
      "metadata": {
        "id": "1XEGNzrNeCej",
        "colab_type": "text"
      },
      "source": [
        "### Normalizing Datasets\n",
        "\n",
        "Take care of this because we __don't know if the future values are in the range__. For this reason we'll __fit the scaler using only the training data and NOT the testing data__.\n",
        "\n",
        "__Standardization__ is a well known normalizer that uses the standard deviation assuming the dataset follows a Gaussian distribution (it's specially robust for new values outside of the expected values).\n",
        "\n",
        "_*__Note:__ this method assumes the distribution of data fits to Gaussian distribution._"
      ]
    },
    {
      "cell_type": "code",
      "metadata": {
        "id": "fKAK0n_jeCej",
        "colab_type": "code",
        "colab": {
          "base_uri": "https://localhost:8080/",
          "height": 287
        },
        "outputId": "85aaad28-f1b4-40d8-b9ca-f2e682e9d499"
      },
      "source": [
        "#Scale the data\n",
        "scaler = StandardScaler()\n",
        "\n",
        "data_train_norm, data_val_norm, data_test_norm = data_train.copy(), data_val.copy(), data_test.copy()\n",
        "\n",
        "data_train_norm[data.columns] = scaler.fit_transform(data_train[data.columns])\n",
        "data_val_norm[data.columns] = scaler.transform(data_val[data.columns])\n",
        "data_test_norm[data.columns] = scaler.transform(data_test[data.columns])\n",
        "\n",
        "data_val_norm.describe()"
      ],
      "execution_count": 79,
      "outputs": [
        {
          "output_type": "execute_result",
          "data": {
            "text/html": [
              "<div>\n",
              "<style scoped>\n",
              "    .dataframe tbody tr th:only-of-type {\n",
              "        vertical-align: middle;\n",
              "    }\n",
              "\n",
              "    .dataframe tbody tr th {\n",
              "        vertical-align: top;\n",
              "    }\n",
              "\n",
              "    .dataframe thead th {\n",
              "        text-align: right;\n",
              "    }\n",
              "</style>\n",
              "<table border=\"1\" class=\"dataframe\">\n",
              "  <thead>\n",
              "    <tr style=\"text-align: right;\">\n",
              "      <th></th>\n",
              "      <th>market_cap</th>\n",
              "      <th>closed_price</th>\n",
              "    </tr>\n",
              "  </thead>\n",
              "  <tbody>\n",
              "    <tr>\n",
              "      <th>count</th>\n",
              "      <td>184.000000</td>\n",
              "      <td>184.000000</td>\n",
              "    </tr>\n",
              "    <tr>\n",
              "      <th>mean</th>\n",
              "      <td>-0.018627</td>\n",
              "      <td>-0.090740</td>\n",
              "    </tr>\n",
              "    <tr>\n",
              "      <th>std</th>\n",
              "      <td>0.140596</td>\n",
              "      <td>0.130795</td>\n",
              "    </tr>\n",
              "    <tr>\n",
              "      <th>min</th>\n",
              "      <td>-0.264148</td>\n",
              "      <td>-0.317357</td>\n",
              "    </tr>\n",
              "    <tr>\n",
              "      <th>25%</th>\n",
              "      <td>-0.124438</td>\n",
              "      <td>-0.190133</td>\n",
              "    </tr>\n",
              "    <tr>\n",
              "      <th>50%</th>\n",
              "      <td>-0.007871</td>\n",
              "      <td>-0.081761</td>\n",
              "    </tr>\n",
              "    <tr>\n",
              "      <th>75%</th>\n",
              "      <td>0.036978</td>\n",
              "      <td>-0.039491</td>\n",
              "    </tr>\n",
              "    <tr>\n",
              "      <th>max</th>\n",
              "      <td>0.547374</td>\n",
              "      <td>0.410162</td>\n",
              "    </tr>\n",
              "  </tbody>\n",
              "</table>\n",
              "</div>"
            ],
            "text/plain": [
              "       market_cap  closed_price\n",
              "count  184.000000    184.000000\n",
              "mean    -0.018627     -0.090740\n",
              "std      0.140596      0.130795\n",
              "min     -0.264148     -0.317357\n",
              "25%     -0.124438     -0.190133\n",
              "50%     -0.007871     -0.081761\n",
              "75%      0.036978     -0.039491\n",
              "max      0.547374      0.410162"
            ]
          },
          "metadata": {
            "tags": []
          },
          "execution_count": 79
        }
      ]
    },
    {
      "cell_type": "markdown",
      "metadata": {
        "id": "UtJTecDAeCem",
        "colab_type": "text"
      },
      "source": [
        "---\n",
        "## Building the Models"
      ]
    },
    {
      "cell_type": "markdown",
      "metadata": {
        "id": "5v6DVHbFeCem",
        "colab_type": "text"
      },
      "source": [
        "### Check Tensorflow and GPU"
      ]
    },
    {
      "cell_type": "code",
      "metadata": {
        "id": "7cWdX-yUeCem",
        "colab_type": "code",
        "colab": {
          "base_uri": "https://localhost:8080/",
          "height": 70
        },
        "outputId": "a33c3c60-6eb5-487d-de72-467d5f9d2ff8"
      },
      "source": [
        "from distutils.version import LooseVersion\n",
        "import warnings\n",
        "import tensorflow as tf\n",
        "\n",
        "# Check TensorFlow Version\n",
        "assert LooseVersion(tf.__version__) >= LooseVersion('1.0'), 'Please use TensorFlow version 1.0 or newer'\n",
        "print('TensorFlow Version: {}'.format(tf.__version__))\n",
        "\n",
        "# Check for a GPU\n",
        "if not tf.test.gpu_device_name():\n",
        "    warnings.warn('No GPU found. Please use a GPU to train your neural network.')\n",
        "else:\n",
        "    print('Default GPU Device: {}'.format(tf.test.gpu_device_name()))"
      ],
      "execution_count": 80,
      "outputs": [
        {
          "output_type": "stream",
          "text": [
            "TensorFlow Version: 2.3.0\n"
          ],
          "name": "stdout"
        },
        {
          "output_type": "stream",
          "text": [
            "/usr/local/lib/python3.6/dist-packages/ipykernel_launcher.py:11: UserWarning: No GPU found. Please use a GPU to train your neural network.\n",
            "  # This is added back by InteractiveShellApp.init_path()\n"
          ],
          "name": "stderr"
        }
      ]
    },
    {
      "cell_type": "markdown",
      "metadata": {
        "id": "HsB6HiDteCep",
        "colab_type": "text"
      },
      "source": [
        "### Sequence Regressor 1-step"
      ]
    },
    {
      "cell_type": "code",
      "metadata": {
        "id": "xtnay2_ibuqR",
        "colab_type": "code",
        "colab": {}
      },
      "source": [
        "FEATURES_LEN = len(data.columns) - 1"
      ],
      "execution_count": 81,
      "outputs": []
    },
    {
      "cell_type": "code",
      "metadata": {
        "id": "8A2zmAqaeCeq",
        "colab_type": "code",
        "colab": {}
      },
      "source": [
        "from keras.models import Sequential\n",
        "from keras.layers import Dense\n",
        "from keras.layers import LSTM\n",
        "from keras.layers import Flatten\n",
        "\n",
        "X_train = data_train_norm[features].values.reshape((data_train_norm.shape[0], 1, FEATURES_LEN))\n",
        "y_train = data_train_norm.closed_price.values\n",
        "\n",
        "X_val = data_val_norm[features].values.reshape((data_val_norm.shape[0], 1, FEATURES_LEN))\n",
        "y_val = data_val_norm.closed_price.values\n"
      ],
      "execution_count": 82,
      "outputs": []
    },
    {
      "cell_type": "code",
      "metadata": {
        "id": "kEJfUv1DeCet",
        "colab_type": "code",
        "colab": {
          "base_uri": "https://localhost:8080/",
          "height": 87
        },
        "outputId": "fc6f4592-c72c-483e-a538-f11d31431a6e"
      },
      "source": [
        "print(X_train.shape)\n",
        "print(y_train.shape)\n",
        "print(X_val.shape)\n",
        "print(y_val.shape)"
      ],
      "execution_count": 83,
      "outputs": [
        {
          "output_type": "stream",
          "text": [
            "(1472, 1, 1)\n",
            "(1472,)\n",
            "(184, 1, 1)\n",
            "(184,)\n"
          ],
          "name": "stdout"
        }
      ]
    },
    {
      "cell_type": "code",
      "metadata": {
        "scrolled": true,
        "id": "uswK6050eCez",
        "colab_type": "code",
        "colab": {
          "base_uri": "https://localhost:8080/",
          "height": 34
        },
        "outputId": "8b9f9dbc-8067-41f5-a1ff-628675f54b47"
      },
      "source": [
        "model = Sequential()\n",
        "model.add(LSTM(32, input_shape=(1, FEATURES_LEN) ))\n",
        "model.add(Dense(1))\n",
        "model.compile(loss='mean_squared_error', optimizer='adam')\n",
        "model.fit(X_train, y_train, epochs=50, batch_size=32, verbose=0)"
      ],
      "execution_count": 84,
      "outputs": [
        {
          "output_type": "execute_result",
          "data": {
            "text/plain": [
              "<tensorflow.python.keras.callbacks.History at 0x7f0802ad0fd0>"
            ]
          },
          "metadata": {
            "tags": []
          },
          "execution_count": 84
        }
      ]
    },
    {
      "cell_type": "code",
      "metadata": {
        "id": "l_CbpPvCeCe5",
        "colab_type": "code",
        "colab": {
          "base_uri": "https://localhost:8080/",
          "height": 317
        },
        "outputId": "eb4599cc-4977-4752-fd34-316ecbd16df9"
      },
      "source": [
        "print(\"Training) R^2 score: {:.3f}\".format(r2_score(y_train, model.predict(X_train))))\n",
        "print(\"Validation)  R^2 score: {:.3f}\".format(r2_score(y_val, model.predict(X_val))))\n",
        "\n",
        "pred = model.predict(X_val)\n",
        "plt.plot(y_val, label='Actual')\n",
        "plt.plot(pred, label='Prediction')\n",
        "plt.legend()"
      ],
      "execution_count": 85,
      "outputs": [
        {
          "output_type": "stream",
          "text": [
            "Training) R^2 score: 0.991\n",
            "Validation)  R^2 score: 0.871\n"
          ],
          "name": "stdout"
        },
        {
          "output_type": "execute_result",
          "data": {
            "text/plain": [
              "<matplotlib.legend.Legend at 0x7f0800545f98>"
            ]
          },
          "metadata": {
            "tags": []
          },
          "execution_count": 85
        },
        {
          "output_type": "display_data",
          "data": {
            "image/png": "[encoded data removed]",
            "text/plain": [
              "<Figure size 432x288 with 1 Axes>"
            ]
          },
          "metadata": {
            "tags": [],
            "needs_background": "light"
          }
        }
      ]
    },
    {
      "cell_type": "code",
      "metadata": {
        "id": "zLVLrHNseCe8",
        "colab_type": "code",
        "colab": {}
      },
      "source": [
        "#saving\n",
        "model_1step = model"
      ],
      "execution_count": 86,
      "outputs": []
    },
    {
      "cell_type": "markdown",
      "metadata": {
        "id": "ZGxB3VN8eCfG",
        "colab_type": "text"
      },
      "source": [
        "### Sequence Regressor 7-steps"
      ]
    },
    {
      "cell_type": "code",
      "metadata": {
        "id": "LvP_AsIYeCfH",
        "colab_type": "code",
        "colab": {
          "base_uri": "https://localhost:8080/",
          "height": 34
        },
        "outputId": "949ace85-c4fd-483f-e617-afe4723cd6f8"
      },
      "source": [
        "'''\n",
        "Helper function to transform the dataset to\n",
        "shapes defined by 7 steps and 3 features\n",
        "'''\n",
        "def prepare_sequence(data, sequence_size=7):\n",
        "    sequence = []\n",
        "    buckets = data.shape[0]//sequence_size\n",
        "    init_sample = data.shape[0] - buckets*sequence_size\n",
        "    samples = 0\n",
        "    for i in range(init_sample, data.shape[0] - sequence_size + 1):\n",
        "        sequence.append(data[i:i+sequence_size])\n",
        "        samples += 1\n",
        "    return np.concatenate(sequence).reshape((samples, sequence_size, data.shape[1]))\n",
        "\n",
        "prepare_sequence(data[features]).shape"
      ],
      "execution_count": 87,
      "outputs": [
        {
          "output_type": "execute_result",
          "data": {
            "text/plain": [
              "(1828, 7, 1)"
            ]
          },
          "metadata": {
            "tags": []
          },
          "execution_count": 87
        }
      ]
    },
    {
      "cell_type": "code",
      "metadata": {
        "id": "BfNE9OAMeCfK",
        "colab_type": "code",
        "colab": {}
      },
      "source": [
        "#getting (samples, steps, features)\n",
        "X_train = prepare_sequence(data_train_norm[features])\n",
        "X_val = prepare_sequence(data_val_norm[features])\n",
        "\n",
        "y_train = data_train_norm.iloc[-len(X_train):].closed_price.values\n",
        "y_val = data_val_norm.iloc[-len(X_val):].closed_price.values"
      ],
      "execution_count": 88,
      "outputs": []
    },
    {
      "cell_type": "code",
      "metadata": {
        "id": "92Tz9oJgeCfM",
        "colab_type": "code",
        "colab": {
          "base_uri": "https://localhost:8080/",
          "height": 87
        },
        "outputId": "8a166098-1a83-466f-a0ce-84a425a26c8e"
      },
      "source": [
        "print(X_train.shape)\n",
        "print(y_train.shape)\n",
        "print(X_val.shape)\n",
        "print(y_val.shape)"
      ],
      "execution_count": 89,
      "outputs": [
        {
          "output_type": "stream",
          "text": [
            "(1464, 7, 1)\n",
            "(1464,)\n",
            "(176, 7, 1)\n",
            "(176,)\n"
          ],
          "name": "stdout"
        }
      ]
    },
    {
      "cell_type": "code",
      "metadata": {
        "scrolled": true,
        "id": "vjeL_cSpeCfO",
        "colab_type": "code",
        "colab": {
          "base_uri": "https://localhost:8080/",
          "height": 34
        },
        "outputId": "b20e7907-4a36-44f7-b212-55237f7aa070"
      },
      "source": [
        "model = Sequential()\n",
        "model.add(LSTM(32, input_shape=(7, FEATURES_LEN) ))\n",
        "model.add(Dense(1))\n",
        "model.compile(loss='mean_squared_error', optimizer='adam')\n",
        "model.fit(X_train, y_train, epochs=50, batch_size=32, verbose=0)"
      ],
      "execution_count": 90,
      "outputs": [
        {
          "output_type": "execute_result",
          "data": {
            "text/plain": [
              "<tensorflow.python.keras.callbacks.History at 0x7f08069adfd0>"
            ]
          },
          "metadata": {
            "tags": []
          },
          "execution_count": 90
        }
      ]
    },
    {
      "cell_type": "code",
      "metadata": {
        "id": "rOMpZAaweCfS",
        "colab_type": "code",
        "colab": {
          "base_uri": "https://localhost:8080/",
          "height": 317
        },
        "outputId": "17ff00c3-7d2b-46b8-f5d1-543ed2aa0fa8"
      },
      "source": [
        "print(\"Training) R^2 score: {:.3f}\".format(r2_score(y_train, model.predict(X_train))))\n",
        "print(\"Validation)  R^2 score: {:.3f}\".format(r2_score(y_val, model.predict(X_val))))\n",
        "\n",
        "pred = model.predict(X_val)\n",
        "plt.plot(y_val, label='Actual')\n",
        "plt.plot(pred, label='Prediction')\n",
        "plt.legend()"
      ],
      "execution_count": 91,
      "outputs": [
        {
          "output_type": "stream",
          "text": [
            "Training) R^2 score: 0.990\n",
            "Validation)  R^2 score: 0.758\n"
          ],
          "name": "stdout"
        },
        {
          "output_type": "execute_result",
          "data": {
            "text/plain": [
              "<matplotlib.legend.Legend at 0x7f080039d588>"
            ]
          },
          "metadata": {
            "tags": []
          },
          "execution_count": 91
        },
        {
          "output_type": "display_data",
          "data": {
            "image/png": "[encoded data removed]",
            "text/plain": [
              "<Figure size 432x288 with 1 Axes>"
            ]
          },
          "metadata": {
            "tags": [],
            "needs_background": "light"
          }
        }
      ]
    },
    {
      "cell_type": "code",
      "metadata": {
        "id": "5k1EVPZYeCfV",
        "colab_type": "code",
        "colab": {}
      },
      "source": [
        "#saving\n",
        "model_7steps = model"
      ],
      "execution_count": 92,
      "outputs": []
    },
    {
      "cell_type": "markdown",
      "metadata": {
        "collapsed": true,
        "id": "E5JbdzimeCfX",
        "colab_type": "text"
      },
      "source": [
        "### ⇩ SPECIAL NORMALIZATION FOR SEQUENCES ⇩\n",
        "\n",
        "The neural network is not able to get good predictions for that data that has not seen before. For that reason we can find day that are not well fitted. This problem is related to the __'out-of-scale'__ data inputs.\n",
        "\n",
        "#### Custom: window steps by the rate of change ####\n",
        "\n",
        "Thinking that the batch size is a window of days that defines how the neural network learns, one idea is to normalize the window by the last sample. On this way we'll be able to keep almost all data in the same scale."
      ]
    },
    {
      "cell_type": "code",
      "metadata": {
        "id": "bNIUNyvNeCfX",
        "colab_type": "code",
        "colab": {}
      },
      "source": [
        "def print_mean_std(data):\n",
        "    mean = np.mean(data)\n",
        "    std = np.std(data)\n",
        "    print(\"mean:{:.3f} std:{:.3f}\".format(mean, std))"
      ],
      "execution_count": 93,
      "outputs": []
    },
    {
      "cell_type": "code",
      "metadata": {
        "id": "J41g68e1eCfZ",
        "colab_type": "code",
        "colab": {}
      },
      "source": [
        "def window_normalization(data, window_size):\n",
        "    y = np.empty_like(data, dtype='float64')\n",
        "    normalizer = list()\n",
        "    for i in range(0,len(data), window_size):\n",
        "        j = min(i+window_size, len(data))\n",
        "        y[i:j] = data[i:j]/np.abs(data[j-1])\n",
        "        normalizer.append(np.abs(data[j-1]))\n",
        "        #print_mean_std(y[i:j])\n",
        "        \n",
        "    return y, normalizer\n",
        "\n",
        "def window_denormalization(norm_data, normalizer, window_size):\n",
        "    y = np.empty_like(norm_data, dtype='float64')\n",
        "    idx = 0\n",
        "    for i in range(0,len(norm_data), window_size):\n",
        "        j = min(i+window_size, len(norm_data))\n",
        "        y[i:j] = norm_data[i:j]*normalizer[idx]\n",
        "        idx += 1\n",
        "        \n",
        "    return y"
      ],
      "execution_count": 94,
      "outputs": []
    },
    {
      "cell_type": "code",
      "metadata": {
        "id": "S4aooL_veCfc",
        "colab_type": "code",
        "colab": {}
      },
      "source": [
        "#testing the function\n",
        "a = np.array([[1, 1, 1], [2, 2, 2], [2, 2, 2], [8, 8, 8]])\n",
        "expected_result = np.array([[0.5, 0.5, 0.5], [1, 1, 1], [0.25, 0.25, 0.25], [1, 1, 1]])\n",
        "norm_a, normalizer = window_normalization(a, 2)\n",
        "\n",
        "assert ( np.array_equal(norm_a, expected_result) )\n",
        "assert ( np.array_equal(a, window_denormalization(norm_a, normalizer, 2)) )"
      ],
      "execution_count": 95,
      "outputs": []
    },
    {
      "cell_type": "code",
      "metadata": {
        "id": "bV4WJDrIeCfh",
        "colab_type": "code",
        "colab": {
          "base_uri": "https://localhost:8080/",
          "height": 35
        },
        "outputId": "b565b0ab-e5a0-4722-ce53-cab5ff535ec6"
      },
      "source": [
        "#Showing the last sample\n",
        "data.index[-1].strftime(\"%d-%m-%Y\")"
      ],
      "execution_count": 96,
      "outputs": [
        {
          "output_type": "execute_result",
          "data": {
            "application/vnd.google.colaboratory.intrinsic+json": {
              "type": "string"
            },
            "text/plain": [
              "'19-08-2020'"
            ]
          },
          "metadata": {
            "tags": []
          },
          "execution_count": 96
        }
      ]
    },
    {
      "cell_type": "code",
      "metadata": {
        "id": "8_odWXPDeCfk",
        "colab_type": "code",
        "colab": {}
      },
      "source": [
        "window_size=32\n",
        "\n",
        "X_train = data_train[features].values\n",
        "y_train = data_train.closed_price.values\n",
        "\n",
        "X_train_norm, _ = window_normalization(X_train, window_size)\n",
        "y_train_norm, y_normalizer = window_normalization(y_train, window_size)\n",
        "\n",
        "#getting (samples, steps, features)\n",
        "X_train_norm = prepare_sequence(X_train_norm)\n",
        "y_train_norm = y_train_norm[-len(X_train_norm):]"
      ],
      "execution_count": 97,
      "outputs": []
    },
    {
      "cell_type": "code",
      "metadata": {
        "scrolled": true,
        "id": "DiRgbjOdeCfo",
        "colab_type": "code",
        "colab": {
          "base_uri": "https://localhost:8080/",
          "height": 34
        },
        "outputId": "e4486c1b-fe81-4ad1-f366-33d199ff9b84"
      },
      "source": [
        "model = Sequential()\n",
        "model.add(LSTM(32, input_shape=(7, FEATURES_LEN) ))\n",
        "model.add(Dense(1))\n",
        "model.compile(loss='mean_squared_error', optimizer='adam')\n",
        "model.fit(X_train_norm, y_train_norm, epochs=50, batch_size=window_size, verbose=0)"
      ],
      "execution_count": 98,
      "outputs": [
        {
          "output_type": "execute_result",
          "data": {
            "text/plain": [
              "<tensorflow.python.keras.callbacks.History at 0x7f0800202160>"
            ]
          },
          "metadata": {
            "tags": []
          },
          "execution_count": 98
        }
      ]
    },
    {
      "cell_type": "code",
      "metadata": {
        "id": "qzJ8fB-JeCfq",
        "colab_type": "code",
        "colab": {}
      },
      "source": [
        "X_val = data_val[features].values\n",
        "y_val = data_val.closed_price.values\n",
        "\n",
        "X_val_norm, _ = window_normalization(X_val, window_size)\n",
        "y_val_norm, y_scaler = window_normalization(y_val, window_size)\n",
        "\n",
        "#getting (samples, steps, features)\n",
        "X_val_norm = prepare_sequence(X_val_norm)\n",
        "y_val_norm = y_val_norm[-len(X_val_norm):]"
      ],
      "execution_count": 99,
      "outputs": []
    },
    {
      "cell_type": "code",
      "metadata": {
        "id": "jdjSC3TYeCf0",
        "colab_type": "code",
        "colab": {
          "base_uri": "https://localhost:8080/",
          "height": 317
        },
        "outputId": "a1463612-90a4-492a-db29-eda6f4fa525d"
      },
      "source": [
        "print(\"Training) R^2 score: {:.3f}\".format(r2_score(y_train_norm, model.predict(X_train_norm))))\n",
        "print(\"Validation)  R^2 score: {:.3f}\".format(r2_score(y_val_norm, model.predict(X_val_norm))))\n",
        "\n",
        "pred = model.predict(X_val_norm)\n",
        "plt.plot(y_val_norm, label='Actual')\n",
        "plt.plot(pred, label='Prediction')\n",
        "plt.legend()"
      ],
      "execution_count": 100,
      "outputs": [
        {
          "output_type": "stream",
          "text": [
            "Training) R^2 score: 0.914\n",
            "Validation)  R^2 score: 0.875\n"
          ],
          "name": "stdout"
        },
        {
          "output_type": "execute_result",
          "data": {
            "text/plain": [
              "<matplotlib.legend.Legend at 0x7f07fdc78a20>"
            ]
          },
          "metadata": {
            "tags": []
          },
          "execution_count": 100
        },
        {
          "output_type": "display_data",
          "data": {
            "image/png": "[encoded data removed]",
            "text/plain": [
              "<Figure size 432x288 with 1 Axes>"
            ]
          },
          "metadata": {
            "tags": [],
            "needs_background": "light"
          }
        }
      ]
    },
    {
      "cell_type": "code",
      "metadata": {
        "id": "Vbd661rTeCf3",
        "colab_type": "code",
        "colab": {}
      },
      "source": [
        "#saving \n",
        "model_win = model"
      ],
      "execution_count": 101,
      "outputs": []
    },
    {
      "cell_type": "markdown",
      "metadata": {
        "id": "g6I_S-LpeCf5",
        "colab_type": "text"
      },
      "source": [
        "---\n",
        "## Testing the Best Model\n",
        "\n",
        "Seeing the last results our best chance of accurate predictions (__at a glance__) is to use:\n",
        "\n",
        "* LSTM sequence by 7 steps\n",
        "* Data Standardization"
      ]
    },
    {
      "cell_type": "code",
      "metadata": {
        "id": "AWAMgqSSeCf5",
        "colab_type": "code",
        "colab": {}
      },
      "source": [
        "X_test = prepare_sequence(data_test_norm[features])\n",
        "y_test = data_test_norm.iloc[-len(X_test):].closed_price.values\n",
        "\n",
        "pred = model_7steps.predict(X_test)\n",
        "\n",
        "# Correction due to sequence of 7 values\n",
        "data_test_norm = data_test_norm[8:]"
      ],
      "execution_count": 57,
      "outputs": []
    },
    {
      "cell_type": "code",
      "metadata": {
        "id": "WmBkhMgijyK6",
        "colab_type": "code",
        "colab": {}
      },
      "source": [
        "X_test = data_test_norm[features].values.reshape((data_test_norm.shape[0], 1, FEATURES_LEN))\n",
        "y_test = data_test_norm.closed_price.values\n",
        "pred = model_1step.predict(X_test)"
      ],
      "execution_count": 102,
      "outputs": []
    },
    {
      "cell_type": "code",
      "metadata": {
        "id": "DiN6oi4CfAgD",
        "colab_type": "code",
        "colab": {
          "base_uri": "https://localhost:8080/",
          "height": 578
        },
        "outputId": "c124a933-89e0-4ed8-dbc9-0b699831f565"
      },
      "source": [
        "#test_prices = scaler.inverse_transform(data_test_norm[8:])\n",
        "test_prices = scaler.inverse_transform(data_test_norm)\n",
        "pred_prices = test_prices.copy()\n",
        "pred_prices[:, FEATURES_LEN] = pred.reshape(-1)\n",
        "pred_prices = scaler.inverse_transform(pred_prices)\n",
        "\n",
        "plt.figure(figsize=(20,10))\n",
        "plt.plot(data_test_norm.index, test_prices[:, FEATURES_LEN], label='Actual Price')\n",
        "plt.plot(data_test_norm.index, pred_prices[:, FEATURES_LEN], label='Prediction')\n",
        "plt.ylabel('Price (€)')\n",
        "plt.xlabel('Date')\n",
        "plt.legend()\n",
        "\n",
        "plt.gca().xaxis.set_major_formatter(mdates.DateFormatter('%Y-%m-%d'))\n",
        "plt.gca().xaxis.set_major_locator(mdates.DayLocator(interval=5))\n",
        "plt.gcf().autofmt_xdate()"
      ],
      "execution_count": 103,
      "outputs": [
        {
          "output_type": "display_data",
          "data": {
            "image/png": "[encoded data removed]",
            "text/plain": [
              "<Figure size 1440x720 with 1 Axes>"
            ]
          },
          "metadata": {
            "tags": [],
            "needs_background": "light"
          }
        }
      ]
    },
    {
      "cell_type": "code",
      "metadata": {
        "id": "1OYpsraNlCDj",
        "colab_type": "code",
        "colab": {}
      },
      "source": [
        ""
      ],
      "execution_count": null,
      "outputs": []
    }
  ]
}