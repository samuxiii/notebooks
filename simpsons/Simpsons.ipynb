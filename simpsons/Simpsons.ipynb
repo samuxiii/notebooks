{
 "cells": [
  {
   "cell_type": "code",
   "execution_count": 9,
   "metadata": {
    "colab": {
     "base_uri": "https://localhost:8080/",
     "height": 51
    },
    "colab_type": "code",
    "id": "5SZS7l6bbfCm",
    "outputId": "2d8e60d2-5665-4255-f8da-8f7de3fb24cb"
   },
   "outputs": [
    {
     "name": "stdout",
     "output_type": "stream",
     "text": [
      "Train: ['selma_bouvier', 'rainier_wolfcastle', 'hans_moleman', 'groundskeeper_willie', 'bumblebee_man']\n",
      "Test: ['ned_flanders_46.jpg', 'homer_simpson_29.jpg', 'ned_flanders_3.jpg', 'sideshow_bob_48.jpg', 'lenny_leonard_35.jpg']\n"
     ]
    }
   ],
   "source": [
    "from os import listdir\n",
    "\n",
    "#configure train dataset\n",
    "train_root_path = \"./the-simpsons-characters-dataset-TINY/simpsons_dataset\"\n",
    "character_directories = listdir(train_root_path)\n",
    "#character_directories.remove('.DS_Store')\n",
    "print(\"Train: {}\".format(character_directories[:5]))\n",
    "\n",
    "#configure test dataset\n",
    "test_root_path = \"./the-simpsons-characters-dataset-TINY/kaggle_simpson_testset\"\n",
    "test_image_names = listdir(test_root_path)\n",
    "test_image_names.remove('.DS_Store')\n",
    "print(\"Test: {}\".format(test_image_names[:5]))\n"
   ]
  },
  {
   "cell_type": "markdown",
   "metadata": {
    "colab_type": "text",
    "id": "G16VAONabfC5"
   },
   "source": [
    "### Calculate mean width and lenght from test images"
   ]
  },
  {
   "cell_type": "code",
   "execution_count": 10,
   "metadata": {
    "colab": {
     "base_uri": "https://localhost:8080/",
     "height": 68
    },
    "colab_type": "code",
    "id": "dWoTzSqwbfC8",
    "outputId": "d9f8d252-280a-4c04-ed1a-020c4b90554d"
   },
   "outputs": [
    {
     "name": "stdout",
     "output_type": "stream",
     "text": [
      "Width mean: 38\n",
      "Lenght mean: 37\n",
      "Size mean dimension: 37\n"
     ]
    }
   ],
   "source": [
    "import os, random\n",
    "from scipy.misc import imread, imresize\n",
    "\n",
    "width = 0\n",
    "lenght = 0\n",
    "num_test_images = len(test_image_names)\n",
    "\n",
    "for i in range(num_test_images):\n",
    "    path_file = os.path.join(test_root_path, test_image_names[i])\n",
    "    image = imread(path_file)\n",
    "    width += image.shape[0]\n",
    "    lenght += image.shape[1]\n",
    "\n",
    "width_mean = width//num_test_images\n",
    "lenght_mean = lenght//num_test_images\n",
    "dim_size = (width_mean + lenght_mean) // 2\n",
    "\n",
    "print(\"Width mean: {}\".format(width_mean))\n",
    "print(\"Lenght mean: {}\".format(lenght_mean))\n",
    "print(\"Size mean dimension: {}\".format(dim_size))"
   ]
  },
  {
   "cell_type": "markdown",
   "metadata": {
    "colab_type": "text",
    "id": "YJJQ-LpXbfDG"
   },
   "source": [
    "Size mean dimension will be used for the resizing process. __All the images will be scaled__ to __(37,37)__ since it's the average of the test images."
   ]
  },
  {
   "cell_type": "markdown",
   "metadata": {
    "colab_type": "text",
    "id": "IfyAbSatbfDH"
   },
   "source": [
    "### Show some test examples"
   ]
  },
  {
   "cell_type": "code",
   "execution_count": 11,
   "metadata": {
    "colab": {
     "base_uri": "https://localhost:8080/",
     "height": 193
    },
    "colab_type": "code",
    "id": "nhHY2PsFbfDJ",
    "outputId": "fd6e8adc-b2a4-44a7-afc1-d45a230e9d73"
   },
   "outputs": [
    {
     "name": "stdout",
     "output_type": "stream",
     "text": [
      "Label:comic_book_guy, Image:706, Shape:(39, 52, 3)\n"
     ]
    },
    {
     "data": {
      "image/png": "[encoded data removed]",
      "text/plain": [
       "<matplotlib.figure.Figure at 0x7f357c299748>"
      ]
     },
     "metadata": {
      "tags": []
     },
     "output_type": "display_data"
    }
   ],
   "source": [
    "import matplotlib.pyplot as plt\n",
    "\n",
    "idx = random.randint(0, num_test_images)\n",
    "sample_file, sample_name = test_image_names[idx], test_image_names[idx].split('_')[:-1]\n",
    "path_file = os.path.join(test_root_path, sample_file)\n",
    "sample_image = imread(path_file)\n",
    "\n",
    "print(\"Label:{}, Image:{}, Shape:{}\".format('_'.join(sample_name), idx, sample_image.shape))\n",
    "plt.figure(figsize=(3,3))\n",
    "plt.imshow(sample_image)\n",
    "plt.axis('off')\n",
    "plt.show()"
   ]
  },
  {
   "cell_type": "markdown",
   "metadata": {
    "colab_type": "text",
    "id": "ZHrhrWUqbfDR"
   },
   "source": [
    "### Making batches (resized)"
   ]
  },
  {
   "cell_type": "code",
   "execution_count": 0,
   "metadata": {
    "colab": {},
    "colab_type": "code",
    "collapsed": true,
    "id": "LJMtTmEFbfDT"
   },
   "outputs": [],
   "source": [
    "def get_num_of_samples():\n",
    "    count = 0\n",
    "    for _,character in enumerate(character_directories):\n",
    "        path = os.path.join(train_root_path, character)\n",
    "        count += len(listdir(path))\n",
    "        \n",
    "    return count\n",
    "\n",
    "def get_batch(batch_init, batch_size):\n",
    "    data = {'image':[], 'label':[]}\n",
    "    character_batch_size = batch_size//len(character_directories)\n",
    "    character_batch_init = batch_init//len(character_directories)\n",
    "    character_batch_end = character_batch_init + character_batch_size\n",
    "    \n",
    "    for _,character in enumerate(character_directories):\n",
    "        path = os.path.join(train_root_path, character)\n",
    "        images_list = listdir(path)\n",
    "        for i in range(character_batch_init, character_batch_end):\n",
    "            if len(images_list) == 0:\n",
    "                continue\n",
    "            #if this character has small number of features\n",
    "            #we repeat them\n",
    "            if i >= len(images_list):\n",
    "                p = i % len(images_list)\n",
    "            else:\n",
    "                p = i\n",
    "                \n",
    "            path_file = os.path.join(path, images_list[p])\n",
    "            image = imread(path_file)\n",
    "            #all with the same shape\n",
    "            image = imresize(image, (dim_size, dim_size))\n",
    "            data['image'].append(image)\n",
    "            data['label'].append(character)\n",
    "    \n",
    "    return data\n",
    "\n",
    "def get_batches(num_batches, batch_size, verbose=False):\n",
    "    #num max of samples\n",
    "    num_samples = get_num_of_samples()\n",
    "    #check number of batches with the maximum\n",
    "    max_num_batches = num_samples//batch_size - 1\n",
    "    \n",
    "    if verbose:\n",
    "        print(\"Number of samples:{}\".format(num_samples))\n",
    "        print(\"Batches:{} Size:{}\".format(num_batches, batch_size))\n",
    "    assert num_batches <= max_num_batches, \"Surpassed the maximum number of batches\"\n",
    "        \n",
    "    for i in range(0, num_batches):\n",
    "        init = i * batch_size\n",
    "        if verbose:\n",
    "            print(\"Batch-{} yielding images from {} to {}...\".format(i, init, init+batch_size))\n",
    "        \n",
    "        yield get_batch(init, batch_size)"
   ]
  },
  {
   "cell_type": "code",
   "execution_count": 13,
   "metadata": {
    "colab": {
     "base_uri": "https://localhost:8080/",
     "height": 479
    },
    "colab_type": "code",
    "id": "53H0GuvAbfDX",
    "outputId": "b85c2ed8-189a-433b-92ae-fe7b823a9eee"
   },
   "outputs": [
    {
     "name": "stdout",
     "output_type": "stream",
     "text": [
      "Number of samples:20933\n",
      "Batches:10 Size:500\n",
      "Batch-0 yielding images from 0 to 500...\n"
     ]
    },
    {
     "name": "stderr",
     "output_type": "stream",
     "text": [
      "/usr/local/lib/python3.6/dist-packages/scipy/misc/pilutil.py:482: FutureWarning: Conversion of the second argument of issubdtype from `int` to `np.signedinteger` is deprecated. In future, it will be treated as `np.int64 == np.dtype(int).type`.\n",
      "  if issubdtype(ts, int):\n",
      "/usr/local/lib/python3.6/dist-packages/scipy/misc/pilutil.py:485: FutureWarning: Conversion of the second argument of issubdtype from `float` to `np.floating` is deprecated. In future, it will be treated as `np.float64 == np.dtype(float).type`.\n",
      "  elif issubdtype(type(size), float):\n"
     ]
    },
    {
     "name": "stdout",
     "output_type": "stream",
     "text": [
      "\t|- retrieved 420 images\n",
      "Batch-1 yielding images from 500 to 1000...\n",
      "\t|- retrieved 420 images\n",
      "Batch-2 yielding images from 1000 to 1500...\n",
      "\t|- retrieved 420 images\n",
      "Batch-3 yielding images from 1500 to 2000...\n",
      "\t|- retrieved 420 images\n",
      "Batch-4 yielding images from 2000 to 2500...\n",
      "\t|- retrieved 420 images\n",
      "Batch-5 yielding images from 2500 to 3000...\n",
      "\t|- retrieved 420 images\n",
      "Batch-6 yielding images from 3000 to 3500...\n",
      "\t|- retrieved 420 images\n",
      "Batch-7 yielding images from 3500 to 4000...\n",
      "\t|- retrieved 420 images\n",
      "Batch-8 yielding images from 4000 to 4500...\n",
      "\t|- retrieved 420 images\n",
      "Batch-9 yielding images from 4500 to 5000...\n",
      "\t|- retrieved 420 images\n"
     ]
    }
   ],
   "source": [
    "#testing generator\n",
    "batch_size = 500\n",
    "\n",
    "for b in get_batches(10, batch_size, verbose=True):\n",
    "    print(\"\\t|- retrieved {} images\".format(len(b['image'])))"
   ]
  },
  {
   "cell_type": "markdown",
   "metadata": {
    "colab_type": "text",
    "id": "FD319qQebfDc"
   },
   "source": [
    "### Preprocessing data"
   ]
  },
  {
   "cell_type": "code",
   "execution_count": 0,
   "metadata": {
    "colab": {},
    "colab_type": "code",
    "collapsed": true,
    "id": "cHGJqgDYbfDd"
   },
   "outputs": [],
   "source": [
    "from sklearn import preprocessing\n",
    "\n",
    "#num characters\n",
    "num_characters = len(character_directories)\n",
    "\n",
    "#normalize\n",
    "def normalize(x):\n",
    "    #we use the feature scaling to have all the batches\n",
    "    #in the same space, that is (0,1)\n",
    "    return (x - np.amin(x))/(np.amax(x) - np.amin(x))\n",
    "\n",
    "#one-hot encode\n",
    "lb = preprocessing.LabelBinarizer()\n",
    "lb = lb.fit(character_directories)\n",
    "\n",
    "def one_hot(label):\n",
    "    return lb.transform([label])\n"
   ]
  },
  {
   "cell_type": "markdown",
   "metadata": {
    "colab_type": "text",
    "id": "Jey_T8srbfDh"
   },
   "source": [
    "### Storing preprocessed batches on disk"
   ]
  },
  {
   "cell_type": "code",
   "execution_count": 0,
   "metadata": {
    "colab": {},
    "colab_type": "code",
    "collapsed": true,
    "id": "rD4X5CpybfDj"
   },
   "outputs": [],
   "source": [
    "num_batches = 40\n",
    "batch_size = 500"
   ]
  },
  {
   "cell_type": "code",
   "execution_count": 35,
   "metadata": {
    "colab": {
     "base_uri": "https://localhost:8080/",
     "height": 185
    },
    "colab_type": "code",
    "id": "yLKUDO21bfDn",
    "outputId": "2e0f429d-bd24-4a83-fdc7-aa981fcef290"
   },
   "outputs": [
    {
     "name": "stderr",
     "output_type": "stream",
     "text": [
      "/usr/local/lib/python3.6/dist-packages/scipy/misc/pilutil.py:482: FutureWarning: Conversion of the second argument of issubdtype from `int` to `np.signedinteger` is deprecated. In future, it will be treated as `np.int64 == np.dtype(int).type`.\n",
      "  if issubdtype(ts, int):\n",
      "/usr/local/lib/python3.6/dist-packages/scipy/misc/pilutil.py:485: FutureWarning: Conversion of the second argument of issubdtype from `float` to `np.floating` is deprecated. In future, it will be treated as `np.float64 == np.dtype(float).type`.\n",
      "  elif issubdtype(type(size), float):\n"
     ]
    },
    {
     "name": "stdout",
     "output_type": "stream",
     "text": [
      "Dim image < 3\n",
      "Loaded 16799 train images and stored on disk\n"
     ]
    }
   ],
   "source": [
    "import pickle\n",
    "import numpy as np\n",
    "\n",
    "cnt_images = 0\n",
    "for cnt, b in enumerate(get_batches(num_batches, batch_size)):\n",
    "    data = {'image':[], 'label':[]}\n",
    "    \n",
    "    for i in range( min(len(b['image']), batch_size) ):\n",
    "        image = np.array( b['image'][i] )\n",
    "        label = np.array( b['label'][i] )\n",
    "        #label = label.reshape([-1,:])\n",
    "        if len(image.shape) == 3:\n",
    "          data['image'].append(normalize(image))\n",
    "          data['label'].append(one_hot(label)[-1,:])\n",
    "          cnt_images += 1\n",
    "        else:\n",
    "          print(\"Dim image < 3\")\n",
    "    \n",
    "    with open(\"simpson_train_{}.pkl\".format(cnt), 'wb') as file:\n",
    "        pickle.dump(data, file, pickle.HIGHEST_PROTOCOL)\n",
    "    \n",
    "print(\"Loaded {} train images and stored on disk\".format(cnt_images))"
   ]
  },
  {
   "cell_type": "code",
   "execution_count": 36,
   "metadata": {
    "colab": {
     "base_uri": "https://localhost:8080/",
     "height": 85
    },
    "colab_type": "code",
    "id": "TQRJW7CAbfDs",
    "outputId": "d90f70ce-1265-45ce-e32c-575801a6cfd3"
   },
   "outputs": [
    {
     "name": "stdout",
     "output_type": "stream",
     "text": [
      "Example of onehot encoded:\n",
      "[0 0 0 0 0 0 0 0 0 0 0 0 0 0 0 0 0 0 0 0 0 0 0 0 0 0 0 0 0 0 0 0 0 0 0 0 0\n",
      " 0 0 0 0 1 0 0 0 0 0]\n",
      "Data shape: (37, 37, 3)\n"
     ]
    }
   ],
   "source": [
    "#testing load from file\n",
    "import pickle\n",
    "\n",
    "with open('simpson_train_0.pkl', 'rb') as file:\n",
    "    data = pickle.load(file)\n",
    "    print(\"Example of onehot encoded:\\n{}\".format(data['label'][0]))\n",
    "    print(\"Data shape: {}\".format(data['image'][0].shape))"
   ]
  },
  {
   "cell_type": "markdown",
   "metadata": {
    "colab_type": "text",
    "id": "uKHY-7v8bfDw"
   },
   "source": [
    "### Building the Network"
   ]
  },
  {
   "cell_type": "code",
   "execution_count": 0,
   "metadata": {
    "colab": {},
    "colab_type": "code",
    "collapsed": true,
    "id": "IdGmHLj4bfDx"
   },
   "outputs": [],
   "source": [
    "import tensorflow as tf\n",
    "\n",
    "#helpers\n",
    "def convolution(inputs, kernel_shape, stride_shape, output_depth):\n",
    "    #convolution variables\n",
    "    input_depth = inputs.get_shape().as_list()[3]\n",
    "    filter_shape = kernel_shape + (input_depth, output_depth)\n",
    "    dev = 1/np.sqrt(kernel_shape[0]*kernel_shape[1])\n",
    "    filter_ = tf.Variable(tf.truncated_normal(filter_shape, stddev=dev), name=\"filter_\")\n",
    "    stride_shape = (1,) + stride_shape + (1,)\n",
    "    pool_shape = stride_shape\n",
    "    bias_ = tf.Variable(tf.truncated_normal([output_depth], stddev=dev), name=\"bias_\")\n",
    "    \n",
    "    #convolution\n",
    "    conv = tf.nn.conv2d(inputs, filter_, stride_shape, padding='SAME')\n",
    "    conv = tf.nn.bias_add(conv, bias_)\n",
    "    conv = tf.nn.relu(conv)\n",
    "    conv = tf.nn.conv2d(inputs, filter_, stride_shape, padding='SAME')\n",
    "    conv = tf.nn.bias_add(conv, bias_)\n",
    "    conv = tf.nn.relu(conv)\n",
    "    \n",
    "    #pooling\n",
    "    conv = tf.nn.max_pool(conv, pool_shape, stride_shape, padding='SAME')\n",
    "    \n",
    "    return conv\n",
    "\n",
    "def classifier(inputs, num_outputs):\n",
    "    #classifier variables\n",
    "    num_inputs = inputs.get_shape().as_list()[1]\n",
    "    dev = 1/np.sqrt(num_inputs)\n",
    "    weights = tf.Variable(tf.truncated_normal((num_inputs,)+num_outputs, stddev=dev), name=\"weights\")\n",
    "    bias = tf.Variable(tf.truncated_normal(num_outputs, stddev=dev), name=\"bias\")\n",
    "\n",
    "    #classifier\n",
    "    logits = tf.add(tf.matmul(inputs, weights), bias)\n",
    "\n",
    "    return logits"
   ]
  },
  {
   "cell_type": "code",
   "execution_count": 58,
   "metadata": {
    "colab": {
     "base_uri": "https://localhost:8080/",
     "height": 136
    },
    "colab_type": "code",
    "id": "Dl6qIqH0bfDz",
    "outputId": "ff578011-794e-4466-f354-4fe53ccd8f42"
   },
   "outputs": [
    {
     "name": "stdout",
     "output_type": "stream",
     "text": [
      "[None, 37, 37, 3]\n",
      "[None, 10, 10, 32]\n",
      "[None, 10, 10, 64]\n",
      "[None, 3, 3, 128]\n",
      "Inputs shape: [37, 37, 3]\n",
      "Flatten shape: 1152\n",
      "Outputs shape: 47\n"
     ]
    }
   ],
   "source": [
    "##building the network\n",
    "import numpy as np\n",
    "\n",
    "#remove previous weights, bias, etc\n",
    "tf.reset_default_graph()\n",
    "\n",
    "#shape\n",
    "image_shape = (dim_size, dim_size, 3)\n",
    "label_shape = (num_characters,)\n",
    "\n",
    "#data\n",
    "X = tf.placeholder(tf.float32, (None,) + image_shape)\n",
    "y = tf.placeholder(tf.float32, (None,) + label_shape)\n",
    "\n",
    "#conv\n",
    "print(X.get_shape().as_list())\n",
    "conv = convolution(X, (5,5), (2,2), 32)\n",
    "print(conv.get_shape().as_list())\n",
    "conv = convolution(X, (5,5), (2,2), 64)\n",
    "print(conv.get_shape().as_list())\n",
    "conv = convolution(conv, (5,5), (2,2), 128)\n",
    "print(conv.get_shape().as_list())\n",
    "    \n",
    "#before classifier\n",
    "flatten_shape = np.prod(conv.get_shape().as_list()[1:])\n",
    "flatten = tf.reshape(conv, [-1,flatten_shape])\n",
    "\n",
    "#classifying\n",
    "num_outputs = label_shape\n",
    "logits = classifier(flatten, (40,))\n",
    "logits = tf.nn.dropout(logits, 0.8)\n",
    "logits = classifier(logits, num_outputs)\n",
    "\n",
    "print(\"Inputs shape: {}\".format(X.get_shape().as_list()[1:]))\n",
    "print(\"Flatten shape: {}\".format(flatten_shape))\n",
    "print(\"Outputs shape: {}\".format(logits.get_shape().as_list()[1]))"
   ]
  },
  {
   "cell_type": "code",
   "execution_count": 0,
   "metadata": {
    "colab": {},
    "colab_type": "code",
    "collapsed": true,
    "id": "1jeOBRSfbfD2"
   },
   "outputs": [],
   "source": [
    "#loss and optmizer\n",
    "cost = tf.reduce_mean(tf.nn.softmax_cross_entropy_with_logits_v2(logits=logits, labels=y))\n",
    "optimizer = tf.train.AdamOptimizer().minimize(cost)\n",
    "\n",
    "#accuracy\n",
    "correct_pred = tf.equal(tf.argmax(logits, 1), tf.argmax(y, 1))\n",
    "accuracy = tf.reduce_mean(tf.cast(correct_pred, tf.float32))"
   ]
  },
  {
   "cell_type": "code",
   "execution_count": 61,
   "metadata": {
    "colab": {
     "base_uri": "https://localhost:8080/",
     "height": 867
    },
    "colab_type": "code",
    "id": "dMLC8ZRSbfD4",
    "outputId": "7ee98c5f-287e-450b-d003-4664723bb363"
   },
   "outputs": [
    {
     "name": "stdout",
     "output_type": "stream",
     "text": [
      "Epoch:0 Training Loss:3.3477 Validation Loss:3.5639 Accuracy:0.1429\n",
      "Epoch:1 Training Loss:2.4918 Validation Loss:2.7942 Accuracy:0.3333\n",
      "Epoch:2 Training Loss:1.9119 Validation Loss:2.4164 Accuracy:0.4405\n",
      "Epoch:3 Training Loss:1.5968 Validation Loss:1.9463 Accuracy:0.5000\n",
      "Epoch:4 Training Loss:1.3519 Validation Loss:1.7505 Accuracy:0.5595\n",
      "Epoch:5 Training Loss:1.1231 Validation Loss:1.6901 Accuracy:0.6548\n",
      "Epoch:6 Training Loss:1.0222 Validation Loss:1.4885 Accuracy:0.6548\n",
      "Epoch:7 Training Loss:0.9306 Validation Loss:1.3455 Accuracy:0.6905\n",
      "Epoch:8 Training Loss:0.8286 Validation Loss:1.4265 Accuracy:0.6786\n",
      "Epoch:9 Training Loss:0.7101 Validation Loss:1.2588 Accuracy:0.7262\n",
      "Epoch:10 Training Loss:0.6330 Validation Loss:1.4156 Accuracy:0.6786\n",
      "Epoch:11 Training Loss:0.5593 Validation Loss:1.2232 Accuracy:0.7143\n",
      "Epoch:12 Training Loss:0.5054 Validation Loss:1.1077 Accuracy:0.7262\n",
      "Epoch:13 Training Loss:0.4766 Validation Loss:1.3206 Accuracy:0.6905\n",
      "Epoch:14 Training Loss:0.4836 Validation Loss:1.0564 Accuracy:0.7619\n",
      "Epoch:15 Training Loss:0.3406 Validation Loss:1.1832 Accuracy:0.6905\n",
      "Epoch:16 Training Loss:0.3738 Validation Loss:1.2097 Accuracy:0.7381\n",
      "Epoch:17 Training Loss:0.3529 Validation Loss:1.3146 Accuracy:0.7381\n",
      "Epoch:18 Training Loss:0.3210 Validation Loss:1.1987 Accuracy:0.7500\n",
      "Epoch:19 Training Loss:0.3031 Validation Loss:1.2496 Accuracy:0.7857\n",
      "Epoch:20 Training Loss:0.3597 Validation Loss:1.3000 Accuracy:0.7857\n",
      "Epoch:21 Training Loss:0.2145 Validation Loss:1.1904 Accuracy:0.7857\n",
      "Epoch:22 Training Loss:0.2374 Validation Loss:1.2838 Accuracy:0.7619\n",
      "Epoch:23 Training Loss:0.1934 Validation Loss:1.4365 Accuracy:0.7381\n",
      "Epoch:24 Training Loss:0.1664 Validation Loss:1.1413 Accuracy:0.7619\n",
      "Epoch:25 Training Loss:0.1606 Validation Loss:1.2510 Accuracy:0.7738\n",
      "Epoch:26 Training Loss:0.1577 Validation Loss:1.1806 Accuracy:0.8095\n",
      "Epoch:27 Training Loss:0.1469 Validation Loss:1.0795 Accuracy:0.7619\n",
      "Epoch:28 Training Loss:0.1295 Validation Loss:1.0512 Accuracy:0.7738\n",
      "Epoch:29 Training Loss:0.1653 Validation Loss:1.2680 Accuracy:0.7619\n",
      "Epoch:30 Training Loss:0.1325 Validation Loss:0.9794 Accuracy:0.7976\n",
      "Epoch:31 Training Loss:0.1603 Validation Loss:1.1315 Accuracy:0.8095\n",
      "Epoch:32 Training Loss:0.1127 Validation Loss:1.1339 Accuracy:0.7857\n",
      "Epoch:33 Training Loss:0.0884 Validation Loss:1.2043 Accuracy:0.7500\n",
      "Epoch:34 Training Loss:0.1001 Validation Loss:1.2795 Accuracy:0.7262\n",
      "Epoch:35 Training Loss:0.0796 Validation Loss:1.2658 Accuracy:0.7857\n",
      "Epoch:36 Training Loss:0.0886 Validation Loss:1.2040 Accuracy:0.7857\n",
      "Epoch:37 Training Loss:0.0773 Validation Loss:1.2885 Accuracy:0.7738\n",
      "Epoch:38 Training Loss:0.0702 Validation Loss:1.3016 Accuracy:0.7619\n",
      "Epoch:39 Training Loss:0.0629 Validation Loss:1.2462 Accuracy:0.8333\n",
      "Epoch:40 Training Loss:0.0458 Validation Loss:1.2436 Accuracy:0.7976\n",
      "Epoch:41 Training Loss:0.0372 Validation Loss:1.2887 Accuracy:0.7857\n",
      "Epoch:42 Training Loss:0.0584 Validation Loss:1.2154 Accuracy:0.8095\n",
      "Epoch:43 Training Loss:0.0497 Validation Loss:1.3618 Accuracy:0.7976\n",
      "Epoch:44 Training Loss:0.0478 Validation Loss:1.3369 Accuracy:0.7738\n",
      "Epoch:45 Training Loss:0.0451 Validation Loss:1.3175 Accuracy:0.7976\n",
      "Epoch:46 Training Loss:0.0477 Validation Loss:1.3037 Accuracy:0.8095\n",
      "Epoch:47 Training Loss:0.0327 Validation Loss:1.3635 Accuracy:0.7976\n",
      "Epoch:48 Training Loss:0.0834 Validation Loss:1.2930 Accuracy:0.8333\n",
      "Epoch:49 Training Loss:0.0351 Validation Loss:1.5221 Accuracy:0.7976\n"
     ]
    }
   ],
   "source": [
    "from sklearn.model_selection import train_test_split\n",
    "\n",
    "##Train the model\n",
    "x_train = []\n",
    "y_train = []\n",
    "x_val = []\n",
    "y_val = []\n",
    "\n",
    "##\n",
    "epochs = 50\n",
    "\n",
    "sess = tf.Session()\n",
    "sess.run(tf.global_variables_initializer())\n",
    "\n",
    "for e in range(epochs):\n",
    "    \n",
    "    for i in range(num_batches):\n",
    "        fname = \"simpson_train_{}.pkl\".format(i)\n",
    "        if os.path.exists(fname):   \n",
    "            with open(fname, 'rb') as file:\n",
    "                #print(\"Processing: {}\".format(fname))\n",
    "                data = pickle.load(file)\n",
    "                x_train, x_val, y_train, y_val = train_test_split(data['image'], data['label'], test_size=0.2, random_state=42)\n",
    "\n",
    "                feed_dict = {X: x_train, y: y_train}\n",
    "                train_loss, _ = sess.run([cost, optimizer], feed_dict)\n",
    "\n",
    "                feed_dict = {X: x_val, y: y_val}\n",
    "                val_loss, acc = sess.run([cost, accuracy], feed_dict)\n",
    "\n",
    "    print(\"Epoch:{} Training Loss:{:.4f} Validation Loss:{:.4f} Accuracy:{:.4f}\".format(e, train_loss, val_loss, acc))"
   ]
  },
  {
   "cell_type": "markdown",
   "metadata": {
    "colab_type": "text",
    "id": "KQQDBi19bfD9"
   },
   "source": [
    "### Testing model"
   ]
  },
  {
   "cell_type": "code",
   "execution_count": 72,
   "metadata": {
    "colab": {
     "base_uri": "https://localhost:8080/",
     "height": 247
    },
    "colab_type": "code",
    "id": "F_o5h_QBbfD-",
    "outputId": "184a6bd9-72b5-4861-8e95-425f27e7ffe0"
   },
   "outputs": [
    {
     "name": "stdout",
     "output_type": "stream",
     "text": [
      "Label: Comic Book Guy\n",
      "Prediction: Comic Book Guy\n"
     ]
    },
    {
     "data": {
      "image/png": "[encoded data removed]",
      "text/plain": [
       "<matplotlib.figure.Figure at 0x7f34fe2fa828>"
      ]
     },
     "metadata": {
      "tags": []
     },
     "output_type": "display_data"
    }
   ],
   "source": [
    "import warnings\n",
    "warnings.filterwarnings('ignore')\n",
    "\n",
    "#prediction\n",
    "idx = random.randint(0, num_test_images)\n",
    "sample_file, sample_name = test_image_names[idx], test_image_names[idx].split('_')[:-1]\n",
    "path_file = os.path.join(test_root_path, sample_file)\n",
    "sample_image = imread(path_file)\n",
    "idx = int(random.uniform(0, len(y_val)))\n",
    "    \n",
    "test_image = sample_image\n",
    "test_label = ' '.join([s.capitalize() for s in sample_name])\n",
    "\n",
    "test_image_norm = normalize(imresize(sample_image, (dim_size, dim_size)))\n",
    "\n",
    "prediction = sess.run(logits, {X:[test_image_norm]})\n",
    "prediction = lb.inverse_transform(prediction)\n",
    "\n",
    "#showing\n",
    "print(\"Label: {}\".format(test_label))\n",
    "prediction = ' '.join([s.capitalize() for s in prediction[0].split('_')])\n",
    "print(\"Prediction: {}\".format(prediction))\n",
    "\n",
    "plt.figure(figsize=(3,3))\n",
    "plt.imshow(test_image)\n",
    "plt.axis('off')\n",
    "plt.show()"
   ]
  }
 ],
 "metadata": {
  "accelerator": "GPU",
  "colab": {
   "collapsed_sections": [],
   "name": "Simpsons.ipynb",
   "provenance": [],
   "version": "0.3.2"
  },
  "kernelspec": {
   "display_name": "Python 3",
   "language": "python",
   "name": "python3"
  },
  "language_info": {
   "codemirror_mode": {
    "name": "ipython",
    "version": 3
   },
   "file_extension": ".py",
   "mimetype": "text/x-python",
   "name": "python",
   "nbconvert_exporter": "python",
   "pygments_lexer": "ipython3",
   "version": "3.5.3"
  }
 },
 "nbformat": 4,
 "nbformat_minor": 1
}
