{
 "cells": [
  {
   "cell_type": "code",
   "execution_count": 1,
   "metadata": {
    "collapsed": true
   },
   "outputs": [],
   "source": [
    "import numpy as np\n",
    "import pandas as pd\n",
    "import seaborn as sns\n",
    "import matplotlib.pyplot as plt\n",
    "%matplotlib notebook\n",
    "\n",
    "#load the files\n",
    "train = pd.read_csv('input/train.csv')\n",
    "test = pd.read_csv('input/test.csv')\n",
    "\n",
    "#size of training dataset\n",
    "train_samples = train.shape[0]"
   ]
  },
  {
   "cell_type": "code",
   "execution_count": 2,
   "metadata": {},
   "outputs": [
    {
     "data": {
      "text/html": [
       "<div>\n",
       "<style scoped>\n",
       "    .dataframe tbody tr th:only-of-type {\n",
       "        vertical-align: middle;\n",
       "    }\n",
       "\n",
       "    .dataframe tbody tr th {\n",
       "        vertical-align: top;\n",
       "    }\n",
       "\n",
       "    .dataframe thead th {\n",
       "        text-align: right;\n",
       "    }\n",
       "</style>\n",
       "<table border=\"1\" class=\"dataframe\">\n",
       "  <thead>\n",
       "    <tr style=\"text-align: right;\">\n",
       "      <th></th>\n",
       "      <th>PassengerId</th>\n",
       "      <th>Survived</th>\n",
       "      <th>Pclass</th>\n",
       "      <th>Name</th>\n",
       "      <th>Sex</th>\n",
       "      <th>Age</th>\n",
       "      <th>SibSp</th>\n",
       "      <th>Parch</th>\n",
       "      <th>Ticket</th>\n",
       "      <th>Fare</th>\n",
       "      <th>Cabin</th>\n",
       "      <th>Embarked</th>\n",
       "    </tr>\n",
       "  </thead>\n",
       "  <tbody>\n",
       "    <tr>\n",
       "      <th>0</th>\n",
       "      <td>1</td>\n",
       "      <td>0</td>\n",
       "      <td>3</td>\n",
       "      <td>Braund, Mr. Owen Harris</td>\n",
       "      <td>male</td>\n",
       "      <td>22.0</td>\n",
       "      <td>1</td>\n",
       "      <td>0</td>\n",
       "      <td>A/5 21171</td>\n",
       "      <td>7.2500</td>\n",
       "      <td>NaN</td>\n",
       "      <td>S</td>\n",
       "    </tr>\n",
       "    <tr>\n",
       "      <th>1</th>\n",
       "      <td>2</td>\n",
       "      <td>1</td>\n",
       "      <td>1</td>\n",
       "      <td>Cumings, Mrs. John Bradley (Florence Briggs Th...</td>\n",
       "      <td>female</td>\n",
       "      <td>38.0</td>\n",
       "      <td>1</td>\n",
       "      <td>0</td>\n",
       "      <td>PC 17599</td>\n",
       "      <td>71.2833</td>\n",
       "      <td>C85</td>\n",
       "      <td>C</td>\n",
       "    </tr>\n",
       "  </tbody>\n",
       "</table>\n",
       "</div>"
      ],
      "text/plain": [
       "   PassengerId  Survived  Pclass  \\\n",
       "0            1         0       3   \n",
       "1            2         1       1   \n",
       "\n",
       "                                                Name     Sex   Age  SibSp  \\\n",
       "0                            Braund, Mr. Owen Harris    male  22.0      1   \n",
       "1  Cumings, Mrs. John Bradley (Florence Briggs Th...  female  38.0      1   \n",
       "\n",
       "   Parch     Ticket     Fare Cabin Embarked  \n",
       "0      0  A/5 21171   7.2500   NaN        S  \n",
       "1      0   PC 17599  71.2833   C85        C  "
      ]
     },
     "execution_count": 2,
     "metadata": {},
     "output_type": "execute_result"
    }
   ],
   "source": [
    "train.head(2)"
   ]
  },
  {
   "cell_type": "code",
   "execution_count": 3,
   "metadata": {},
   "outputs": [
    {
     "data": {
      "text/plain": [
       "array(['S', 'C', 'Q', nan], dtype=object)"
      ]
     },
     "execution_count": 3,
     "metadata": {},
     "output_type": "execute_result"
    }
   ],
   "source": [
    "train.Embarked.unique()"
   ]
  },
  {
   "cell_type": "code",
   "execution_count": 4,
   "metadata": {},
   "outputs": [
    {
     "data": {
      "text/plain": [
       "Survived\n",
       "0    549\n",
       "1    342\n",
       "Name: PassengerId, dtype: int64"
      ]
     },
     "execution_count": 4,
     "metadata": {},
     "output_type": "execute_result"
    }
   ],
   "source": [
    "train.groupby(by='Survived').PassengerId.count()\n",
    "\n",
    "# double number of not survived that survived"
   ]
  },
  {
   "cell_type": "code",
   "execution_count": 5,
   "metadata": {},
   "outputs": [
    {
     "data": {
      "text/plain": [
       "array(['Mr', 'Mrs', 'Miss', 'Master', 'Don', 'Rev', 'Dr', 'Mme', 'Ms',\n",
       "       'Major', 'Lady', 'Sir', 'Mlle', 'Col', 'Capt', 'the Countess',\n",
       "       'Jonkheer'], dtype=object)"
      ]
     },
     "execution_count": 5,
     "metadata": {},
     "output_type": "execute_result"
    }
   ],
   "source": [
    "train.Name.apply(lambda s: s.split(\". \")[0].split(\", \")[1]  ).unique()"
   ]
  },
  {
   "cell_type": "code",
   "execution_count": 6,
   "metadata": {
    "collapsed": true
   },
   "outputs": [],
   "source": [
    "from sklearn.preprocessing import MinMaxScaler\n",
    "\n",
    "scaler = MinMaxScaler()\n",
    "\n",
    "def scale(X, fit_scaler=False):\n",
    "    # Input is a dataframe\n",
    "    #\n",
    "    # Note the way of scaling (df[df.columns])\n",
    "    # we want to mantain the dataframe (instead of numpy array)\n",
    "    if fit_scaler:\n",
    "        X[X.columns] = scaler.fit_transform(X[X.columns])\n",
    "    else:\n",
    "        X[X.columns] = scaler.transform(X[X.columns])\n",
    "        \n",
    "    return X \n",
    "\n",
    "def preprocess(df):\n",
    "    X = df[['Pclass','Sex']].copy()\n",
    "\n",
    "    # feature engineering\n",
    "    X.Sex = X.Sex.map({'female':1, 'male':0})\n",
    "    X['Family'] = df.Parch + df.Parch\n",
    "    \n",
    "    return X\n"
   ]
  },
  {
   "cell_type": "code",
   "execution_count": 14,
   "metadata": {},
   "outputs": [],
   "source": [
    "# plotting a scatter matrix\n",
    "def plot_matrix(X_train, y_train):\n",
    "    colormap = {0:'firebrick',1:'steelblue'}\n",
    "    colors = np.vectorize(colormap.get)(y_train)\n",
    "\n",
    "    pd.plotting.scatter_matrix(X_train, c=colors, marker = 'o', s=30,\n",
    "                               hist_kwds={'bins':15}, figsize=(9,9));\n"
   ]
  },
  {
   "cell_type": "code",
   "execution_count": 15,
   "metadata": {
    "collapsed": true
   },
   "outputs": [],
   "source": [
    "def save_to_file(clf, X_test):\n",
    "    import os\n",
    "\n",
    "    predictions = clf.predict(X_test)\n",
    "\n",
    "    passengerId = 892\n",
    "    file = \"PassengerId,Survived\" + os.linesep\n",
    "\n",
    "    for i in range(len(X_test)):\n",
    "        file += \"{},{}\".format(passengerId, (int)(predictions[i]))  + os.linesep\n",
    "        passengerId += 1\n",
    "\n",
    "    # Save to file\n",
    "    with open('attempt.txt', 'w') as f:\n",
    "        f.write(file)"
   ]
  },
  {
   "cell_type": "code",
   "execution_count": 8,
   "metadata": {
    "collapsed": true
   },
   "outputs": [],
   "source": [
    "#baseline\n",
    "from sklearn.model_selection import train_test_split\n",
    "from sklearn.dummy import DummyClassifier\n",
    "from sklearn.metrics import classification_report\n",
    "\n",
    "def baseline(X, y):\n",
    "    X_train, X_val, y_train, y_val = train_test_split(X, y, random_state=0)\n",
    "\n",
    "    dummy = DummyClassifier(random_state=0)\n",
    "\n",
    "    #be aware of y as column vector\n",
    "    dummy.fit(X_train, y_train.values.reshape(-1))\n",
    "    acc = dummy.score(X_val.values, y_val.values.reshape(-1))\n",
    "    print('Accuracy: {:.2f}\\n'.format(acc))\n",
    "    \n",
    "    # Combined report with all above metrics\n",
    "    print(classification_report(y_val, dummy.predict(X_val), target_names=['Not Survived', 'Survived']))\n"
   ]
  },
  {
   "cell_type": "markdown",
   "metadata": {},
   "source": [
    "***"
   ]
  },
  {
   "cell_type": "markdown",
   "metadata": {},
   "source": [
    "## Baseline starts from 0.54"
   ]
  },
  {
   "cell_type": "code",
   "execution_count": 9,
   "metadata": {},
   "outputs": [
    {
     "name": "stdout",
     "output_type": "stream",
     "text": [
      "Accuracy: 0.54\n",
      "\n",
      "              precision    recall  f1-score   support\n",
      "\n",
      "Not Survived       0.63      0.62      0.63       139\n",
      "    Survived       0.39      0.40      0.40        84\n",
      "\n",
      " avg / total       0.54      0.54      0.54       223\n",
      "\n"
     ]
    }
   ],
   "source": [
    "X_train = preprocess(train)\n",
    "y_train = train[['Survived']]\n",
    "\n",
    "baseline(X_train, y_train)"
   ]
  },
  {
   "cell_type": "markdown",
   "metadata": {},
   "source": [
    "***"
   ]
  },
  {
   "cell_type": "code",
   "execution_count": 10,
   "metadata": {
    "collapsed": true
   },
   "outputs": [],
   "source": [
    "from sklearn.ensemble import RandomForestClassifier\n",
    "from sklearn.model_selection import cross_validate\n",
    "from sklearn.metrics import roc_curve, roc_auc_score, auc, accuracy_score\n",
    "\n",
    "def check_model(X, y):\n",
    "    rfc = RandomForestClassifier(random_state=0)\n",
    "    scores = cross_validate(rfc, X, y, cv=10, scoring='accuracy')\n",
    "\n",
    "    print(\"Train scores: {:.3f}\".format(scores['train_score'].mean()))\n",
    "    print(\"Test scores: {:.3f}\".format(scores['test_score'].mean()))\n",
    "    \n",
    "    X_train, X_val, y_train, y_val = train_test_split(X, y, random_state=0)\n",
    "    rfc.fit(X_train, y_train)\n",
    "    \n",
    "    y_pred = rfc.predict(X_val)\n",
    "    print(\"Accuracy: {:.3f}\".format(accuracy_score(y_val, y_pred)))\n",
    "\n",
    "    y_probs = rfc.predict_proba(X_val)\n",
    "    auc = roc_auc_score(y_val, y_probs[:,1])\n",
    "    print(\"AUC:{:.3f}\".format(auc))\n",
    "    \n",
    "    print(classification_report(y_val, y_pred, target_names=['Not Survived', 'Survived']))\n",
    "    \n",
    "    return rfc\n"
   ]
  },
  {
   "cell_type": "code",
   "execution_count": 30,
   "metadata": {
    "collapsed": true
   },
   "outputs": [],
   "source": [
    "from sklearn.model_selection import GridSearchCV\n",
    "from sklearn.metrics import roc_curve, roc_auc_score, auc, accuracy_score\n",
    "\n",
    "def grid_search(X, y, test_size=0.25):\n",
    "    max_range = np.append(np.arange(1, X.shape[1]+1), None)\n",
    "    X_train, X_val, y_train, y_val = train_test_split(X, y, test_size=test_size, random_state=0)\n",
    "    params = {'n_estimators': [2, 3, 5, 7, 10, 20],\n",
    "              'class_weight': ['balanced', {1:2}, {1:3}, {1:4}, {1:5}, {1:10}, {1:20}],\n",
    "              'max_features': max_range,\n",
    "              'max_depth': max_range}\n",
    "\n",
    "    rfc = RandomForestClassifier(random_state=0)\n",
    "    grid_rfc = GridSearchCV(rfc, param_grid=params, cv=10, scoring='accuracy')\n",
    "    grid_rfc.fit(X_train, y_train)\n",
    "\n",
    "    best_rfc = grid_rfc.best_estimator_\n",
    "\n",
    "    y_pred = best_rfc.predict(X_val)\n",
    "    print(\"Accuracy: {:.3f}\".format(accuracy_score(y_val, y_pred)))\n",
    "\n",
    "    y_probs = best_rfc.predict_proba(X_val)\n",
    "    auc = roc_auc_score(y_val, y_probs[:,1])\n",
    "    print(\"AUC:{:.3f}\".format(auc))\n",
    "    \n",
    "    print(\"Best params: {}\\n\".format(grid_rfc.best_params_))\n",
    "    print(classification_report(y_val, y_pred, target_names=['Not Survived', 'Survived']))\n",
    "    \n",
    "    return best_rfc\n"
   ]
  },
  {
   "cell_type": "code",
   "execution_count": 12,
   "metadata": {},
   "outputs": [
    {
     "name": "stdout",
     "output_type": "stream",
     "text": [
      "Train scores: 0.807\n",
      "Test scores: 0.795\n",
      "Accuracy: 0.794\n",
      "AUC:0.867\n",
      "              precision    recall  f1-score   support\n",
      "\n",
      "Not Survived       0.83      0.85      0.84       139\n",
      "    Survived       0.74      0.70      0.72        84\n",
      "\n",
      " avg / total       0.79      0.79      0.79       223\n",
      "\n"
     ]
    }
   ],
   "source": [
    "X_train = preprocess(train).values\n",
    "y_train = train[['Survived']].values.reshape(-1)\n",
    "\n",
    "rfc = check_model(X_train, y_train)"
   ]
  },
  {
   "cell_type": "code",
   "execution_count": 16,
   "metadata": {
    "collapsed": true
   },
   "outputs": [],
   "source": [
    "X_test = preprocess(test)\n",
    "save_to_file(rfc, X_test)"
   ]
  },
  {
   "cell_type": "markdown",
   "metadata": {},
   "source": [
    "## 0.77511 in Kaggle!!!\n",
    "***"
   ]
  },
  {
   "cell_type": "code",
   "execution_count": 17,
   "metadata": {},
   "outputs": [
    {
     "name": "stdout",
     "output_type": "stream",
     "text": [
      "Train scores: 0.807\n",
      "Test scores: 0.795\n",
      "Accuracy: 0.794\n",
      "AUC:0.868\n",
      "              precision    recall  f1-score   support\n",
      "\n",
      "Not Survived       0.83      0.85      0.84       139\n",
      "    Survived       0.74      0.70      0.72        84\n",
      "\n",
      " avg / total       0.79      0.79      0.79       223\n",
      "\n"
     ]
    }
   ],
   "source": [
    "X_train = scale(preprocess(train), True)\n",
    "rfc = check_model(X_train, y_train)"
   ]
  },
  {
   "cell_type": "code",
   "execution_count": 18,
   "metadata": {
    "collapsed": true
   },
   "outputs": [],
   "source": [
    "X_test = preprocess(test)\n",
    "X_test = scale(X_test)\n",
    "save_to_file(rfc, X_test)"
   ]
  },
  {
   "cell_type": "markdown",
   "metadata": {},
   "source": [
    "### Kaggle 0.77511 -> Same results\n",
    "***"
   ]
  },
  {
   "cell_type": "code",
   "execution_count": 23,
   "metadata": {
    "collapsed": true
   },
   "outputs": [],
   "source": [
    "def preprocess_2(df):\n",
    "    X = df[['Pclass','Sex']].copy()\n",
    "\n",
    "    # feature engineering\n",
    "    X.Sex = X.Sex.map({'female':1, 'male':0})  \n",
    "    X['Family'] = (df.SibSp*df.Parch)/(df.SibSp + df.Parch + 0.0001)\n",
    "    \n",
    "    X['Age'] = df.Age.fillna(df.Age.median())\n",
    "    group_pclass_fare = df.groupby(by='Pclass').Fare.median()\n",
    "    X['Fare'] = np.where(df.Fare.isnull(), group_pclass_fare[df.Pclass], df.Fare)\n",
    "    \n",
    "    return X"
   ]
  },
  {
   "cell_type": "code",
   "execution_count": 26,
   "metadata": {},
   "outputs": [
    {
     "name": "stdout",
     "output_type": "stream",
     "text": [
      "Train scores: 0.965\n",
      "Test scores: 0.816\n",
      "Accuracy: 0.852\n",
      "AUC:0.862\n",
      "              precision    recall  f1-score   support\n",
      "\n",
      "Not Survived       0.86      0.91      0.89       139\n",
      "    Survived       0.84      0.75      0.79        84\n",
      "\n",
      " avg / total       0.85      0.85      0.85       223\n",
      "\n"
     ]
    }
   ],
   "source": [
    "X_train = preprocess_2(train)\n",
    "rfc = check_model(X_train, y_train)"
   ]
  },
  {
   "cell_type": "code",
   "execution_count": 31,
   "metadata": {},
   "outputs": [
    {
     "name": "stdout",
     "output_type": "stream",
     "text": [
      "Accuracy: 0.822\n",
      "AUC:0.856\n",
      "Best params: {'class_weight': {1: 2}, 'max_features': 2, 'n_estimators': 20, 'max_depth': None}\n",
      "\n",
      "              precision    recall  f1-score   support\n",
      "\n",
      "Not Survived       0.80      0.92      0.85        51\n",
      "    Survived       0.87      0.69      0.77        39\n",
      "\n",
      " avg / total       0.83      0.82      0.82        90\n",
      "\n"
     ]
    }
   ],
   "source": [
    "rfc = grid_search(X_train, y_train, test_size=0.1)"
   ]
  },
  {
   "cell_type": "code",
   "execution_count": 32,
   "metadata": {
    "collapsed": true
   },
   "outputs": [],
   "source": [
    "X_test = preprocess_2(test)\n",
    "save_to_file(rfc, X_test)"
   ]
  },
  {
   "cell_type": "markdown",
   "metadata": {},
   "source": [
    "### Kaggle 0.74641\n",
    "***"
   ]
  },
  {
   "cell_type": "code",
   "execution_count": 34,
   "metadata": {
    "collapsed": true
   },
   "outputs": [],
   "source": [
    "dict_names = {\n",
    "            \"Capt\":       \"Officer\",\n",
    "            \"Col\":        \"Officer\",\n",
    "            \"Major\":      \"Officer\",\n",
    "            \"Jonkheer\":   \"Royalty\",\n",
    "            \"Don\":        \"Royalty\",\n",
    "            \"Sir\" :       \"Royalty\",\n",
    "            \"Dr\":         \"Officer\",\n",
    "            \"Rev\":        \"Officer\",\n",
    "            \"the Countess\":\"Royalty\",\n",
    "            \"Dona\":       \"Royalty\",\n",
    "            \"Mme\":        \"Mrs\",\n",
    "            \"Mlle\":       \"Miss\",\n",
    "            \"Ms\":         \"Mrs\",\n",
    "            \"Mr\" :        \"Mr\",\n",
    "            \"Mrs\" :       \"Mrs\",\n",
    "            \"Miss\" :      \"Miss\",\n",
    "            \"Master\" :    \"Master\",\n",
    "            \"Lady\" :      \"Royalty\"\n",
    "\n",
    "            }"
   ]
  },
  {
   "cell_type": "code",
   "execution_count": 35,
   "metadata": {
    "collapsed": true
   },
   "outputs": [],
   "source": [
    "#list_names = set([v for v in dict_names.values()])\n",
    "#list_names = train.Name.apply(lambda s: s.split(\". \")[0].split(\", \")[1]  ).unique()\n",
    "\n",
    "#dict_names = {v:k for k,v in enumerate(list_names)}"
   ]
  },
  {
   "cell_type": "code",
   "execution_count": 36,
   "metadata": {
    "scrolled": false
   },
   "outputs": [],
   "source": [
    "def preprocess_3(df):\n",
    "    X = df[['Pclass','Sex','Age']].copy()\n",
    "\n",
    "    # feature engineering\n",
    "    X.Sex = X.Sex.map({'female':1, 'male':0})\n",
    "    \n",
    "    X['Family'] = (df.SibSp*df.Parch)/(df.SibSp + df.Parch + 0.0001)\n",
    "    X['SibSp'] = df.SibSp\n",
    "    X['Parch'] = df.Parch\n",
    "    \n",
    "    X['Name'] = train.Name.apply(lambda s: s.split(\". \")[0].split(\", \")[1])\n",
    "    X.Name = X.Name.map(dict_names)\n",
    "    \n",
    "    grouped_name = X.groupby(by=['Sex','Pclass','Name']).Age.median()\n",
    "\n",
    "    #X['Age'] = np.where(X.Age.isnull(), grouped_name[X.Sex,X.Pclass,X.Name], X.Age)\n",
    "    X.Age = X.apply(lambda r: grouped_name[r.Sex, r.Pclass, r.Name] if np.isnan(r.Age) else r.Age, axis=1)\n",
    "    \n",
    "    #Just in case there is no median() por Sex-Pclass-Name\n",
    "    if(X.Age.isnull().any()):\n",
    "        grouped_name_2 = X.groupby(by=['Sex','Pclass']).Age.median()\n",
    "        X.Age = X.apply(lambda r: grouped_name_2[r.Sex, r.Pclass] if np.isnan(r.Age) else r.Age, axis=1)\n",
    "    \n",
    "    ## Select median() of fare from <Pclass + Name>\n",
    "    grouped_pclass_fare = df.groupby(by='Pclass').Fare.median()\n",
    "    X['Fare'] = np.where(df.Fare.isnull(), grouped_pclass_fare[df.Pclass], df.Fare)\n",
    "    \n",
    "    #return X[['Pclass','Sex','Age','SibSp','Parch','Family','Fare']]\n",
    "    return pd.get_dummies(X)\n"
   ]
  },
  {
   "cell_type": "code",
   "execution_count": 37,
   "metadata": {},
   "outputs": [
    {
     "name": "stdout",
     "output_type": "stream",
     "text": [
      "Train scores: 0.970\n",
      "Test scores: 0.810\n",
      "Accuracy: 0.821\n",
      "AUC:0.869\n",
      "              precision    recall  f1-score   support\n",
      "\n",
      "Not Survived       0.84      0.88      0.86       139\n",
      "    Survived       0.78      0.73      0.75        84\n",
      "\n",
      " avg / total       0.82      0.82      0.82       223\n",
      "\n"
     ]
    }
   ],
   "source": [
    "X_train = preprocess_3(train)\n",
    "\n",
    "rfc = check_model(X_train, y_train)\n",
    "\n",
    "#rfc = grid_search(X_train, y_train, test_size=0.1)\n",
    "X_test = preprocess_3(test)\n",
    "save_to_file(rfc, X_test)"
   ]
  },
  {
   "cell_type": "code",
   "execution_count": 38,
   "metadata": {},
   "outputs": [],
   "source": [
    "#plot_matrix(X_train[['Pclass','Sex','Age','SibSp','Parch','Family','Fare']], y_train)"
   ]
  },
  {
   "cell_type": "markdown",
   "metadata": {},
   "source": [
    "***"
   ]
  },
  {
   "cell_type": "code",
   "execution_count": 39,
   "metadata": {
    "collapsed": true
   },
   "outputs": [],
   "source": [
    "def preprocess_4(df):\n",
    "    #X = df[['Pclass','Age','SibSp','Parch','Fare','Sex', 'Embarked']]\n",
    "    X = df[['Pclass','Sex']].copy()\n",
    "\n",
    "    # feature engineering\n",
    "    X.Sex = X.Sex.map({'female':1, 'male':0})\n",
    "    X['Embarked'] = df.Embarked.fillna('U')\n",
    "    X.Embarked = X.Embarked.map({'S':0,'C':1,'Q':2,'U':3})\n",
    "    \n",
    "    X['Family'] = (df.SibSp*df.Parch)/(df.SibSp + df.Parch + 0.0001)\n",
    "    \n",
    "    X['Age'] = df.Age.fillna(df.Age.median())\n",
    "    group_pclass_fare = df.groupby(by='Pclass').Fare.median()\n",
    "    X['Fare'] = np.where(df.Fare.isnull(), group_pclass_fare[df.Pclass], df.Fare)\n",
    "    \n",
    "    #X['Deck'] = df.Cabin.str[0]\n",
    "    #X.loc[X.Deck.isnull(), 'Deck'] = 'NaN'\n",
    "    #X['Room'] = \n",
    "    #print(df[~df.Cabin.isnull()].Cabin.str.split())\n",
    "    #X.Deck = X.Deck.map({'NaN':0, 'F':1, 'E':2, 'C':3, 'D':4, 'B':5, 'G':6, 'A':7, 'T':8})\n",
    "    \n",
    "    return X"
   ]
  },
  {
   "cell_type": "code",
   "execution_count": 44,
   "metadata": {},
   "outputs": [
    {
     "name": "stdout",
     "output_type": "stream",
     "text": [
      "Train scores: 0.966\n",
      "Test scores: 0.797\n",
      "Accuracy: 0.843\n",
      "AUC:0.899\n",
      "              precision    recall  f1-score   support\n",
      "\n",
      "Not Survived       0.87      0.88      0.88       139\n",
      "    Survived       0.80      0.77      0.79        84\n",
      "\n",
      " avg / total       0.84      0.84      0.84       223\n",
      "\n"
     ]
    }
   ],
   "source": [
    "X_train = preprocess_4(train)\n",
    "\n",
    "rfc = check_model(X_train, y_train)"
   ]
  },
  {
   "cell_type": "code",
   "execution_count": 46,
   "metadata": {},
   "outputs": [
    {
     "name": "stdout",
     "output_type": "stream",
     "text": [
      "Accuracy: 0.844\n",
      "AUC:0.917\n",
      "Best params: {'class_weight': {1: 2}, 'max_features': 3, 'n_estimators': 10, 'max_depth': 6}\n",
      "\n",
      "              precision    recall  f1-score   support\n",
      "\n",
      "Not Survived       0.85      0.88      0.87        51\n",
      "    Survived       0.84      0.79      0.82        39\n",
      "\n",
      " avg / total       0.84      0.84      0.84        90\n",
      "\n"
     ]
    }
   ],
   "source": [
    "rfc = grid_search(X_train, y_train, test_size=0.1)\n",
    "X_test = preprocess_4(test)\n",
    "save_to_file(rfc, X_test)"
   ]
  },
  {
   "cell_type": "markdown",
   "metadata": {},
   "source": [
    "### Kaggle 0.75598 with grid_search 0.76076 "
   ]
  },
  {
   "cell_type": "code",
   "execution_count": 42,
   "metadata": {
    "collapsed": true
   },
   "outputs": [],
   "source": [
    "def preprocess_5(df):\n",
    "    #X = df[['Pclass','Age','SibSp','Parch','Fare','Sex', 'Embarked']]\n",
    "    X = df[['Pclass','Sex']].copy()\n",
    "\n",
    "    # feature engineering\n",
    "    X.Sex = X.Sex.map({'female':1, 'male':0})\n",
    "    X['Embarked'] = df.Embarked.fillna('U')\n",
    "    X.Embarked = X.Embarked.map({'S':0,'C':1,'Q':2,'U':3})\n",
    "    \n",
    "    X['Family'] = (df.SibSp*df.Parch)/(df.SibSp + df.Parch + 0.0001)\n",
    "    \n",
    "    X['Age'] = df.Age.fillna(df.Age.median())\n",
    "    group_pclass_fare = df.groupby(by='Pclass').Fare.median()\n",
    "    X['Fare'] = np.where(df.Fare.isnull(), group_pclass_fare[df.Pclass], df.Fare)\n",
    "    \n",
    "    X['Deck'] = df.Cabin.str[0]\n",
    "    X.loc[X.Deck.isnull(), 'Deck'] = 'NaN'\n",
    "    #print(df[~df.Cabin.isnull()].Cabin.str.split())\n",
    "    X.Deck = X.Deck.map({'NaN':0, 'F':1, 'E':2, 'C':3, 'D':4, 'B':5, 'G':6, 'A':7, 'T':8})\n",
    "    \n",
    "    X['Room'] = train[~train.Cabin.isnull()].Cabin.str.split().str.get(0)\n",
    "    X.Room = X.Room.str[1:].fillna(0)\n",
    "    X.Room = X.Room.str[1:]\n",
    "    X.loc[X.Room.isnull(), 'Room'] = 0\n",
    "    X.Room = pd.to_numeric(X.Room)\n",
    "    \n",
    "    return X\n"
   ]
  },
  {
   "cell_type": "code",
   "execution_count": null,
   "metadata": {
    "collapsed": true
   },
   "outputs": [],
   "source": []
  },
  {
   "cell_type": "code",
   "execution_count": null,
   "metadata": {},
   "outputs": [],
   "source": []
  }
 ],
 "metadata": {
  "kernelspec": {
   "display_name": "Python 3",
   "language": "python",
   "name": "python3"
  },
  "language_info": {
   "codemirror_mode": {
    "name": "ipython",
    "version": 3
   },
   "file_extension": ".py",
   "mimetype": "text/x-python",
   "name": "python",
   "nbconvert_exporter": "python",
   "pygments_lexer": "ipython3",
   "version": "3.5.3"
  }
 },
 "nbformat": 4,
 "nbformat_minor": 2
}
