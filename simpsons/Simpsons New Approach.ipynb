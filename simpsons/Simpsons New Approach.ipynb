{
 "cells": [
  {
   "cell_type": "code",
   "execution_count": 1,
   "metadata": {
    "collapsed": true
   },
   "outputs": [],
   "source": [
    "#Import libraries\n",
    "import os\n",
    "import random\n",
    "import pandas as pd\n",
    "import matplotlib.pyplot as plt\n",
    "from scipy.misc import imread, imresize"
   ]
  },
  {
   "cell_type": "code",
   "execution_count": 2,
   "metadata": {},
   "outputs": [
    {
     "name": "stdout",
     "output_type": "stream",
     "text": [
      "    Unnamed: 0                      name  total  train  test  bounding_box\n",
      "0            0             Homer Simpson   2246   1909   337           612\n",
      "1            1              Ned Flanders   1454   1236   218           595\n",
      "2            2               Moe Szyslak   1452   1234   218           215\n",
      "3            3              Lisa Simpson   1354   1151   203           562\n",
      "4            4              Bart Simpson   1342   1141   201           554\n",
      "5            5             Marge Simpson   1291   1097   194           557\n",
      "6            6          Krusty The Clown   1206   1025   181           226\n",
      "7            7         Principal Skinner   1194   1015   179           506\n",
      "8            8  Charles Montgomery Burns   1193   1014   179           650\n",
      "9            9       Milhouse Van Houten   1079    917   162           210\n",
      "10          10              Chief Wiggum    986    838   148           209\n",
      "11          11    Abraham Grampa Simpson    913    776   137           595\n",
      "12          12              Sideshow Bob    877    745   132           203\n",
      "13          13    Apu Nahasapeemapetilon    623    530    93           206\n",
      "14          14             Kent Brockman    498    423    75           213\n",
      "15          15            Comic Book Guy    469    399    70           208\n",
      "16          16            Edna Krabappel    457    388    69           212\n",
      "17          17              Nelson Muntz    358    304    54           219\n",
      "18          18             Lenny Leonard    310    264    46             0\n",
      "19          19              Mayor Quimby    246    209    37             0\n",
      "20          20           Waylon Smithers    181    154    27             0\n",
      "21          21            Maggie Simpson    128    109    19             0\n",
      "22          22      Groundskeeper Willie    121    103    18             0\n",
      "23          23             Barney Gumble    106     90    16             0\n",
      "24          24             Selma Bouvier    103     88    15             0\n",
      "25          25              Carl Carlson     98     83    15             0\n",
      "26          26              Ralph Wiggum     89     76    13             0\n",
      "27          27             Patty Bouvier     72     61    11             0\n",
      "28          28             Martin Prince     71     60    11             0\n",
      "29          29      Professor John Frink     65     55    10             0\n",
      "30          30            Snake Jailbird     55     47     8             0\n",
      "31          31           Cletus Spuckler     47     40     7             0\n",
      "32          32        Rainier Wolfcastle     45     38     7             0\n",
      "33          33             Agnes Skinner     42     36     6             0\n",
      "34          34              Sideshow Mel     40     34     6             0\n",
      "35          35                 Otto Mann     32     27     5             0\n",
      "36          36                  Fat Tony     27     23     4             0\n",
      "37          37                       Gil     27     23     4             0\n",
      "38          38               Miss Hoover     17     14     3             0\n",
      "39          39                 Disco Stu      8      7     1             0\n",
      "40          40              Troy Mcclure      8      7     1             0\n",
      "41          41               Lionel Hutz      3      3     0             0\n",
      "42          42               Jimbo Jones      0      0     0             0\n",
      "43          43             Bumblebee Man      0      0     0             0\n",
      "44          44              Hans Moleman      0      0     0             0\n",
      "45          45             Helen Lovejoy      0      0     0             0\n",
      "46          46            Jasper Beardly      0      0     0             0\n"
     ]
    }
   ],
   "source": [
    "#Initial data inside simpsons.tar.gz\n",
    "info = pd.read_csv('./the-simpsons-characters-dataset/number_pic_char.csv')\n",
    "print(info)"
   ]
  },
  {
   "cell_type": "code",
   "execution_count": 3,
   "metadata": {},
   "outputs": [
    {
     "name": "stdout",
     "output_type": "stream",
     "text": [
      "Train: ['maggie_simpson', 'charles_montgomery_burns', 'patty_bouvier', 'ralph_wiggum', 'chief_wiggum']\n",
      "Test: ['principal_skinner_34.jpg', 'apu_nahasapeemapetilon_28.jpg', 'abraham_grampa_simpson_41.jpg', 'principal_skinner_20.jpg', 'apu_nahasapeemapetilon_14.jpg']\n"
     ]
    }
   ],
   "source": [
    "#configure train dataset\n",
    "train_root_path = \"./the-simpsons-characters-dataset/simpsons_dataset\"\n",
    "character_directories = os.listdir(train_root_path)\n",
    "if '.DS_Store' in character_directories: character_directories.remove('.DS_Store')\n",
    "print(\"Train: {}\".format(character_directories[:5]))\n",
    "\n",
    "#configure test dataset\n",
    "test_root_path = \"./the-simpsons-characters-dataset/kaggle_simpson_testset\"\n",
    "test_image_names = os.listdir(test_root_path)\n",
    "if '.DS_Store' in test_image_names: test_image_names.remove('.DS_Store')\n",
    "print(\"Test: {}\".format(test_image_names[:5]))\n"
   ]
  },
  {
   "cell_type": "markdown",
   "metadata": {},
   "source": [
    "### Showing a single test sample"
   ]
  },
  {
   "cell_type": "code",
   "execution_count": 4,
   "metadata": {},
   "outputs": [
    {
     "name": "stdout",
     "output_type": "stream",
     "text": [
      "Label:ned_flanders, Image:754, Shape:(90, 58, 3)\n"
     ]
    },
    {
     "data": {
      "image/png": "[encoded data removed]",
      "text/plain": [
       "<matplotlib.figure.Figure at 0x10796c6a0>"
      ]
     },
     "metadata": {},
     "output_type": "display_data"
    }
   ],
   "source": [
    "idx = random.randint(0, len(test_image_names))\n",
    "sample_file, sample_name = test_image_names[idx], test_image_names[idx].split('_')[:-1]\n",
    "path_file = os.path.join(test_root_path, sample_file)\n",
    "sample_image = imread(path_file)\n",
    "\n",
    "print(\"Label:{}, Image:{}, Shape:{}\".format('_'.join(sample_name), idx, sample_image.shape))\n",
    "plt.imshow(sample_image)\n",
    "plt.axis('off')\n",
    "plt.show()"
   ]
  }
 ],
 "metadata": {
  "kernelspec": {
   "display_name": "Python 3",
   "language": "python",
   "name": "python3"
  },
  "language_info": {
   "codemirror_mode": {
    "name": "ipython",
    "version": 3
   },
   "file_extension": ".py",
   "mimetype": "text/x-python",
   "name": "python",
   "nbconvert_exporter": "python",
   "pygments_lexer": "ipython3",
   "version": "3.5.3"
  }
 },
 "nbformat": 4,
 "nbformat_minor": 2
}
