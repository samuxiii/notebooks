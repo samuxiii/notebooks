{
 "cells": [
  {
   "cell_type": "markdown",
   "metadata": {},
   "source": [
    "# Simpsons Classifier\n",
    "\n",
    "\n",
    "## Images with different sizes: understanding _Spatial Pyramid Pooling_\n",
    "\n",
    "If the neural network has a fixed size as input images we'll have to deal with it. \n",
    "\n",
    "So the possible solutions will be:\n",
    "\n",
    "* Crop: problem, there is information that gets lost.\n",
    "* Warp/Resize: problem, the image patterns change and we lose accuracy.\n",
    "* Padding: problem, the model might be biased to images that contain such a padded border.\n",
    "* Combination of previous.\n",
    "\n",
    "Spatial Pyramid Pooling tries to resolve it. Indeed it should improve the efficiency.\n",
    "\n",
    "Paper: https://arxiv.org/abs/1406.4729"
   ]
  },
  {
   "cell_type": "markdown",
   "metadata": {},
   "source": [
    "## Defining Datasets"
   ]
  },
  {
   "cell_type": "code",
   "execution_count": 1,
   "metadata": {
    "collapsed": true
   },
   "outputs": [],
   "source": [
    "#Import libraries\n",
    "import os\n",
    "import random\n",
    "import pandas as pd\n",
    "import matplotlib.pyplot as plt\n",
    "from scipy.misc import imread, imresize\n",
    "from random import shuffle"
   ]
  },
  {
   "cell_type": "code",
   "execution_count": 2,
   "metadata": {},
   "outputs": [
    {
     "name": "stdout",
     "output_type": "stream",
     "text": [
      "    Unnamed: 0                      name  total  train  test  bounding_box\n",
      "0            0             Homer Simpson   2246   1909   337           612\n",
      "1            1              Ned Flanders   1454   1236   218           595\n",
      "2            2               Moe Szyslak   1452   1234   218           215\n",
      "3            3              Lisa Simpson   1354   1151   203           562\n",
      "4            4              Bart Simpson   1342   1141   201           554\n",
      "5            5             Marge Simpson   1291   1097   194           557\n",
      "6            6          Krusty The Clown   1206   1025   181           226\n",
      "7            7         Principal Skinner   1194   1015   179           506\n",
      "8            8  Charles Montgomery Burns   1193   1014   179           650\n",
      "9            9       Milhouse Van Houten   1079    917   162           210\n",
      "10          10              Chief Wiggum    986    838   148           209\n",
      "11          11    Abraham Grampa Simpson    913    776   137           595\n",
      "12          12              Sideshow Bob    877    745   132           203\n",
      "13          13    Apu Nahasapeemapetilon    623    530    93           206\n",
      "14          14             Kent Brockman    498    423    75           213\n",
      "15          15            Comic Book Guy    469    399    70           208\n",
      "16          16            Edna Krabappel    457    388    69           212\n",
      "17          17              Nelson Muntz    358    304    54           219\n",
      "18          18             Lenny Leonard    310    264    46             0\n",
      "19          19              Mayor Quimby    246    209    37             0\n",
      "20          20           Waylon Smithers    181    154    27             0\n",
      "21          21            Maggie Simpson    128    109    19             0\n",
      "22          22      Groundskeeper Willie    121    103    18             0\n",
      "23          23             Barney Gumble    106     90    16             0\n",
      "24          24             Selma Bouvier    103     88    15             0\n",
      "25          25              Carl Carlson     98     83    15             0\n",
      "26          26              Ralph Wiggum     89     76    13             0\n",
      "27          27             Patty Bouvier     72     61    11             0\n",
      "28          28             Martin Prince     71     60    11             0\n",
      "29          29      Professor John Frink     65     55    10             0\n",
      "30          30            Snake Jailbird     55     47     8             0\n",
      "31          31           Cletus Spuckler     47     40     7             0\n",
      "32          32        Rainier Wolfcastle     45     38     7             0\n",
      "33          33             Agnes Skinner     42     36     6             0\n",
      "34          34              Sideshow Mel     40     34     6             0\n",
      "35          35                 Otto Mann     32     27     5             0\n",
      "36          36                  Fat Tony     27     23     4             0\n",
      "37          37                       Gil     27     23     4             0\n",
      "38          38               Miss Hoover     17     14     3             0\n",
      "39          39                 Disco Stu      8      7     1             0\n",
      "40          40              Troy Mcclure      8      7     1             0\n",
      "41          41               Lionel Hutz      3      3     0             0\n",
      "42          42               Jimbo Jones      0      0     0             0\n",
      "43          43             Bumblebee Man      0      0     0             0\n",
      "44          44              Hans Moleman      0      0     0             0\n",
      "45          45             Helen Lovejoy      0      0     0             0\n",
      "46          46            Jasper Beardly      0      0     0             0\n"
     ]
    }
   ],
   "source": [
    "#Initial data inside simpsons.tar.gz\n",
    "info = pd.read_csv('./the-simpsons-characters-dataset-MEDIUM/number_pic_char.csv')\n",
    "print(info)"
   ]
  },
  {
   "cell_type": "code",
   "execution_count": 3,
   "metadata": {
    "collapsed": true
   },
   "outputs": [],
   "source": [
    "def get_character_directories(path):\n",
    "    character_directories = os.listdir(path)\n",
    "    if '.DS_Store' in character_directories: character_directories.remove('.DS_Store')\n",
    "    return character_directories\n",
    "\n",
    "def get_images_from_directory(path):\n",
    "    image_files = os.listdir(path)\n",
    "    if '.DS_Store' in image_files: image_files.remove('.DS_Store')\n",
    "    return image_files"
   ]
  },
  {
   "cell_type": "code",
   "execution_count": 4,
   "metadata": {
    "collapsed": true
   },
   "outputs": [],
   "source": [
    "#root pats\n",
    "train_root_path = \"./the-simpsons-characters-dataset-MEDIUM/simpsons_dataset\"\n",
    "test_root_path = \"./the-simpsons-characters-dataset-MEDIUM/kaggle_simpson_testset\"\n",
    "\n",
    "#train directories\n",
    "character_directories = get_character_directories(train_root_path)"
   ]
  },
  {
   "cell_type": "code",
   "execution_count": 5,
   "metadata": {},
   "outputs": [
    {
     "name": "stdout",
     "output_type": "stream",
     "text": [
      "Train: ['maggie_simpson', 'charles_montgomery_burns', 'patty_bouvier', 'ralph_wiggum', 'chief_wiggum']\n",
      "Images of charles_montgomery_burns: ['pic_0982.jpg', 'pic_0028.jpg', 'pic_0996.jpg', 'pic_0766.jpg', 'pic_0000.jpg']\n",
      "\n",
      "Test: ['principal_skinner_34.jpg', 'apu_nahasapeemapetilon_28.jpg', 'abraham_grampa_simpson_41.jpg', 'principal_skinner_20.jpg', 'apu_nahasapeemapetilon_14.jpg']\n"
     ]
    }
   ],
   "source": [
    "def test_paths():\n",
    "    #configure train dataset\n",
    "    print(\"Train: {}\".format(character_directories[:5]))\n",
    "\n",
    "    #images from one train directory\n",
    "    character_path = train_root_path + \"/\" + character_directories[1]\n",
    "    train_image_names = get_images_from_directory(character_path)\n",
    "    print(\"Images of {}: {}\".format(character_directories[1], train_image_names[:5]))\n",
    "\n",
    "\n",
    "    #configure test dataset\n",
    "    test_image_names = get_images_from_directory(test_root_path)\n",
    "    print(\"\\nTest: {}\".format(test_image_names[:5]))\n",
    "\n",
    "test_paths()"
   ]
  },
  {
   "cell_type": "markdown",
   "metadata": {},
   "source": [
    "### Showing Training and Test Samples"
   ]
  },
  {
   "cell_type": "code",
   "execution_count": 6,
   "metadata": {
    "collapsed": true
   },
   "outputs": [],
   "source": [
    "def plot_image(image):\n",
    "    plt.figure(figsize=(2, 2))\n",
    "    plt.imshow(image)\n",
    "    plt.axis('off')\n",
    "    plt.show()"
   ]
  },
  {
   "cell_type": "code",
   "execution_count": 7,
   "metadata": {},
   "outputs": [
    {
     "name": "stdout",
     "output_type": "stream",
     "text": [
      "Label:sideshow_bob, Image:10, Shape:(416, 288, 3)\n"
     ]
    },
    {
     "data": {
      "image/png": "[encoded data removed]",
      "text/plain": [
       "<matplotlib.figure.Figure at 0x11327dbe0>"
      ]
     },
     "metadata": {},
     "output_type": "display_data"
    }
   ],
   "source": [
    "def show_train_image(character_directory, idx):\n",
    "    directory = os.path.join(train_root_path, character_directory)\n",
    "    sample_file = get_images_from_directory(directory)[idx]\n",
    "    path_file = os.path.join(directory, sample_file)\n",
    "    sample_image = imread(path_file)\n",
    "\n",
    "    print(\"Label:{}, Image:{}, Shape:{}\".format(character_directory, idx, sample_image.shape))\n",
    "    plot_image(sample_image)\n",
    "    \n",
    "idx = random.randint(0, 10)\n",
    "show_train_image(character_directories[idx], idx)"
   ]
  },
  {
   "cell_type": "code",
   "execution_count": 8,
   "metadata": {},
   "outputs": [
    {
     "name": "stdout",
     "output_type": "stream",
     "text": [
      "Label:principal_skinner, Image:3, Shape:(149, 206, 3)\n"
     ]
    },
    {
     "data": {
      "image/png": "[encoded data removed]",
      "text/plain": [
       "<matplotlib.figure.Figure at 0x1131dac18>"
      ]
     },
     "metadata": {},
     "output_type": "display_data"
    }
   ],
   "source": [
    "def show_test_image(idx):\n",
    "    test_image_names = get_images_from_directory(test_root_path)\n",
    "    sample_file, sample_name = test_image_names[idx], test_image_names[idx].split('_')[:-1]\n",
    "    path_file = os.path.join(test_root_path, sample_file)\n",
    "    sample_image = imread(path_file)\n",
    "\n",
    "    print(\"Label:{}, Image:{}, Shape:{}\".format('_'.join(sample_name), idx, sample_image.shape))\n",
    "    plot_image(sample_image)\n",
    "\n",
    "idx = random.randint(0, 10)\n",
    "show_test_image(idx)"
   ]
  },
  {
   "cell_type": "markdown",
   "metadata": {},
   "source": [
    "### Training Images"
   ]
  },
  {
   "cell_type": "code",
   "execution_count": 9,
   "metadata": {
    "collapsed": true
   },
   "outputs": [],
   "source": [
    "'''\n",
    "input 'different_characters' will define the number of different Simpson\n",
    "characters the generator is going to return\n",
    "'''\n",
    "#Create the batch generator\n",
    "def batch_generator_training_images(batch_size, different_characters, verbose=False):\n",
    "    #Obtain the characters Serie with the most number of images\n",
    "    characters = info.sort_values(by='total', ascending=False).name\n",
    "\n",
    "    #transform to list with the following format:  Homer Simpson -> homer_simpson\n",
    "    characters = characters.map(lambda x: x.replace(\" \", \"_\").lower()).tolist()\n",
    "\n",
    "    path_name_list = list()\n",
    "    for i in range(0, different_characters):\n",
    "        directory = os.path.join(train_root_path, characters[i])\n",
    "        path_name_list += list(map( lambda x: (os.path.join(directory, x), characters[i]), \n",
    "                                    get_images_from_directory(directory)))\n",
    "\n",
    "    #shuffle all the images\n",
    "    shuffle(path_name_list)\n",
    "    \n",
    "    #getting a number of complete chunks according to the batch size\n",
    "    number_complete_chunks = len(path_name_list)//batch_size\n",
    "    num_images_in_all_chunks = number_complete_chunks * batch_size\n",
    "        \n",
    "    for b in range(0, num_images_in_all_chunks, batch_size):\n",
    "        if verbose:\n",
    "            print(\"init: {}, end:{}\".format(b, b+batch_size))\n",
    "            \n",
    "        #transform the path to image to image array\n",
    "        #yield list(map( lambda x: (imread(x[0]), x[1]), \n",
    "        #                path_name_list[b:b + batch_size]))\n",
    "        \n",
    "        yield (list(map( lambda x: imread(x[0]), path_name_list[b:b + batch_size])), \n",
    "               list(map( lambda x: x[1], path_name_list[b:b + batch_size])) )\n"
   ]
  },
  {
   "cell_type": "code",
   "execution_count": 10,
   "metadata": {},
   "outputs": [
    {
     "name": "stdout",
     "output_type": "stream",
     "text": [
      "init: 0, end:32\n",
      "homer_simpson\n"
     ]
    },
    {
     "data": {
      "image/png": "[encoded data removed]",
      "text/plain": [
       "<matplotlib.figure.Figure at 0x110bdc978>"
      ]
     },
     "metadata": {},
     "output_type": "display_data"
    }
   ],
   "source": [
    "#testing how to show an image from generator\n",
    "def testing_generator_1():\n",
    "    for batch in batch_generator_training_images(32, 10, True):\n",
    "        for img, name in zip(*batch):\n",
    "            print(name)\n",
    "            plot_image(img)\n",
    "            break\n",
    "        pass\n",
    "        break\n",
    "        \n",
    "testing_generator_1()"
   ]
  },
  {
   "cell_type": "code",
   "execution_count": 11,
   "metadata": {},
   "outputs": [
    {
     "name": "stdout",
     "output_type": "stream",
     "text": [
      "init: 0, end:32\n",
      "shape(480, 640, 3) count:3\n",
      "shape(416, 288, 3) count:3\n",
      "shape(256, 340, 3) count:1\n",
      "shape(432, 288, 3) count:3\n",
      "shape(432, 576, 3) count:1\n",
      "shape(379, 256, 3) count:3\n",
      "shape(406, 360, 3) count:1\n",
      "shape(256, 284, 3) count:1\n",
      "shape(384, 256, 3) count:1\n",
      "shape(416, 576, 3) count:1\n",
      "shape(480, 320, 3) count:7\n",
      "shape(352, 312, 3) count:3\n",
      "shape(406, 720, 3) count:1\n",
      "shape(432, 272, 3) count:1\n",
      "shape(368, 496, 3) count:2\n"
     ]
    }
   ],
   "source": [
    "#testing the generator\n",
    "def testing_generator_2():\n",
    "    group = {}\n",
    "\n",
    "    for batch in batch_generator_training_images(32, 10, True):\n",
    "        for img, name in zip(*batch):\n",
    "            if not img.shape in group:\n",
    "                group[img.shape] = []\n",
    "            group[img.shape].append(img)\n",
    "        pass\n",
    "        break\n",
    "\n",
    "    for key, lists in group.items():\n",
    "        print(\"shape{} count:{}\".format(key, len(lists)))\n",
    "\n",
    "\n",
    "testing_generator_2()"
   ]
  },
  {
   "cell_type": "markdown",
   "metadata": {
    "collapsed": true
   },
   "source": [
    "## Keras + SPP Module\n",
    "\n",
    "Keras doesn't support currently the SSP layer but thanks to [yhenon](https://github.com/yhenon) there's a module which is integrated into keras. [Code is here](https://github.com/yhenon/keras-spp)"
   ]
  },
  {
   "cell_type": "code",
   "execution_count": 12,
   "metadata": {},
   "outputs": [
    {
     "name": "stderr",
     "output_type": "stream",
     "text": [
      "Using TensorFlow backend.\n"
     ]
    }
   ],
   "source": [
    "import numpy as np\n",
    "from keras.models import Sequential\n",
    "from keras.layers import Conv2D, Convolution2D, Activation, MaxPooling2D, Dense, Dropout\n",
    "from spp.SpatialPyramidPooling import SpatialPyramidPooling"
   ]
  },
  {
   "cell_type": "code",
   "execution_count": 13,
   "metadata": {},
   "outputs": [
    {
     "name": "stdout",
     "output_type": "stream",
     "text": [
      "_________________________________________________________________\n",
      "Layer (type)                 Output Shape              Param #   \n",
      "=================================================================\n",
      "conv2d_1 (Conv2D)            (None, None, None, 32)    896       \n",
      "_________________________________________________________________\n",
      "activation_1 (Activation)    (None, None, None, 32)    0         \n",
      "_________________________________________________________________\n",
      "conv2d_2 (Conv2D)            (None, None, None, 32)    9248      \n",
      "_________________________________________________________________\n",
      "activation_2 (Activation)    (None, None, None, 32)    0         \n",
      "_________________________________________________________________\n",
      "max_pooling2d_1 (MaxPooling2 (None, None, None, 32)    0         \n",
      "_________________________________________________________________\n",
      "conv2d_3 (Conv2D)            (None, None, None, 64)    18496     \n",
      "_________________________________________________________________\n",
      "activation_3 (Activation)    (None, None, None, 64)    0         \n",
      "_________________________________________________________________\n",
      "conv2d_4 (Conv2D)            (None, None, None, 64)    36928     \n",
      "_________________________________________________________________\n",
      "activation_4 (Activation)    (None, None, None, 64)    0         \n",
      "_________________________________________________________________\n",
      "spatial_pyramid_pooling_1 (S (None, 1344)              0         \n",
      "_________________________________________________________________\n",
      "dense_1 (Dense)              (None, 10)                13450     \n",
      "_________________________________________________________________\n",
      "activation_5 (Activation)    (None, 10)                0         \n",
      "=================================================================\n",
      "Total params: 79,018\n",
      "Trainable params: 79,018\n",
      "Non-trainable params: 0\n",
      "_________________________________________________________________\n"
     ]
    }
   ],
   "source": [
    "'''\n",
    "Build a model with a typical network architecture\n",
    "'''\n",
    "def build_model(num_channels = 3, num_classes = 10, filters = 32):\n",
    "    model = Sequential()\n",
    "\n",
    "    #Note: leave the image size as None to allow multiple image sizes\n",
    "    model.add(Conv2D(filters, (3, 3), padding='same', input_shape=(None, None, num_channels)))\n",
    "    model.add(Activation('relu'))\n",
    "\n",
    "    model.add(Conv2D(filters, (3, 3)))\n",
    "    model.add(Activation('relu'))\n",
    "    model.add(MaxPooling2D(pool_size=(2, 2)))\n",
    "\n",
    "    model.add(Conv2D(filters*2, (3, 3), padding='same'))\n",
    "    model.add(Activation('relu'))\n",
    "\n",
    "    model.add(Conv2D(filters*2, (3, 3)))\n",
    "    model.add(Activation('relu'))\n",
    "    model.add(SpatialPyramidPooling([1, 2, 4]))\n",
    "\n",
    "    model.add(Dense(num_classes))\n",
    "    model.add(Activation('softmax'))\n",
    "\n",
    "    model.compile(loss='categorical_crossentropy', optimizer='adam', metrics=['accuracy'])\n",
    "    \n",
    "    return model\n",
    "\n",
    "build_model().summary()"
   ]
  },
  {
   "cell_type": "code",
   "execution_count": 14,
   "metadata": {},
   "outputs": [
    {
     "name": "stdout",
     "output_type": "stream",
     "text": [
      "_________________________________________________________________\n",
      "Layer (type)                 Output Shape              Param #   \n",
      "=================================================================\n",
      "conv2d_5 (Conv2D)            (None, None, None, 32)    896       \n",
      "_________________________________________________________________\n",
      "activation_6 (Activation)    (None, None, None, 32)    0         \n",
      "_________________________________________________________________\n",
      "conv2d_6 (Conv2D)            (None, None, None, 32)    9248      \n",
      "_________________________________________________________________\n",
      "activation_7 (Activation)    (None, None, None, 32)    0         \n",
      "_________________________________________________________________\n",
      "max_pooling2d_2 (MaxPooling2 (None, None, None, 32)    0         \n",
      "_________________________________________________________________\n",
      "conv2d_7 (Conv2D)            (None, None, None, 64)    18496     \n",
      "_________________________________________________________________\n",
      "activation_8 (Activation)    (None, None, None, 64)    0         \n",
      "_________________________________________________________________\n",
      "conv2d_8 (Conv2D)            (None, None, None, 64)    36928     \n",
      "_________________________________________________________________\n",
      "activation_9 (Activation)    (None, None, None, 64)    0         \n",
      "_________________________________________________________________\n",
      "max_pooling2d_3 (MaxPooling2 (None, None, None, 64)    0         \n",
      "_________________________________________________________________\n",
      "spatial_pyramid_pooling_2 (S (None, 1344)              0         \n",
      "_________________________________________________________________\n",
      "dense_2 (Dense)              (None, 10)                13450     \n",
      "_________________________________________________________________\n",
      "activation_10 (Activation)   (None, 10)                0         \n",
      "=================================================================\n",
      "Total params: 79,018\n",
      "Trainable params: 79,018\n",
      "Non-trainable params: 0\n",
      "_________________________________________________________________\n"
     ]
    }
   ],
   "source": [
    "'''\n",
    "Build a model with a typical network architecture\n",
    "'''\n",
    "def build_model2(num_channels = 3, num_classes = 10):\n",
    "    model = Sequential()\n",
    "\n",
    "    #Note: leave the image size as None to allow multiple image sizes\n",
    "    model.add(Conv2D(32, (3, 3), padding='same', input_shape=(None, None, num_channels)))\n",
    "    model.add(Activation('relu'))\n",
    "    model.add(Conv2D(32, (3, 3)))\n",
    "    model.add(Activation('relu'))\n",
    "    model.add(MaxPooling2D(pool_size=(2, 2)))\n",
    "    #model.add(Dropout(0.25))\n",
    "    \n",
    "    model.add(Conv2D(64, (3, 3), padding='same'))\n",
    "    model.add(Activation('relu'))\n",
    "    model.add(Conv2D(64, (3, 3)))\n",
    "    model.add(Activation('relu'))\n",
    "    model.add(MaxPooling2D(pool_size=(2, 2)))\n",
    "\n",
    "    model.add(SpatialPyramidPooling([1, 2, 4]))\n",
    "    #model.add(Dropout(0.25))\n",
    "\n",
    "    model.add(Dense(num_classes))\n",
    "    model.add(Activation('softmax'))\n",
    "\n",
    "    model.compile(loss='categorical_crossentropy', optimizer='adam', metrics=['accuracy'])\n",
    "    \n",
    "    return model\n",
    "\n",
    "build_model2().summary()"
   ]
  },
  {
   "cell_type": "code",
   "execution_count": 15,
   "metadata": {},
   "outputs": [
    {
     "name": "stdout",
     "output_type": "stream",
     "text": [
      "Epoch 1/1\n",
      "16/16 [==============================] - 1s 36ms/step - loss: 1.2106e-07 - acc: 0.5625\n",
      "Epoch 1/1\n",
      "16/16 [==============================] - 0s 3ms/step - loss: 1.1071e-07 - acc: 0.4375\n"
     ]
    }
   ],
   "source": [
    "#TESTING\n",
    "# train on images with different sizes\n",
    "def model_tried_out(num_channels, num_classes, batch_size):\n",
    "    model = build_model(num_channels, num_classes)\n",
    "    #size 1\n",
    "    model.fit(np.random.rand(batch_size, 8, 9, num_channels), \n",
    "              np.random.rand(batch_size, num_classes),\n",
    "              epochs=1)\n",
    "    #size 2\n",
    "    model.fit(np.random.rand(batch_size, 20, 13, num_channels), \n",
    "              np.random.rand(batch_size, num_classes),\n",
    "              epochs=1)\n",
    "    \n",
    "model_tried_out(2, 2, 16)"
   ]
  },
  {
   "cell_type": "code",
   "execution_count": 16,
   "metadata": {
    "collapsed": true
   },
   "outputs": [],
   "source": [
    "#global variables\n",
    "batch_size = 256\n",
    "num_channels = 3\n",
    "num_classes = 10 #different number of Simpons characters"
   ]
  },
  {
   "cell_type": "code",
   "execution_count": null,
   "metadata": {
    "collapsed": true
   },
   "outputs": [],
   "source": [
    "#one hot encoder (proof of concept)\n",
    "from sklearn import preprocessing\n",
    "lb = preprocessing.LabelBinarizer()\n",
    "\n",
    "def customize_onehot_encoder(num_classes):\n",
    "    #Obtain the characters Serie with the most number of images\n",
    "    characters = info.sort_values(by='total', ascending=False).name\n",
    "\n",
    "    #transform to list with the following format:  Homer Simpson -> homer_simpson\n",
    "    names = characters[:num_classes].map(lambda x: x.replace(\" \", \"_\").lower()).tolist()\n",
    "\n",
    "    print(\"Character classes: {}\".format(names))\n",
    "    lb.fit(names)\n"
   ]
  },
  {
   "cell_type": "code",
   "execution_count": null,
   "metadata": {},
   "outputs": [
    {
     "name": "stdout",
     "output_type": "stream",
     "text": [
      "Character classes: ['homer_simpson', 'ned_flanders', 'moe_szyslak', 'lisa_simpson', 'bart_simpson', 'marge_simpson', 'krusty_the_clown', 'principal_skinner', 'charles_montgomery_burns', 'milhouse_van_houten']\n",
      "Training shape:(446, 256, 3) with 1\n",
      "Epoch 1/1\n",
      "1/1 [==============================] - 2s 2s/step - loss: 16.1181 - acc: 0.0000e+00\n",
      "Training shape:(257, 256, 3) with 1\n",
      "Epoch 1/1\n",
      "1/1 [==============================] - 1s 616ms/step - loss: 10.5307 - acc: 0.0000e+00\n",
      "Training shape:(256, 428, 3) with 1\n",
      "Epoch 1/1\n",
      "1/1 [==============================] - 1s 961ms/step - loss: 1.1921e-07 - acc: 1.0000\n",
      "Training shape:(480, 320, 3) with 47\n",
      "Epoch 1/1\n"
     ]
    }
   ],
   "source": [
    "def test1(verbose=False):\n",
    "    customize_onehot_encoder(num_classes)\n",
    "    \n",
    "    #for tiny images (ie: 64x64), build_model2\n",
    "    model = build_model2(num_channels, num_classes)\n",
    "    #model = build_model(num_channels, num_classes, filters=4)\n",
    "\n",
    "    cnt = 0\n",
    "    \n",
    "    '''\n",
    "    The batch generator returns a tuple of two lists!!! (list_images, list_names)\n",
    "    '''\n",
    "    for batch in batch_generator_training_images(batch_size, num_classes):\n",
    "                \n",
    "        #group by shape\n",
    "        grouped = {}\n",
    "        for image, name in zip(*batch):\n",
    "            if not image.shape in grouped:\n",
    "                grouped[image.shape] = []\n",
    "            grouped[image.shape].append((image, name))        \n",
    "        \n",
    "        #training images which are grouped by shape at the same time\n",
    "        for shape, tuple_imagesList_namesList in grouped.items():\n",
    "            imagesList, namesList = zip(*tuple_imagesList_namesList)\n",
    "            \n",
    "            #casting\n",
    "            images = np.array(imagesList)\n",
    "            #onehot encoding names\n",
    "            target_names = np.array(lb.transform(namesList))\n",
    "            \n",
    "            if verbose:\n",
    "                #print(\"Training shape:{} with {} images [{}]\".format(shape, len(images), namesList))\n",
    "                print(\"Training shape:{} with {}\".format(shape, len(images)))\n",
    "            #protect\n",
    "            if len(shape) == 3:\n",
    "                model.fit(images, target_names, epochs=1, verbose=verbose)\n",
    "        \n",
    "        #TO REMOVE\n",
    "        #if cnt >= 50:\n",
    "        #    break\n",
    "        #cnt+=1\n",
    "            \n",
    "    return model\n",
    "\n",
    "model1 = test1(True)"
   ]
  },
  {
   "cell_type": "code",
   "execution_count": 54,
   "metadata": {},
   "outputs": [
    {
     "name": "stdout",
     "output_type": "stream",
     "text": [
      "Label: chief_wiggum\n",
      "PREDICTION: bart_simpson\n"
     ]
    },
    {
     "data": {
      "image/png": "[encoded data removed]",
      "text/plain": [
       "<matplotlib.figure.Figure at 0x1384ea1d0>"
      ]
     },
     "metadata": {},
     "output_type": "display_data"
    }
   ],
   "source": [
    "def eyeball_test_model(model):\n",
    "    idx = random.randint(0, 100)\n",
    "    test_image_names = get_images_from_directory(test_root_path)\n",
    "    sample_file, sample_name = test_image_names[idx], test_image_names[idx].split('_')[:-1]\n",
    "    path_file = os.path.join(test_root_path, sample_file)\n",
    "    sample_image = imread(path_file)\n",
    "\n",
    "    print(\"Label: {}\".format('_'.join(sample_name)))\n",
    "    \n",
    "    #prediction\n",
    "    pred = model.predict(sample_image[np.newaxis, :])\n",
    "    print(\"PREDICTION: {}\".format(lb.inverse_transform(pred)[0]))\n",
    " \n",
    "    #showing the image\n",
    "    plot_image(sample_image)\n",
    "\n",
    "eyeball_test_model(model1)"
   ]
  }
 ],
 "metadata": {
  "kernelspec": {
   "display_name": "Python 3",
   "language": "python",
   "name": "python3"
  },
  "language_info": {
   "codemirror_mode": {
    "name": "ipython",
    "version": 3
   },
   "file_extension": ".py",
   "mimetype": "text/x-python",
   "name": "python",
   "nbconvert_exporter": "python",
   "pygments_lexer": "ipython3",
   "version": "3.5.3"
  }
 },
 "nbformat": 4,
 "nbformat_minor": 2
}
