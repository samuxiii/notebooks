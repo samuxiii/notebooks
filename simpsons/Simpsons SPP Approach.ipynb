{
 "cells": [
  {
   "cell_type": "markdown",
   "metadata": {},
   "source": [
    "# Simpsons Classifier\n",
    "\n",
    "\n",
    "## Images with different sizes: understanding _Spatial Pyramid Pooling_\n",
    "\n",
    "If the neural network has a fixed size as input images we'll have to deal with it. \n",
    "\n",
    "So the possible solutions will be:\n",
    "\n",
    "* Crop: problem, there is information that gets lost.\n",
    "* Warp/Resize: problem, the image patterns change and we lose accuracy.\n",
    "* Padding: problem, the model might be biased to images that contain such a padded border.\n",
    "* Combination of previous.\n",
    "\n",
    "Spatial Pyramid Pooling tries to resolve it. Indeed it should improve the efficiency.\n",
    "\n",
    "Paper: https://arxiv.org/abs/1406.4729"
   ]
  },
  {
   "cell_type": "markdown",
   "metadata": {},
   "source": [
    "## Defining Datasets"
   ]
  },
  {
   "cell_type": "code",
   "execution_count": 1,
   "metadata": {
    "collapsed": true
   },
   "outputs": [],
   "source": [
    "#Import libraries\n",
    "import os\n",
    "import random\n",
    "import pandas as pd\n",
    "import matplotlib.pyplot as plt\n",
    "from scipy.misc import imread, imresize\n",
    "from random import shuffle"
   ]
  },
  {
   "cell_type": "code",
   "execution_count": 2,
   "metadata": {},
   "outputs": [
    {
     "name": "stdout",
     "output_type": "stream",
     "text": [
      "    Unnamed: 0                      name  total  train  test  bounding_box\n",
      "0            0             Homer Simpson   2246   1909   337           612\n",
      "1            1              Ned Flanders   1454   1236   218           595\n",
      "2            2               Moe Szyslak   1452   1234   218           215\n",
      "3            3              Lisa Simpson   1354   1151   203           562\n",
      "4            4              Bart Simpson   1342   1141   201           554\n",
      "5            5             Marge Simpson   1291   1097   194           557\n",
      "6            6          Krusty The Clown   1206   1025   181           226\n",
      "7            7         Principal Skinner   1194   1015   179           506\n",
      "8            8  Charles Montgomery Burns   1193   1014   179           650\n",
      "9            9       Milhouse Van Houten   1079    917   162           210\n",
      "10          10              Chief Wiggum    986    838   148           209\n",
      "11          11    Abraham Grampa Simpson    913    776   137           595\n",
      "12          12              Sideshow Bob    877    745   132           203\n",
      "13          13    Apu Nahasapeemapetilon    623    530    93           206\n",
      "14          14             Kent Brockman    498    423    75           213\n",
      "15          15            Comic Book Guy    469    399    70           208\n",
      "16          16            Edna Krabappel    457    388    69           212\n",
      "17          17              Nelson Muntz    358    304    54           219\n",
      "18          18             Lenny Leonard    310    264    46             0\n",
      "19          19              Mayor Quimby    246    209    37             0\n",
      "20          20           Waylon Smithers    181    154    27             0\n",
      "21          21            Maggie Simpson    128    109    19             0\n",
      "22          22      Groundskeeper Willie    121    103    18             0\n",
      "23          23             Barney Gumble    106     90    16             0\n",
      "24          24             Selma Bouvier    103     88    15             0\n",
      "25          25              Carl Carlson     98     83    15             0\n",
      "26          26              Ralph Wiggum     89     76    13             0\n",
      "27          27             Patty Bouvier     72     61    11             0\n",
      "28          28             Martin Prince     71     60    11             0\n",
      "29          29      Professor John Frink     65     55    10             0\n",
      "30          30            Snake Jailbird     55     47     8             0\n",
      "31          31           Cletus Spuckler     47     40     7             0\n",
      "32          32        Rainier Wolfcastle     45     38     7             0\n",
      "33          33             Agnes Skinner     42     36     6             0\n",
      "34          34              Sideshow Mel     40     34     6             0\n",
      "35          35                 Otto Mann     32     27     5             0\n",
      "36          36                  Fat Tony     27     23     4             0\n",
      "37          37                       Gil     27     23     4             0\n",
      "38          38               Miss Hoover     17     14     3             0\n",
      "39          39                 Disco Stu      8      7     1             0\n",
      "40          40              Troy Mcclure      8      7     1             0\n",
      "41          41               Lionel Hutz      3      3     0             0\n",
      "42          42               Jimbo Jones      0      0     0             0\n",
      "43          43             Bumblebee Man      0      0     0             0\n",
      "44          44              Hans Moleman      0      0     0             0\n",
      "45          45             Helen Lovejoy      0      0     0             0\n",
      "46          46            Jasper Beardly      0      0     0             0\n"
     ]
    }
   ],
   "source": [
    "#Initial data inside simpsons.tar.gz\n",
    "info = pd.read_csv('./the-simpsons-characters-dataset/number_pic_char.csv')\n",
    "print(info)"
   ]
  },
  {
   "cell_type": "code",
   "execution_count": 3,
   "metadata": {
    "collapsed": true
   },
   "outputs": [],
   "source": [
    "def get_character_directories(path):\n",
    "    character_directories = os.listdir(path)\n",
    "    if '.DS_Store' in character_directories: character_directories.remove('.DS_Store')\n",
    "    return character_directories\n",
    "\n",
    "def get_images_from_directory(path):\n",
    "    image_files = os.listdir(path)\n",
    "    if '.DS_Store' in image_files: image_files.remove('.DS_Store')\n",
    "    return image_files"
   ]
  },
  {
   "cell_type": "code",
   "execution_count": 4,
   "metadata": {},
   "outputs": [],
   "source": [
    "#root pats\n",
    "train_root_path = \"./the-simpsons-characters-dataset/simpsons_dataset\"\n",
    "test_root_path = \"./the-simpsons-characters-dataset/kaggle_simpson_testset\"\n",
    "\n",
    "#train directories\n",
    "character_directories = get_character_directories(train_root_path)"
   ]
  },
  {
   "cell_type": "code",
   "execution_count": 5,
   "metadata": {},
   "outputs": [
    {
     "name": "stdout",
     "output_type": "stream",
     "text": [
      "Train: ['maggie_simpson', 'charles_montgomery_burns', 'patty_bouvier', 'ralph_wiggum', 'chief_wiggum']\n",
      "Images of charles_montgomery_burns: ['pic_0982.jpg', 'pic_0028.jpg', 'pic_0996.jpg', 'pic_0766.jpg', 'pic_0000.jpg']\n",
      "\n",
      "Test: ['principal_skinner_34.jpg', 'apu_nahasapeemapetilon_28.jpg', 'abraham_grampa_simpson_41.jpg', 'principal_skinner_20.jpg', 'apu_nahasapeemapetilon_14.jpg']\n"
     ]
    }
   ],
   "source": [
    "def test_paths():\n",
    "    #configure train dataset\n",
    "    print(\"Train: {}\".format(character_directories[:5]))\n",
    "\n",
    "    #images from one train directory\n",
    "    character_path = train_root_path + \"/\" + character_directories[1]\n",
    "    train_image_names = get_images_from_directory(character_path)\n",
    "    print(\"Images of {}: {}\".format(character_directories[1], train_image_names[:5]))\n",
    "\n",
    "\n",
    "    #configure test dataset\n",
    "    test_image_names = get_images_from_directory(test_root_path)\n",
    "    print(\"\\nTest: {}\".format(test_image_names[:5]))\n",
    "\n",
    "test_paths()"
   ]
  },
  {
   "cell_type": "markdown",
   "metadata": {},
   "source": [
    "### Showing a train and test samples"
   ]
  },
  {
   "cell_type": "code",
   "execution_count": 6,
   "metadata": {},
   "outputs": [
    {
     "name": "stdout",
     "output_type": "stream",
     "text": [
      "Label:martin_prince, Image:8, Shape:(480, 320, 3)\n"
     ]
    },
    {
     "data": {
      "image/png": "[encoded data removed]",
      "text/plain": [
       "<matplotlib.figure.Figure at 0x110372f98>"
      ]
     },
     "metadata": {},
     "output_type": "display_data"
    }
   ],
   "source": [
    "def show_train_image(character_directory, idx):\n",
    "    directory = os.path.join(train_root_path, character_directory)\n",
    "    sample_file = get_images_from_directory(directory)[idx]\n",
    "    path_file = os.path.join(directory, sample_file)\n",
    "    sample_image = imread(path_file)\n",
    "\n",
    "    print(\"Label:{}, Image:{}, Shape:{}\".format(character_directory, idx, sample_image.shape))\n",
    "    plt.imshow(sample_image)\n",
    "    plt.axis('off')\n",
    "    plt.show()\n",
    "    \n",
    "idx = random.randint(0, 10)\n",
    "show_train_image(character_directories[idx], idx)"
   ]
  },
  {
   "cell_type": "code",
   "execution_count": 7,
   "metadata": {},
   "outputs": [
    {
     "name": "stdout",
     "output_type": "stream",
     "text": [
      "Label:mayor_quimby, Image:7, Shape:(90, 59, 3)\n"
     ]
    },
    {
     "data": {
      "image/png": "[encoded data removed]",
      "text/plain": [
       "<matplotlib.figure.Figure at 0x1138d6358>"
      ]
     },
     "metadata": {},
     "output_type": "display_data"
    }
   ],
   "source": [
    "def show_test_image(idx):\n",
    "    test_image_names = get_images_from_directory(test_root_path)\n",
    "    sample_file, sample_name = test_image_names[idx], test_image_names[idx].split('_')[:-1]\n",
    "    path_file = os.path.join(test_root_path, sample_file)\n",
    "    sample_image = imread(path_file)\n",
    "\n",
    "    print(\"Label:{}, Image:{}, Shape:{}\".format('_'.join(sample_name), idx, sample_image.shape))\n",
    "    plt.imshow(sample_image)\n",
    "    plt.axis('off')\n",
    "    plt.show()\n",
    "\n",
    "idx = random.randint(0, 10)\n",
    "show_test_image(idx)"
   ]
  },
  {
   "cell_type": "markdown",
   "metadata": {},
   "source": [
    "### Training Images"
   ]
  },
  {
   "cell_type": "code",
   "execution_count": 8,
   "metadata": {},
   "outputs": [],
   "source": [
    "'''\n",
    "input 'different_characters' will define the number of different Simpson\n",
    "characters the generator is going to return\n",
    "'''\n",
    "#Create the batch generator\n",
    "def training_images_batch_generator(batch_size, different_characters, verbose=False):\n",
    "    #Obtain the characters Serie with the most number of images\n",
    "    characters = info.sort_values(by='total', ascending=False).name\n",
    "\n",
    "    #transform to list with the following format:  Homer Simpson -> homer_simpson\n",
    "    characters = characters.map(lambda x: x.replace(\" \", \"_\").lower()).tolist()\n",
    "\n",
    "    image_files = list()\n",
    "    for i in range(0, different_characters):\n",
    "        directory = os.path.join(train_root_path, characters[i])\n",
    "        image_files += list(map(lambda x: os.path.join(directory, x), get_images_from_directory(directory)))\n",
    "\n",
    "    #shuffle all the images\n",
    "    shuffle(image_files)\n",
    "    \n",
    "    #getting an number of complete chunks according to the batch size\n",
    "    number_complete_chunks = len(image_files)//batch_size\n",
    "    num_images_in_all_chunks = number_complete_chunks * batch_size\n",
    "        \n",
    "    for b in range(0, num_images_in_all_chunks, batch_size):\n",
    "        if verbose:\n",
    "            print(\"init: {}, end:{}\".format(b, b+batch_size))\n",
    "            \n",
    "        yield image_files[b:b + batch_size]"
   ]
  },
  {
   "cell_type": "code",
   "execution_count": 9,
   "metadata": {},
   "outputs": [
    {
     "name": "stdout",
     "output_type": "stream",
     "text": [
      "init: 0, end:3200\n",
      "init: 3200, end:6400\n",
      "init: 6400, end:9600\n",
      "init: 9600, end:12800\n",
      "init: 12800, end:16000\n",
      "init: 16000, end:19200\n"
     ]
    }
   ],
   "source": [
    "#testing the generator\n",
    "for batch in training_images_batch_generator(3200, 20, True):\n",
    "    pass"
   ]
  },
  {
   "cell_type": "markdown",
   "metadata": {
    "collapsed": true
   },
   "source": [
    "## Keras + SPP Module\n",
    "\n",
    "Keras doesn't support currently the SSP layer but thanks to [yhenon](https://github.com/yhenon) there's a module which is integrated into keras. [Code is here](https://github.com/yhenon/keras-spp)"
   ]
  },
  {
   "cell_type": "code",
   "execution_count": 10,
   "metadata": {},
   "outputs": [
    {
     "name": "stderr",
     "output_type": "stream",
     "text": [
      "Using TensorFlow backend.\n"
     ]
    }
   ],
   "source": [
    "import numpy as np\n",
    "from keras.models import Sequential\n",
    "from keras.layers import Conv2D, Convolution2D, Activation, MaxPooling2D, Dense\n",
    "from spp.SpatialPyramidPooling import SpatialPyramidPooling"
   ]
  },
  {
   "cell_type": "code",
   "execution_count": 18,
   "metadata": {},
   "outputs": [],
   "source": [
    "'''\n",
    "Build a model with a typical network architecture\n",
    "'''\n",
    "def build_model(num_channels = 3, num_classes = 10):\n",
    "    model = Sequential()\n",
    "\n",
    "    #Note that we leave the image size as None to allow multiple image sizes\n",
    "    model.add(Conv2D(32, (3, 3), padding='same', input_shape=(num_channels, None, None)))\n",
    "    model.add(Activation('relu'))\n",
    "\n",
    "    model.add(Conv2D(32, (3, 3)))\n",
    "    model.add(Activation('relu'))\n",
    "    model.add(MaxPooling2D(pool_size=(2, 2)))\n",
    "\n",
    "    model.add(Conv2D(64, (3, 3), padding='same'))\n",
    "    model.add(Activation('relu'))\n",
    "\n",
    "    model.add(Conv2D(64, (3, 3)))\n",
    "    model.add(Activation('relu'))\n",
    "    model.add(SpatialPyramidPooling([1, 2, 4]))\n",
    "\n",
    "    model.add(Dense(num_classes))\n",
    "    model.add(Activation('softmax'))\n",
    "\n",
    "    model.compile(loss='categorical_crossentropy', optimizer='sgd')\n",
    "    \n",
    "    return model"
   ]
  },
  {
   "cell_type": "code",
   "execution_count": 26,
   "metadata": {},
   "outputs": [
    {
     "name": "stdout",
     "output_type": "stream",
     "text": [
      "Epoch 1/10\n",
      "16/16 [==============================] - 1s 92ms/step - loss: 0.0000e+00\n",
      "Epoch 2/10\n",
      "16/16 [==============================] - 0s 2ms/step - loss: 0.0000e+00\n",
      "Epoch 3/10\n",
      "16/16 [==============================] - 0s 3ms/step - loss: 0.0000e+00\n",
      "Epoch 4/10\n",
      "16/16 [==============================] - 0s 2ms/step - loss: 0.0000e+00\n",
      "Epoch 5/10\n",
      "16/16 [==============================] - 0s 2ms/step - loss: 0.0000e+00\n",
      "Epoch 6/10\n",
      "16/16 [==============================] - 0s 2ms/step - loss: 0.0000e+00\n",
      "Epoch 7/10\n",
      "16/16 [==============================] - 0s 2ms/step - loss: 0.0000e+00\n",
      "Epoch 8/10\n",
      "16/16 [==============================] - 0s 2ms/step - loss: 0.0000e+00\n",
      "Epoch 9/10\n",
      "16/16 [==============================] - 0s 2ms/step - loss: 0.0000e+00\n",
      "Epoch 10/10\n",
      "16/16 [==============================] - 0s 2ms/step - loss: 0.0000e+00\n",
      "Epoch 1/10\n",
      "16/16 [==============================] - 0s 6ms/step - loss: 0.0000e+00\n",
      "Epoch 2/10\n",
      "16/16 [==============================] - 0s 5ms/step - loss: 0.0000e+00\n",
      "Epoch 3/10\n",
      "16/16 [==============================] - 0s 4ms/step - loss: 0.0000e+00\n",
      "Epoch 4/10\n",
      "16/16 [==============================] - 0s 4ms/step - loss: 0.0000e+00\n",
      "Epoch 5/10\n",
      "16/16 [==============================] - 0s 5ms/step - loss: 0.0000e+00\n",
      "Epoch 6/10\n",
      "16/16 [==============================] - 0s 5ms/step - loss: 0.0000e+00\n",
      "Epoch 7/10\n",
      "16/16 [==============================] - 0s 5ms/step - loss: 0.0000e+00\n",
      "Epoch 8/10\n",
      "16/16 [==============================] - 0s 6ms/step - loss: 0.0000e+00\n",
      "Epoch 9/10\n",
      "16/16 [==============================] - 0s 6ms/step - loss: 0.0000e+00\n",
      "Epoch 10/10\n",
      "16/16 [==============================] - 0s 9ms/step - loss: 0.0000e+00\n"
     ]
    }
   ],
   "source": [
    "#TESTING\n",
    "# train on images with different sizes\n",
    "def model_tried_out(num_channels, num_classes, batch_size):\n",
    "    model = build_model(num_channels, num_classes)\n",
    "    #size 1\n",
    "    model.fit(np.random.rand(batch_size, num_channels, 8, 9), np.zeros((batch_size, num_classes)))\n",
    "    #size 2\n",
    "    model.fit(np.random.rand(batch_size, num_channels, 20, 13), np.zeros((batch_size, num_classes)))\n",
    "    \n",
    "model_tried_out(2, 2, 16)"
   ]
  },
  {
   "cell_type": "code",
   "execution_count": 19,
   "metadata": {
    "collapsed": true
   },
   "outputs": [],
   "source": [
    "#global variables\n",
    "batch_size = 64\n",
    "num_channels = 3\n",
    "num_classes = 10 #different number of Simpons characters"
   ]
  },
  {
   "cell_type": "code",
   "execution_count": null,
   "metadata": {
    "collapsed": true
   },
   "outputs": [],
   "source": []
  }
 ],
 "metadata": {
  "kernelspec": {
   "display_name": "Python 3",
   "language": "python",
   "name": "python3"
  },
  "language_info": {
   "codemirror_mode": {
    "name": "ipython",
    "version": 3
   },
   "file_extension": ".py",
   "mimetype": "text/x-python",
   "name": "python",
   "nbconvert_exporter": "python",
   "pygments_lexer": "ipython3",
   "version": "3.5.3"
  }
 },
 "nbformat": 4,
 "nbformat_minor": 2
}
