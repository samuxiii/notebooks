{
 "cells": [
  {
   "cell_type": "markdown",
   "metadata": {},
   "source": [
    "# House Prices Estimator\n",
    "\n",
    "__Note:__ It's a competition from __Kaggle.com__ and the input data was retrieved from there.\n"
   ]
  },
  {
   "cell_type": "markdown",
   "metadata": {},
   "source": [
    "## Data Analysis"
   ]
  },
  {
   "cell_type": "code",
   "execution_count": 1,
   "metadata": {
    "collapsed": true
   },
   "outputs": [],
   "source": [
    "import numpy as np\n",
    "import pandas as pd\n",
    "\n",
    "#load the files\n",
    "train = pd.read_csv('input/train.csv')\n",
    "test = pd.read_csv('input/test.csv')\n",
    "data = pd.concat([train, test])\n",
    "\n",
    "#size of training dataset\n",
    "train_samples = train.shape[0]\n",
    "test_samples = test.shape[0]"
   ]
  },
  {
   "cell_type": "code",
   "execution_count": 2,
   "metadata": {
    "collapsed": true
   },
   "outputs": [],
   "source": [
    "# remove the Id feature\n",
    "data.drop(['Id'],1, inplace=True);"
   ]
  },
  {
   "cell_type": "code",
   "execution_count": 3,
   "metadata": {
    "collapsed": true
   },
   "outputs": [],
   "source": [
    "#data.describe()"
   ]
  },
  {
   "cell_type": "markdown",
   "metadata": {},
   "source": [
    "Here we have to find the 'NaN' values and fill them with the mean. Probably it's not the best way to complete the info where we have empty values but at least we are keeping the same distribution. \n",
    "\n",
    "Average and standard deviation are not modified with this method."
   ]
  },
  {
   "cell_type": "code",
   "execution_count": 4,
   "metadata": {
    "collapsed": true
   },
   "outputs": [],
   "source": [
    "datanum = data.select_dtypes([np.number])\n",
    "datanum = datanum.fillna(datanum.dropna().mean())"
   ]
  },
  {
   "cell_type": "markdown",
   "metadata": {},
   "source": [
    "The 'SalePrice' has a skewed graph. We can stabilize it applying a logarithmic operation because we know that all the values are positive."
   ]
  },
  {
   "cell_type": "code",
   "execution_count": 5,
   "metadata": {},
   "outputs": [
    {
     "data": {
      "text/plain": [
       "<matplotlib.axes._subplots.AxesSubplot at 0x7fcde5f06d30>"
      ]
     },
     "execution_count": 5,
     "metadata": {},
     "output_type": "execute_result"
    },
    {
     "data": {
      "image/png": "[encoded data removed]",
      "text/plain": [
       "<matplotlib.figure.Figure at 0x7fcde8b132e8>"
      ]
     },
     "metadata": {},
     "output_type": "display_data"
    }
   ],
   "source": [
    "import matplotlib.pyplot as plt\n",
    "%matplotlib inline\n",
    "# Transforming to non-skewed SalePrice\n",
    "data.SalePrice = data.SalePrice.apply(np.log)\n",
    "data.SalePrice.hist(bins=50)"
   ]
  },
  {
   "cell_type": "markdown",
   "metadata": {},
   "source": [
    "There are a lot of features in this dataset so we are going to select only the most correlated features with the 'SalePrice'.\n",
    "\n",
    "With the following query we can see that the ten first features have a good correlation. In case we want to change the number of correlated features to be retrieved, we'll create a function to customize that."
   ]
  },
  {
   "cell_type": "code",
   "execution_count": 6,
   "metadata": {},
   "outputs": [
    {
     "data": {
      "text/plain": [
       "OverallQual     0.547865\n",
       "GrLivArea       0.518693\n",
       "GarageCars      0.444010\n",
       "GarageArea      0.437270\n",
       "TotalBsmtSF     0.431030\n",
       "1stFlrSF        0.421430\n",
       "FullBath        0.394865\n",
       "TotRmsAbvGrd    0.388821\n",
       "YearBuilt       0.368417\n",
       "YearRemodAdd    0.352833\n",
       "Name: SalePrice, dtype: float64"
      ]
     },
     "execution_count": 6,
     "metadata": {},
     "output_type": "execute_result"
    }
   ],
   "source": [
    "# Correlation features\n",
    "datanum.corr()['SalePrice'].drop('SalePrice').sort_values(ascending=False).head(10)"
   ]
  },
  {
   "cell_type": "code",
   "execution_count": 7,
   "metadata": {
    "collapsed": true
   },
   "outputs": [],
   "source": [
    "def getDataWithHighCorrFeatures(data, numberFeatures=10):\n",
    "    high_corr_feat_names = data.corr()['SalePrice'].drop('SalePrice').sort_values(ascending=False).head(numberFeatures).axes[0].tolist()\n",
    "    #high_corr_feat_names.remove('SalePrice')\n",
    "    return data[high_corr_feat_names]"
   ]
  },
  {
   "cell_type": "markdown",
   "metadata": {},
   "source": [
    "### KFold\n",
    "\n",
    "As usual, it's going to use the 'KFold' to split the dataset in different buckets."
   ]
  },
  {
   "cell_type": "code",
   "execution_count": 8,
   "metadata": {},
   "outputs": [
    {
     "name": "stdout",
     "output_type": "stream",
     "text": [
      "KFold(n_splits=10, random_state=13, shuffle=False)\n"
     ]
    }
   ],
   "source": [
    "from sklearn.model_selection import KFold\n",
    "\n",
    "kf = KFold(n_splits=10, random_state=13)#, shuffle=True)\n",
    "print(kf)"
   ]
  },
  {
   "cell_type": "markdown",
   "metadata": {},
   "source": [
    "We implement two methos to plot the PCA in case we need to visualize the information in a 2D graph. We'll need to reduce all the features to only one feature (component)."
   ]
  },
  {
   "cell_type": "code",
   "execution_count": 9,
   "metadata": {
    "collapsed": true
   },
   "outputs": [],
   "source": [
    "#plotting PCA\n",
    "from sklearn.decomposition import PCA\n",
    "\n",
    "def getX_PCA(X):\n",
    "    pca = PCA(n_components=1)\n",
    "    return pca.fit(X).transform(X)\n",
    "    \n",
    "def plotPCA(X, y):\n",
    "    pca = PCA(n_components=1)\n",
    "    X_r = pca.fit(X).transform(X)\n",
    "    plt.plot(X_r, y, 'x')"
   ]
  },
  {
   "cell_type": "code",
   "execution_count": 10,
   "metadata": {
    "collapsed": true
   },
   "outputs": [],
   "source": [
    "from sklearn.covariance import EllipticEnvelope\n",
    "\n",
    "def removeAnomalies(X_train, y_train, verbose=False):\n",
    "    # fit the model\n",
    "    ee = EllipticEnvelope(contamination=0.01,\n",
    "                          assume_centered=True,\n",
    "                          random_state=13)\n",
    "    ee.fit(X_train)\n",
    "    pred = ee.predict(X_train)\n",
    "\n",
    "    X_anom = X_train[pred != 1]\n",
    "    y_anom = y_train[pred != 1]\n",
    "    X_no_anom = X_train[pred == 1]\n",
    "    y_no_anom = y_train[pred == 1]\n",
    "    \n",
    "    if (verbose):\n",
    "        print(\"Number samples no anomalies: {}\".format(X_no_anom.shape[0]))\n",
    "\n",
    "    #after removing anomalies\n",
    "    #plt.scatter(getX_PCA(X_no_anom), y_no_anom)\n",
    "    #plt.scatter(getX_PCA(X_anom), y_anom)\n",
    "    \n",
    "    return X_no_anom, y_no_anom\n",
    "\n",
    "def idxNotAnomalies(X):\n",
    "    ee = EllipticEnvelope(contamination=0.01,\n",
    "                          assume_centered=True,\n",
    "                          random_state=13)\n",
    "    ee.fit(X)\n",
    "    pred = ee.predict(X)\n",
    "\n",
    "    return [index[0] for index, x in np.ndenumerate(pred) if x == 1]"
   ]
  },
  {
   "cell_type": "markdown",
   "metadata": {},
   "source": [
    "### Model"
   ]
  },
  {
   "cell_type": "code",
   "execution_count": 11,
   "metadata": {
    "collapsed": true
   },
   "outputs": [],
   "source": [
    "# Linear regression\n",
    "from sklearn.linear_model import LinearRegression\n",
    "from sklearn.metrics import mean_squared_error\n",
    "\n",
    "def train(X_train, y_train, verbose=False):\n",
    "    #lr = LinearRegression()\n",
    "    import xgboost as xgb\n",
    "    lr = xgb.XGBRegressor(max_depth=5, \n",
    "                          n_estimators=250,\n",
    "                          min_child_weight=7,\n",
    "                          n_jobs=4)\n",
    "\n",
    "    #\n",
    "    batch = 0\n",
    "    for train_idx, val_idx in kf.split(X_train, y_train):\n",
    "        X_t, X_v = X_train[train_idx], X_train[val_idx]\n",
    "        y_t, y_v = y_train[train_idx], y_train[val_idx]\n",
    "\n",
    "        #training\n",
    "        lr.fit(X_t, y_t)\n",
    "\n",
    "        #calculate costs\n",
    "        t_error = mean_squared_error(y_t, lr.predict(X_t))**0.5\n",
    "        v_error = mean_squared_error(y_v, lr.predict(X_v))**0.5\n",
    "        if verbose:\n",
    "            print(\"{}) Training error: {:.2f}  Validation error: {:.2f} Score: {:.2f}\"\n",
    "                  .format(batch, t_error, v_error, lr.score(X_v, y_v)))\n",
    "        batch += 1\n",
    "        \n",
    "    return lr\n",
    "\n",
    "def metrics(model, X, y, verbose=False):\n",
    "    #Scores\n",
    "    if verbose:\n",
    "        print(\"Training score: {:.4f}\".format(model.score(X, y)))\n",
    "    #RMSLE\n",
    "    #print(np.count_nonzero(~np.isfinite(model.predict(X))))\n",
    "    rmsle = mean_squared_error(y, model.predict(X))**0.5\n",
    "    if verbose:\n",
    "        print(\"RMSLE: {:.4f}\".format(rmsle))\n",
    "        # Plotting the results\n",
    "        plt.scatter(model.predict(X), y)\n",
    "        \n",
    "    return rmsle, model.score(X, y)"
   ]
  },
  {
   "cell_type": "code",
   "execution_count": 12,
   "metadata": {
    "collapsed": true
   },
   "outputs": [],
   "source": [
    "# Get polynomial features\n",
    "from sklearn.preprocessing import PolynomialFeatures\n",
    "\n",
    "def getPolynomial(X_train, X_no_anom, X_test):\n",
    "    poly = PolynomialFeatures(degree=2)\n",
    "    return poly.fit_transform(X_train), poly.fit_transform(X_no_anom), poly.fit_transform(X_test)"
   ]
  },
  {
   "cell_type": "code",
   "execution_count": 13,
   "metadata": {
    "collapsed": true
   },
   "outputs": [],
   "source": [
    "def getKeyWithMinError(X_train, X_no_amon, y_train, y_no_anom, verbose=False):\n",
    "    rmsles = {}\n",
    "    for f in range(1,X_train.shape[1]):\n",
    "        model = train(X_no_anom[:,:f], y_no_anom, verbose=False)\n",
    "        rmsles[f] = metrics(model, X_train[:,:f], y_train, verbose=False)\n",
    "\n",
    "    min_error_key = min(rmsles, key=rmsles.get)\n",
    "    \n",
    "    if (verbose):\n",
    "        print(\"Min error (k={}):{}\".format(min_error_key, rmsles[min_error_key]))\n",
    "    #model = train(X_train_pol[:,:min_error_key], y_train)\n",
    "    #metrics(model, X_train_orig_pol[:,:min_error_key], y_train_orig)\n",
    "    #pd.Series(rmsles).plot()\n",
    "    return min_error_key\n"
   ]
  },
  {
   "cell_type": "markdown",
   "metadata": {},
   "source": [
    "## Running Models"
   ]
  },
  {
   "cell_type": "code",
   "execution_count": 14,
   "metadata": {},
   "outputs": [
    {
     "name": "stdout",
     "output_type": "stream",
     "text": [
      "f:1 err:0.230 score:0.669\n",
      "f:2 err:0.161 score:0.837\n",
      "f:3 err:0.140 score:0.877\n",
      "f:4 err:0.125 score:0.902\n",
      "f:5 err:0.104 score:0.932\n",
      "f:6 err:0.099 score:0.939\n",
      "f:7 err:0.100 score:0.937\n",
      "f:8 err:0.093 score:0.946\n",
      "f:9 err:0.084 score:0.956\n",
      "f:10 err:0.075 score:0.965\n",
      "f:11 err:0.073 score:0.967\n",
      "f:12 err:0.070 score:0.969\n",
      "f:13 err:0.070 score:0.969\n",
      "f:14 err:0.066 score:0.972\n",
      "f:15 err:0.063 score:0.975\n",
      "f:16 err:0.064 score:0.974\n"
     ]
    },
    {
     "data": {
      "text/plain": [
       "<matplotlib.axes._subplots.AxesSubplot at 0x7fcdbf7c5710>"
      ]
     },
     "execution_count": 14,
     "metadata": {},
     "output_type": "execute_result"
    },
    {
     "data": {
      "image/png": "[encoded data removed]",
      "text/plain": [
       "<matplotlib.figure.Figure at 0x7fcdbf7c0978>"
      ]
     },
     "metadata": {},
     "output_type": "display_data"
    }
   ],
   "source": [
    "import warnings\n",
    "warnings.filterwarnings('ignore')\n",
    "\n",
    "errors = []\n",
    "for f in range(1,17):\n",
    "    #print(\"====Corr feat: {}====\".format(f))\n",
    "    datanum_high_corr = getDataWithHighCorrFeatures(datanum, f)\n",
    "\n",
    "    y = np.array(data['SalePrice'])\n",
    "    X = np.array(datanum_high_corr)\n",
    "\n",
    "    #split by idx\n",
    "    idx = train_samples\n",
    "    X_train, X_test = X[:idx], X[idx:]\n",
    "    y_train, y_test = y[:idx], y[idx:]\n",
    "    \n",
    "    #print(\"Shape X train: {}\".format(X_train.shape))\n",
    "\n",
    "    X_no_anom, y_no_anom = removeAnomalies(X_train, y_train)\n",
    "    #print(\"Shape X train (no anom): {}\".format(X_no_anom.shape))\n",
    "\n",
    "    X_train, X_no_anom, X_test = getPolynomial(X_train, X_no_anom, X_test)\n",
    "    #print(\"Shape X train (poly): {}\".format(X_no_anom.shape))\n",
    "\n",
    "    key = 1000 #getKeyWithMinError(X_train, X_no_anom, y_train, y_no_anom)\n",
    "    model = train(X_no_anom[:,:key], y_no_anom)\n",
    "    error, score = metrics(model, X_train[:,:key], y_train)\n",
    "    \n",
    "    print(\"f:{} err:{:.3f} score:{:.3f}\".format(f, error, score))\n",
    "    errors.append(error)\n",
    "\n",
    "# show graph\n",
    "pd.Series(errors).plot()"
   ]
  },
  {
   "cell_type": "markdown",
   "metadata": {},
   "source": [
    "## Adding Categorical"
   ]
  },
  {
   "cell_type": "code",
   "execution_count": 15,
   "metadata": {},
   "outputs": [
    {
     "data": {
      "text/plain": [
       "Foundation_PConc     0.375016\n",
       "ExterQual_Gd         0.360151\n",
       "HeatingQC_Ex         0.330117\n",
       "BsmtQual_Ex          0.318714\n",
       "BsmtFinType1_GLQ     0.310262\n",
       "GarageFinish_Fin     0.294101\n",
       "GarageType_Attchd    0.293420\n",
       "KitchenQual_Ex       0.289375\n",
       "KitchenQual_Gd       0.288427\n",
       "GarageCond_TA        0.259965\n",
       "Name: SalePrice, dtype: float64"
      ]
     },
     "execution_count": 15,
     "metadata": {},
     "output_type": "execute_result"
    }
   ],
   "source": [
    "features = data.select_dtypes([np.object]).axes[1].tolist()\n",
    "features.append('SalePrice')\n",
    "\n",
    "datacat = pd.get_dummies(data[features])\n",
    "datacat = datacat.fillna(datacat.dropna().mean())\n",
    "datacat.corr()['SalePrice'].drop('SalePrice').sort_values(ascending=False).head(10)"
   ]
  },
  {
   "cell_type": "code",
   "execution_count": 16,
   "metadata": {
    "collapsed": true
   },
   "outputs": [],
   "source": [
    "features_order_by_corr = datacat.corr()['SalePrice'].drop('SalePrice').sort_values(ascending=False).axes[0].tolist()"
   ]
  },
  {
   "cell_type": "code",
   "execution_count": 17,
   "metadata": {},
   "outputs": [
    {
     "name": "stdout",
     "output_type": "stream",
     "text": [
      "(2919, 136)\n",
      "(2919, 10)\n",
      "(2919, 146)\n"
     ]
    }
   ],
   "source": [
    "import warnings\n",
    "warnings.filterwarnings('ignore')\n",
    "\n",
    "datanum_high_corr = getDataWithHighCorrFeatures(datanum, 15)\n",
    "Xn = np.array(datanum_high_corr)\n",
    "#choosing the number of categorical\n",
    "num_cat = 10\n",
    "Xc = np.array(datacat[features_order_by_corr[:num_cat]])\n",
    "y = np.array(data['SalePrice'])\n",
    "\n",
    "poly = PolynomialFeatures(degree=2)\n",
    "Xpn = poly.fit_transform(Xn)\n",
    "\n",
    "X = np.concatenate([Xpn, Xc], axis=1)\n",
    "no_anom_idx = idxNotAnomalies(Xn[:idx]) #only from numeric features\n",
    "print(Xpn.shape)\n",
    "print(Xc.shape)\n",
    "print(X.shape)"
   ]
  },
  {
   "cell_type": "code",
   "execution_count": 18,
   "metadata": {},
   "outputs": [
    {
     "name": "stdout",
     "output_type": "stream",
     "text": [
      "Shape X train: (1460, 146)\n",
      "Shape X test: (1459, 146)\n",
      "Shape X train (no anom): (1445, 146)\n"
     ]
    }
   ],
   "source": [
    "#split by idx\n",
    "idx = train_samples\n",
    "X_train, X_test = X[:idx], X[idx:]\n",
    "y_train, y_test = y[:idx], y[idx:]\n",
    "\n",
    "print(\"Shape X train: {}\".format(X_train.shape))\n",
    "print(\"Shape X test: {}\".format(X_test.shape))\n",
    "\n",
    "print(\"Shape X train (no anom): {}\".format(X_train[no_anom_idx].shape))"
   ]
  },
  {
   "cell_type": "code",
   "execution_count": 19,
   "metadata": {},
   "outputs": [
    {
     "ename": "KeyboardInterrupt",
     "evalue": "",
     "output_type": "error",
     "traceback": [
      "\u001b[0;31m---------------------------------------------------------------------------\u001b[0m",
      "\u001b[0;31mKeyboardInterrupt\u001b[0m                         Traceback (most recent call last)",
      "\u001b[0;32m<ipython-input-19-649a2d43c782>\u001b[0m in \u001b[0;36m<module>\u001b[0;34m()\u001b[0m\n\u001b[1;32m      5\u001b[0m \u001b[0mscores\u001b[0m \u001b[0;34m=\u001b[0m \u001b[0;34m{\u001b[0m\u001b[0;34m}\u001b[0m\u001b[0;34m\u001b[0m\u001b[0m\n\u001b[1;32m      6\u001b[0m \u001b[0;32mfor\u001b[0m \u001b[0mf\u001b[0m \u001b[0;32min\u001b[0m \u001b[0mrange\u001b[0m\u001b[0;34m(\u001b[0m\u001b[0;36m15\u001b[0m\u001b[0;34m^\u001b[0m\u001b[0;36m2\u001b[0m\u001b[0;34m,\u001b[0m \u001b[0mX_train\u001b[0m\u001b[0;34m.\u001b[0m\u001b[0mshape\u001b[0m\u001b[0;34m[\u001b[0m\u001b[0;36m1\u001b[0m\u001b[0;34m]\u001b[0m\u001b[0;34m)\u001b[0m\u001b[0;34m:\u001b[0m\u001b[0;34m\u001b[0m\u001b[0m\n\u001b[0;32m----> 7\u001b[0;31m     \u001b[0mmodelt\u001b[0m \u001b[0;34m=\u001b[0m \u001b[0mtrain\u001b[0m\u001b[0;34m(\u001b[0m\u001b[0mX_no_anom\u001b[0m\u001b[0;34m[\u001b[0m\u001b[0;34m:\u001b[0m\u001b[0;34m,\u001b[0m\u001b[0;34m:\u001b[0m\u001b[0mf\u001b[0m\u001b[0;34m]\u001b[0m\u001b[0;34m,\u001b[0m \u001b[0my_no_anom\u001b[0m\u001b[0;34m,\u001b[0m \u001b[0mverbose\u001b[0m\u001b[0;34m=\u001b[0m\u001b[0;32mFalse\u001b[0m\u001b[0;34m)\u001b[0m\u001b[0;34m\u001b[0m\u001b[0m\n\u001b[0m\u001b[1;32m      8\u001b[0m     \u001b[0merr\u001b[0m\u001b[0;34m,\u001b[0m \u001b[0mscore\u001b[0m \u001b[0;34m=\u001b[0m \u001b[0mmetrics\u001b[0m\u001b[0;34m(\u001b[0m\u001b[0mmodelt\u001b[0m\u001b[0;34m,\u001b[0m \u001b[0mX_train\u001b[0m\u001b[0;34m[\u001b[0m\u001b[0;34m:\u001b[0m\u001b[0;34m,\u001b[0m\u001b[0;34m:\u001b[0m\u001b[0mf\u001b[0m\u001b[0;34m]\u001b[0m\u001b[0;34m,\u001b[0m \u001b[0my_train\u001b[0m\u001b[0;34m,\u001b[0m \u001b[0mverbose\u001b[0m\u001b[0;34m=\u001b[0m\u001b[0;32mFalse\u001b[0m\u001b[0;34m)\u001b[0m\u001b[0;34m\u001b[0m\u001b[0m\n\u001b[1;32m      9\u001b[0m     \u001b[0;32mif\u001b[0m \u001b[0merr\u001b[0m \u001b[0;34m>\u001b[0m \u001b[0;36m1e-7\u001b[0m\u001b[0;34m:\u001b[0m\u001b[0;34m\u001b[0m\u001b[0m\n",
      "\u001b[0;32m<ipython-input-11-b07a1e80e4d2>\u001b[0m in \u001b[0;36mtrain\u001b[0;34m(X_train, y_train, verbose)\u001b[0m\n\u001b[1;32m     18\u001b[0m \u001b[0;34m\u001b[0m\u001b[0m\n\u001b[1;32m     19\u001b[0m         \u001b[0;31m#training\u001b[0m\u001b[0;34m\u001b[0m\u001b[0;34m\u001b[0m\u001b[0m\n\u001b[0;32m---> 20\u001b[0;31m         \u001b[0mlr\u001b[0m\u001b[0;34m.\u001b[0m\u001b[0mfit\u001b[0m\u001b[0;34m(\u001b[0m\u001b[0mX_t\u001b[0m\u001b[0;34m,\u001b[0m \u001b[0my_t\u001b[0m\u001b[0;34m)\u001b[0m\u001b[0;34m\u001b[0m\u001b[0m\n\u001b[0m\u001b[1;32m     21\u001b[0m \u001b[0;34m\u001b[0m\u001b[0m\n\u001b[1;32m     22\u001b[0m         \u001b[0;31m#calculate costs\u001b[0m\u001b[0;34m\u001b[0m\u001b[0;34m\u001b[0m\u001b[0m\n",
      "\u001b[0;32m/home/carnd/xgboost/python-package/xgboost/sklearn.py\u001b[0m in \u001b[0;36mfit\u001b[0;34m(self, X, y, sample_weight, eval_set, eval_metric, early_stopping_rounds, verbose, xgb_model)\u001b[0m\n\u001b[1;32m    292\u001b[0m                               \u001b[0mearly_stopping_rounds\u001b[0m\u001b[0;34m=\u001b[0m\u001b[0mearly_stopping_rounds\u001b[0m\u001b[0;34m,\u001b[0m\u001b[0;34m\u001b[0m\u001b[0m\n\u001b[1;32m    293\u001b[0m                               \u001b[0mevals_result\u001b[0m\u001b[0;34m=\u001b[0m\u001b[0mevals_result\u001b[0m\u001b[0;34m,\u001b[0m \u001b[0mobj\u001b[0m\u001b[0;34m=\u001b[0m\u001b[0mobj\u001b[0m\u001b[0;34m,\u001b[0m \u001b[0mfeval\u001b[0m\u001b[0;34m=\u001b[0m\u001b[0mfeval\u001b[0m\u001b[0;34m,\u001b[0m\u001b[0;34m\u001b[0m\u001b[0m\n\u001b[0;32m--> 294\u001b[0;31m                               verbose_eval=verbose, xgb_model=xgb_model)\n\u001b[0m\u001b[1;32m    295\u001b[0m \u001b[0;34m\u001b[0m\u001b[0m\n\u001b[1;32m    296\u001b[0m         \u001b[0;32mif\u001b[0m \u001b[0mevals_result\u001b[0m\u001b[0;34m:\u001b[0m\u001b[0;34m\u001b[0m\u001b[0m\n",
      "\u001b[0;32m/home/carnd/xgboost/python-package/xgboost/training.py\u001b[0m in \u001b[0;36mtrain\u001b[0;34m(params, dtrain, num_boost_round, evals, obj, feval, maximize, early_stopping_rounds, evals_result, verbose_eval, xgb_model, callbacks, learning_rates)\u001b[0m\n\u001b[1;32m    202\u001b[0m                            \u001b[0mevals\u001b[0m\u001b[0;34m=\u001b[0m\u001b[0mevals\u001b[0m\u001b[0;34m,\u001b[0m\u001b[0;34m\u001b[0m\u001b[0m\n\u001b[1;32m    203\u001b[0m                            \u001b[0mobj\u001b[0m\u001b[0;34m=\u001b[0m\u001b[0mobj\u001b[0m\u001b[0;34m,\u001b[0m \u001b[0mfeval\u001b[0m\u001b[0;34m=\u001b[0m\u001b[0mfeval\u001b[0m\u001b[0;34m,\u001b[0m\u001b[0;34m\u001b[0m\u001b[0m\n\u001b[0;32m--> 204\u001b[0;31m                            xgb_model=xgb_model, callbacks=callbacks)\n\u001b[0m\u001b[1;32m    205\u001b[0m \u001b[0;34m\u001b[0m\u001b[0m\n\u001b[1;32m    206\u001b[0m \u001b[0;34m\u001b[0m\u001b[0m\n",
      "\u001b[0;32m/home/carnd/xgboost/python-package/xgboost/training.py\u001b[0m in \u001b[0;36m_train_internal\u001b[0;34m(params, dtrain, num_boost_round, evals, obj, feval, xgb_model, callbacks)\u001b[0m\n\u001b[1;32m     72\u001b[0m         \u001b[0;31m# Skip the first update if it is a recovery step.\u001b[0m\u001b[0;34m\u001b[0m\u001b[0;34m\u001b[0m\u001b[0m\n\u001b[1;32m     73\u001b[0m         \u001b[0;32mif\u001b[0m \u001b[0mversion\u001b[0m \u001b[0;34m%\u001b[0m \u001b[0;36m2\u001b[0m \u001b[0;34m==\u001b[0m \u001b[0;36m0\u001b[0m\u001b[0;34m:\u001b[0m\u001b[0;34m\u001b[0m\u001b[0m\n\u001b[0;32m---> 74\u001b[0;31m             \u001b[0mbst\u001b[0m\u001b[0;34m.\u001b[0m\u001b[0mupdate\u001b[0m\u001b[0;34m(\u001b[0m\u001b[0mdtrain\u001b[0m\u001b[0;34m,\u001b[0m \u001b[0mi\u001b[0m\u001b[0;34m,\u001b[0m \u001b[0mobj\u001b[0m\u001b[0;34m)\u001b[0m\u001b[0;34m\u001b[0m\u001b[0m\n\u001b[0m\u001b[1;32m     75\u001b[0m             \u001b[0mbst\u001b[0m\u001b[0;34m.\u001b[0m\u001b[0msave_rabit_checkpoint\u001b[0m\u001b[0;34m(\u001b[0m\u001b[0;34m)\u001b[0m\u001b[0;34m\u001b[0m\u001b[0m\n\u001b[1;32m     76\u001b[0m             \u001b[0mversion\u001b[0m \u001b[0;34m+=\u001b[0m \u001b[0;36m1\u001b[0m\u001b[0;34m\u001b[0m\u001b[0m\n",
      "\u001b[0;32m/home/carnd/xgboost/python-package/xgboost/core.py\u001b[0m in \u001b[0;36mupdate\u001b[0;34m(self, dtrain, iteration, fobj)\u001b[0m\n\u001b[1;32m    894\u001b[0m         \u001b[0;32mif\u001b[0m \u001b[0mfobj\u001b[0m \u001b[0;32mis\u001b[0m \u001b[0;32mNone\u001b[0m\u001b[0;34m:\u001b[0m\u001b[0;34m\u001b[0m\u001b[0m\n\u001b[1;32m    895\u001b[0m             _check_call(_LIB.XGBoosterUpdateOneIter(self.handle, ctypes.c_int(iteration),\n\u001b[0;32m--> 896\u001b[0;31m                                                     dtrain.handle))\n\u001b[0m\u001b[1;32m    897\u001b[0m         \u001b[0;32melse\u001b[0m\u001b[0;34m:\u001b[0m\u001b[0;34m\u001b[0m\u001b[0m\n\u001b[1;32m    898\u001b[0m             \u001b[0mpred\u001b[0m \u001b[0;34m=\u001b[0m \u001b[0mself\u001b[0m\u001b[0;34m.\u001b[0m\u001b[0mpredict\u001b[0m\u001b[0;34m(\u001b[0m\u001b[0mdtrain\u001b[0m\u001b[0;34m)\u001b[0m\u001b[0;34m\u001b[0m\u001b[0m\n",
      "\u001b[0;31mKeyboardInterrupt\u001b[0m: "
     ]
    }
   ],
   "source": [
    "X_no_anom = X_train[no_anom_idx]\n",
    "y_no_anom = y_train[no_anom_idx]\n",
    "\n",
    "errors = {}\n",
    "scores = {}\n",
    "for f in range(15^2, X_train.shape[1]):\n",
    "    modelt = train(X_no_anom[:,:f], y_no_anom, verbose=False)\n",
    "    err, score = metrics(modelt, X_train[:,:f], y_train, verbose=False)\n",
    "    if err > 1e-7:\n",
    "        errors[f] = err\n",
    "        scores[f] = score\n",
    "    else:\n",
    "        break\n",
    "\n",
    "min_error_key = min(errors, key=errors.get)\n",
    "max_score_key = max(scores, key=scores.get)\n",
    "print(\"Min error: {:.3f}\".format(errors[min_error_key]))\n",
    "print(\"Max score: {:.3f}\".format(scores[max_score_key]))"
   ]
  },
  {
   "cell_type": "code",
   "execution_count": 20,
   "metadata": {},
   "outputs": [
    {
     "name": "stdout",
     "output_type": "stream",
     "text": [
      "0.0607072605071\n",
      "0.976887340518\n"
     ]
    }
   ],
   "source": [
    "modelt = train(X_no_anom[:,:235], y_no_anom, verbose=False)\n",
    "err, score = metrics(modelt, X_train[:,:235], y_train, verbose=False)\n",
    "print(err)\n",
    "print(score)"
   ]
  },
  {
   "cell_type": "code",
   "execution_count": 21,
   "metadata": {},
   "outputs": [
    {
     "data": {
      "text/plain": [
       "<matplotlib.axes._subplots.AxesSubplot at 0x7fcdbeb8de48>"
      ]
     },
     "execution_count": 21,
     "metadata": {},
     "output_type": "execute_result"
    },
    {
     "data": {
      "image/png": "[encoded data removed]",
      "text/plain": [
       "<matplotlib.figure.Figure at 0x7fcdbeb9da58>"
      ]
     },
     "metadata": {},
     "output_type": "display_data"
    }
   ],
   "source": [
    "pd.Series(errors).plot()"
   ]
  },
  {
   "cell_type": "code",
   "execution_count": 22,
   "metadata": {},
   "outputs": [
    {
     "data": {
      "text/plain": [
       "<matplotlib.axes._subplots.AxesSubplot at 0x7fcdbeaea128>"
      ]
     },
     "execution_count": 22,
     "metadata": {},
     "output_type": "execute_result"
    },
    {
     "data": {
      "image/png": "[encoded data removed]",
      "text/plain": [
       "<matplotlib.figure.Figure at 0x7fcdbea9fc18>"
      ]
     },
     "metadata": {},
     "output_type": "display_data"
    }
   ],
   "source": [
    "pd.Series(scores).plot()"
   ]
  },
  {
   "cell_type": "code",
   "execution_count": 23,
   "metadata": {},
   "outputs": [
    {
     "ename": "NameError",
     "evalue": "name 'min_error_key' is not defined",
     "output_type": "error",
     "traceback": [
      "\u001b[0;31m---------------------------------------------------------------------------\u001b[0m",
      "\u001b[0;31mNameError\u001b[0m                                 Traceback (most recent call last)",
      "\u001b[0;32m<ipython-input-23-7434bccbb37c>\u001b[0m in \u001b[0;36m<module>\u001b[0;34m()\u001b[0m\n\u001b[0;32m----> 1\u001b[0;31m \u001b[0mprint\u001b[0m\u001b[0;34m(\u001b[0m\u001b[0mmin_error_key\u001b[0m\u001b[0;34m)\u001b[0m\u001b[0;34m\u001b[0m\u001b[0m\n\u001b[0m",
      "\u001b[0;31mNameError\u001b[0m: name 'min_error_key' is not defined"
     ]
    }
   ],
   "source": [
    "print(min_error_key)"
   ]
  },
  {
   "cell_type": "markdown",
   "metadata": {},
   "source": [
    "## Get Predictions"
   ]
  },
  {
   "cell_type": "code",
   "execution_count": 24,
   "metadata": {},
   "outputs": [
    {
     "name": "stdout",
     "output_type": "stream",
     "text": [
      "Err: 0.061 | R2: 0.977\n",
      "Scores: [ 0.15405685  0.13303271  0.14088161  0.18330034  0.16203185  0.13775526\n",
      "  0.12298298  0.13571793  0.15203647  0.14615472]\n",
      "Score (mean): 0.147\n"
     ]
    }
   ],
   "source": [
    "import os\n",
    "from sklearn.model_selection import cross_val_score\n",
    "from sklearn.metrics import make_scorer\n",
    "min_error_key = 235\n",
    "\n",
    "def RMSE(y_true,y_pred):\n",
    "    rmse = mean_squared_error(y_true, y_pred)**0.5\n",
    "    return rmse\n",
    "\n",
    "\n",
    "modelt = train(X_no_anom[:,:min_error_key], y_no_anom, verbose=False)\n",
    "err, score = metrics(modelt, X_train[:,:min_error_key], y_train, verbose=False)\n",
    "print(\"Err: {:.3f} | R2: {:.3f}\".format(err, score))\n",
    "\n",
    "scores = cross_val_score(modelt, X_train[:,:min_error_key], y_train, \n",
    "                         scoring=make_scorer(RMSE, greater_is_better=True), cv=10)\n",
    "\n",
    "print(\"Scores: {}\".format(scores))\n",
    "print(\"Score (mean): {:.3f}\".format(scores.mean()))"
   ]
  },
  {
   "cell_type": "code",
   "execution_count": 25,
   "metadata": {
    "collapsed": true
   },
   "outputs": [],
   "source": [
    "predict = modelt.predict(X_test[:,:min_error_key])\n",
    "\n",
    "#predictions are logs, return to the value\n",
    "predict = np.exp(predict)\n",
    "\n",
    "file = \"Id,SalePrice\" + os.linesep\n",
    "\n",
    "startId = 1461\n",
    "for i in range(len(X_test)):\n",
    "    file += \"{},{}\".format(startId, (int)(predict[i])) + os.linesep\n",
    "    startId += 1"
   ]
  },
  {
   "cell_type": "code",
   "execution_count": 92,
   "metadata": {
    "collapsed": true
   },
   "outputs": [],
   "source": [
    "# Save to file\n",
    "with open('attempt.txt', 'w') as f:\n",
    "    f.write(file)"
   ]
  },
  {
   "cell_type": "code",
   "execution_count": null,
   "metadata": {
    "collapsed": true
   },
   "outputs": [],
   "source": []
  },
  {
   "cell_type": "code",
   "execution_count": null,
   "metadata": {
    "collapsed": true
   },
   "outputs": [],
   "source": []
  },
  {
   "cell_type": "code",
   "execution_count": null,
   "metadata": {
    "collapsed": true
   },
   "outputs": [],
   "source": [
    "# Using XGRegressor?\n",
    "#lr = XGBRegressor(max_depth=5, n_estimators=250,min_child_weight=10)\n",
    "\n"
   ]
  }
 ],
 "metadata": {
  "kernelspec": {
   "display_name": "Python 3",
   "language": "python",
   "name": "python3"
  },
  "language_info": {
   "codemirror_mode": {
    "name": "ipython",
    "version": 3
   },
   "file_extension": ".py",
   "mimetype": "text/x-python",
   "name": "python",
   "nbconvert_exporter": "python",
   "pygments_lexer": "ipython3",
   "version": "3.5.3"
  },
  "widgets": {
   "state": {},
   "version": "1.1.2"
  }
 },
 "nbformat": 4,
 "nbformat_minor": 2
}
